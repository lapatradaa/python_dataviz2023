{
  "nbformat": 4,
  "nbformat_minor": 0,
  "metadata": {
    "colab": {
      "provenance": [],
      "collapsed_sections": [
        "X62uqPC0SzUn",
        "8qpcHFr0V4_a",
        "YrFJUFv1gi0t"
      ],
      "include_colab_link": true
    },
    "kernelspec": {
      "name": "python3",
      "display_name": "Python 3"
    },
    "language_info": {
      "name": "python"
    }
  },
  "cells": [
    {
      "cell_type": "markdown",
      "metadata": {
        "id": "view-in-github",
        "colab_type": "text"
      },
      "source": [
        "<a href=\"https://colab.research.google.com/github/lapatradaa/python_dataviz2023/blob/main/Python101.ipynb\" target=\"_parent\"><img src=\"https://colab.research.google.com/assets/colab-badge.svg\" alt=\"Open In Colab\"/></a>"
      ]
    },
    {
      "cell_type": "markdown",
      "source": [
        "ข้อความในช่อง text เป็น ภาษา Markdown (https://www.markdownguide.org/cheat-sheet/)  #ใช้ตกแต่ความสวยงามได้ เช่นเขียนสมการ"
      ],
      "metadata": {
        "id": "dyp-0Cs8pTph"
      }
    },
    {
      "cell_type": "markdown",
      "source": [
        "# การจัดการข้อความในการแสดงผล (Print)\n",
        "  `print(ข้อความ)` = การแสดง Output ออกมาทางหน้าจอ\n",
        "  ---------------------------------------------------------------\n",
        "## string\n",
        "### test heading 3\n",
        "`print(ข้อความ)` #ใช้ในการเน้นโค้ด"
      ],
      "metadata": {
        "id": "stjY3Wz-pZHz"
      }
    },
    {
      "cell_type": "markdown",
      "source": [
        "## ข้อความ (string)\n"
      ],
      "metadata": {
        "id": "lpjwbRJcQpty"
      }
    },
    {
      "cell_type": "code",
      "source": [
        "print('test')"
      ],
      "metadata": {
        "colab": {
          "base_uri": "https://localhost:8080/"
        },
        "id": "utdkJE1fpq9v",
        "outputId": "c005f5dc-a831-4ef8-84a0-ac661be582d3"
      },
      "execution_count": 1,
      "outputs": [
        {
          "output_type": "stream",
          "name": "stdout",
          "text": [
            "test\n"
          ]
        }
      ]
    },
    {
      "cell_type": "code",
      "source": [
        "'สถิติ' # ' quote มี = ข้อความ #string"
      ],
      "metadata": {
        "colab": {
          "base_uri": "https://localhost:8080/",
          "height": 35
        },
        "id": "FB8Pcv-xp0cT",
        "outputId": "26b7634a-dee1-4129-b33d-475622dd5e90"
      },
      "execution_count": 2,
      "outputs": [
        {
          "output_type": "execute_result",
          "data": {
            "text/plain": [
              "'สถิติ'"
            ],
            "application/vnd.google.colaboratory.intrinsic+json": {
              "type": "string"
            }
          },
          "metadata": {},
          "execution_count": 2
        }
      ]
    },
    {
      "cell_type": "code",
      "source": [
        "\"สถิติ\" # \" double quote #single code = double code"
      ],
      "metadata": {
        "colab": {
          "base_uri": "https://localhost:8080/",
          "height": 35
        },
        "id": "nJEiTJeYp2Mt",
        "outputId": "062e65e1-adf9-4abf-b012-19fa07124266"
      },
      "execution_count": 3,
      "outputs": [
        {
          "output_type": "execute_result",
          "data": {
            "text/plain": [
              "'สถิติ'"
            ],
            "application/vnd.google.colaboratory.intrinsic+json": {
              "type": "string"
            }
          },
          "metadata": {},
          "execution_count": 3
        }
      ]
    },
    {
      "cell_type": "code",
      "source": [
        "1+3"
      ],
      "metadata": {
        "colab": {
          "base_uri": "https://localhost:8080/"
        },
        "id": "W7Z1EE0_umBl",
        "outputId": "6de81a92-62b0-4e33-f242-c7914f927205"
      },
      "execution_count": 4,
      "outputs": [
        {
          "output_type": "execute_result",
          "data": {
            "text/plain": [
              "4"
            ]
          },
          "metadata": {},
          "execution_count": 4
        }
      ]
    },
    {
      "cell_type": "code",
      "source": [
        "'1' + '3'"
      ],
      "metadata": {
        "colab": {
          "base_uri": "https://localhost:8080/",
          "height": 35
        },
        "id": "-peuPzuEvFMQ",
        "outputId": "f3ca5df1-6526-4cf5-ba3e-a24ff6cd8b07"
      },
      "execution_count": 5,
      "outputs": [
        {
          "output_type": "execute_result",
          "data": {
            "text/plain": [
              "'13'"
            ],
            "application/vnd.google.colaboratory.intrinsic+json": {
              "type": "string"
            }
          },
          "metadata": {},
          "execution_count": 5
        }
      ]
    },
    {
      "cell_type": "code",
      "source": [
        "print('stat','สถิติ',sep='')"
      ],
      "metadata": {
        "colab": {
          "base_uri": "https://localhost:8080/"
        },
        "id": "Xn0aNcVXwYTm",
        "outputId": "5da78a8b-b43b-4302-fcb4-d07f31db93d5"
      },
      "execution_count": 6,
      "outputs": [
        {
          "output_type": "stream",
          "name": "stdout",
          "text": [
            "statสถิติ\n"
          ]
        }
      ]
    },
    {
      "cell_type": "code",
      "source": [
        "print('stat')\n",
        "print('sids')"
      ],
      "metadata": {
        "colab": {
          "base_uri": "https://localhost:8080/"
        },
        "id": "TNroOl6lxv0m",
        "outputId": "a025574f-c4a9-4180-a43b-2fd55cdf1849"
      },
      "execution_count": 7,
      "outputs": [
        {
          "output_type": "stream",
          "name": "stdout",
          "text": [
            "stat\n",
            "sids\n"
          ]
        }
      ]
    },
    {
      "cell_type": "code",
      "source": [
        "print('stat', end=\",\")\n",
        "print('sids')"
      ],
      "metadata": {
        "colab": {
          "base_uri": "https://localhost:8080/"
        },
        "outputId": "bd7a4223-ce7e-455d-8e89-4b110c21e346",
        "id": "dpYUovu1yMaX"
      },
      "execution_count": 8,
      "outputs": [
        {
          "output_type": "stream",
          "name": "stdout",
          "text": [
            "stat,sids\n"
          ]
        }
      ]
    },
    {
      "cell_type": "code",
      "source": [],
      "metadata": {
        "id": "_3LrClMRytp-"
      },
      "execution_count": 8,
      "outputs": []
    },
    {
      "cell_type": "markdown",
      "source": [
        "## ผลการรันแสดงออกมา ได้ 2 แบบ\n",
        "1. ถ้าไม่มีตัวแปรมารับ ก็จะแสดงผลออกที่หน้าจอ\n",
        "2. ถ้ามีตัวแปรมารับ ผลการรันก็จะไปอยู่ในตัวแปร"
      ],
      "metadata": {
        "id": "vMW8gPpTQ4yu"
      }
    },
    {
      "cell_type": "code",
      "source": [
        "1+3 # ไม่มีตัวแปรมารับ  /// ตัวเลขบวกตัวเลขได้เลย"
      ],
      "metadata": {
        "colab": {
          "base_uri": "https://localhost:8080/"
        },
        "id": "v0rQ1CHXRSMn",
        "outputId": "86fe21ed-ee5f-4342-cf3b-2887b6043904"
      },
      "execution_count": 9,
      "outputs": [
        {
          "output_type": "execute_result",
          "data": {
            "text/plain": [
              "4"
            ]
          },
          "metadata": {},
          "execution_count": 9
        }
      ]
    },
    {
      "cell_type": "code",
      "source": [
        "a = 1+3 #มีตัวแปร a มารับผลการบวก"
      ],
      "metadata": {
        "id": "lWOn8HAbRhdK"
      },
      "execution_count": 10,
      "outputs": []
    },
    {
      "cell_type": "code",
      "source": [
        "print(a)"
      ],
      "metadata": {
        "colab": {
          "base_uri": "https://localhost:8080/"
        },
        "id": "dfT41NYMRozJ",
        "outputId": "d6bae94a-4348-460e-9e57-d984b645edde"
      },
      "execution_count": 11,
      "outputs": [
        {
          "output_type": "stream",
          "name": "stdout",
          "text": [
            "4\n"
          ]
        }
      ]
    },
    {
      "cell_type": "code",
      "source": [
        "'1'+'3' # string +string คือการต่อ string"
      ],
      "metadata": {
        "colab": {
          "base_uri": "https://localhost:8080/",
          "height": 35
        },
        "id": "lhqZSBjgR_nk",
        "outputId": "a674740f-ed14-47a4-f54e-1c920d0366ab"
      },
      "execution_count": 12,
      "outputs": [
        {
          "output_type": "execute_result",
          "data": {
            "text/plain": [
              "'13'"
            ],
            "application/vnd.google.colaboratory.intrinsic+json": {
              "type": "string"
            }
          },
          "metadata": {},
          "execution_count": 12
        }
      ]
    },
    {
      "cell_type": "code",
      "source": [
        "1-3"
      ],
      "metadata": {
        "colab": {
          "base_uri": "https://localhost:8080/"
        },
        "id": "TEQReEjwqPXM",
        "outputId": "4007b803-e844-4172-8852-84462d39885d"
      },
      "execution_count": 13,
      "outputs": [
        {
          "output_type": "execute_result",
          "data": {
            "text/plain": [
              "-2"
            ]
          },
          "metadata": {},
          "execution_count": 13
        }
      ]
    },
    {
      "cell_type": "markdown",
      "source": [
        "# Variable (ตัวแปร)\n",
        "ใช้เก็บข้อมูล  1 หน่วย"
      ],
      "metadata": {
        "id": "X62uqPC0SzUn"
      }
    },
    {
      "cell_type": "markdown",
      "source": [
        "ข้อดี ไม่ต้องกำหนด ชนิดตัวแปร\n",
        "ข้อควรระวัง ตัวแปร +ตัวเลขไม่ได้"
      ],
      "metadata": {
        "id": "fSDLcYSkVwQR"
      }
    },
    {
      "cell_type": "code",
      "source": [
        "a=12\n",
        "b=1.3"
      ],
      "metadata": {
        "id": "xjQNtEHH0Nk1"
      },
      "execution_count": null,
      "outputs": []
    },
    {
      "cell_type": "code",
      "source": [
        "print(type(a), type(b))"
      ],
      "metadata": {
        "id": "qSe9tXXG0igV"
      },
      "execution_count": null,
      "outputs": []
    },
    {
      "cell_type": "code",
      "source": [
        "c=a/b\n",
        "c\n"
      ],
      "metadata": {
        "id": "4ZUMT6wS03N2"
      },
      "execution_count": null,
      "outputs": []
    },
    {
      "cell_type": "markdown",
      "source": [
        "modulo(%) การหารเอาเศษ"
      ],
      "metadata": {
        "id": "iDSU72kp1X7e"
      }
    },
    {
      "cell_type": "code",
      "source": [
        "ึึึ7%4"
      ],
      "metadata": {
        "id": "z0y9k8ys01ht"
      },
      "execution_count": null,
      "outputs": []
    },
    {
      "cell_type": "markdown",
      "source": [
        "** ยกกำลัง"
      ],
      "metadata": {
        "id": "eYFsK3eu2BZN"
      }
    },
    {
      "cell_type": "code",
      "source": [
        "2**4"
      ],
      "metadata": {
        "id": "cFQA7P3B183u"
      },
      "execution_count": null,
      "outputs": []
    },
    {
      "cell_type": "markdown",
      "source": [
        "string('' and \"\")"
      ],
      "metadata": {
        "id": "JD_CYQSv2oAe"
      }
    },
    {
      "cell_type": "code",
      "source": [
        "'1'+'3'"
      ],
      "metadata": {
        "id": "_2S65Pbb3Vqu"
      },
      "execution_count": null,
      "outputs": []
    },
    {
      "cell_type": "code",
      "source": [
        "6*'6'"
      ],
      "metadata": {
        "id": "gyvVuBA539OO"
      },
      "execution_count": null,
      "outputs": []
    },
    {
      "cell_type": "markdown",
      "source": [
        "#Quiz1\n",
        "print มาก ที่มี ก.ไก่ 100 ตัว"
      ],
      "metadata": {
        "id": "5jmztGs8459t"
      }
    },
    {
      "cell_type": "code",
      "source": [
        "'มา' + 100*'ก'"
      ],
      "metadata": {
        "colab": {
          "base_uri": "https://localhost:8080/",
          "height": 35
        },
        "id": "AqlSgOwi4Xk3",
        "outputId": "57a30fe0-69f5-428a-8041-9a63f69171b3"
      },
      "execution_count": 15,
      "outputs": [
        {
          "output_type": "execute_result",
          "data": {
            "text/plain": [
              "'มากกกกกกกกกกกกกกกกกกกกกกกกกกกกกกกกกกกกกกกกกกกกกกกกกกกกกกกกกกกกกกกกกกกกกกกกกกกกกกกกกกกกกกกกกกกกกกกกกกกก'"
            ],
            "application/vnd.google.colaboratory.intrinsic+json": {
              "type": "string"
            }
          },
          "metadata": {},
          "execution_count": 15
        }
      ]
    },
    {
      "cell_type": "markdown",
      "source": [
        "## ข้อกำหนดในการตั้งชื่อตัวแปร\n",
        "1. พยายามตั้งชื่อให้สื่อความหมาย\n",
        "2. ต้องเป็นภาษาอังกฤษ\n",
        "3. ใช้ตัวเลขผสมกับตัวหนังสือได้ แต่ห้ามขึ้นต้นด้วยตัวเลข\n",
        "4. ห้ามมีเว้นวรรคในชื่อตัวแปร\n",
        "5.ตัวใหญ่ตัวเล็ก มีค่าไม่เท่ากัน"
      ],
      "metadata": {
        "id": "8qpcHFr0V4_a"
      }
    },
    {
      "cell_type": "code",
      "source": [
        "1a = 7 #ใช้ตัวเลขผสมกับตัวหนังสือได้ แต่ห้ามขึ้นต้นด้วยตัวเลข"
      ],
      "metadata": {
        "id": "kzxsxklNswoN"
      },
      "execution_count": null,
      "outputs": []
    },
    {
      "cell_type": "code",
      "source": [
        "variable a = 1 #ห้ามมีเว้นวรรคในชื่อตัวแปร"
      ],
      "metadata": {
        "id": "EkumqXUUs0jM"
      },
      "execution_count": null,
      "outputs": []
    },
    {
      "cell_type": "code",
      "source": [
        "bat = 7 # ตัวใหญ่ ตัวเล็ก มีค่าไม่เท่ากัน"
      ],
      "metadata": {
        "id": "a2nzmK_ws395"
      },
      "execution_count": null,
      "outputs": []
    },
    {
      "cell_type": "code",
      "source": [
        "print(Bat) # ตัวใหญ่ ตัวเล็ก มีค่าไม่เท่ากัน"
      ],
      "metadata": {
        "id": "YDwlVtmOs6jF"
      },
      "execution_count": null,
      "outputs": []
    },
    {
      "cell_type": "markdown",
      "source": [
        "## Advanced Printing ( print code ร่วมกับข้อความ)\n",
        "เราสามารถ print code ร่วมกับข้อความได้\n",
        "\n",
        "```python\n",
        "print(f'ข้อความ{code}')\n",
        "```\n",
        "\n",
        "```Python\n",
        "print(f'หนึ่ง บวก สอง (1+2) เท่ากับ สาม ({1+2})')\n",
        "```"
      ],
      "metadata": {
        "id": "ioBKz9DSW-aJ"
      }
    },
    {
      "cell_type": "code",
      "source": [
        "print(f'หนึ่ง บวก สอง (1+2) เท่ากับ สาม ({1+2})')  # {}  Curly Brackets เอาไว้ใส่ code"
      ],
      "metadata": {
        "id": "EWWpPiEAifRy"
      },
      "execution_count": null,
      "outputs": []
    },
    {
      "cell_type": "code",
      "source": [
        "print(f'ข้อความ{code}')"
      ],
      "metadata": {
        "id": "R_-Rj6q-YnO1"
      },
      "execution_count": null,
      "outputs": []
    },
    {
      "cell_type": "code",
      "source": [
        "print(f'ส่วนนี้ไม่ใช่ code>2*3 3-5 // ส่วนของ code>{2*3} {3-5}')"
      ],
      "metadata": {
        "id": "u64NGXiCYKgM"
      },
      "execution_count": null,
      "outputs": []
    },
    {
      "cell_type": "code",
      "source": [
        "print(f'หนึ่ง บวก สอง (1+2) เท่ากับ สาม ({1+2})') #Curly Brackets"
      ],
      "metadata": {
        "id": "R7LX5RkNX13U"
      },
      "execution_count": null,
      "outputs": []
    },
    {
      "cell_type": "code",
      "source": [
        "a = 1\n",
        "b = 2\n",
        "print(f'หนึ่ง บวก สอง ({a}+{b}) เท่ากับ สาม ({a+b})')"
      ],
      "metadata": {
        "id": "mVxIA-ygZQ87"
      },
      "execution_count": null,
      "outputs": []
    },
    {
      "cell_type": "code",
      "source": [
        "a = 5\n",
        "b = 2"
      ],
      "metadata": {
        "id": "BMWLQp3HaPZ7"
      },
      "execution_count": null,
      "outputs": []
    },
    {
      "cell_type": "code",
      "source": [
        "print(f'{a}+{b} = {a+b}')"
      ],
      "metadata": {
        "id": "060E9xI7tJaG"
      },
      "execution_count": null,
      "outputs": []
    },
    {
      "cell_type": "markdown",
      "source": [
        "## ชนิดของตัวแปร\n"
      ],
      "metadata": {
        "id": "TDIPg9nhtZT1"
      }
    },
    {
      "cell_type": "markdown",
      "source": [
        "### char(acter) (ตัวอักษร)\n",
        "\n",
        "- มี 1 ตัว = ตัวอักษร\n",
        "- เอาตัวอักษรมาต่อกัน = ข้อความ\n",
        "- operator ในการ บวก ลบ คูณ หาร เหมือนกับ 'ข้อความ'\n",
        "- แต่!!!!!!! ไม่สามารถเอา 'ข้อความ' มาทำการบวกกับ 'ตัวอักษร'ได้"
      ],
      "metadata": {
        "id": "NWxPKE3htcHu"
      }
    },
    {
      "cell_type": "code",
      "source": [
        "a = 'Ch'"
      ],
      "metadata": {
        "id": "WZ7UHpFRtirB"
      },
      "execution_count": null,
      "outputs": []
    },
    {
      "cell_type": "code",
      "source": [
        "b = 'aracter'"
      ],
      "metadata": {
        "id": "_7-1_R8YtmPu"
      },
      "execution_count": null,
      "outputs": []
    },
    {
      "cell_type": "code",
      "source": [
        "print(f'a={a} b={b}, then {a}+{b} = {a+b}')"
      ],
      "metadata": {
        "id": "iR1F_3gXtpqA"
      },
      "execution_count": null,
      "outputs": []
    },
    {
      "cell_type": "code",
      "source": [
        "A = 'c'\n",
        "B = 'a'"
      ],
      "metadata": {
        "id": "ToiDzo_RtteU"
      },
      "execution_count": null,
      "outputs": []
    },
    {
      "cell_type": "code",
      "source": [
        "print(A+B)"
      ],
      "metadata": {
        "id": "SD5NdgoOtv54"
      },
      "execution_count": null,
      "outputs": []
    },
    {
      "cell_type": "markdown",
      "source": [
        "### int(eger) (จำนวนเต็ม)"
      ],
      "metadata": {
        "id": "yiNw6ea5ty70"
      }
    },
    {
      "cell_type": "code",
      "source": [
        "int_a = 7\n",
        "int_b = 2"
      ],
      "metadata": {
        "id": "1kvzb3yyt3zB"
      },
      "execution_count": null,
      "outputs": []
    },
    {
      "cell_type": "code",
      "source": [
        "int_c = int_a + int_b\n",
        "print(int_c)"
      ],
      "metadata": {
        "id": "e3iN8lIrt7AX"
      },
      "execution_count": null,
      "outputs": []
    },
    {
      "cell_type": "markdown",
      "source": [
        "### float (จำนวนจริง ทศนิยม)\n",
        "    double เหมือย float เเต่แค่ใช้พื้นที่เก็บข้อมูลมากกว่า"
      ],
      "metadata": {
        "id": "Q1YoWWn_ug0G"
      }
    },
    {
      "cell_type": "code",
      "source": [
        "fl_a = 7.  # เขียนแค่จุดก็ได้\n",
        "fl_b = 2.571"
      ],
      "metadata": {
        "id": "UCeFO3Xhulln"
      },
      "execution_count": null,
      "outputs": []
    },
    {
      "cell_type": "code",
      "source": [
        "fl_a"
      ],
      "metadata": {
        "id": "Mzll_99fuuUC"
      },
      "execution_count": null,
      "outputs": []
    },
    {
      "cell_type": "code",
      "source": [
        "fl_b\n"
      ],
      "metadata": {
        "id": "k8OSG4wEu7qr"
      },
      "execution_count": null,
      "outputs": []
    },
    {
      "cell_type": "code",
      "source": [
        "print(fl_a)"
      ],
      "metadata": {
        "id": "EUHK9PhGvB4Z"
      },
      "execution_count": null,
      "outputs": []
    },
    {
      "cell_type": "markdown",
      "source": [
        "### boolean (ตัวแปรที่มีค่า True หรือ False) ตรรกศาสตร์"
      ],
      "metadata": {
        "id": "eWXJHDlavIHW"
      }
    },
    {
      "cell_type": "code",
      "source": [
        "b_T = True"
      ],
      "metadata": {
        "id": "DPBMihn-vKyp"
      },
      "execution_count": null,
      "outputs": []
    },
    {
      "cell_type": "code",
      "source": [
        "b_F = False"
      ],
      "metadata": {
        "id": "pj14n8PYvQJA"
      },
      "execution_count": null,
      "outputs": []
    },
    {
      "cell_type": "code",
      "source": [
        "print(b_T and b_F)"
      ],
      "metadata": {
        "id": "kY6iwkEsvTwy"
      },
      "execution_count": null,
      "outputs": []
    },
    {
      "cell_type": "code",
      "source": [
        "print(b_T or b_F)"
      ],
      "metadata": {
        "id": "vcRrzk_QvWoE"
      },
      "execution_count": null,
      "outputs": []
    },
    {
      "cell_type": "markdown",
      "source": [
        "### complex (จำนวนเชิงซ้อน)\n",
        "    จน.จริง + จน.จินตภาพ"
      ],
      "metadata": {
        "id": "jbSnNqhPvc7D"
      }
    },
    {
      "cell_type": "code",
      "source": [
        "x = 1 + 2j"
      ],
      "metadata": {
        "id": "fPWokv4cve2g"
      },
      "execution_count": null,
      "outputs": []
    },
    {
      "cell_type": "code",
      "source": [
        "print(x)"
      ],
      "metadata": {
        "id": "rf30M4Zjvj5G"
      },
      "execution_count": null,
      "outputs": []
    },
    {
      "cell_type": "markdown",
      "source": [
        "### เราสามารถตรวจสอบชนิดของตัวแปรด้วยคำสั่ง type()"
      ],
      "metadata": {
        "id": "bpYtyNhSwC8R"
      }
    },
    {
      "cell_type": "markdown",
      "source": [
        "```type()```"
      ],
      "metadata": {
        "id": "NpJ4JLgKwLcg"
      }
    },
    {
      "cell_type": "code",
      "source": [
        "print(f'ตัวแปร x ค่าคือ {x} ชนิด {type(x)}')"
      ],
      "metadata": {
        "id": "zMq2ttHTwNp_"
      },
      "execution_count": null,
      "outputs": []
    },
    {
      "cell_type": "code",
      "source": [
        "print(f'ตัวแปร A ค่าคือ {A} ชนิด {type(A)}')"
      ],
      "metadata": {
        "id": "7yo0hgO5wQ7o"
      },
      "execution_count": null,
      "outputs": []
    },
    {
      "cell_type": "code",
      "source": [
        "print(f'ตัวแปร a ค่าคือ {a} ชนิด {type(a)}')"
      ],
      "metadata": {
        "id": "VWp_zgwIwUBW"
      },
      "execution_count": null,
      "outputs": []
    },
    {
      "cell_type": "markdown",
      "source": [
        "----- จบคาบ 2 ------"
      ],
      "metadata": {
        "id": "HmpGbHUCwZf9"
      }
    },
    {
      "cell_type": "code",
      "source": [],
      "metadata": {
        "id": "tE6Tc1sR4u1Y"
      },
      "execution_count": null,
      "outputs": []
    },
    {
      "cell_type": "markdown",
      "source": [
        "# การแปลงชนิดของตัวแปร (Variable Casting) #เปลี่ยนชนิดของตัวแปล"
      ],
      "metadata": {
        "id": "sseIs4FieTM-"
      }
    },
    {
      "cell_type": "code",
      "source": [
        "print(f'int_a = {int_a} int_b = {int_b} fl_a = {fl_a} fl_b = {fl_b}')"
      ],
      "metadata": {
        "id": "qJXV88hteXEZ"
      },
      "execution_count": null,
      "outputs": []
    },
    {
      "cell_type": "code",
      "source": [
        "str_a = '6'   # str บวก ลบ คูณหารกันไม่ได้\n",
        "str_b = '-2'"
      ],
      "metadata": {
        "id": "XMrOjBDcflHq"
      },
      "execution_count": null,
      "outputs": []
    },
    {
      "cell_type": "code",
      "source": [
        "str_a2int = int(str_a) #เปลี่ยน str เป็น int\n",
        "print(f'ตัวแปร str_a2int ค่าคือ {str_a2int} ชนิด {type(str_a2int)}')"
      ],
      "metadata": {
        "id": "53scNnO9dvdm"
      },
      "execution_count": null,
      "outputs": []
    },
    {
      "cell_type": "code",
      "source": [
        "str_a2int + int_a"
      ],
      "metadata": {
        "id": "5POiVc3uePdf"
      },
      "execution_count": null,
      "outputs": []
    },
    {
      "cell_type": "code",
      "source": [
        "str_a + int_a  #บวกกันไม่ได้"
      ],
      "metadata": {
        "id": "Y2oYHGaQeWpa"
      },
      "execution_count": null,
      "outputs": []
    },
    {
      "cell_type": "code",
      "source": [
        "int_a + str_a"
      ],
      "metadata": {
        "id": "CrZRPFrsecIs"
      },
      "execution_count": null,
      "outputs": []
    },
    {
      "cell_type": "code",
      "source": [
        "int(fl_b) # fl_b = 2.571 เปลี่ยนเป็น int ได้ 2 เพราะตัดทิ้งหลังทศ หมด"
      ],
      "metadata": {
        "id": "bo4rlNX_eokh"
      },
      "execution_count": null,
      "outputs": []
    },
    {
      "cell_type": "code",
      "source": [
        "float(int_a) #เปลี่ยนเป็น ทศ"
      ],
      "metadata": {
        "id": "wTk9rvbjfP2j"
      },
      "execution_count": null,
      "outputs": []
    },
    {
      "cell_type": "code",
      "source": [
        "str(fl_b)  #เปลี่ยนเป็นข้อความ"
      ],
      "metadata": {
        "id": "YxltOS6efL7s"
      },
      "execution_count": null,
      "outputs": []
    },
    {
      "cell_type": "markdown",
      "source": [
        "## Operation เอาตัวแปรสองตัวมาทำอะไรกัน"
      ],
      "metadata": {
        "id": "My31ZR8Df_-x"
      }
    },
    {
      "cell_type": "markdown",
      "source": [
        "### operators (บวก (+), ลบ (-), คูณ (*), หาร (/), modulo (%), and (&), or (|))"
      ],
      "metadata": {
        "id": "w_5digYogMc3"
      }
    },
    {
      "cell_type": "code",
      "source": [
        "fl_a + int_b #ทศ บวก เต็ม ได้ ทศ เพราะทศใหญ่กว่า"
      ],
      "metadata": {
        "id": "jzcV31M0fuhh"
      },
      "execution_count": null,
      "outputs": []
    },
    {
      "cell_type": "code",
      "source": [
        "9%2 #การหาร เอาเศษ  เช็คได้ว่าเป็นคู่หรือคี่"
      ],
      "metadata": {
        "id": "O6oZ07y4gzAp"
      },
      "execution_count": null,
      "outputs": []
    },
    {
      "cell_type": "code",
      "source": [
        "100%2"
      ],
      "metadata": {
        "id": "flPC9rANgRwv"
      },
      "execution_count": null,
      "outputs": []
    },
    {
      "cell_type": "code",
      "source": [
        "int_a / int_b"
      ],
      "metadata": {
        "id": "6PP5A3qqgYyC"
      },
      "execution_count": null,
      "outputs": []
    },
    {
      "cell_type": "code",
      "source": [
        "int(int_a / int_b) #หารเอาส่วน เอาแค่จำนวนเต็ม"
      ],
      "metadata": {
        "id": "86tVLoSmgams"
      },
      "execution_count": null,
      "outputs": []
    },
    {
      "cell_type": "code",
      "source": [
        "False & False"
      ],
      "metadata": {
        "id": "7CtD-pRygc7B"
      },
      "execution_count": null,
      "outputs": []
    },
    {
      "cell_type": "code",
      "source": [
        "False & True"
      ],
      "metadata": {
        "id": "o00yKpNpgevb"
      },
      "execution_count": null,
      "outputs": []
    },
    {
      "cell_type": "code",
      "source": [
        "False | True # | = or"
      ],
      "metadata": {
        "id": "nu9Ca_BOghCx"
      },
      "execution_count": null,
      "outputs": []
    },
    {
      "cell_type": "markdown",
      "source": [
        "### String operations #การทำงานกับข้อความ"
      ],
      "metadata": {
        "id": "YrFJUFv1gi0t"
      }
    },
    {
      "cell_type": "markdown",
      "source": [
        "### ``+ ``-> concat(บวก),` * `-> repeat (ทำซ้ำ)"
      ],
      "metadata": {
        "id": "CuW8TVZNgsT5"
      }
    },
    {
      "cell_type": "code",
      "source": [
        "st_test1 = 'Department of Statistics, '\n",
        "st_test2 = 'Faculty of Science'"
      ],
      "metadata": {
        "id": "0U-DcBWegmyN"
      },
      "execution_count": null,
      "outputs": []
    },
    {
      "cell_type": "code",
      "source": [
        "print(st_test1+st_test2) # บวก คือการต่อข้อความ"
      ],
      "metadata": {
        "id": "AvdbZ-Nfg1Gd"
      },
      "execution_count": null,
      "outputs": []
    },
    {
      "cell_type": "code",
      "source": [
        "print(10*'t') # * คือการทำซ้ำ"
      ],
      "metadata": {
        "id": "GwE71bEng2w-"
      },
      "execution_count": null,
      "outputs": []
    },
    {
      "cell_type": "code",
      "source": [
        "print(3*st_test1)"
      ],
      "metadata": {
        "id": "4rQGAi4bg4rh"
      },
      "execution_count": null,
      "outputs": []
    },
    {
      "cell_type": "markdown",
      "source": [
        "## ```replace()``` แทนที่ string"
      ],
      "metadata": {
        "id": "LOg3BSN4g_xv"
      }
    },
    {
      "cell_type": "code",
      "source": [
        "st_test1.replace('e',' ') #('e',' ') ('แทนที่อะไร','ด้วยอะไร')"
      ],
      "metadata": {
        "id": "Nc7bjL5vhEAX"
      },
      "execution_count": null,
      "outputs": []
    },
    {
      "cell_type": "code",
      "source": [
        "st_test1.replace('e','') ## ' '  = ช่องว่าง, '' = ลบ"
      ],
      "metadata": {
        "id": "uTFLnToYhE_s"
      },
      "execution_count": null,
      "outputs": []
    },
    {
      "cell_type": "code",
      "source": [
        "st_test1"
      ],
      "metadata": {
        "id": "KhBSGnC9hGpS"
      },
      "execution_count": null,
      "outputs": []
    },
    {
      "cell_type": "code",
      "source": [
        "'Department of Statistics, '.replace('a','x')"
      ],
      "metadata": {
        "id": "0V67k_fFhKOd"
      },
      "execution_count": null,
      "outputs": []
    },
    {
      "cell_type": "markdown",
      "source": [
        "## ```split()``` แยก string"
      ],
      "metadata": {
        "id": "kVsLJYeJhMwK"
      }
    },
    {
      "cell_type": "code",
      "source": [
        "'a b c d e f g'.split() #แยกด้วยช่องว่าง"
      ],
      "metadata": {
        "id": "aQMvpXVihPet"
      },
      "execution_count": null,
      "outputs": []
    },
    {
      "cell_type": "code",
      "source": [
        "'a,b/c,d e/f g'.split('/') #แยกด้วย /"
      ],
      "metadata": {
        "id": "9UKYZNcXhS8X"
      },
      "execution_count": null,
      "outputs": []
    }
  ]
}