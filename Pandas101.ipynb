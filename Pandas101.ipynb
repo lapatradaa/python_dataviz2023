{
  "nbformat": 4,
  "nbformat_minor": 0,
  "metadata": {
    "colab": {
      "name": " Pandas101.ipynb",
      "provenance": [],
      "include_colab_link": true
    },
    "kernelspec": {
      "name": "python3",
      "display_name": "Python 3"
    }
  },
  "cells": [
    {
      "cell_type": "markdown",
      "metadata": {
        "id": "view-in-github",
        "colab_type": "text"
      },
      "source": [
        "<a href=\"https://colab.research.google.com/github/lapatradaa/python_dataviz2023/blob/main/Pandas101.ipynb\" target=\"_parent\"><img src=\"https://colab.research.google.com/assets/colab-badge.svg\" alt=\"Open In Colab\"/></a>"
      ]
    },
    {
      "cell_type": "code",
      "metadata": {
        "id": "-db5CJRNlwyL"
      },
      "source": [
        "import pandas as pd"
      ],
      "execution_count": 13,
      "outputs": []
    },
    {
      "cell_type": "markdown",
      "source": [
        "## Meta data = Data that describtion data\n",
        "\n",
        "ใช้อธิบายช้อมูล\n",
        "\n",
        "## CSV = Comma Separated Values\n",
        "ในการจะใส่ค่าแต่ละค่า จะใช้  comma ในการแย่ง"
      ],
      "metadata": {
        "id": "RuhVtlerGS4Q"
      }
    },
    {
      "cell_type": "markdown",
      "source": [
        ".csv = Comma Separated Values"
      ],
      "metadata": {
        "id": "nG20ex-3NX6H"
      }
    },
    {
      "cell_type": "markdown",
      "source": [
        "data.go.th"
      ],
      "metadata": {
        "id": "AyRXEjDINX3K"
      }
    },
    {
      "cell_type": "markdown",
      "source": [
        "# นำ Data เข้า\n",
        "- upload to colab  # กรณีใช้เเค่ครั้งเดียว\n",
        "- link with google drive"
      ],
      "metadata": {
        "id": "_rHnnYlYIGsG"
      }
    },
    {
      "cell_type": "markdown",
      "source": [
        "## upload to colab"
      ],
      "metadata": {
        "id": "9qyXeNjjJpaF"
      }
    },
    {
      "cell_type": "code",
      "source": [
        "data0 = pd.read_csv('/content/data bkk 01.csv')"
      ],
      "metadata": {
        "id": "baOzFVR9JqwU",
        "outputId": "4cd5ea5d-207c-4e1e-e8e5-c20c367e4307",
        "colab": {
          "base_uri": "https://localhost:8080/",
          "height": 336
        }
      },
      "execution_count": 14,
      "outputs": [
        {
          "output_type": "error",
          "ename": "FileNotFoundError",
          "evalue": "ignored",
          "traceback": [
            "\u001b[0;31m---------------------------------------------------------------------------\u001b[0m",
            "\u001b[0;31mFileNotFoundError\u001b[0m                         Traceback (most recent call last)",
            "\u001b[0;32m<ipython-input-14-0d91d5670337>\u001b[0m in \u001b[0;36m<cell line: 1>\u001b[0;34m()\u001b[0m\n\u001b[0;32m----> 1\u001b[0;31m \u001b[0mdata0\u001b[0m \u001b[0;34m=\u001b[0m \u001b[0mpd\u001b[0m\u001b[0;34m.\u001b[0m\u001b[0mread_csv\u001b[0m\u001b[0;34m(\u001b[0m\u001b[0;34m'/content/data bkk 01.csv'\u001b[0m\u001b[0;34m)\u001b[0m\u001b[0;34m\u001b[0m\u001b[0;34m\u001b[0m\u001b[0m\n\u001b[0m",
            "\u001b[0;32m/usr/local/lib/python3.10/dist-packages/pandas/util/_decorators.py\u001b[0m in \u001b[0;36mwrapper\u001b[0;34m(*args, **kwargs)\u001b[0m\n\u001b[1;32m    209\u001b[0m                 \u001b[0;32melse\u001b[0m\u001b[0;34m:\u001b[0m\u001b[0;34m\u001b[0m\u001b[0;34m\u001b[0m\u001b[0m\n\u001b[1;32m    210\u001b[0m                     \u001b[0mkwargs\u001b[0m\u001b[0;34m[\u001b[0m\u001b[0mnew_arg_name\u001b[0m\u001b[0;34m]\u001b[0m \u001b[0;34m=\u001b[0m \u001b[0mnew_arg_value\u001b[0m\u001b[0;34m\u001b[0m\u001b[0;34m\u001b[0m\u001b[0m\n\u001b[0;32m--> 211\u001b[0;31m             \u001b[0;32mreturn\u001b[0m \u001b[0mfunc\u001b[0m\u001b[0;34m(\u001b[0m\u001b[0;34m*\u001b[0m\u001b[0margs\u001b[0m\u001b[0;34m,\u001b[0m \u001b[0;34m**\u001b[0m\u001b[0mkwargs\u001b[0m\u001b[0;34m)\u001b[0m\u001b[0;34m\u001b[0m\u001b[0;34m\u001b[0m\u001b[0m\n\u001b[0m\u001b[1;32m    212\u001b[0m \u001b[0;34m\u001b[0m\u001b[0m\n\u001b[1;32m    213\u001b[0m         \u001b[0;32mreturn\u001b[0m \u001b[0mcast\u001b[0m\u001b[0;34m(\u001b[0m\u001b[0mF\u001b[0m\u001b[0;34m,\u001b[0m \u001b[0mwrapper\u001b[0m\u001b[0;34m)\u001b[0m\u001b[0;34m\u001b[0m\u001b[0;34m\u001b[0m\u001b[0m\n",
            "\u001b[0;32m/usr/local/lib/python3.10/dist-packages/pandas/util/_decorators.py\u001b[0m in \u001b[0;36mwrapper\u001b[0;34m(*args, **kwargs)\u001b[0m\n\u001b[1;32m    329\u001b[0m                     \u001b[0mstacklevel\u001b[0m\u001b[0;34m=\u001b[0m\u001b[0mfind_stack_level\u001b[0m\u001b[0;34m(\u001b[0m\u001b[0;34m)\u001b[0m\u001b[0;34m,\u001b[0m\u001b[0;34m\u001b[0m\u001b[0;34m\u001b[0m\u001b[0m\n\u001b[1;32m    330\u001b[0m                 )\n\u001b[0;32m--> 331\u001b[0;31m             \u001b[0;32mreturn\u001b[0m \u001b[0mfunc\u001b[0m\u001b[0;34m(\u001b[0m\u001b[0;34m*\u001b[0m\u001b[0margs\u001b[0m\u001b[0;34m,\u001b[0m \u001b[0;34m**\u001b[0m\u001b[0mkwargs\u001b[0m\u001b[0;34m)\u001b[0m\u001b[0;34m\u001b[0m\u001b[0;34m\u001b[0m\u001b[0m\n\u001b[0m\u001b[1;32m    332\u001b[0m \u001b[0;34m\u001b[0m\u001b[0m\n\u001b[1;32m    333\u001b[0m         \u001b[0;31m# error: \"Callable[[VarArg(Any), KwArg(Any)], Any]\" has no\u001b[0m\u001b[0;34m\u001b[0m\u001b[0;34m\u001b[0m\u001b[0m\n",
            "\u001b[0;32m/usr/local/lib/python3.10/dist-packages/pandas/io/parsers/readers.py\u001b[0m in \u001b[0;36mread_csv\u001b[0;34m(filepath_or_buffer, sep, delimiter, header, names, index_col, usecols, squeeze, prefix, mangle_dupe_cols, dtype, engine, converters, true_values, false_values, skipinitialspace, skiprows, skipfooter, nrows, na_values, keep_default_na, na_filter, verbose, skip_blank_lines, parse_dates, infer_datetime_format, keep_date_col, date_parser, dayfirst, cache_dates, iterator, chunksize, compression, thousands, decimal, lineterminator, quotechar, quoting, doublequote, escapechar, comment, encoding, encoding_errors, dialect, error_bad_lines, warn_bad_lines, on_bad_lines, delim_whitespace, low_memory, memory_map, float_precision, storage_options)\u001b[0m\n\u001b[1;32m    948\u001b[0m     \u001b[0mkwds\u001b[0m\u001b[0;34m.\u001b[0m\u001b[0mupdate\u001b[0m\u001b[0;34m(\u001b[0m\u001b[0mkwds_defaults\u001b[0m\u001b[0;34m)\u001b[0m\u001b[0;34m\u001b[0m\u001b[0;34m\u001b[0m\u001b[0m\n\u001b[1;32m    949\u001b[0m \u001b[0;34m\u001b[0m\u001b[0m\n\u001b[0;32m--> 950\u001b[0;31m     \u001b[0;32mreturn\u001b[0m \u001b[0m_read\u001b[0m\u001b[0;34m(\u001b[0m\u001b[0mfilepath_or_buffer\u001b[0m\u001b[0;34m,\u001b[0m \u001b[0mkwds\u001b[0m\u001b[0;34m)\u001b[0m\u001b[0;34m\u001b[0m\u001b[0;34m\u001b[0m\u001b[0m\n\u001b[0m\u001b[1;32m    951\u001b[0m \u001b[0;34m\u001b[0m\u001b[0m\n\u001b[1;32m    952\u001b[0m \u001b[0;34m\u001b[0m\u001b[0m\n",
            "\u001b[0;32m/usr/local/lib/python3.10/dist-packages/pandas/io/parsers/readers.py\u001b[0m in \u001b[0;36m_read\u001b[0;34m(filepath_or_buffer, kwds)\u001b[0m\n\u001b[1;32m    603\u001b[0m \u001b[0;34m\u001b[0m\u001b[0m\n\u001b[1;32m    604\u001b[0m     \u001b[0;31m# Create the parser.\u001b[0m\u001b[0;34m\u001b[0m\u001b[0;34m\u001b[0m\u001b[0m\n\u001b[0;32m--> 605\u001b[0;31m     \u001b[0mparser\u001b[0m \u001b[0;34m=\u001b[0m \u001b[0mTextFileReader\u001b[0m\u001b[0;34m(\u001b[0m\u001b[0mfilepath_or_buffer\u001b[0m\u001b[0;34m,\u001b[0m \u001b[0;34m**\u001b[0m\u001b[0mkwds\u001b[0m\u001b[0;34m)\u001b[0m\u001b[0;34m\u001b[0m\u001b[0;34m\u001b[0m\u001b[0m\n\u001b[0m\u001b[1;32m    606\u001b[0m \u001b[0;34m\u001b[0m\u001b[0m\n\u001b[1;32m    607\u001b[0m     \u001b[0;32mif\u001b[0m \u001b[0mchunksize\u001b[0m \u001b[0;32mor\u001b[0m \u001b[0miterator\u001b[0m\u001b[0;34m:\u001b[0m\u001b[0;34m\u001b[0m\u001b[0;34m\u001b[0m\u001b[0m\n",
            "\u001b[0;32m/usr/local/lib/python3.10/dist-packages/pandas/io/parsers/readers.py\u001b[0m in \u001b[0;36m__init__\u001b[0;34m(self, f, engine, **kwds)\u001b[0m\n\u001b[1;32m   1440\u001b[0m \u001b[0;34m\u001b[0m\u001b[0m\n\u001b[1;32m   1441\u001b[0m         \u001b[0mself\u001b[0m\u001b[0;34m.\u001b[0m\u001b[0mhandles\u001b[0m\u001b[0;34m:\u001b[0m \u001b[0mIOHandles\u001b[0m \u001b[0;34m|\u001b[0m \u001b[0;32mNone\u001b[0m \u001b[0;34m=\u001b[0m \u001b[0;32mNone\u001b[0m\u001b[0;34m\u001b[0m\u001b[0;34m\u001b[0m\u001b[0m\n\u001b[0;32m-> 1442\u001b[0;31m         \u001b[0mself\u001b[0m\u001b[0;34m.\u001b[0m\u001b[0m_engine\u001b[0m \u001b[0;34m=\u001b[0m \u001b[0mself\u001b[0m\u001b[0;34m.\u001b[0m\u001b[0m_make_engine\u001b[0m\u001b[0;34m(\u001b[0m\u001b[0mf\u001b[0m\u001b[0;34m,\u001b[0m \u001b[0mself\u001b[0m\u001b[0;34m.\u001b[0m\u001b[0mengine\u001b[0m\u001b[0;34m)\u001b[0m\u001b[0;34m\u001b[0m\u001b[0;34m\u001b[0m\u001b[0m\n\u001b[0m\u001b[1;32m   1443\u001b[0m \u001b[0;34m\u001b[0m\u001b[0m\n\u001b[1;32m   1444\u001b[0m     \u001b[0;32mdef\u001b[0m \u001b[0mclose\u001b[0m\u001b[0;34m(\u001b[0m\u001b[0mself\u001b[0m\u001b[0;34m)\u001b[0m \u001b[0;34m->\u001b[0m \u001b[0;32mNone\u001b[0m\u001b[0;34m:\u001b[0m\u001b[0;34m\u001b[0m\u001b[0;34m\u001b[0m\u001b[0m\n",
            "\u001b[0;32m/usr/local/lib/python3.10/dist-packages/pandas/io/parsers/readers.py\u001b[0m in \u001b[0;36m_make_engine\u001b[0;34m(self, f, engine)\u001b[0m\n\u001b[1;32m   1733\u001b[0m                 \u001b[0;32mif\u001b[0m \u001b[0;34m\"b\"\u001b[0m \u001b[0;32mnot\u001b[0m \u001b[0;32min\u001b[0m \u001b[0mmode\u001b[0m\u001b[0;34m:\u001b[0m\u001b[0;34m\u001b[0m\u001b[0;34m\u001b[0m\u001b[0m\n\u001b[1;32m   1734\u001b[0m                     \u001b[0mmode\u001b[0m \u001b[0;34m+=\u001b[0m \u001b[0;34m\"b\"\u001b[0m\u001b[0;34m\u001b[0m\u001b[0;34m\u001b[0m\u001b[0m\n\u001b[0;32m-> 1735\u001b[0;31m             self.handles = get_handle(\n\u001b[0m\u001b[1;32m   1736\u001b[0m                 \u001b[0mf\u001b[0m\u001b[0;34m,\u001b[0m\u001b[0;34m\u001b[0m\u001b[0;34m\u001b[0m\u001b[0m\n\u001b[1;32m   1737\u001b[0m                 \u001b[0mmode\u001b[0m\u001b[0;34m,\u001b[0m\u001b[0;34m\u001b[0m\u001b[0;34m\u001b[0m\u001b[0m\n",
            "\u001b[0;32m/usr/local/lib/python3.10/dist-packages/pandas/io/common.py\u001b[0m in \u001b[0;36mget_handle\u001b[0;34m(path_or_buf, mode, encoding, compression, memory_map, is_text, errors, storage_options)\u001b[0m\n\u001b[1;32m    854\u001b[0m         \u001b[0;32mif\u001b[0m \u001b[0mioargs\u001b[0m\u001b[0;34m.\u001b[0m\u001b[0mencoding\u001b[0m \u001b[0;32mand\u001b[0m \u001b[0;34m\"b\"\u001b[0m \u001b[0;32mnot\u001b[0m \u001b[0;32min\u001b[0m \u001b[0mioargs\u001b[0m\u001b[0;34m.\u001b[0m\u001b[0mmode\u001b[0m\u001b[0;34m:\u001b[0m\u001b[0;34m\u001b[0m\u001b[0;34m\u001b[0m\u001b[0m\n\u001b[1;32m    855\u001b[0m             \u001b[0;31m# Encoding\u001b[0m\u001b[0;34m\u001b[0m\u001b[0;34m\u001b[0m\u001b[0m\n\u001b[0;32m--> 856\u001b[0;31m             handle = open(\n\u001b[0m\u001b[1;32m    857\u001b[0m                 \u001b[0mhandle\u001b[0m\u001b[0;34m,\u001b[0m\u001b[0;34m\u001b[0m\u001b[0;34m\u001b[0m\u001b[0m\n\u001b[1;32m    858\u001b[0m                 \u001b[0mioargs\u001b[0m\u001b[0;34m.\u001b[0m\u001b[0mmode\u001b[0m\u001b[0;34m,\u001b[0m\u001b[0;34m\u001b[0m\u001b[0;34m\u001b[0m\u001b[0m\n",
            "\u001b[0;31mFileNotFoundError\u001b[0m: [Errno 2] No such file or directory: '/content/data bkk 01.csv'"
          ]
        }
      ]
    },
    {
      "cell_type": "code",
      "source": [
        "data0"
      ],
      "metadata": {
        "id": "MbyN5HkkH1NS"
      },
      "execution_count": null,
      "outputs": []
    },
    {
      "cell_type": "code",
      "source": [],
      "metadata": {
        "id": "YaKKkvSoKUew"
      },
      "execution_count": null,
      "outputs": []
    },
    {
      "cell_type": "code",
      "source": [
        "data0.head()"
      ],
      "metadata": {
        "id": "cUr1kbUXK8L8"
      },
      "execution_count": null,
      "outputs": []
    },
    {
      "cell_type": "code",
      "source": [
        "data0.shape"
      ],
      "metadata": {
        "id": "G01o6E4xKVzz"
      },
      "execution_count": null,
      "outputs": []
    },
    {
      "cell_type": "code",
      "source": [
        "data0.describe()"
      ],
      "metadata": {
        "id": "VmAxyTGnKrI6"
      },
      "execution_count": null,
      "outputs": []
    },
    {
      "cell_type": "markdown",
      "source": [
        "## link with google drive"
      ],
      "metadata": {
        "id": "CgUMNJxVO9FV"
      }
    },
    {
      "cell_type": "code",
      "metadata": {
        "colab": {
          "base_uri": "https://localhost:8080/"
        },
        "id": "RwYRFJocm086",
        "outputId": "7051d636-ba41-4129-e9c1-77e8f809078d"
      },
      "source": [
        "from google.colab import drive\n",
        "drive.mount('/content/drive')  # mount =  เชื่อมไดร์ฟ"
      ],
      "execution_count": 18,
      "outputs": [
        {
          "output_type": "stream",
          "name": "stdout",
          "text": [
            "Drive already mounted at /content/drive; to attempt to forcibly remount, call drive.mount(\"/content/drive\", force_remount=True).\n"
          ]
        }
      ]
    },
    {
      "cell_type": "code",
      "source": [
        "from google.colab import drive\n",
        "drive.mount('/content/drive')"
      ],
      "metadata": {
        "id": "BQp5UajlNW8o",
        "outputId": "b86efce0-3616-4f07-ed1c-c5a221b0598e",
        "colab": {
          "base_uri": "https://localhost:8080/"
        }
      },
      "execution_count": 19,
      "outputs": [
        {
          "output_type": "stream",
          "name": "stdout",
          "text": [
            "Drive already mounted at /content/drive; to attempt to forcibly remount, call drive.mount(\"/content/drive\", force_remount=True).\n"
          ]
        }
      ]
    },
    {
      "cell_type": "code",
      "source": [
        "data1 = pd.read_csv('/content/drive/MyDrive/DataViz23Data/data bkk 01.csv')\n",
        "data1.head()"
      ],
      "metadata": {
        "colab": {
          "base_uri": "https://localhost:8080/",
          "height": 337
        },
        "id": "PSxrUlEWPjHE",
        "outputId": "9acf461c-d551-445a-f19c-1de4284c0875"
      },
      "execution_count": 20,
      "outputs": [
        {
          "output_type": "execute_result",
          "data": {
            "text/plain": [
              "  Budget_resource  Issue_No  Fiscal_year  Department_code        Department  \\\n",
              "0       งบประจำปี         0           62         11000000  สำนักการระบายน้ำ   \n",
              "1       งบประจำปี         0           62         11000000  สำนักการระบายน้ำ   \n",
              "2       งบประจำปี         0           62         11000000  สำนักการระบายน้ำ   \n",
              "3       งบประจำปี         0           62         11000000  สำนักการระบายน้ำ   \n",
              "4       งบประจำปี         0           62         11000000  สำนักการระบายน้ำ   \n",
              "\n",
              "                                    Core_budget_code Expenditure_category  \\\n",
              "0  12-เงินสำรองจ่ายทั่วไป กรณีค่าใช้จ่ายต่างๆ เกี...              งบลงทุน   \n",
              "1  12-เงินสำรองจ่ายทั่วไป กรณีค่าใช้จ่ายต่างๆ เกี...              งบลงทุน   \n",
              "2  12-เงินสำรองจ่ายทั่วไป กรณีค่าใช้จ่ายต่างๆ เกี...              งบลงทุน   \n",
              "3  12-เงินสำรองจ่ายทั่วไป กรณีค่าใช้จ่ายต่างๆ เกี...              งบลงทุน   \n",
              "4  12-เงินสำรองจ่ายทั่วไป กรณีค่าใช้จ่ายต่างๆ เกี...              งบลงทุน   \n",
              "\n",
              "                                           Item_name  Approved_buget  \n",
              "0        ขุดลอกคลองบางกะปิจากคลองสามเสนถึงคลองแสนแสบ         1193000  \n",
              "1  ขุดลอกคลองทรงกระเทียมจากคลองลาดพร้าวถึงถนนโชคช...         1100000  \n",
              "2          ขุดลอกคลองเป้งจากคลองแสนแสบถึงซอยเจริญสุข         3075000  \n",
              "3  ขุดลอกคลองลำพังพวยจากถนนศรีบูรพาถึงสถานีสูบน้ำ...         6240000  \n",
              "4  ขุดลอกบึงรางเข้จากคลองพระยาราชมนตรีถึงถนนบางขุ...         2685000  "
            ],
            "text/html": [
              "\n",
              "\n",
              "  <div id=\"df-0acd9c9a-4775-4f96-ba3e-1daed1e6525d\">\n",
              "    <div class=\"colab-df-container\">\n",
              "      <div>\n",
              "<style scoped>\n",
              "    .dataframe tbody tr th:only-of-type {\n",
              "        vertical-align: middle;\n",
              "    }\n",
              "\n",
              "    .dataframe tbody tr th {\n",
              "        vertical-align: top;\n",
              "    }\n",
              "\n",
              "    .dataframe thead th {\n",
              "        text-align: right;\n",
              "    }\n",
              "</style>\n",
              "<table border=\"1\" class=\"dataframe\">\n",
              "  <thead>\n",
              "    <tr style=\"text-align: right;\">\n",
              "      <th></th>\n",
              "      <th>Budget_resource</th>\n",
              "      <th>Issue_No</th>\n",
              "      <th>Fiscal_year</th>\n",
              "      <th>Department_code</th>\n",
              "      <th>Department</th>\n",
              "      <th>Core_budget_code</th>\n",
              "      <th>Expenditure_category</th>\n",
              "      <th>Item_name</th>\n",
              "      <th>Approved_buget</th>\n",
              "    </tr>\n",
              "  </thead>\n",
              "  <tbody>\n",
              "    <tr>\n",
              "      <th>0</th>\n",
              "      <td>งบประจำปี</td>\n",
              "      <td>0</td>\n",
              "      <td>62</td>\n",
              "      <td>11000000</td>\n",
              "      <td>สำนักการระบายน้ำ</td>\n",
              "      <td>12-เงินสำรองจ่ายทั่วไป กรณีค่าใช้จ่ายต่างๆ เกี...</td>\n",
              "      <td>งบลงทุน</td>\n",
              "      <td>ขุดลอกคลองบางกะปิจากคลองสามเสนถึงคลองแสนแสบ</td>\n",
              "      <td>1193000</td>\n",
              "    </tr>\n",
              "    <tr>\n",
              "      <th>1</th>\n",
              "      <td>งบประจำปี</td>\n",
              "      <td>0</td>\n",
              "      <td>62</td>\n",
              "      <td>11000000</td>\n",
              "      <td>สำนักการระบายน้ำ</td>\n",
              "      <td>12-เงินสำรองจ่ายทั่วไป กรณีค่าใช้จ่ายต่างๆ เกี...</td>\n",
              "      <td>งบลงทุน</td>\n",
              "      <td>ขุดลอกคลองทรงกระเทียมจากคลองลาดพร้าวถึงถนนโชคช...</td>\n",
              "      <td>1100000</td>\n",
              "    </tr>\n",
              "    <tr>\n",
              "      <th>2</th>\n",
              "      <td>งบประจำปี</td>\n",
              "      <td>0</td>\n",
              "      <td>62</td>\n",
              "      <td>11000000</td>\n",
              "      <td>สำนักการระบายน้ำ</td>\n",
              "      <td>12-เงินสำรองจ่ายทั่วไป กรณีค่าใช้จ่ายต่างๆ เกี...</td>\n",
              "      <td>งบลงทุน</td>\n",
              "      <td>ขุดลอกคลองเป้งจากคลองแสนแสบถึงซอยเจริญสุข</td>\n",
              "      <td>3075000</td>\n",
              "    </tr>\n",
              "    <tr>\n",
              "      <th>3</th>\n",
              "      <td>งบประจำปี</td>\n",
              "      <td>0</td>\n",
              "      <td>62</td>\n",
              "      <td>11000000</td>\n",
              "      <td>สำนักการระบายน้ำ</td>\n",
              "      <td>12-เงินสำรองจ่ายทั่วไป กรณีค่าใช้จ่ายต่างๆ เกี...</td>\n",
              "      <td>งบลงทุน</td>\n",
              "      <td>ขุดลอกคลองลำพังพวยจากถนนศรีบูรพาถึงสถานีสูบน้ำ...</td>\n",
              "      <td>6240000</td>\n",
              "    </tr>\n",
              "    <tr>\n",
              "      <th>4</th>\n",
              "      <td>งบประจำปี</td>\n",
              "      <td>0</td>\n",
              "      <td>62</td>\n",
              "      <td>11000000</td>\n",
              "      <td>สำนักการระบายน้ำ</td>\n",
              "      <td>12-เงินสำรองจ่ายทั่วไป กรณีค่าใช้จ่ายต่างๆ เกี...</td>\n",
              "      <td>งบลงทุน</td>\n",
              "      <td>ขุดลอกบึงรางเข้จากคลองพระยาราชมนตรีถึงถนนบางขุ...</td>\n",
              "      <td>2685000</td>\n",
              "    </tr>\n",
              "  </tbody>\n",
              "</table>\n",
              "</div>\n",
              "      <button class=\"colab-df-convert\" onclick=\"convertToInteractive('df-0acd9c9a-4775-4f96-ba3e-1daed1e6525d')\"\n",
              "              title=\"Convert this dataframe to an interactive table.\"\n",
              "              style=\"display:none;\">\n",
              "\n",
              "  <svg xmlns=\"http://www.w3.org/2000/svg\" height=\"24px\"viewBox=\"0 0 24 24\"\n",
              "       width=\"24px\">\n",
              "    <path d=\"M0 0h24v24H0V0z\" fill=\"none\"/>\n",
              "    <path d=\"M18.56 5.44l.94 2.06.94-2.06 2.06-.94-2.06-.94-.94-2.06-.94 2.06-2.06.94zm-11 1L8.5 8.5l.94-2.06 2.06-.94-2.06-.94L8.5 2.5l-.94 2.06-2.06.94zm10 10l.94 2.06.94-2.06 2.06-.94-2.06-.94-.94-2.06-.94 2.06-2.06.94z\"/><path d=\"M17.41 7.96l-1.37-1.37c-.4-.4-.92-.59-1.43-.59-.52 0-1.04.2-1.43.59L10.3 9.45l-7.72 7.72c-.78.78-.78 2.05 0 2.83L4 21.41c.39.39.9.59 1.41.59.51 0 1.02-.2 1.41-.59l7.78-7.78 2.81-2.81c.8-.78.8-2.07 0-2.86zM5.41 20L4 18.59l7.72-7.72 1.47 1.35L5.41 20z\"/>\n",
              "  </svg>\n",
              "      </button>\n",
              "\n",
              "\n",
              "\n",
              "    <div id=\"df-a1045800-3f78-40f0-b45e-32d8163a09dc\">\n",
              "      <button class=\"colab-df-quickchart\" onclick=\"quickchart('df-a1045800-3f78-40f0-b45e-32d8163a09dc')\"\n",
              "              title=\"Suggest charts.\"\n",
              "              style=\"display:none;\">\n",
              "\n",
              "<svg xmlns=\"http://www.w3.org/2000/svg\" height=\"24px\"viewBox=\"0 0 24 24\"\n",
              "     width=\"24px\">\n",
              "    <g>\n",
              "        <path d=\"M19 3H5c-1.1 0-2 .9-2 2v14c0 1.1.9 2 2 2h14c1.1 0 2-.9 2-2V5c0-1.1-.9-2-2-2zM9 17H7v-7h2v7zm4 0h-2V7h2v10zm4 0h-2v-4h2v4z\"/>\n",
              "    </g>\n",
              "</svg>\n",
              "      </button>\n",
              "    </div>\n",
              "\n",
              "<style>\n",
              "  .colab-df-quickchart {\n",
              "    background-color: #E8F0FE;\n",
              "    border: none;\n",
              "    border-radius: 50%;\n",
              "    cursor: pointer;\n",
              "    display: none;\n",
              "    fill: #1967D2;\n",
              "    height: 32px;\n",
              "    padding: 0 0 0 0;\n",
              "    width: 32px;\n",
              "  }\n",
              "\n",
              "  .colab-df-quickchart:hover {\n",
              "    background-color: #E2EBFA;\n",
              "    box-shadow: 0px 1px 2px rgba(60, 64, 67, 0.3), 0px 1px 3px 1px rgba(60, 64, 67, 0.15);\n",
              "    fill: #174EA6;\n",
              "  }\n",
              "\n",
              "  [theme=dark] .colab-df-quickchart {\n",
              "    background-color: #3B4455;\n",
              "    fill: #D2E3FC;\n",
              "  }\n",
              "\n",
              "  [theme=dark] .colab-df-quickchart:hover {\n",
              "    background-color: #434B5C;\n",
              "    box-shadow: 0px 1px 3px 1px rgba(0, 0, 0, 0.15);\n",
              "    filter: drop-shadow(0px 1px 2px rgba(0, 0, 0, 0.3));\n",
              "    fill: #FFFFFF;\n",
              "  }\n",
              "</style>\n",
              "\n",
              "    <script>\n",
              "      async function quickchart(key) {\n",
              "        const containerElement = document.querySelector('#' + key);\n",
              "        const charts = await google.colab.kernel.invokeFunction(\n",
              "            'suggestCharts', [key], {});\n",
              "      }\n",
              "    </script>\n",
              "\n",
              "      <script>\n",
              "\n",
              "function displayQuickchartButton(domScope) {\n",
              "  let quickchartButtonEl =\n",
              "    domScope.querySelector('#df-a1045800-3f78-40f0-b45e-32d8163a09dc button.colab-df-quickchart');\n",
              "  quickchartButtonEl.style.display =\n",
              "    google.colab.kernel.accessAllowed ? 'block' : 'none';\n",
              "}\n",
              "\n",
              "        displayQuickchartButton(document);\n",
              "      </script>\n",
              "      <style>\n",
              "    .colab-df-container {\n",
              "      display:flex;\n",
              "      flex-wrap:wrap;\n",
              "      gap: 12px;\n",
              "    }\n",
              "\n",
              "    .colab-df-convert {\n",
              "      background-color: #E8F0FE;\n",
              "      border: none;\n",
              "      border-radius: 50%;\n",
              "      cursor: pointer;\n",
              "      display: none;\n",
              "      fill: #1967D2;\n",
              "      height: 32px;\n",
              "      padding: 0 0 0 0;\n",
              "      width: 32px;\n",
              "    }\n",
              "\n",
              "    .colab-df-convert:hover {\n",
              "      background-color: #E2EBFA;\n",
              "      box-shadow: 0px 1px 2px rgba(60, 64, 67, 0.3), 0px 1px 3px 1px rgba(60, 64, 67, 0.15);\n",
              "      fill: #174EA6;\n",
              "    }\n",
              "\n",
              "    [theme=dark] .colab-df-convert {\n",
              "      background-color: #3B4455;\n",
              "      fill: #D2E3FC;\n",
              "    }\n",
              "\n",
              "    [theme=dark] .colab-df-convert:hover {\n",
              "      background-color: #434B5C;\n",
              "      box-shadow: 0px 1px 3px 1px rgba(0, 0, 0, 0.15);\n",
              "      filter: drop-shadow(0px 1px 2px rgba(0, 0, 0, 0.3));\n",
              "      fill: #FFFFFF;\n",
              "    }\n",
              "  </style>\n",
              "\n",
              "      <script>\n",
              "        const buttonEl =\n",
              "          document.querySelector('#df-0acd9c9a-4775-4f96-ba3e-1daed1e6525d button.colab-df-convert');\n",
              "        buttonEl.style.display =\n",
              "          google.colab.kernel.accessAllowed ? 'block' : 'none';\n",
              "\n",
              "        async function convertToInteractive(key) {\n",
              "          const element = document.querySelector('#df-0acd9c9a-4775-4f96-ba3e-1daed1e6525d');\n",
              "          const dataTable =\n",
              "            await google.colab.kernel.invokeFunction('convertToInteractive',\n",
              "                                                     [key], {});\n",
              "          if (!dataTable) return;\n",
              "\n",
              "          const docLinkHtml = 'Like what you see? Visit the ' +\n",
              "            '<a target=\"_blank\" href=https://colab.research.google.com/notebooks/data_table.ipynb>data table notebook</a>'\n",
              "            + ' to learn more about interactive tables.';\n",
              "          element.innerHTML = '';\n",
              "          dataTable['output_type'] = 'display_data';\n",
              "          await google.colab.output.renderOutput(dataTable, element);\n",
              "          const docLink = document.createElement('div');\n",
              "          docLink.innerHTML = docLinkHtml;\n",
              "          element.appendChild(docLink);\n",
              "        }\n",
              "      </script>\n",
              "    </div>\n",
              "  </div>\n"
            ]
          },
          "metadata": {},
          "execution_count": 20
        }
      ]
    },
    {
      "cell_type": "code",
      "source": [
        "data1.head(10)  # ดูหัวตาราง จากแถวบน 10 แถวแรก นับจาก 0-9"
      ],
      "metadata": {
        "id": "x2yBLVzVQZp0",
        "colab": {
          "base_uri": "https://localhost:8080/",
          "height": 581
        },
        "outputId": "13947a17-5481-4a3e-e2c5-036b07d52055"
      },
      "execution_count": 21,
      "outputs": [
        {
          "output_type": "execute_result",
          "data": {
            "text/plain": [
              "  Budget_resource  Issue_No  Fiscal_year  Department_code          Department  \\\n",
              "0       งบประจำปี         0           62         11000000    สำนักการระบายน้ำ   \n",
              "1       งบประจำปี         0           62         11000000    สำนักการระบายน้ำ   \n",
              "2       งบประจำปี         0           62         11000000    สำนักการระบายน้ำ   \n",
              "3       งบประจำปี         0           62         11000000    สำนักการระบายน้ำ   \n",
              "4       งบประจำปี         0           62         11000000    สำนักการระบายน้ำ   \n",
              "5       งบประจำปี         0           62         11000000    สำนักการระบายน้ำ   \n",
              "6       งบประจำปี         0           62         50130000  สำนักงานเขตมีนบุรี   \n",
              "7       งบประจำปี         0           62         50130000  สำนักงานเขตมีนบุรี   \n",
              "8       งบประจำปี         0           62         50150000  สำนักงานเขตหนองจอก   \n",
              "9       งบประจำปี         0           62         50150000  สำนักงานเขตหนองจอก   \n",
              "\n",
              "                                    Core_budget_code Expenditure_category  \\\n",
              "0  12-เงินสำรองจ่ายทั่วไป กรณีค่าใช้จ่ายต่างๆ เกี...              งบลงทุน   \n",
              "1  12-เงินสำรองจ่ายทั่วไป กรณีค่าใช้จ่ายต่างๆ เกี...              งบลงทุน   \n",
              "2  12-เงินสำรองจ่ายทั่วไป กรณีค่าใช้จ่ายต่างๆ เกี...              งบลงทุน   \n",
              "3  12-เงินสำรองจ่ายทั่วไป กรณีค่าใช้จ่ายต่างๆ เกี...              งบลงทุน   \n",
              "4  12-เงินสำรองจ่ายทั่วไป กรณีค่าใช้จ่ายต่างๆ เกี...              งบลงทุน   \n",
              "5  12-เงินสำรองจ่ายทั่วไป กรณีค่าใช้จ่ายต่างๆ เกี...              งบลงทุน   \n",
              "6  12-เงินสำรองจ่ายทั่วไป กรณีค่าใช้จ่ายต่างๆ เกี...              งบลงทุน   \n",
              "7  12-เงินสำรองจ่ายทั่วไป กรณีค่าใช้จ่ายต่างๆ เกี...              งบลงทุน   \n",
              "8               28-เงินสำรองค่าใช้จ่าย ในการพัฒนาเขต              งบลงทุน   \n",
              "9               28-เงินสำรองค่าใช้จ่าย ในการพัฒนาเขต              งบลงทุน   \n",
              "\n",
              "                                           Item_name  Approved_buget  \n",
              "0        ขุดลอกคลองบางกะปิจากคลองสามเสนถึงคลองแสนแสบ         1193000  \n",
              "1  ขุดลอกคลองทรงกระเทียมจากคลองลาดพร้าวถึงถนนโชคช...         1100000  \n",
              "2          ขุดลอกคลองเป้งจากคลองแสนแสบถึงซอยเจริญสุข         3075000  \n",
              "3  ขุดลอกคลองลำพังพวยจากถนนศรีบูรพาถึงสถานีสูบน้ำ...         6240000  \n",
              "4  ขุดลอกบึงรางเข้จากคลองพระยาราชมนตรีถึงถนนบางขุ...         2685000  \n",
              "5  ขุดลอกคลองราษฎร์สามัคคีจากคลองทวีวัฒนาถึงคลองม...         1207000  \n",
              "6  ขุดลอกลำรางโต๊ะรอด ตั้งแต่คลองสองต้นนุ่นถึงระย...          225400  \n",
              "7  ขุดลอกลำรางเลียบคลองบึงขวาง ตั้งแต่คลองบึงขวาง...          452500  \n",
              "8  ขุดลอกคลองลำแขก จากคลองลำปลาทิว \\nถึงคลองลำตาเ...          447000  \n",
              "9  ขุดลอกคลองอู่ตะเภา จากคลองลำนกแขวก\\nถึงคลองลำม...          497000  "
            ],
            "text/html": [
              "\n",
              "\n",
              "  <div id=\"df-f09ad939-4eac-426c-bfaa-af27a929f184\">\n",
              "    <div class=\"colab-df-container\">\n",
              "      <div>\n",
              "<style scoped>\n",
              "    .dataframe tbody tr th:only-of-type {\n",
              "        vertical-align: middle;\n",
              "    }\n",
              "\n",
              "    .dataframe tbody tr th {\n",
              "        vertical-align: top;\n",
              "    }\n",
              "\n",
              "    .dataframe thead th {\n",
              "        text-align: right;\n",
              "    }\n",
              "</style>\n",
              "<table border=\"1\" class=\"dataframe\">\n",
              "  <thead>\n",
              "    <tr style=\"text-align: right;\">\n",
              "      <th></th>\n",
              "      <th>Budget_resource</th>\n",
              "      <th>Issue_No</th>\n",
              "      <th>Fiscal_year</th>\n",
              "      <th>Department_code</th>\n",
              "      <th>Department</th>\n",
              "      <th>Core_budget_code</th>\n",
              "      <th>Expenditure_category</th>\n",
              "      <th>Item_name</th>\n",
              "      <th>Approved_buget</th>\n",
              "    </tr>\n",
              "  </thead>\n",
              "  <tbody>\n",
              "    <tr>\n",
              "      <th>0</th>\n",
              "      <td>งบประจำปี</td>\n",
              "      <td>0</td>\n",
              "      <td>62</td>\n",
              "      <td>11000000</td>\n",
              "      <td>สำนักการระบายน้ำ</td>\n",
              "      <td>12-เงินสำรองจ่ายทั่วไป กรณีค่าใช้จ่ายต่างๆ เกี...</td>\n",
              "      <td>งบลงทุน</td>\n",
              "      <td>ขุดลอกคลองบางกะปิจากคลองสามเสนถึงคลองแสนแสบ</td>\n",
              "      <td>1193000</td>\n",
              "    </tr>\n",
              "    <tr>\n",
              "      <th>1</th>\n",
              "      <td>งบประจำปี</td>\n",
              "      <td>0</td>\n",
              "      <td>62</td>\n",
              "      <td>11000000</td>\n",
              "      <td>สำนักการระบายน้ำ</td>\n",
              "      <td>12-เงินสำรองจ่ายทั่วไป กรณีค่าใช้จ่ายต่างๆ เกี...</td>\n",
              "      <td>งบลงทุน</td>\n",
              "      <td>ขุดลอกคลองทรงกระเทียมจากคลองลาดพร้าวถึงถนนโชคช...</td>\n",
              "      <td>1100000</td>\n",
              "    </tr>\n",
              "    <tr>\n",
              "      <th>2</th>\n",
              "      <td>งบประจำปี</td>\n",
              "      <td>0</td>\n",
              "      <td>62</td>\n",
              "      <td>11000000</td>\n",
              "      <td>สำนักการระบายน้ำ</td>\n",
              "      <td>12-เงินสำรองจ่ายทั่วไป กรณีค่าใช้จ่ายต่างๆ เกี...</td>\n",
              "      <td>งบลงทุน</td>\n",
              "      <td>ขุดลอกคลองเป้งจากคลองแสนแสบถึงซอยเจริญสุข</td>\n",
              "      <td>3075000</td>\n",
              "    </tr>\n",
              "    <tr>\n",
              "      <th>3</th>\n",
              "      <td>งบประจำปี</td>\n",
              "      <td>0</td>\n",
              "      <td>62</td>\n",
              "      <td>11000000</td>\n",
              "      <td>สำนักการระบายน้ำ</td>\n",
              "      <td>12-เงินสำรองจ่ายทั่วไป กรณีค่าใช้จ่ายต่างๆ เกี...</td>\n",
              "      <td>งบลงทุน</td>\n",
              "      <td>ขุดลอกคลองลำพังพวยจากถนนศรีบูรพาถึงสถานีสูบน้ำ...</td>\n",
              "      <td>6240000</td>\n",
              "    </tr>\n",
              "    <tr>\n",
              "      <th>4</th>\n",
              "      <td>งบประจำปี</td>\n",
              "      <td>0</td>\n",
              "      <td>62</td>\n",
              "      <td>11000000</td>\n",
              "      <td>สำนักการระบายน้ำ</td>\n",
              "      <td>12-เงินสำรองจ่ายทั่วไป กรณีค่าใช้จ่ายต่างๆ เกี...</td>\n",
              "      <td>งบลงทุน</td>\n",
              "      <td>ขุดลอกบึงรางเข้จากคลองพระยาราชมนตรีถึงถนนบางขุ...</td>\n",
              "      <td>2685000</td>\n",
              "    </tr>\n",
              "    <tr>\n",
              "      <th>5</th>\n",
              "      <td>งบประจำปี</td>\n",
              "      <td>0</td>\n",
              "      <td>62</td>\n",
              "      <td>11000000</td>\n",
              "      <td>สำนักการระบายน้ำ</td>\n",
              "      <td>12-เงินสำรองจ่ายทั่วไป กรณีค่าใช้จ่ายต่างๆ เกี...</td>\n",
              "      <td>งบลงทุน</td>\n",
              "      <td>ขุดลอกคลองราษฎร์สามัคคีจากคลองทวีวัฒนาถึงคลองม...</td>\n",
              "      <td>1207000</td>\n",
              "    </tr>\n",
              "    <tr>\n",
              "      <th>6</th>\n",
              "      <td>งบประจำปี</td>\n",
              "      <td>0</td>\n",
              "      <td>62</td>\n",
              "      <td>50130000</td>\n",
              "      <td>สำนักงานเขตมีนบุรี</td>\n",
              "      <td>12-เงินสำรองจ่ายทั่วไป กรณีค่าใช้จ่ายต่างๆ เกี...</td>\n",
              "      <td>งบลงทุน</td>\n",
              "      <td>ขุดลอกลำรางโต๊ะรอด ตั้งแต่คลองสองต้นนุ่นถึงระย...</td>\n",
              "      <td>225400</td>\n",
              "    </tr>\n",
              "    <tr>\n",
              "      <th>7</th>\n",
              "      <td>งบประจำปี</td>\n",
              "      <td>0</td>\n",
              "      <td>62</td>\n",
              "      <td>50130000</td>\n",
              "      <td>สำนักงานเขตมีนบุรี</td>\n",
              "      <td>12-เงินสำรองจ่ายทั่วไป กรณีค่าใช้จ่ายต่างๆ เกี...</td>\n",
              "      <td>งบลงทุน</td>\n",
              "      <td>ขุดลอกลำรางเลียบคลองบึงขวาง ตั้งแต่คลองบึงขวาง...</td>\n",
              "      <td>452500</td>\n",
              "    </tr>\n",
              "    <tr>\n",
              "      <th>8</th>\n",
              "      <td>งบประจำปี</td>\n",
              "      <td>0</td>\n",
              "      <td>62</td>\n",
              "      <td>50150000</td>\n",
              "      <td>สำนักงานเขตหนองจอก</td>\n",
              "      <td>28-เงินสำรองค่าใช้จ่าย ในการพัฒนาเขต</td>\n",
              "      <td>งบลงทุน</td>\n",
              "      <td>ขุดลอกคลองลำแขก จากคลองลำปลาทิว \\nถึงคลองลำตาเ...</td>\n",
              "      <td>447000</td>\n",
              "    </tr>\n",
              "    <tr>\n",
              "      <th>9</th>\n",
              "      <td>งบประจำปี</td>\n",
              "      <td>0</td>\n",
              "      <td>62</td>\n",
              "      <td>50150000</td>\n",
              "      <td>สำนักงานเขตหนองจอก</td>\n",
              "      <td>28-เงินสำรองค่าใช้จ่าย ในการพัฒนาเขต</td>\n",
              "      <td>งบลงทุน</td>\n",
              "      <td>ขุดลอกคลองอู่ตะเภา จากคลองลำนกแขวก\\nถึงคลองลำม...</td>\n",
              "      <td>497000</td>\n",
              "    </tr>\n",
              "  </tbody>\n",
              "</table>\n",
              "</div>\n",
              "      <button class=\"colab-df-convert\" onclick=\"convertToInteractive('df-f09ad939-4eac-426c-bfaa-af27a929f184')\"\n",
              "              title=\"Convert this dataframe to an interactive table.\"\n",
              "              style=\"display:none;\">\n",
              "\n",
              "  <svg xmlns=\"http://www.w3.org/2000/svg\" height=\"24px\"viewBox=\"0 0 24 24\"\n",
              "       width=\"24px\">\n",
              "    <path d=\"M0 0h24v24H0V0z\" fill=\"none\"/>\n",
              "    <path d=\"M18.56 5.44l.94 2.06.94-2.06 2.06-.94-2.06-.94-.94-2.06-.94 2.06-2.06.94zm-11 1L8.5 8.5l.94-2.06 2.06-.94-2.06-.94L8.5 2.5l-.94 2.06-2.06.94zm10 10l.94 2.06.94-2.06 2.06-.94-2.06-.94-.94-2.06-.94 2.06-2.06.94z\"/><path d=\"M17.41 7.96l-1.37-1.37c-.4-.4-.92-.59-1.43-.59-.52 0-1.04.2-1.43.59L10.3 9.45l-7.72 7.72c-.78.78-.78 2.05 0 2.83L4 21.41c.39.39.9.59 1.41.59.51 0 1.02-.2 1.41-.59l7.78-7.78 2.81-2.81c.8-.78.8-2.07 0-2.86zM5.41 20L4 18.59l7.72-7.72 1.47 1.35L5.41 20z\"/>\n",
              "  </svg>\n",
              "      </button>\n",
              "\n",
              "\n",
              "\n",
              "    <div id=\"df-4ac5f074-a836-4e44-b3b1-e52c9ec6d169\">\n",
              "      <button class=\"colab-df-quickchart\" onclick=\"quickchart('df-4ac5f074-a836-4e44-b3b1-e52c9ec6d169')\"\n",
              "              title=\"Suggest charts.\"\n",
              "              style=\"display:none;\">\n",
              "\n",
              "<svg xmlns=\"http://www.w3.org/2000/svg\" height=\"24px\"viewBox=\"0 0 24 24\"\n",
              "     width=\"24px\">\n",
              "    <g>\n",
              "        <path d=\"M19 3H5c-1.1 0-2 .9-2 2v14c0 1.1.9 2 2 2h14c1.1 0 2-.9 2-2V5c0-1.1-.9-2-2-2zM9 17H7v-7h2v7zm4 0h-2V7h2v10zm4 0h-2v-4h2v4z\"/>\n",
              "    </g>\n",
              "</svg>\n",
              "      </button>\n",
              "    </div>\n",
              "\n",
              "<style>\n",
              "  .colab-df-quickchart {\n",
              "    background-color: #E8F0FE;\n",
              "    border: none;\n",
              "    border-radius: 50%;\n",
              "    cursor: pointer;\n",
              "    display: none;\n",
              "    fill: #1967D2;\n",
              "    height: 32px;\n",
              "    padding: 0 0 0 0;\n",
              "    width: 32px;\n",
              "  }\n",
              "\n",
              "  .colab-df-quickchart:hover {\n",
              "    background-color: #E2EBFA;\n",
              "    box-shadow: 0px 1px 2px rgba(60, 64, 67, 0.3), 0px 1px 3px 1px rgba(60, 64, 67, 0.15);\n",
              "    fill: #174EA6;\n",
              "  }\n",
              "\n",
              "  [theme=dark] .colab-df-quickchart {\n",
              "    background-color: #3B4455;\n",
              "    fill: #D2E3FC;\n",
              "  }\n",
              "\n",
              "  [theme=dark] .colab-df-quickchart:hover {\n",
              "    background-color: #434B5C;\n",
              "    box-shadow: 0px 1px 3px 1px rgba(0, 0, 0, 0.15);\n",
              "    filter: drop-shadow(0px 1px 2px rgba(0, 0, 0, 0.3));\n",
              "    fill: #FFFFFF;\n",
              "  }\n",
              "</style>\n",
              "\n",
              "    <script>\n",
              "      async function quickchart(key) {\n",
              "        const containerElement = document.querySelector('#' + key);\n",
              "        const charts = await google.colab.kernel.invokeFunction(\n",
              "            'suggestCharts', [key], {});\n",
              "      }\n",
              "    </script>\n",
              "\n",
              "      <script>\n",
              "\n",
              "function displayQuickchartButton(domScope) {\n",
              "  let quickchartButtonEl =\n",
              "    domScope.querySelector('#df-4ac5f074-a836-4e44-b3b1-e52c9ec6d169 button.colab-df-quickchart');\n",
              "  quickchartButtonEl.style.display =\n",
              "    google.colab.kernel.accessAllowed ? 'block' : 'none';\n",
              "}\n",
              "\n",
              "        displayQuickchartButton(document);\n",
              "      </script>\n",
              "      <style>\n",
              "    .colab-df-container {\n",
              "      display:flex;\n",
              "      flex-wrap:wrap;\n",
              "      gap: 12px;\n",
              "    }\n",
              "\n",
              "    .colab-df-convert {\n",
              "      background-color: #E8F0FE;\n",
              "      border: none;\n",
              "      border-radius: 50%;\n",
              "      cursor: pointer;\n",
              "      display: none;\n",
              "      fill: #1967D2;\n",
              "      height: 32px;\n",
              "      padding: 0 0 0 0;\n",
              "      width: 32px;\n",
              "    }\n",
              "\n",
              "    .colab-df-convert:hover {\n",
              "      background-color: #E2EBFA;\n",
              "      box-shadow: 0px 1px 2px rgba(60, 64, 67, 0.3), 0px 1px 3px 1px rgba(60, 64, 67, 0.15);\n",
              "      fill: #174EA6;\n",
              "    }\n",
              "\n",
              "    [theme=dark] .colab-df-convert {\n",
              "      background-color: #3B4455;\n",
              "      fill: #D2E3FC;\n",
              "    }\n",
              "\n",
              "    [theme=dark] .colab-df-convert:hover {\n",
              "      background-color: #434B5C;\n",
              "      box-shadow: 0px 1px 3px 1px rgba(0, 0, 0, 0.15);\n",
              "      filter: drop-shadow(0px 1px 2px rgba(0, 0, 0, 0.3));\n",
              "      fill: #FFFFFF;\n",
              "    }\n",
              "  </style>\n",
              "\n",
              "      <script>\n",
              "        const buttonEl =\n",
              "          document.querySelector('#df-f09ad939-4eac-426c-bfaa-af27a929f184 button.colab-df-convert');\n",
              "        buttonEl.style.display =\n",
              "          google.colab.kernel.accessAllowed ? 'block' : 'none';\n",
              "\n",
              "        async function convertToInteractive(key) {\n",
              "          const element = document.querySelector('#df-f09ad939-4eac-426c-bfaa-af27a929f184');\n",
              "          const dataTable =\n",
              "            await google.colab.kernel.invokeFunction('convertToInteractive',\n",
              "                                                     [key], {});\n",
              "          if (!dataTable) return;\n",
              "\n",
              "          const docLinkHtml = 'Like what you see? Visit the ' +\n",
              "            '<a target=\"_blank\" href=https://colab.research.google.com/notebooks/data_table.ipynb>data table notebook</a>'\n",
              "            + ' to learn more about interactive tables.';\n",
              "          element.innerHTML = '';\n",
              "          dataTable['output_type'] = 'display_data';\n",
              "          await google.colab.output.renderOutput(dataTable, element);\n",
              "          const docLink = document.createElement('div');\n",
              "          docLink.innerHTML = docLinkHtml;\n",
              "          element.appendChild(docLink);\n",
              "        }\n",
              "      </script>\n",
              "    </div>\n",
              "  </div>\n"
            ]
          },
          "metadata": {},
          "execution_count": 21
        }
      ]
    },
    {
      "cell_type": "code",
      "source": [
        "data1.tail(10) # ดูท้ายตาราง จากข้างล่าง"
      ],
      "metadata": {
        "id": "ekG57u89QWrH",
        "colab": {
          "base_uri": "https://localhost:8080/",
          "height": 581
        },
        "outputId": "ce5f801d-7125-4573-d542-564047e58c49"
      },
      "execution_count": 22,
      "outputs": [
        {
          "output_type": "execute_result",
          "data": {
            "text/plain": [
              "    Budget_resource  Issue_No  Fiscal_year  Department_code  \\\n",
              "682     งบเพิ่มเติม         1           66         50460000   \n",
              "683     งบเพิ่มเติม         1           66         50460000   \n",
              "684     งบเพิ่มเติม         1           66         50460000   \n",
              "685     งบเพิ่มเติม         1           66         50460000   \n",
              "686     งบเพิ่มเติม         1           66         50460000   \n",
              "687     งบเพิ่มเติม         1           66         50460000   \n",
              "688     งบเพิ่มเติม         1           66         50460000   \n",
              "689     งบเพิ่มเติม         1           66         50460000   \n",
              "690     งบเพิ่มเติม         1           66         50460000   \n",
              "691     งบเพิ่มเติม         1           66         50500000   \n",
              "\n",
              "               Department Core_budget_code Expenditure_category  \\\n",
              "682  สำนักงานเขตคลองสามวา              NaN              งบลงทุน   \n",
              "683  สำนักงานเขตคลองสามวา              NaN              งบลงทุน   \n",
              "684  สำนักงานเขตคลองสามวา              NaN              งบลงทุน   \n",
              "685  สำนักงานเขตคลองสามวา              NaN              งบลงทุน   \n",
              "686  สำนักงานเขตคลองสามวา              NaN              งบลงทุน   \n",
              "687  สำนักงานเขตคลองสามวา              NaN              งบลงทุน   \n",
              "688  สำนักงานเขตคลองสามวา              NaN              งบลงทุน   \n",
              "689  สำนักงานเขตคลองสามวา              NaN              งบลงทุน   \n",
              "690  สำนักงานเขตคลองสามวา              NaN              งบลงทุน   \n",
              "691     สำนักงานเขตบางบอน              NaN              งบลงทุน   \n",
              "\n",
              "                                     Item_name  Approved_buget  \n",
              "682                      ขุดลอกลำรางไทยเอราวัณ         3494000  \n",
              "683                     ขุดลอกคลองหนึ่งตะวันตก         4330000  \n",
              "684                       ขุดลอกคลองสองตะวันตก         9832000  \n",
              "685                           ขุดลอกคลองกีบหมู         2925000  \n",
              "686                         ขุดลอกคลองลำกะโหลก         3875000  \n",
              "687                         ขุดลอกคลองผักกะเฉด         3686000  \n",
              "688                    ขุดลอกคลองบึงทรายกองดิน         2575000  \n",
              "689                          ขุดลอกลำรางซาฟารี          689000  \n",
              "690                        ขุดลอกลำรางตาจันทร์          464000  \n",
              "691  ขุดลอกคลองบางบอนต่อจากของเดิมถึงคลองนายผล         7578000  "
            ],
            "text/html": [
              "\n",
              "\n",
              "  <div id=\"df-29aee32f-aceb-4b2b-b5c6-fc4987ccaf44\">\n",
              "    <div class=\"colab-df-container\">\n",
              "      <div>\n",
              "<style scoped>\n",
              "    .dataframe tbody tr th:only-of-type {\n",
              "        vertical-align: middle;\n",
              "    }\n",
              "\n",
              "    .dataframe tbody tr th {\n",
              "        vertical-align: top;\n",
              "    }\n",
              "\n",
              "    .dataframe thead th {\n",
              "        text-align: right;\n",
              "    }\n",
              "</style>\n",
              "<table border=\"1\" class=\"dataframe\">\n",
              "  <thead>\n",
              "    <tr style=\"text-align: right;\">\n",
              "      <th></th>\n",
              "      <th>Budget_resource</th>\n",
              "      <th>Issue_No</th>\n",
              "      <th>Fiscal_year</th>\n",
              "      <th>Department_code</th>\n",
              "      <th>Department</th>\n",
              "      <th>Core_budget_code</th>\n",
              "      <th>Expenditure_category</th>\n",
              "      <th>Item_name</th>\n",
              "      <th>Approved_buget</th>\n",
              "    </tr>\n",
              "  </thead>\n",
              "  <tbody>\n",
              "    <tr>\n",
              "      <th>682</th>\n",
              "      <td>งบเพิ่มเติม</td>\n",
              "      <td>1</td>\n",
              "      <td>66</td>\n",
              "      <td>50460000</td>\n",
              "      <td>สำนักงานเขตคลองสามวา</td>\n",
              "      <td>NaN</td>\n",
              "      <td>งบลงทุน</td>\n",
              "      <td>ขุดลอกลำรางไทยเอราวัณ</td>\n",
              "      <td>3494000</td>\n",
              "    </tr>\n",
              "    <tr>\n",
              "      <th>683</th>\n",
              "      <td>งบเพิ่มเติม</td>\n",
              "      <td>1</td>\n",
              "      <td>66</td>\n",
              "      <td>50460000</td>\n",
              "      <td>สำนักงานเขตคลองสามวา</td>\n",
              "      <td>NaN</td>\n",
              "      <td>งบลงทุน</td>\n",
              "      <td>ขุดลอกคลองหนึ่งตะวันตก</td>\n",
              "      <td>4330000</td>\n",
              "    </tr>\n",
              "    <tr>\n",
              "      <th>684</th>\n",
              "      <td>งบเพิ่มเติม</td>\n",
              "      <td>1</td>\n",
              "      <td>66</td>\n",
              "      <td>50460000</td>\n",
              "      <td>สำนักงานเขตคลองสามวา</td>\n",
              "      <td>NaN</td>\n",
              "      <td>งบลงทุน</td>\n",
              "      <td>ขุดลอกคลองสองตะวันตก</td>\n",
              "      <td>9832000</td>\n",
              "    </tr>\n",
              "    <tr>\n",
              "      <th>685</th>\n",
              "      <td>งบเพิ่มเติม</td>\n",
              "      <td>1</td>\n",
              "      <td>66</td>\n",
              "      <td>50460000</td>\n",
              "      <td>สำนักงานเขตคลองสามวา</td>\n",
              "      <td>NaN</td>\n",
              "      <td>งบลงทุน</td>\n",
              "      <td>ขุดลอกคลองกีบหมู</td>\n",
              "      <td>2925000</td>\n",
              "    </tr>\n",
              "    <tr>\n",
              "      <th>686</th>\n",
              "      <td>งบเพิ่มเติม</td>\n",
              "      <td>1</td>\n",
              "      <td>66</td>\n",
              "      <td>50460000</td>\n",
              "      <td>สำนักงานเขตคลองสามวา</td>\n",
              "      <td>NaN</td>\n",
              "      <td>งบลงทุน</td>\n",
              "      <td>ขุดลอกคลองลำกะโหลก</td>\n",
              "      <td>3875000</td>\n",
              "    </tr>\n",
              "    <tr>\n",
              "      <th>687</th>\n",
              "      <td>งบเพิ่มเติม</td>\n",
              "      <td>1</td>\n",
              "      <td>66</td>\n",
              "      <td>50460000</td>\n",
              "      <td>สำนักงานเขตคลองสามวา</td>\n",
              "      <td>NaN</td>\n",
              "      <td>งบลงทุน</td>\n",
              "      <td>ขุดลอกคลองผักกะเฉด</td>\n",
              "      <td>3686000</td>\n",
              "    </tr>\n",
              "    <tr>\n",
              "      <th>688</th>\n",
              "      <td>งบเพิ่มเติม</td>\n",
              "      <td>1</td>\n",
              "      <td>66</td>\n",
              "      <td>50460000</td>\n",
              "      <td>สำนักงานเขตคลองสามวา</td>\n",
              "      <td>NaN</td>\n",
              "      <td>งบลงทุน</td>\n",
              "      <td>ขุดลอกคลองบึงทรายกองดิน</td>\n",
              "      <td>2575000</td>\n",
              "    </tr>\n",
              "    <tr>\n",
              "      <th>689</th>\n",
              "      <td>งบเพิ่มเติม</td>\n",
              "      <td>1</td>\n",
              "      <td>66</td>\n",
              "      <td>50460000</td>\n",
              "      <td>สำนักงานเขตคลองสามวา</td>\n",
              "      <td>NaN</td>\n",
              "      <td>งบลงทุน</td>\n",
              "      <td>ขุดลอกลำรางซาฟารี</td>\n",
              "      <td>689000</td>\n",
              "    </tr>\n",
              "    <tr>\n",
              "      <th>690</th>\n",
              "      <td>งบเพิ่มเติม</td>\n",
              "      <td>1</td>\n",
              "      <td>66</td>\n",
              "      <td>50460000</td>\n",
              "      <td>สำนักงานเขตคลองสามวา</td>\n",
              "      <td>NaN</td>\n",
              "      <td>งบลงทุน</td>\n",
              "      <td>ขุดลอกลำรางตาจันทร์</td>\n",
              "      <td>464000</td>\n",
              "    </tr>\n",
              "    <tr>\n",
              "      <th>691</th>\n",
              "      <td>งบเพิ่มเติม</td>\n",
              "      <td>1</td>\n",
              "      <td>66</td>\n",
              "      <td>50500000</td>\n",
              "      <td>สำนักงานเขตบางบอน</td>\n",
              "      <td>NaN</td>\n",
              "      <td>งบลงทุน</td>\n",
              "      <td>ขุดลอกคลองบางบอนต่อจากของเดิมถึงคลองนายผล</td>\n",
              "      <td>7578000</td>\n",
              "    </tr>\n",
              "  </tbody>\n",
              "</table>\n",
              "</div>\n",
              "      <button class=\"colab-df-convert\" onclick=\"convertToInteractive('df-29aee32f-aceb-4b2b-b5c6-fc4987ccaf44')\"\n",
              "              title=\"Convert this dataframe to an interactive table.\"\n",
              "              style=\"display:none;\">\n",
              "\n",
              "  <svg xmlns=\"http://www.w3.org/2000/svg\" height=\"24px\"viewBox=\"0 0 24 24\"\n",
              "       width=\"24px\">\n",
              "    <path d=\"M0 0h24v24H0V0z\" fill=\"none\"/>\n",
              "    <path d=\"M18.56 5.44l.94 2.06.94-2.06 2.06-.94-2.06-.94-.94-2.06-.94 2.06-2.06.94zm-11 1L8.5 8.5l.94-2.06 2.06-.94-2.06-.94L8.5 2.5l-.94 2.06-2.06.94zm10 10l.94 2.06.94-2.06 2.06-.94-2.06-.94-.94-2.06-.94 2.06-2.06.94z\"/><path d=\"M17.41 7.96l-1.37-1.37c-.4-.4-.92-.59-1.43-.59-.52 0-1.04.2-1.43.59L10.3 9.45l-7.72 7.72c-.78.78-.78 2.05 0 2.83L4 21.41c.39.39.9.59 1.41.59.51 0 1.02-.2 1.41-.59l7.78-7.78 2.81-2.81c.8-.78.8-2.07 0-2.86zM5.41 20L4 18.59l7.72-7.72 1.47 1.35L5.41 20z\"/>\n",
              "  </svg>\n",
              "      </button>\n",
              "\n",
              "\n",
              "\n",
              "    <div id=\"df-bfa0ef45-bfba-4631-97ad-9e5df735d6dc\">\n",
              "      <button class=\"colab-df-quickchart\" onclick=\"quickchart('df-bfa0ef45-bfba-4631-97ad-9e5df735d6dc')\"\n",
              "              title=\"Suggest charts.\"\n",
              "              style=\"display:none;\">\n",
              "\n",
              "<svg xmlns=\"http://www.w3.org/2000/svg\" height=\"24px\"viewBox=\"0 0 24 24\"\n",
              "     width=\"24px\">\n",
              "    <g>\n",
              "        <path d=\"M19 3H5c-1.1 0-2 .9-2 2v14c0 1.1.9 2 2 2h14c1.1 0 2-.9 2-2V5c0-1.1-.9-2-2-2zM9 17H7v-7h2v7zm4 0h-2V7h2v10zm4 0h-2v-4h2v4z\"/>\n",
              "    </g>\n",
              "</svg>\n",
              "      </button>\n",
              "    </div>\n",
              "\n",
              "<style>\n",
              "  .colab-df-quickchart {\n",
              "    background-color: #E8F0FE;\n",
              "    border: none;\n",
              "    border-radius: 50%;\n",
              "    cursor: pointer;\n",
              "    display: none;\n",
              "    fill: #1967D2;\n",
              "    height: 32px;\n",
              "    padding: 0 0 0 0;\n",
              "    width: 32px;\n",
              "  }\n",
              "\n",
              "  .colab-df-quickchart:hover {\n",
              "    background-color: #E2EBFA;\n",
              "    box-shadow: 0px 1px 2px rgba(60, 64, 67, 0.3), 0px 1px 3px 1px rgba(60, 64, 67, 0.15);\n",
              "    fill: #174EA6;\n",
              "  }\n",
              "\n",
              "  [theme=dark] .colab-df-quickchart {\n",
              "    background-color: #3B4455;\n",
              "    fill: #D2E3FC;\n",
              "  }\n",
              "\n",
              "  [theme=dark] .colab-df-quickchart:hover {\n",
              "    background-color: #434B5C;\n",
              "    box-shadow: 0px 1px 3px 1px rgba(0, 0, 0, 0.15);\n",
              "    filter: drop-shadow(0px 1px 2px rgba(0, 0, 0, 0.3));\n",
              "    fill: #FFFFFF;\n",
              "  }\n",
              "</style>\n",
              "\n",
              "    <script>\n",
              "      async function quickchart(key) {\n",
              "        const containerElement = document.querySelector('#' + key);\n",
              "        const charts = await google.colab.kernel.invokeFunction(\n",
              "            'suggestCharts', [key], {});\n",
              "      }\n",
              "    </script>\n",
              "\n",
              "      <script>\n",
              "\n",
              "function displayQuickchartButton(domScope) {\n",
              "  let quickchartButtonEl =\n",
              "    domScope.querySelector('#df-bfa0ef45-bfba-4631-97ad-9e5df735d6dc button.colab-df-quickchart');\n",
              "  quickchartButtonEl.style.display =\n",
              "    google.colab.kernel.accessAllowed ? 'block' : 'none';\n",
              "}\n",
              "\n",
              "        displayQuickchartButton(document);\n",
              "      </script>\n",
              "      <style>\n",
              "    .colab-df-container {\n",
              "      display:flex;\n",
              "      flex-wrap:wrap;\n",
              "      gap: 12px;\n",
              "    }\n",
              "\n",
              "    .colab-df-convert {\n",
              "      background-color: #E8F0FE;\n",
              "      border: none;\n",
              "      border-radius: 50%;\n",
              "      cursor: pointer;\n",
              "      display: none;\n",
              "      fill: #1967D2;\n",
              "      height: 32px;\n",
              "      padding: 0 0 0 0;\n",
              "      width: 32px;\n",
              "    }\n",
              "\n",
              "    .colab-df-convert:hover {\n",
              "      background-color: #E2EBFA;\n",
              "      box-shadow: 0px 1px 2px rgba(60, 64, 67, 0.3), 0px 1px 3px 1px rgba(60, 64, 67, 0.15);\n",
              "      fill: #174EA6;\n",
              "    }\n",
              "\n",
              "    [theme=dark] .colab-df-convert {\n",
              "      background-color: #3B4455;\n",
              "      fill: #D2E3FC;\n",
              "    }\n",
              "\n",
              "    [theme=dark] .colab-df-convert:hover {\n",
              "      background-color: #434B5C;\n",
              "      box-shadow: 0px 1px 3px 1px rgba(0, 0, 0, 0.15);\n",
              "      filter: drop-shadow(0px 1px 2px rgba(0, 0, 0, 0.3));\n",
              "      fill: #FFFFFF;\n",
              "    }\n",
              "  </style>\n",
              "\n",
              "      <script>\n",
              "        const buttonEl =\n",
              "          document.querySelector('#df-29aee32f-aceb-4b2b-b5c6-fc4987ccaf44 button.colab-df-convert');\n",
              "        buttonEl.style.display =\n",
              "          google.colab.kernel.accessAllowed ? 'block' : 'none';\n",
              "\n",
              "        async function convertToInteractive(key) {\n",
              "          const element = document.querySelector('#df-29aee32f-aceb-4b2b-b5c6-fc4987ccaf44');\n",
              "          const dataTable =\n",
              "            await google.colab.kernel.invokeFunction('convertToInteractive',\n",
              "                                                     [key], {});\n",
              "          if (!dataTable) return;\n",
              "\n",
              "          const docLinkHtml = 'Like what you see? Visit the ' +\n",
              "            '<a target=\"_blank\" href=https://colab.research.google.com/notebooks/data_table.ipynb>data table notebook</a>'\n",
              "            + ' to learn more about interactive tables.';\n",
              "          element.innerHTML = '';\n",
              "          dataTable['output_type'] = 'display_data';\n",
              "          await google.colab.output.renderOutput(dataTable, element);\n",
              "          const docLink = document.createElement('div');\n",
              "          docLink.innerHTML = docLinkHtml;\n",
              "          element.appendChild(docLink);\n",
              "        }\n",
              "      </script>\n",
              "    </div>\n",
              "  </div>\n"
            ]
          },
          "metadata": {},
          "execution_count": 22
        }
      ]
    },
    {
      "cell_type": "code",
      "source": [
        "data1.shape # ดูขนาด กี่เเถวกี่หลัก"
      ],
      "metadata": {
        "id": "QQMkd0xvQhvJ",
        "colab": {
          "base_uri": "https://localhost:8080/"
        },
        "outputId": "9a42446e-d2f7-492e-df76-c6bfbc167f3b"
      },
      "execution_count": 23,
      "outputs": [
        {
          "output_type": "execute_result",
          "data": {
            "text/plain": [
              "(692, 9)"
            ]
          },
          "metadata": {},
          "execution_count": 23
        }
      ]
    },
    {
      "cell_type": "code",
      "source": [
        "data1.describe()"
      ],
      "metadata": {
        "colab": {
          "base_uri": "https://localhost:8080/",
          "height": 300
        },
        "id": "nTnEhgEnTMSX",
        "outputId": "f672ec5d-6fe5-49ef-9d66-e744fdc772e4"
      },
      "execution_count": 24,
      "outputs": [
        {
          "output_type": "execute_result",
          "data": {
            "text/plain": [
              "         Issue_No  Fiscal_year  Department_code  Approved_buget\n",
              "count  692.000000   692.000000     6.920000e+02    6.920000e+02\n",
              "mean     0.333815    64.543353     4.534202e+07    1.482811e+06\n",
              "std      0.474972     1.476149     1.303279e+07    2.464625e+06\n",
              "min      0.000000    62.000000     1.100000e+07    0.000000e+00\n",
              "25%      0.000000    63.000000     5.013000e+07    4.100000e+05\n",
              "50%      0.000000    65.000000     5.023000e+07    5.980000e+05\n",
              "75%      1.000000    66.000000     5.036000e+07    1.628250e+06\n",
              "max      2.000000    66.000000     5.050000e+07    2.850000e+07"
            ],
            "text/html": [
              "\n",
              "\n",
              "  <div id=\"df-c0ebc951-6c79-427e-acb2-df4176d8fafe\">\n",
              "    <div class=\"colab-df-container\">\n",
              "      <div>\n",
              "<style scoped>\n",
              "    .dataframe tbody tr th:only-of-type {\n",
              "        vertical-align: middle;\n",
              "    }\n",
              "\n",
              "    .dataframe tbody tr th {\n",
              "        vertical-align: top;\n",
              "    }\n",
              "\n",
              "    .dataframe thead th {\n",
              "        text-align: right;\n",
              "    }\n",
              "</style>\n",
              "<table border=\"1\" class=\"dataframe\">\n",
              "  <thead>\n",
              "    <tr style=\"text-align: right;\">\n",
              "      <th></th>\n",
              "      <th>Issue_No</th>\n",
              "      <th>Fiscal_year</th>\n",
              "      <th>Department_code</th>\n",
              "      <th>Approved_buget</th>\n",
              "    </tr>\n",
              "  </thead>\n",
              "  <tbody>\n",
              "    <tr>\n",
              "      <th>count</th>\n",
              "      <td>692.000000</td>\n",
              "      <td>692.000000</td>\n",
              "      <td>6.920000e+02</td>\n",
              "      <td>6.920000e+02</td>\n",
              "    </tr>\n",
              "    <tr>\n",
              "      <th>mean</th>\n",
              "      <td>0.333815</td>\n",
              "      <td>64.543353</td>\n",
              "      <td>4.534202e+07</td>\n",
              "      <td>1.482811e+06</td>\n",
              "    </tr>\n",
              "    <tr>\n",
              "      <th>std</th>\n",
              "      <td>0.474972</td>\n",
              "      <td>1.476149</td>\n",
              "      <td>1.303279e+07</td>\n",
              "      <td>2.464625e+06</td>\n",
              "    </tr>\n",
              "    <tr>\n",
              "      <th>min</th>\n",
              "      <td>0.000000</td>\n",
              "      <td>62.000000</td>\n",
              "      <td>1.100000e+07</td>\n",
              "      <td>0.000000e+00</td>\n",
              "    </tr>\n",
              "    <tr>\n",
              "      <th>25%</th>\n",
              "      <td>0.000000</td>\n",
              "      <td>63.000000</td>\n",
              "      <td>5.013000e+07</td>\n",
              "      <td>4.100000e+05</td>\n",
              "    </tr>\n",
              "    <tr>\n",
              "      <th>50%</th>\n",
              "      <td>0.000000</td>\n",
              "      <td>65.000000</td>\n",
              "      <td>5.023000e+07</td>\n",
              "      <td>5.980000e+05</td>\n",
              "    </tr>\n",
              "    <tr>\n",
              "      <th>75%</th>\n",
              "      <td>1.000000</td>\n",
              "      <td>66.000000</td>\n",
              "      <td>5.036000e+07</td>\n",
              "      <td>1.628250e+06</td>\n",
              "    </tr>\n",
              "    <tr>\n",
              "      <th>max</th>\n",
              "      <td>2.000000</td>\n",
              "      <td>66.000000</td>\n",
              "      <td>5.050000e+07</td>\n",
              "      <td>2.850000e+07</td>\n",
              "    </tr>\n",
              "  </tbody>\n",
              "</table>\n",
              "</div>\n",
              "      <button class=\"colab-df-convert\" onclick=\"convertToInteractive('df-c0ebc951-6c79-427e-acb2-df4176d8fafe')\"\n",
              "              title=\"Convert this dataframe to an interactive table.\"\n",
              "              style=\"display:none;\">\n",
              "\n",
              "  <svg xmlns=\"http://www.w3.org/2000/svg\" height=\"24px\"viewBox=\"0 0 24 24\"\n",
              "       width=\"24px\">\n",
              "    <path d=\"M0 0h24v24H0V0z\" fill=\"none\"/>\n",
              "    <path d=\"M18.56 5.44l.94 2.06.94-2.06 2.06-.94-2.06-.94-.94-2.06-.94 2.06-2.06.94zm-11 1L8.5 8.5l.94-2.06 2.06-.94-2.06-.94L8.5 2.5l-.94 2.06-2.06.94zm10 10l.94 2.06.94-2.06 2.06-.94-2.06-.94-.94-2.06-.94 2.06-2.06.94z\"/><path d=\"M17.41 7.96l-1.37-1.37c-.4-.4-.92-.59-1.43-.59-.52 0-1.04.2-1.43.59L10.3 9.45l-7.72 7.72c-.78.78-.78 2.05 0 2.83L4 21.41c.39.39.9.59 1.41.59.51 0 1.02-.2 1.41-.59l7.78-7.78 2.81-2.81c.8-.78.8-2.07 0-2.86zM5.41 20L4 18.59l7.72-7.72 1.47 1.35L5.41 20z\"/>\n",
              "  </svg>\n",
              "      </button>\n",
              "\n",
              "\n",
              "\n",
              "    <div id=\"df-874217bd-b747-47d8-b72d-efd8527db0f7\">\n",
              "      <button class=\"colab-df-quickchart\" onclick=\"quickchart('df-874217bd-b747-47d8-b72d-efd8527db0f7')\"\n",
              "              title=\"Suggest charts.\"\n",
              "              style=\"display:none;\">\n",
              "\n",
              "<svg xmlns=\"http://www.w3.org/2000/svg\" height=\"24px\"viewBox=\"0 0 24 24\"\n",
              "     width=\"24px\">\n",
              "    <g>\n",
              "        <path d=\"M19 3H5c-1.1 0-2 .9-2 2v14c0 1.1.9 2 2 2h14c1.1 0 2-.9 2-2V5c0-1.1-.9-2-2-2zM9 17H7v-7h2v7zm4 0h-2V7h2v10zm4 0h-2v-4h2v4z\"/>\n",
              "    </g>\n",
              "</svg>\n",
              "      </button>\n",
              "    </div>\n",
              "\n",
              "<style>\n",
              "  .colab-df-quickchart {\n",
              "    background-color: #E8F0FE;\n",
              "    border: none;\n",
              "    border-radius: 50%;\n",
              "    cursor: pointer;\n",
              "    display: none;\n",
              "    fill: #1967D2;\n",
              "    height: 32px;\n",
              "    padding: 0 0 0 0;\n",
              "    width: 32px;\n",
              "  }\n",
              "\n",
              "  .colab-df-quickchart:hover {\n",
              "    background-color: #E2EBFA;\n",
              "    box-shadow: 0px 1px 2px rgba(60, 64, 67, 0.3), 0px 1px 3px 1px rgba(60, 64, 67, 0.15);\n",
              "    fill: #174EA6;\n",
              "  }\n",
              "\n",
              "  [theme=dark] .colab-df-quickchart {\n",
              "    background-color: #3B4455;\n",
              "    fill: #D2E3FC;\n",
              "  }\n",
              "\n",
              "  [theme=dark] .colab-df-quickchart:hover {\n",
              "    background-color: #434B5C;\n",
              "    box-shadow: 0px 1px 3px 1px rgba(0, 0, 0, 0.15);\n",
              "    filter: drop-shadow(0px 1px 2px rgba(0, 0, 0, 0.3));\n",
              "    fill: #FFFFFF;\n",
              "  }\n",
              "</style>\n",
              "\n",
              "    <script>\n",
              "      async function quickchart(key) {\n",
              "        const containerElement = document.querySelector('#' + key);\n",
              "        const charts = await google.colab.kernel.invokeFunction(\n",
              "            'suggestCharts', [key], {});\n",
              "      }\n",
              "    </script>\n",
              "\n",
              "      <script>\n",
              "\n",
              "function displayQuickchartButton(domScope) {\n",
              "  let quickchartButtonEl =\n",
              "    domScope.querySelector('#df-874217bd-b747-47d8-b72d-efd8527db0f7 button.colab-df-quickchart');\n",
              "  quickchartButtonEl.style.display =\n",
              "    google.colab.kernel.accessAllowed ? 'block' : 'none';\n",
              "}\n",
              "\n",
              "        displayQuickchartButton(document);\n",
              "      </script>\n",
              "      <style>\n",
              "    .colab-df-container {\n",
              "      display:flex;\n",
              "      flex-wrap:wrap;\n",
              "      gap: 12px;\n",
              "    }\n",
              "\n",
              "    .colab-df-convert {\n",
              "      background-color: #E8F0FE;\n",
              "      border: none;\n",
              "      border-radius: 50%;\n",
              "      cursor: pointer;\n",
              "      display: none;\n",
              "      fill: #1967D2;\n",
              "      height: 32px;\n",
              "      padding: 0 0 0 0;\n",
              "      width: 32px;\n",
              "    }\n",
              "\n",
              "    .colab-df-convert:hover {\n",
              "      background-color: #E2EBFA;\n",
              "      box-shadow: 0px 1px 2px rgba(60, 64, 67, 0.3), 0px 1px 3px 1px rgba(60, 64, 67, 0.15);\n",
              "      fill: #174EA6;\n",
              "    }\n",
              "\n",
              "    [theme=dark] .colab-df-convert {\n",
              "      background-color: #3B4455;\n",
              "      fill: #D2E3FC;\n",
              "    }\n",
              "\n",
              "    [theme=dark] .colab-df-convert:hover {\n",
              "      background-color: #434B5C;\n",
              "      box-shadow: 0px 1px 3px 1px rgba(0, 0, 0, 0.15);\n",
              "      filter: drop-shadow(0px 1px 2px rgba(0, 0, 0, 0.3));\n",
              "      fill: #FFFFFF;\n",
              "    }\n",
              "  </style>\n",
              "\n",
              "      <script>\n",
              "        const buttonEl =\n",
              "          document.querySelector('#df-c0ebc951-6c79-427e-acb2-df4176d8fafe button.colab-df-convert');\n",
              "        buttonEl.style.display =\n",
              "          google.colab.kernel.accessAllowed ? 'block' : 'none';\n",
              "\n",
              "        async function convertToInteractive(key) {\n",
              "          const element = document.querySelector('#df-c0ebc951-6c79-427e-acb2-df4176d8fafe');\n",
              "          const dataTable =\n",
              "            await google.colab.kernel.invokeFunction('convertToInteractive',\n",
              "                                                     [key], {});\n",
              "          if (!dataTable) return;\n",
              "\n",
              "          const docLinkHtml = 'Like what you see? Visit the ' +\n",
              "            '<a target=\"_blank\" href=https://colab.research.google.com/notebooks/data_table.ipynb>data table notebook</a>'\n",
              "            + ' to learn more about interactive tables.';\n",
              "          element.innerHTML = '';\n",
              "          dataTable['output_type'] = 'display_data';\n",
              "          await google.colab.output.renderOutput(dataTable, element);\n",
              "          const docLink = document.createElement('div');\n",
              "          docLink.innerHTML = docLinkHtml;\n",
              "          element.appendChild(docLink);\n",
              "        }\n",
              "      </script>\n",
              "    </div>\n",
              "  </div>\n"
            ]
          },
          "metadata": {},
          "execution_count": 24
        }
      ]
    },
    {
      "cell_type": "markdown",
      "source": [
        "NaN = Not a Number"
      ],
      "metadata": {
        "id": "4GLanX2ocuyZ"
      }
    },
    {
      "cell_type": "markdown",
      "source": [
        "DF คือ DataFrame เป็นชื่อ data structure ที่ pandas ใช้"
      ],
      "metadata": {
        "id": "P3N10ITE3d38"
      }
    },
    {
      "cell_type": "markdown",
      "source": [
        "# ชี้ค่าในตาราง (indexing)\n",
        "\n",
        "\n"
      ],
      "metadata": {
        "id": "GYQmkd9IdAKj"
      }
    },
    {
      "cell_type": "markdown",
      "source": [
        "#มุมมองตาราง df[columns][rows]"
      ],
      "metadata": {
        "id": "vYW2zZU23REc"
      }
    },
    {
      "cell_type": "markdown",
      "source": [
        "# Table Slicing\n",
        "ไม่ค่อยมีประสิทธิภาพ\n",
        "ต้องทราบพิกัด"
      ],
      "metadata": {
        "id": "C503gqEWeuuj"
      }
    },
    {
      "cell_type": "code",
      "source": [
        "data1.iloc[-20 :,7:10]"
      ],
      "metadata": {
        "colab": {
          "base_uri": "https://localhost:8080/",
          "height": 677
        },
        "id": "jblMyFWufTfW",
        "outputId": "a98e0ec8-d6a5-40f4-97f5-31d66a6dc680"
      },
      "execution_count": 27,
      "outputs": [
        {
          "output_type": "execute_result",
          "data": {
            "text/plain": [
              "                                             Item_name  Approved_buget\n",
              "672  ขุดลอกลำกระโดงแยกคลองบางแวก (ตรงข้ามวัดบุณยประ...          472000\n",
              "673  ขุดลอกลำกระโดงแยกคลองบางขี้แก้ง (หมู่บ้านเอเวอ...          492000\n",
              "674                         ขุดลอกคลองแยกคลองตาเทียม 1          469000\n",
              "675  ขุดลอกลำกระโดงระหว่างซอยเพชรเกษม 43 กับ ซอยเพช...          493000\n",
              "676                          ขุดลอกคลองแยกคลองยายเพิ่ม          481000\n",
              "677                    ขุดลอกลำกระโดงข้างหมู่บ้านวรนุช          492000\n",
              "678                                    ขุดลอกคลองตาตี่          483000\n",
              "679                        ขุดลอกลำกระโดงข้างเดอะมอลล์          462000\n",
              "680                      ขุดลอกลำกระโดงข้างบ้านบางแค 2          499000\n",
              "681                                   ขุดลอกลำรางตาเชย         3559000\n",
              "682                              ขุดลอกลำรางไทยเอราวัณ         3494000\n",
              "683                             ขุดลอกคลองหนึ่งตะวันตก         4330000\n",
              "684                               ขุดลอกคลองสองตะวันตก         9832000\n",
              "685                                   ขุดลอกคลองกีบหมู         2925000\n",
              "686                                 ขุดลอกคลองลำกะโหลก         3875000\n",
              "687                                 ขุดลอกคลองผักกะเฉด         3686000\n",
              "688                            ขุดลอกคลองบึงทรายกองดิน         2575000\n",
              "689                                  ขุดลอกลำรางซาฟารี          689000\n",
              "690                                ขุดลอกลำรางตาจันทร์          464000\n",
              "691          ขุดลอกคลองบางบอนต่อจากของเดิมถึงคลองนายผล         7578000"
            ],
            "text/html": [
              "\n",
              "\n",
              "  <div id=\"df-bb09b6ac-d362-47af-9e43-6fec761f0621\">\n",
              "    <div class=\"colab-df-container\">\n",
              "      <div>\n",
              "<style scoped>\n",
              "    .dataframe tbody tr th:only-of-type {\n",
              "        vertical-align: middle;\n",
              "    }\n",
              "\n",
              "    .dataframe tbody tr th {\n",
              "        vertical-align: top;\n",
              "    }\n",
              "\n",
              "    .dataframe thead th {\n",
              "        text-align: right;\n",
              "    }\n",
              "</style>\n",
              "<table border=\"1\" class=\"dataframe\">\n",
              "  <thead>\n",
              "    <tr style=\"text-align: right;\">\n",
              "      <th></th>\n",
              "      <th>Item_name</th>\n",
              "      <th>Approved_buget</th>\n",
              "    </tr>\n",
              "  </thead>\n",
              "  <tbody>\n",
              "    <tr>\n",
              "      <th>672</th>\n",
              "      <td>ขุดลอกลำกระโดงแยกคลองบางแวก (ตรงข้ามวัดบุณยประ...</td>\n",
              "      <td>472000</td>\n",
              "    </tr>\n",
              "    <tr>\n",
              "      <th>673</th>\n",
              "      <td>ขุดลอกลำกระโดงแยกคลองบางขี้แก้ง (หมู่บ้านเอเวอ...</td>\n",
              "      <td>492000</td>\n",
              "    </tr>\n",
              "    <tr>\n",
              "      <th>674</th>\n",
              "      <td>ขุดลอกคลองแยกคลองตาเทียม 1</td>\n",
              "      <td>469000</td>\n",
              "    </tr>\n",
              "    <tr>\n",
              "      <th>675</th>\n",
              "      <td>ขุดลอกลำกระโดงระหว่างซอยเพชรเกษม 43 กับ ซอยเพช...</td>\n",
              "      <td>493000</td>\n",
              "    </tr>\n",
              "    <tr>\n",
              "      <th>676</th>\n",
              "      <td>ขุดลอกคลองแยกคลองยายเพิ่ม</td>\n",
              "      <td>481000</td>\n",
              "    </tr>\n",
              "    <tr>\n",
              "      <th>677</th>\n",
              "      <td>ขุดลอกลำกระโดงข้างหมู่บ้านวรนุช</td>\n",
              "      <td>492000</td>\n",
              "    </tr>\n",
              "    <tr>\n",
              "      <th>678</th>\n",
              "      <td>ขุดลอกคลองตาตี่</td>\n",
              "      <td>483000</td>\n",
              "    </tr>\n",
              "    <tr>\n",
              "      <th>679</th>\n",
              "      <td>ขุดลอกลำกระโดงข้างเดอะมอลล์</td>\n",
              "      <td>462000</td>\n",
              "    </tr>\n",
              "    <tr>\n",
              "      <th>680</th>\n",
              "      <td>ขุดลอกลำกระโดงข้างบ้านบางแค 2</td>\n",
              "      <td>499000</td>\n",
              "    </tr>\n",
              "    <tr>\n",
              "      <th>681</th>\n",
              "      <td>ขุดลอกลำรางตาเชย</td>\n",
              "      <td>3559000</td>\n",
              "    </tr>\n",
              "    <tr>\n",
              "      <th>682</th>\n",
              "      <td>ขุดลอกลำรางไทยเอราวัณ</td>\n",
              "      <td>3494000</td>\n",
              "    </tr>\n",
              "    <tr>\n",
              "      <th>683</th>\n",
              "      <td>ขุดลอกคลองหนึ่งตะวันตก</td>\n",
              "      <td>4330000</td>\n",
              "    </tr>\n",
              "    <tr>\n",
              "      <th>684</th>\n",
              "      <td>ขุดลอกคลองสองตะวันตก</td>\n",
              "      <td>9832000</td>\n",
              "    </tr>\n",
              "    <tr>\n",
              "      <th>685</th>\n",
              "      <td>ขุดลอกคลองกีบหมู</td>\n",
              "      <td>2925000</td>\n",
              "    </tr>\n",
              "    <tr>\n",
              "      <th>686</th>\n",
              "      <td>ขุดลอกคลองลำกะโหลก</td>\n",
              "      <td>3875000</td>\n",
              "    </tr>\n",
              "    <tr>\n",
              "      <th>687</th>\n",
              "      <td>ขุดลอกคลองผักกะเฉด</td>\n",
              "      <td>3686000</td>\n",
              "    </tr>\n",
              "    <tr>\n",
              "      <th>688</th>\n",
              "      <td>ขุดลอกคลองบึงทรายกองดิน</td>\n",
              "      <td>2575000</td>\n",
              "    </tr>\n",
              "    <tr>\n",
              "      <th>689</th>\n",
              "      <td>ขุดลอกลำรางซาฟารี</td>\n",
              "      <td>689000</td>\n",
              "    </tr>\n",
              "    <tr>\n",
              "      <th>690</th>\n",
              "      <td>ขุดลอกลำรางตาจันทร์</td>\n",
              "      <td>464000</td>\n",
              "    </tr>\n",
              "    <tr>\n",
              "      <th>691</th>\n",
              "      <td>ขุดลอกคลองบางบอนต่อจากของเดิมถึงคลองนายผล</td>\n",
              "      <td>7578000</td>\n",
              "    </tr>\n",
              "  </tbody>\n",
              "</table>\n",
              "</div>\n",
              "      <button class=\"colab-df-convert\" onclick=\"convertToInteractive('df-bb09b6ac-d362-47af-9e43-6fec761f0621')\"\n",
              "              title=\"Convert this dataframe to an interactive table.\"\n",
              "              style=\"display:none;\">\n",
              "\n",
              "  <svg xmlns=\"http://www.w3.org/2000/svg\" height=\"24px\"viewBox=\"0 0 24 24\"\n",
              "       width=\"24px\">\n",
              "    <path d=\"M0 0h24v24H0V0z\" fill=\"none\"/>\n",
              "    <path d=\"M18.56 5.44l.94 2.06.94-2.06 2.06-.94-2.06-.94-.94-2.06-.94 2.06-2.06.94zm-11 1L8.5 8.5l.94-2.06 2.06-.94-2.06-.94L8.5 2.5l-.94 2.06-2.06.94zm10 10l.94 2.06.94-2.06 2.06-.94-2.06-.94-.94-2.06-.94 2.06-2.06.94z\"/><path d=\"M17.41 7.96l-1.37-1.37c-.4-.4-.92-.59-1.43-.59-.52 0-1.04.2-1.43.59L10.3 9.45l-7.72 7.72c-.78.78-.78 2.05 0 2.83L4 21.41c.39.39.9.59 1.41.59.51 0 1.02-.2 1.41-.59l7.78-7.78 2.81-2.81c.8-.78.8-2.07 0-2.86zM5.41 20L4 18.59l7.72-7.72 1.47 1.35L5.41 20z\"/>\n",
              "  </svg>\n",
              "      </button>\n",
              "\n",
              "\n",
              "\n",
              "    <div id=\"df-2583aa5d-02c8-4615-9a0a-b8a04321d49a\">\n",
              "      <button class=\"colab-df-quickchart\" onclick=\"quickchart('df-2583aa5d-02c8-4615-9a0a-b8a04321d49a')\"\n",
              "              title=\"Suggest charts.\"\n",
              "              style=\"display:none;\">\n",
              "\n",
              "<svg xmlns=\"http://www.w3.org/2000/svg\" height=\"24px\"viewBox=\"0 0 24 24\"\n",
              "     width=\"24px\">\n",
              "    <g>\n",
              "        <path d=\"M19 3H5c-1.1 0-2 .9-2 2v14c0 1.1.9 2 2 2h14c1.1 0 2-.9 2-2V5c0-1.1-.9-2-2-2zM9 17H7v-7h2v7zm4 0h-2V7h2v10zm4 0h-2v-4h2v4z\"/>\n",
              "    </g>\n",
              "</svg>\n",
              "      </button>\n",
              "    </div>\n",
              "\n",
              "<style>\n",
              "  .colab-df-quickchart {\n",
              "    background-color: #E8F0FE;\n",
              "    border: none;\n",
              "    border-radius: 50%;\n",
              "    cursor: pointer;\n",
              "    display: none;\n",
              "    fill: #1967D2;\n",
              "    height: 32px;\n",
              "    padding: 0 0 0 0;\n",
              "    width: 32px;\n",
              "  }\n",
              "\n",
              "  .colab-df-quickchart:hover {\n",
              "    background-color: #E2EBFA;\n",
              "    box-shadow: 0px 1px 2px rgba(60, 64, 67, 0.3), 0px 1px 3px 1px rgba(60, 64, 67, 0.15);\n",
              "    fill: #174EA6;\n",
              "  }\n",
              "\n",
              "  [theme=dark] .colab-df-quickchart {\n",
              "    background-color: #3B4455;\n",
              "    fill: #D2E3FC;\n",
              "  }\n",
              "\n",
              "  [theme=dark] .colab-df-quickchart:hover {\n",
              "    background-color: #434B5C;\n",
              "    box-shadow: 0px 1px 3px 1px rgba(0, 0, 0, 0.15);\n",
              "    filter: drop-shadow(0px 1px 2px rgba(0, 0, 0, 0.3));\n",
              "    fill: #FFFFFF;\n",
              "  }\n",
              "</style>\n",
              "\n",
              "    <script>\n",
              "      async function quickchart(key) {\n",
              "        const containerElement = document.querySelector('#' + key);\n",
              "        const charts = await google.colab.kernel.invokeFunction(\n",
              "            'suggestCharts', [key], {});\n",
              "      }\n",
              "    </script>\n",
              "\n",
              "      <script>\n",
              "\n",
              "function displayQuickchartButton(domScope) {\n",
              "  let quickchartButtonEl =\n",
              "    domScope.querySelector('#df-2583aa5d-02c8-4615-9a0a-b8a04321d49a button.colab-df-quickchart');\n",
              "  quickchartButtonEl.style.display =\n",
              "    google.colab.kernel.accessAllowed ? 'block' : 'none';\n",
              "}\n",
              "\n",
              "        displayQuickchartButton(document);\n",
              "      </script>\n",
              "      <style>\n",
              "    .colab-df-container {\n",
              "      display:flex;\n",
              "      flex-wrap:wrap;\n",
              "      gap: 12px;\n",
              "    }\n",
              "\n",
              "    .colab-df-convert {\n",
              "      background-color: #E8F0FE;\n",
              "      border: none;\n",
              "      border-radius: 50%;\n",
              "      cursor: pointer;\n",
              "      display: none;\n",
              "      fill: #1967D2;\n",
              "      height: 32px;\n",
              "      padding: 0 0 0 0;\n",
              "      width: 32px;\n",
              "    }\n",
              "\n",
              "    .colab-df-convert:hover {\n",
              "      background-color: #E2EBFA;\n",
              "      box-shadow: 0px 1px 2px rgba(60, 64, 67, 0.3), 0px 1px 3px 1px rgba(60, 64, 67, 0.15);\n",
              "      fill: #174EA6;\n",
              "    }\n",
              "\n",
              "    [theme=dark] .colab-df-convert {\n",
              "      background-color: #3B4455;\n",
              "      fill: #D2E3FC;\n",
              "    }\n",
              "\n",
              "    [theme=dark] .colab-df-convert:hover {\n",
              "      background-color: #434B5C;\n",
              "      box-shadow: 0px 1px 3px 1px rgba(0, 0, 0, 0.15);\n",
              "      filter: drop-shadow(0px 1px 2px rgba(0, 0, 0, 0.3));\n",
              "      fill: #FFFFFF;\n",
              "    }\n",
              "  </style>\n",
              "\n",
              "      <script>\n",
              "        const buttonEl =\n",
              "          document.querySelector('#df-bb09b6ac-d362-47af-9e43-6fec761f0621 button.colab-df-convert');\n",
              "        buttonEl.style.display =\n",
              "          google.colab.kernel.accessAllowed ? 'block' : 'none';\n",
              "\n",
              "        async function convertToInteractive(key) {\n",
              "          const element = document.querySelector('#df-bb09b6ac-d362-47af-9e43-6fec761f0621');\n",
              "          const dataTable =\n",
              "            await google.colab.kernel.invokeFunction('convertToInteractive',\n",
              "                                                     [key], {});\n",
              "          if (!dataTable) return;\n",
              "\n",
              "          const docLinkHtml = 'Like what you see? Visit the ' +\n",
              "            '<a target=\"_blank\" href=https://colab.research.google.com/notebooks/data_table.ipynb>data table notebook</a>'\n",
              "            + ' to learn more about interactive tables.';\n",
              "          element.innerHTML = '';\n",
              "          dataTable['output_type'] = 'display_data';\n",
              "          await google.colab.output.renderOutput(dataTable, element);\n",
              "          const docLink = document.createElement('div');\n",
              "          docLink.innerHTML = docLinkHtml;\n",
              "          element.appendChild(docLink);\n",
              "        }\n",
              "      </script>\n",
              "    </div>\n",
              "  </div>\n"
            ]
          },
          "metadata": {},
          "execution_count": 27
        }
      ]
    },
    {
      "cell_type": "code",
      "source": [
        "data1.columns"
      ],
      "metadata": {
        "id": "dyKj_3ZT2Y9-",
        "outputId": "b8d7585d-4edc-4cca-9d33-d91451756c10",
        "colab": {
          "base_uri": "https://localhost:8080/"
        }
      },
      "execution_count": 28,
      "outputs": [
        {
          "output_type": "execute_result",
          "data": {
            "text/plain": [
              "Index(['Budget_resource', 'Issue_No', 'Fiscal_year', 'Department_code',\n",
              "       'Department', 'Core_budget_code', 'Expenditure_category', 'Item_name',\n",
              "       'Approved_buget'],\n",
              "      dtype='object')"
            ]
          },
          "metadata": {},
          "execution_count": 28
        }
      ]
    },
    {
      "cell_type": "code",
      "source": [
        "data1[['Approved_buget', 'Item_name','Department' ]] #เลือกเรียง column"
      ],
      "metadata": {
        "id": "mFSof0j12c2e",
        "outputId": "ae1bba0f-97a3-4598-ca6e-2668a9cdcd45",
        "colab": {
          "base_uri": "https://localhost:8080/",
          "height": 424
        }
      },
      "execution_count": 29,
      "outputs": [
        {
          "output_type": "execute_result",
          "data": {
            "text/plain": [
              "     Approved_buget                                          Item_name  \\\n",
              "0           1193000        ขุดลอกคลองบางกะปิจากคลองสามเสนถึงคลองแสนแสบ   \n",
              "1           1100000  ขุดลอกคลองทรงกระเทียมจากคลองลาดพร้าวถึงถนนโชคช...   \n",
              "2           3075000          ขุดลอกคลองเป้งจากคลองแสนแสบถึงซอยเจริญสุข   \n",
              "3           6240000  ขุดลอกคลองลำพังพวยจากถนนศรีบูรพาถึงสถานีสูบน้ำ...   \n",
              "4           2685000  ขุดลอกบึงรางเข้จากคลองพระยาราชมนตรีถึงถนนบางขุ...   \n",
              "..              ...                                                ...   \n",
              "687         3686000                                 ขุดลอกคลองผักกะเฉด   \n",
              "688         2575000                            ขุดลอกคลองบึงทรายกองดิน   \n",
              "689          689000                                  ขุดลอกลำรางซาฟารี   \n",
              "690          464000                                ขุดลอกลำรางตาจันทร์   \n",
              "691         7578000          ขุดลอกคลองบางบอนต่อจากของเดิมถึงคลองนายผล   \n",
              "\n",
              "               Department  \n",
              "0        สำนักการระบายน้ำ  \n",
              "1        สำนักการระบายน้ำ  \n",
              "2        สำนักการระบายน้ำ  \n",
              "3        สำนักการระบายน้ำ  \n",
              "4        สำนักการระบายน้ำ  \n",
              "..                    ...  \n",
              "687  สำนักงานเขตคลองสามวา  \n",
              "688  สำนักงานเขตคลองสามวา  \n",
              "689  สำนักงานเขตคลองสามวา  \n",
              "690  สำนักงานเขตคลองสามวา  \n",
              "691     สำนักงานเขตบางบอน  \n",
              "\n",
              "[692 rows x 3 columns]"
            ],
            "text/html": [
              "\n",
              "\n",
              "  <div id=\"df-53c6c94d-c1c7-4529-8426-4e6cd97491e1\">\n",
              "    <div class=\"colab-df-container\">\n",
              "      <div>\n",
              "<style scoped>\n",
              "    .dataframe tbody tr th:only-of-type {\n",
              "        vertical-align: middle;\n",
              "    }\n",
              "\n",
              "    .dataframe tbody tr th {\n",
              "        vertical-align: top;\n",
              "    }\n",
              "\n",
              "    .dataframe thead th {\n",
              "        text-align: right;\n",
              "    }\n",
              "</style>\n",
              "<table border=\"1\" class=\"dataframe\">\n",
              "  <thead>\n",
              "    <tr style=\"text-align: right;\">\n",
              "      <th></th>\n",
              "      <th>Approved_buget</th>\n",
              "      <th>Item_name</th>\n",
              "      <th>Department</th>\n",
              "    </tr>\n",
              "  </thead>\n",
              "  <tbody>\n",
              "    <tr>\n",
              "      <th>0</th>\n",
              "      <td>1193000</td>\n",
              "      <td>ขุดลอกคลองบางกะปิจากคลองสามเสนถึงคลองแสนแสบ</td>\n",
              "      <td>สำนักการระบายน้ำ</td>\n",
              "    </tr>\n",
              "    <tr>\n",
              "      <th>1</th>\n",
              "      <td>1100000</td>\n",
              "      <td>ขุดลอกคลองทรงกระเทียมจากคลองลาดพร้าวถึงถนนโชคช...</td>\n",
              "      <td>สำนักการระบายน้ำ</td>\n",
              "    </tr>\n",
              "    <tr>\n",
              "      <th>2</th>\n",
              "      <td>3075000</td>\n",
              "      <td>ขุดลอกคลองเป้งจากคลองแสนแสบถึงซอยเจริญสุข</td>\n",
              "      <td>สำนักการระบายน้ำ</td>\n",
              "    </tr>\n",
              "    <tr>\n",
              "      <th>3</th>\n",
              "      <td>6240000</td>\n",
              "      <td>ขุดลอกคลองลำพังพวยจากถนนศรีบูรพาถึงสถานีสูบน้ำ...</td>\n",
              "      <td>สำนักการระบายน้ำ</td>\n",
              "    </tr>\n",
              "    <tr>\n",
              "      <th>4</th>\n",
              "      <td>2685000</td>\n",
              "      <td>ขุดลอกบึงรางเข้จากคลองพระยาราชมนตรีถึงถนนบางขุ...</td>\n",
              "      <td>สำนักการระบายน้ำ</td>\n",
              "    </tr>\n",
              "    <tr>\n",
              "      <th>...</th>\n",
              "      <td>...</td>\n",
              "      <td>...</td>\n",
              "      <td>...</td>\n",
              "    </tr>\n",
              "    <tr>\n",
              "      <th>687</th>\n",
              "      <td>3686000</td>\n",
              "      <td>ขุดลอกคลองผักกะเฉด</td>\n",
              "      <td>สำนักงานเขตคลองสามวา</td>\n",
              "    </tr>\n",
              "    <tr>\n",
              "      <th>688</th>\n",
              "      <td>2575000</td>\n",
              "      <td>ขุดลอกคลองบึงทรายกองดิน</td>\n",
              "      <td>สำนักงานเขตคลองสามวา</td>\n",
              "    </tr>\n",
              "    <tr>\n",
              "      <th>689</th>\n",
              "      <td>689000</td>\n",
              "      <td>ขุดลอกลำรางซาฟารี</td>\n",
              "      <td>สำนักงานเขตคลองสามวา</td>\n",
              "    </tr>\n",
              "    <tr>\n",
              "      <th>690</th>\n",
              "      <td>464000</td>\n",
              "      <td>ขุดลอกลำรางตาจันทร์</td>\n",
              "      <td>สำนักงานเขตคลองสามวา</td>\n",
              "    </tr>\n",
              "    <tr>\n",
              "      <th>691</th>\n",
              "      <td>7578000</td>\n",
              "      <td>ขุดลอกคลองบางบอนต่อจากของเดิมถึงคลองนายผล</td>\n",
              "      <td>สำนักงานเขตบางบอน</td>\n",
              "    </tr>\n",
              "  </tbody>\n",
              "</table>\n",
              "<p>692 rows × 3 columns</p>\n",
              "</div>\n",
              "      <button class=\"colab-df-convert\" onclick=\"convertToInteractive('df-53c6c94d-c1c7-4529-8426-4e6cd97491e1')\"\n",
              "              title=\"Convert this dataframe to an interactive table.\"\n",
              "              style=\"display:none;\">\n",
              "\n",
              "  <svg xmlns=\"http://www.w3.org/2000/svg\" height=\"24px\"viewBox=\"0 0 24 24\"\n",
              "       width=\"24px\">\n",
              "    <path d=\"M0 0h24v24H0V0z\" fill=\"none\"/>\n",
              "    <path d=\"M18.56 5.44l.94 2.06.94-2.06 2.06-.94-2.06-.94-.94-2.06-.94 2.06-2.06.94zm-11 1L8.5 8.5l.94-2.06 2.06-.94-2.06-.94L8.5 2.5l-.94 2.06-2.06.94zm10 10l.94 2.06.94-2.06 2.06-.94-2.06-.94-.94-2.06-.94 2.06-2.06.94z\"/><path d=\"M17.41 7.96l-1.37-1.37c-.4-.4-.92-.59-1.43-.59-.52 0-1.04.2-1.43.59L10.3 9.45l-7.72 7.72c-.78.78-.78 2.05 0 2.83L4 21.41c.39.39.9.59 1.41.59.51 0 1.02-.2 1.41-.59l7.78-7.78 2.81-2.81c.8-.78.8-2.07 0-2.86zM5.41 20L4 18.59l7.72-7.72 1.47 1.35L5.41 20z\"/>\n",
              "  </svg>\n",
              "      </button>\n",
              "\n",
              "\n",
              "\n",
              "    <div id=\"df-121ed817-a993-4277-a114-89d64a8daf20\">\n",
              "      <button class=\"colab-df-quickchart\" onclick=\"quickchart('df-121ed817-a993-4277-a114-89d64a8daf20')\"\n",
              "              title=\"Suggest charts.\"\n",
              "              style=\"display:none;\">\n",
              "\n",
              "<svg xmlns=\"http://www.w3.org/2000/svg\" height=\"24px\"viewBox=\"0 0 24 24\"\n",
              "     width=\"24px\">\n",
              "    <g>\n",
              "        <path d=\"M19 3H5c-1.1 0-2 .9-2 2v14c0 1.1.9 2 2 2h14c1.1 0 2-.9 2-2V5c0-1.1-.9-2-2-2zM9 17H7v-7h2v7zm4 0h-2V7h2v10zm4 0h-2v-4h2v4z\"/>\n",
              "    </g>\n",
              "</svg>\n",
              "      </button>\n",
              "    </div>\n",
              "\n",
              "<style>\n",
              "  .colab-df-quickchart {\n",
              "    background-color: #E8F0FE;\n",
              "    border: none;\n",
              "    border-radius: 50%;\n",
              "    cursor: pointer;\n",
              "    display: none;\n",
              "    fill: #1967D2;\n",
              "    height: 32px;\n",
              "    padding: 0 0 0 0;\n",
              "    width: 32px;\n",
              "  }\n",
              "\n",
              "  .colab-df-quickchart:hover {\n",
              "    background-color: #E2EBFA;\n",
              "    box-shadow: 0px 1px 2px rgba(60, 64, 67, 0.3), 0px 1px 3px 1px rgba(60, 64, 67, 0.15);\n",
              "    fill: #174EA6;\n",
              "  }\n",
              "\n",
              "  [theme=dark] .colab-df-quickchart {\n",
              "    background-color: #3B4455;\n",
              "    fill: #D2E3FC;\n",
              "  }\n",
              "\n",
              "  [theme=dark] .colab-df-quickchart:hover {\n",
              "    background-color: #434B5C;\n",
              "    box-shadow: 0px 1px 3px 1px rgba(0, 0, 0, 0.15);\n",
              "    filter: drop-shadow(0px 1px 2px rgba(0, 0, 0, 0.3));\n",
              "    fill: #FFFFFF;\n",
              "  }\n",
              "</style>\n",
              "\n",
              "    <script>\n",
              "      async function quickchart(key) {\n",
              "        const containerElement = document.querySelector('#' + key);\n",
              "        const charts = await google.colab.kernel.invokeFunction(\n",
              "            'suggestCharts', [key], {});\n",
              "      }\n",
              "    </script>\n",
              "\n",
              "      <script>\n",
              "\n",
              "function displayQuickchartButton(domScope) {\n",
              "  let quickchartButtonEl =\n",
              "    domScope.querySelector('#df-121ed817-a993-4277-a114-89d64a8daf20 button.colab-df-quickchart');\n",
              "  quickchartButtonEl.style.display =\n",
              "    google.colab.kernel.accessAllowed ? 'block' : 'none';\n",
              "}\n",
              "\n",
              "        displayQuickchartButton(document);\n",
              "      </script>\n",
              "      <style>\n",
              "    .colab-df-container {\n",
              "      display:flex;\n",
              "      flex-wrap:wrap;\n",
              "      gap: 12px;\n",
              "    }\n",
              "\n",
              "    .colab-df-convert {\n",
              "      background-color: #E8F0FE;\n",
              "      border: none;\n",
              "      border-radius: 50%;\n",
              "      cursor: pointer;\n",
              "      display: none;\n",
              "      fill: #1967D2;\n",
              "      height: 32px;\n",
              "      padding: 0 0 0 0;\n",
              "      width: 32px;\n",
              "    }\n",
              "\n",
              "    .colab-df-convert:hover {\n",
              "      background-color: #E2EBFA;\n",
              "      box-shadow: 0px 1px 2px rgba(60, 64, 67, 0.3), 0px 1px 3px 1px rgba(60, 64, 67, 0.15);\n",
              "      fill: #174EA6;\n",
              "    }\n",
              "\n",
              "    [theme=dark] .colab-df-convert {\n",
              "      background-color: #3B4455;\n",
              "      fill: #D2E3FC;\n",
              "    }\n",
              "\n",
              "    [theme=dark] .colab-df-convert:hover {\n",
              "      background-color: #434B5C;\n",
              "      box-shadow: 0px 1px 3px 1px rgba(0, 0, 0, 0.15);\n",
              "      filter: drop-shadow(0px 1px 2px rgba(0, 0, 0, 0.3));\n",
              "      fill: #FFFFFF;\n",
              "    }\n",
              "  </style>\n",
              "\n",
              "      <script>\n",
              "        const buttonEl =\n",
              "          document.querySelector('#df-53c6c94d-c1c7-4529-8426-4e6cd97491e1 button.colab-df-convert');\n",
              "        buttonEl.style.display =\n",
              "          google.colab.kernel.accessAllowed ? 'block' : 'none';\n",
              "\n",
              "        async function convertToInteractive(key) {\n",
              "          const element = document.querySelector('#df-53c6c94d-c1c7-4529-8426-4e6cd97491e1');\n",
              "          const dataTable =\n",
              "            await google.colab.kernel.invokeFunction('convertToInteractive',\n",
              "                                                     [key], {});\n",
              "          if (!dataTable) return;\n",
              "\n",
              "          const docLinkHtml = 'Like what you see? Visit the ' +\n",
              "            '<a target=\"_blank\" href=https://colab.research.google.com/notebooks/data_table.ipynb>data table notebook</a>'\n",
              "            + ' to learn more about interactive tables.';\n",
              "          element.innerHTML = '';\n",
              "          dataTable['output_type'] = 'display_data';\n",
              "          await google.colab.output.renderOutput(dataTable, element);\n",
              "          const docLink = document.createElement('div');\n",
              "          docLink.innerHTML = docLinkHtml;\n",
              "          element.appendChild(docLink);\n",
              "        }\n",
              "      </script>\n",
              "    </div>\n",
              "  </div>\n"
            ]
          },
          "metadata": {},
          "execution_count": 29
        }
      ]
    },
    {
      "cell_type": "code",
      "source": [
        "data1[['Approved_buget', 'Item_name','Department' ]][6:11]"
      ],
      "metadata": {
        "id": "zUJ_Nk3p26v8",
        "outputId": "78ab1d6c-9846-4f68-a7d7-4721ba947164",
        "colab": {
          "base_uri": "https://localhost:8080/",
          "height": 206
        }
      },
      "execution_count": 30,
      "outputs": [
        {
          "output_type": "execute_result",
          "data": {
            "text/plain": [
              "    Approved_buget                                          Item_name  \\\n",
              "6           225400  ขุดลอกลำรางโต๊ะรอด ตั้งแต่คลองสองต้นนุ่นถึงระย...   \n",
              "7           452500  ขุดลอกลำรางเลียบคลองบึงขวาง ตั้งแต่คลองบึงขวาง...   \n",
              "8           447000  ขุดลอกคลองลำแขก จากคลองลำปลาทิว \\nถึงคลองลำตาเ...   \n",
              "9           497000  ขุดลอกคลองอู่ตะเภา จากคลองลำนกแขวก\\nถึงคลองลำม...   \n",
              "10          189500                ขุดลอกลำกระโดงตรงข้ามซอยเพชรเกษม 50   \n",
              "\n",
              "              Department  \n",
              "6     สำนักงานเขตมีนบุรี  \n",
              "7     สำนักงานเขตมีนบุรี  \n",
              "8     สำนักงานเขตหนองจอก  \n",
              "9     สำนักงานเขตหนองจอก  \n",
              "10  สำนักงานเขตภาษีเจริญ  "
            ],
            "text/html": [
              "\n",
              "\n",
              "  <div id=\"df-9434b074-14a3-4612-8e32-45f036e12f11\">\n",
              "    <div class=\"colab-df-container\">\n",
              "      <div>\n",
              "<style scoped>\n",
              "    .dataframe tbody tr th:only-of-type {\n",
              "        vertical-align: middle;\n",
              "    }\n",
              "\n",
              "    .dataframe tbody tr th {\n",
              "        vertical-align: top;\n",
              "    }\n",
              "\n",
              "    .dataframe thead th {\n",
              "        text-align: right;\n",
              "    }\n",
              "</style>\n",
              "<table border=\"1\" class=\"dataframe\">\n",
              "  <thead>\n",
              "    <tr style=\"text-align: right;\">\n",
              "      <th></th>\n",
              "      <th>Approved_buget</th>\n",
              "      <th>Item_name</th>\n",
              "      <th>Department</th>\n",
              "    </tr>\n",
              "  </thead>\n",
              "  <tbody>\n",
              "    <tr>\n",
              "      <th>6</th>\n",
              "      <td>225400</td>\n",
              "      <td>ขุดลอกลำรางโต๊ะรอด ตั้งแต่คลองสองต้นนุ่นถึงระย...</td>\n",
              "      <td>สำนักงานเขตมีนบุรี</td>\n",
              "    </tr>\n",
              "    <tr>\n",
              "      <th>7</th>\n",
              "      <td>452500</td>\n",
              "      <td>ขุดลอกลำรางเลียบคลองบึงขวาง ตั้งแต่คลองบึงขวาง...</td>\n",
              "      <td>สำนักงานเขตมีนบุรี</td>\n",
              "    </tr>\n",
              "    <tr>\n",
              "      <th>8</th>\n",
              "      <td>447000</td>\n",
              "      <td>ขุดลอกคลองลำแขก จากคลองลำปลาทิว \\nถึงคลองลำตาเ...</td>\n",
              "      <td>สำนักงานเขตหนองจอก</td>\n",
              "    </tr>\n",
              "    <tr>\n",
              "      <th>9</th>\n",
              "      <td>497000</td>\n",
              "      <td>ขุดลอกคลองอู่ตะเภา จากคลองลำนกแขวก\\nถึงคลองลำม...</td>\n",
              "      <td>สำนักงานเขตหนองจอก</td>\n",
              "    </tr>\n",
              "    <tr>\n",
              "      <th>10</th>\n",
              "      <td>189500</td>\n",
              "      <td>ขุดลอกลำกระโดงตรงข้ามซอยเพชรเกษม 50</td>\n",
              "      <td>สำนักงานเขตภาษีเจริญ</td>\n",
              "    </tr>\n",
              "  </tbody>\n",
              "</table>\n",
              "</div>\n",
              "      <button class=\"colab-df-convert\" onclick=\"convertToInteractive('df-9434b074-14a3-4612-8e32-45f036e12f11')\"\n",
              "              title=\"Convert this dataframe to an interactive table.\"\n",
              "              style=\"display:none;\">\n",
              "\n",
              "  <svg xmlns=\"http://www.w3.org/2000/svg\" height=\"24px\"viewBox=\"0 0 24 24\"\n",
              "       width=\"24px\">\n",
              "    <path d=\"M0 0h24v24H0V0z\" fill=\"none\"/>\n",
              "    <path d=\"M18.56 5.44l.94 2.06.94-2.06 2.06-.94-2.06-.94-.94-2.06-.94 2.06-2.06.94zm-11 1L8.5 8.5l.94-2.06 2.06-.94-2.06-.94L8.5 2.5l-.94 2.06-2.06.94zm10 10l.94 2.06.94-2.06 2.06-.94-2.06-.94-.94-2.06-.94 2.06-2.06.94z\"/><path d=\"M17.41 7.96l-1.37-1.37c-.4-.4-.92-.59-1.43-.59-.52 0-1.04.2-1.43.59L10.3 9.45l-7.72 7.72c-.78.78-.78 2.05 0 2.83L4 21.41c.39.39.9.59 1.41.59.51 0 1.02-.2 1.41-.59l7.78-7.78 2.81-2.81c.8-.78.8-2.07 0-2.86zM5.41 20L4 18.59l7.72-7.72 1.47 1.35L5.41 20z\"/>\n",
              "  </svg>\n",
              "      </button>\n",
              "\n",
              "\n",
              "\n",
              "    <div id=\"df-356e1c3f-ab1d-47ef-bb4a-868ec933d063\">\n",
              "      <button class=\"colab-df-quickchart\" onclick=\"quickchart('df-356e1c3f-ab1d-47ef-bb4a-868ec933d063')\"\n",
              "              title=\"Suggest charts.\"\n",
              "              style=\"display:none;\">\n",
              "\n",
              "<svg xmlns=\"http://www.w3.org/2000/svg\" height=\"24px\"viewBox=\"0 0 24 24\"\n",
              "     width=\"24px\">\n",
              "    <g>\n",
              "        <path d=\"M19 3H5c-1.1 0-2 .9-2 2v14c0 1.1.9 2 2 2h14c1.1 0 2-.9 2-2V5c0-1.1-.9-2-2-2zM9 17H7v-7h2v7zm4 0h-2V7h2v10zm4 0h-2v-4h2v4z\"/>\n",
              "    </g>\n",
              "</svg>\n",
              "      </button>\n",
              "    </div>\n",
              "\n",
              "<style>\n",
              "  .colab-df-quickchart {\n",
              "    background-color: #E8F0FE;\n",
              "    border: none;\n",
              "    border-radius: 50%;\n",
              "    cursor: pointer;\n",
              "    display: none;\n",
              "    fill: #1967D2;\n",
              "    height: 32px;\n",
              "    padding: 0 0 0 0;\n",
              "    width: 32px;\n",
              "  }\n",
              "\n",
              "  .colab-df-quickchart:hover {\n",
              "    background-color: #E2EBFA;\n",
              "    box-shadow: 0px 1px 2px rgba(60, 64, 67, 0.3), 0px 1px 3px 1px rgba(60, 64, 67, 0.15);\n",
              "    fill: #174EA6;\n",
              "  }\n",
              "\n",
              "  [theme=dark] .colab-df-quickchart {\n",
              "    background-color: #3B4455;\n",
              "    fill: #D2E3FC;\n",
              "  }\n",
              "\n",
              "  [theme=dark] .colab-df-quickchart:hover {\n",
              "    background-color: #434B5C;\n",
              "    box-shadow: 0px 1px 3px 1px rgba(0, 0, 0, 0.15);\n",
              "    filter: drop-shadow(0px 1px 2px rgba(0, 0, 0, 0.3));\n",
              "    fill: #FFFFFF;\n",
              "  }\n",
              "</style>\n",
              "\n",
              "    <script>\n",
              "      async function quickchart(key) {\n",
              "        const containerElement = document.querySelector('#' + key);\n",
              "        const charts = await google.colab.kernel.invokeFunction(\n",
              "            'suggestCharts', [key], {});\n",
              "      }\n",
              "    </script>\n",
              "\n",
              "      <script>\n",
              "\n",
              "function displayQuickchartButton(domScope) {\n",
              "  let quickchartButtonEl =\n",
              "    domScope.querySelector('#df-356e1c3f-ab1d-47ef-bb4a-868ec933d063 button.colab-df-quickchart');\n",
              "  quickchartButtonEl.style.display =\n",
              "    google.colab.kernel.accessAllowed ? 'block' : 'none';\n",
              "}\n",
              "\n",
              "        displayQuickchartButton(document);\n",
              "      </script>\n",
              "      <style>\n",
              "    .colab-df-container {\n",
              "      display:flex;\n",
              "      flex-wrap:wrap;\n",
              "      gap: 12px;\n",
              "    }\n",
              "\n",
              "    .colab-df-convert {\n",
              "      background-color: #E8F0FE;\n",
              "      border: none;\n",
              "      border-radius: 50%;\n",
              "      cursor: pointer;\n",
              "      display: none;\n",
              "      fill: #1967D2;\n",
              "      height: 32px;\n",
              "      padding: 0 0 0 0;\n",
              "      width: 32px;\n",
              "    }\n",
              "\n",
              "    .colab-df-convert:hover {\n",
              "      background-color: #E2EBFA;\n",
              "      box-shadow: 0px 1px 2px rgba(60, 64, 67, 0.3), 0px 1px 3px 1px rgba(60, 64, 67, 0.15);\n",
              "      fill: #174EA6;\n",
              "    }\n",
              "\n",
              "    [theme=dark] .colab-df-convert {\n",
              "      background-color: #3B4455;\n",
              "      fill: #D2E3FC;\n",
              "    }\n",
              "\n",
              "    [theme=dark] .colab-df-convert:hover {\n",
              "      background-color: #434B5C;\n",
              "      box-shadow: 0px 1px 3px 1px rgba(0, 0, 0, 0.15);\n",
              "      filter: drop-shadow(0px 1px 2px rgba(0, 0, 0, 0.3));\n",
              "      fill: #FFFFFF;\n",
              "    }\n",
              "  </style>\n",
              "\n",
              "      <script>\n",
              "        const buttonEl =\n",
              "          document.querySelector('#df-9434b074-14a3-4612-8e32-45f036e12f11 button.colab-df-convert');\n",
              "        buttonEl.style.display =\n",
              "          google.colab.kernel.accessAllowed ? 'block' : 'none';\n",
              "\n",
              "        async function convertToInteractive(key) {\n",
              "          const element = document.querySelector('#df-9434b074-14a3-4612-8e32-45f036e12f11');\n",
              "          const dataTable =\n",
              "            await google.colab.kernel.invokeFunction('convertToInteractive',\n",
              "                                                     [key], {});\n",
              "          if (!dataTable) return;\n",
              "\n",
              "          const docLinkHtml = 'Like what you see? Visit the ' +\n",
              "            '<a target=\"_blank\" href=https://colab.research.google.com/notebooks/data_table.ipynb>data table notebook</a>'\n",
              "            + ' to learn more about interactive tables.';\n",
              "          element.innerHTML = '';\n",
              "          dataTable['output_type'] = 'display_data';\n",
              "          await google.colab.output.renderOutput(dataTable, element);\n",
              "          const docLink = document.createElement('div');\n",
              "          docLink.innerHTML = docLinkHtml;\n",
              "          element.appendChild(docLink);\n",
              "        }\n",
              "      </script>\n",
              "    </div>\n",
              "  </div>\n"
            ]
          },
          "metadata": {},
          "execution_count": 30
        }
      ]
    },
    {
      "cell_type": "markdown",
      "source": [
        "#มุมมองแบบ array"
      ],
      "metadata": {
        "id": "rmDRIy0w3_gx"
      }
    },
    {
      "cell_type": "code",
      "source": [
        "data1.iloc[0,0] #.iloc เปลี่ยนมุมมองเป็น np.array"
      ],
      "metadata": {
        "id": "7R-8MxGb4IK0",
        "outputId": "fe276ec5-b416-4639-a3d3-405020346d0b",
        "colab": {
          "base_uri": "https://localhost:8080/",
          "height": 35
        }
      },
      "execution_count": 31,
      "outputs": [
        {
          "output_type": "execute_result",
          "data": {
            "text/plain": [
              "'งบประจำปี'"
            ],
            "application/vnd.google.colaboratory.intrinsic+json": {
              "type": "string"
            }
          },
          "metadata": {},
          "execution_count": 31
        }
      ]
    },
    {
      "cell_type": "markdown",
      "source": [
        " ## table Query"
      ],
      "metadata": {
        "id": "h9oTu2hKgMBK"
      }
    },
    {
      "cell_type": "markdown",
      "source": [
        "#อยากได้รายการที่ใช้งบเงิน 1ล้านบาท\n",
        "df[โดยที่ logic] โดยที่ logics จะต้องมีจำนวนสมาชิกเท่ากับจำนวนแถวของdf\n",
        "\n"
      ],
      "metadata": {
        "id": "GB4_cCaF59LZ"
      }
    },
    {
      "cell_type": "code",
      "source": [
        "small_df =data1.iloc[-5:,:]\n",
        "small_df"
      ],
      "metadata": {
        "id": "HQu99e364HGW",
        "outputId": "6fabf484-bccc-4e3a-b292-81dae774ac16",
        "colab": {
          "base_uri": "https://localhost:8080/",
          "height": 337
        }
      },
      "execution_count": 33,
      "outputs": [
        {
          "output_type": "execute_result",
          "data": {
            "text/plain": [
              "    Budget_resource  Issue_No  Fiscal_year  Department_code  \\\n",
              "687     งบเพิ่มเติม         1           66         50460000   \n",
              "688     งบเพิ่มเติม         1           66         50460000   \n",
              "689     งบเพิ่มเติม         1           66         50460000   \n",
              "690     งบเพิ่มเติม         1           66         50460000   \n",
              "691     งบเพิ่มเติม         1           66         50500000   \n",
              "\n",
              "               Department Core_budget_code Expenditure_category  \\\n",
              "687  สำนักงานเขตคลองสามวา              NaN              งบลงทุน   \n",
              "688  สำนักงานเขตคลองสามวา              NaN              งบลงทุน   \n",
              "689  สำนักงานเขตคลองสามวา              NaN              งบลงทุน   \n",
              "690  สำนักงานเขตคลองสามวา              NaN              งบลงทุน   \n",
              "691     สำนักงานเขตบางบอน              NaN              งบลงทุน   \n",
              "\n",
              "                                     Item_name  Approved_buget  \n",
              "687                         ขุดลอกคลองผักกะเฉด         3686000  \n",
              "688                    ขุดลอกคลองบึงทรายกองดิน         2575000  \n",
              "689                          ขุดลอกลำรางซาฟารี          689000  \n",
              "690                        ขุดลอกลำรางตาจันทร์          464000  \n",
              "691  ขุดลอกคลองบางบอนต่อจากของเดิมถึงคลองนายผล         7578000  "
            ],
            "text/html": [
              "\n",
              "\n",
              "  <div id=\"df-0ee6d942-7928-4319-8b3a-2e740b66a626\">\n",
              "    <div class=\"colab-df-container\">\n",
              "      <div>\n",
              "<style scoped>\n",
              "    .dataframe tbody tr th:only-of-type {\n",
              "        vertical-align: middle;\n",
              "    }\n",
              "\n",
              "    .dataframe tbody tr th {\n",
              "        vertical-align: top;\n",
              "    }\n",
              "\n",
              "    .dataframe thead th {\n",
              "        text-align: right;\n",
              "    }\n",
              "</style>\n",
              "<table border=\"1\" class=\"dataframe\">\n",
              "  <thead>\n",
              "    <tr style=\"text-align: right;\">\n",
              "      <th></th>\n",
              "      <th>Budget_resource</th>\n",
              "      <th>Issue_No</th>\n",
              "      <th>Fiscal_year</th>\n",
              "      <th>Department_code</th>\n",
              "      <th>Department</th>\n",
              "      <th>Core_budget_code</th>\n",
              "      <th>Expenditure_category</th>\n",
              "      <th>Item_name</th>\n",
              "      <th>Approved_buget</th>\n",
              "    </tr>\n",
              "  </thead>\n",
              "  <tbody>\n",
              "    <tr>\n",
              "      <th>687</th>\n",
              "      <td>งบเพิ่มเติม</td>\n",
              "      <td>1</td>\n",
              "      <td>66</td>\n",
              "      <td>50460000</td>\n",
              "      <td>สำนักงานเขตคลองสามวา</td>\n",
              "      <td>NaN</td>\n",
              "      <td>งบลงทุน</td>\n",
              "      <td>ขุดลอกคลองผักกะเฉด</td>\n",
              "      <td>3686000</td>\n",
              "    </tr>\n",
              "    <tr>\n",
              "      <th>688</th>\n",
              "      <td>งบเพิ่มเติม</td>\n",
              "      <td>1</td>\n",
              "      <td>66</td>\n",
              "      <td>50460000</td>\n",
              "      <td>สำนักงานเขตคลองสามวา</td>\n",
              "      <td>NaN</td>\n",
              "      <td>งบลงทุน</td>\n",
              "      <td>ขุดลอกคลองบึงทรายกองดิน</td>\n",
              "      <td>2575000</td>\n",
              "    </tr>\n",
              "    <tr>\n",
              "      <th>689</th>\n",
              "      <td>งบเพิ่มเติม</td>\n",
              "      <td>1</td>\n",
              "      <td>66</td>\n",
              "      <td>50460000</td>\n",
              "      <td>สำนักงานเขตคลองสามวา</td>\n",
              "      <td>NaN</td>\n",
              "      <td>งบลงทุน</td>\n",
              "      <td>ขุดลอกลำรางซาฟารี</td>\n",
              "      <td>689000</td>\n",
              "    </tr>\n",
              "    <tr>\n",
              "      <th>690</th>\n",
              "      <td>งบเพิ่มเติม</td>\n",
              "      <td>1</td>\n",
              "      <td>66</td>\n",
              "      <td>50460000</td>\n",
              "      <td>สำนักงานเขตคลองสามวา</td>\n",
              "      <td>NaN</td>\n",
              "      <td>งบลงทุน</td>\n",
              "      <td>ขุดลอกลำรางตาจันทร์</td>\n",
              "      <td>464000</td>\n",
              "    </tr>\n",
              "    <tr>\n",
              "      <th>691</th>\n",
              "      <td>งบเพิ่มเติม</td>\n",
              "      <td>1</td>\n",
              "      <td>66</td>\n",
              "      <td>50500000</td>\n",
              "      <td>สำนักงานเขตบางบอน</td>\n",
              "      <td>NaN</td>\n",
              "      <td>งบลงทุน</td>\n",
              "      <td>ขุดลอกคลองบางบอนต่อจากของเดิมถึงคลองนายผล</td>\n",
              "      <td>7578000</td>\n",
              "    </tr>\n",
              "  </tbody>\n",
              "</table>\n",
              "</div>\n",
              "      <button class=\"colab-df-convert\" onclick=\"convertToInteractive('df-0ee6d942-7928-4319-8b3a-2e740b66a626')\"\n",
              "              title=\"Convert this dataframe to an interactive table.\"\n",
              "              style=\"display:none;\">\n",
              "\n",
              "  <svg xmlns=\"http://www.w3.org/2000/svg\" height=\"24px\"viewBox=\"0 0 24 24\"\n",
              "       width=\"24px\">\n",
              "    <path d=\"M0 0h24v24H0V0z\" fill=\"none\"/>\n",
              "    <path d=\"M18.56 5.44l.94 2.06.94-2.06 2.06-.94-2.06-.94-.94-2.06-.94 2.06-2.06.94zm-11 1L8.5 8.5l.94-2.06 2.06-.94-2.06-.94L8.5 2.5l-.94 2.06-2.06.94zm10 10l.94 2.06.94-2.06 2.06-.94-2.06-.94-.94-2.06-.94 2.06-2.06.94z\"/><path d=\"M17.41 7.96l-1.37-1.37c-.4-.4-.92-.59-1.43-.59-.52 0-1.04.2-1.43.59L10.3 9.45l-7.72 7.72c-.78.78-.78 2.05 0 2.83L4 21.41c.39.39.9.59 1.41.59.51 0 1.02-.2 1.41-.59l7.78-7.78 2.81-2.81c.8-.78.8-2.07 0-2.86zM5.41 20L4 18.59l7.72-7.72 1.47 1.35L5.41 20z\"/>\n",
              "  </svg>\n",
              "      </button>\n",
              "\n",
              "\n",
              "\n",
              "    <div id=\"df-904d234d-f0ac-4cbf-b59f-60fb850512b4\">\n",
              "      <button class=\"colab-df-quickchart\" onclick=\"quickchart('df-904d234d-f0ac-4cbf-b59f-60fb850512b4')\"\n",
              "              title=\"Suggest charts.\"\n",
              "              style=\"display:none;\">\n",
              "\n",
              "<svg xmlns=\"http://www.w3.org/2000/svg\" height=\"24px\"viewBox=\"0 0 24 24\"\n",
              "     width=\"24px\">\n",
              "    <g>\n",
              "        <path d=\"M19 3H5c-1.1 0-2 .9-2 2v14c0 1.1.9 2 2 2h14c1.1 0 2-.9 2-2V5c0-1.1-.9-2-2-2zM9 17H7v-7h2v7zm4 0h-2V7h2v10zm4 0h-2v-4h2v4z\"/>\n",
              "    </g>\n",
              "</svg>\n",
              "      </button>\n",
              "    </div>\n",
              "\n",
              "<style>\n",
              "  .colab-df-quickchart {\n",
              "    background-color: #E8F0FE;\n",
              "    border: none;\n",
              "    border-radius: 50%;\n",
              "    cursor: pointer;\n",
              "    display: none;\n",
              "    fill: #1967D2;\n",
              "    height: 32px;\n",
              "    padding: 0 0 0 0;\n",
              "    width: 32px;\n",
              "  }\n",
              "\n",
              "  .colab-df-quickchart:hover {\n",
              "    background-color: #E2EBFA;\n",
              "    box-shadow: 0px 1px 2px rgba(60, 64, 67, 0.3), 0px 1px 3px 1px rgba(60, 64, 67, 0.15);\n",
              "    fill: #174EA6;\n",
              "  }\n",
              "\n",
              "  [theme=dark] .colab-df-quickchart {\n",
              "    background-color: #3B4455;\n",
              "    fill: #D2E3FC;\n",
              "  }\n",
              "\n",
              "  [theme=dark] .colab-df-quickchart:hover {\n",
              "    background-color: #434B5C;\n",
              "    box-shadow: 0px 1px 3px 1px rgba(0, 0, 0, 0.15);\n",
              "    filter: drop-shadow(0px 1px 2px rgba(0, 0, 0, 0.3));\n",
              "    fill: #FFFFFF;\n",
              "  }\n",
              "</style>\n",
              "\n",
              "    <script>\n",
              "      async function quickchart(key) {\n",
              "        const containerElement = document.querySelector('#' + key);\n",
              "        const charts = await google.colab.kernel.invokeFunction(\n",
              "            'suggestCharts', [key], {});\n",
              "      }\n",
              "    </script>\n",
              "\n",
              "      <script>\n",
              "\n",
              "function displayQuickchartButton(domScope) {\n",
              "  let quickchartButtonEl =\n",
              "    domScope.querySelector('#df-904d234d-f0ac-4cbf-b59f-60fb850512b4 button.colab-df-quickchart');\n",
              "  quickchartButtonEl.style.display =\n",
              "    google.colab.kernel.accessAllowed ? 'block' : 'none';\n",
              "}\n",
              "\n",
              "        displayQuickchartButton(document);\n",
              "      </script>\n",
              "      <style>\n",
              "    .colab-df-container {\n",
              "      display:flex;\n",
              "      flex-wrap:wrap;\n",
              "      gap: 12px;\n",
              "    }\n",
              "\n",
              "    .colab-df-convert {\n",
              "      background-color: #E8F0FE;\n",
              "      border: none;\n",
              "      border-radius: 50%;\n",
              "      cursor: pointer;\n",
              "      display: none;\n",
              "      fill: #1967D2;\n",
              "      height: 32px;\n",
              "      padding: 0 0 0 0;\n",
              "      width: 32px;\n",
              "    }\n",
              "\n",
              "    .colab-df-convert:hover {\n",
              "      background-color: #E2EBFA;\n",
              "      box-shadow: 0px 1px 2px rgba(60, 64, 67, 0.3), 0px 1px 3px 1px rgba(60, 64, 67, 0.15);\n",
              "      fill: #174EA6;\n",
              "    }\n",
              "\n",
              "    [theme=dark] .colab-df-convert {\n",
              "      background-color: #3B4455;\n",
              "      fill: #D2E3FC;\n",
              "    }\n",
              "\n",
              "    [theme=dark] .colab-df-convert:hover {\n",
              "      background-color: #434B5C;\n",
              "      box-shadow: 0px 1px 3px 1px rgba(0, 0, 0, 0.15);\n",
              "      filter: drop-shadow(0px 1px 2px rgba(0, 0, 0, 0.3));\n",
              "      fill: #FFFFFF;\n",
              "    }\n",
              "  </style>\n",
              "\n",
              "      <script>\n",
              "        const buttonEl =\n",
              "          document.querySelector('#df-0ee6d942-7928-4319-8b3a-2e740b66a626 button.colab-df-convert');\n",
              "        buttonEl.style.display =\n",
              "          google.colab.kernel.accessAllowed ? 'block' : 'none';\n",
              "\n",
              "        async function convertToInteractive(key) {\n",
              "          const element = document.querySelector('#df-0ee6d942-7928-4319-8b3a-2e740b66a626');\n",
              "          const dataTable =\n",
              "            await google.colab.kernel.invokeFunction('convertToInteractive',\n",
              "                                                     [key], {});\n",
              "          if (!dataTable) return;\n",
              "\n",
              "          const docLinkHtml = 'Like what you see? Visit the ' +\n",
              "            '<a target=\"_blank\" href=https://colab.research.google.com/notebooks/data_table.ipynb>data table notebook</a>'\n",
              "            + ' to learn more about interactive tables.';\n",
              "          element.innerHTML = '';\n",
              "          dataTable['output_type'] = 'display_data';\n",
              "          await google.colab.output.renderOutput(dataTable, element);\n",
              "          const docLink = document.createElement('div');\n",
              "          docLink.innerHTML = docLinkHtml;\n",
              "          element.appendChild(docLink);\n",
              "        }\n",
              "      </script>\n",
              "    </div>\n",
              "  </div>\n"
            ]
          },
          "metadata": {},
          "execution_count": 33
        }
      ]
    },
    {
      "cell_type": "code",
      "source": [
        "small_df[[False,True,True,False,False]]"
      ],
      "metadata": {
        "id": "wtR7NMb22Sio",
        "outputId": "92b003b1-353d-4517-8020-87adb22b2d03",
        "colab": {
          "base_uri": "https://localhost:8080/",
          "height": 156
        }
      },
      "execution_count": 34,
      "outputs": [
        {
          "output_type": "execute_result",
          "data": {
            "text/plain": [
              "    Budget_resource  Issue_No  Fiscal_year  Department_code  \\\n",
              "688     งบเพิ่มเติม         1           66         50460000   \n",
              "689     งบเพิ่มเติม         1           66         50460000   \n",
              "\n",
              "               Department Core_budget_code Expenditure_category  \\\n",
              "688  สำนักงานเขตคลองสามวา              NaN              งบลงทุน   \n",
              "689  สำนักงานเขตคลองสามวา              NaN              งบลงทุน   \n",
              "\n",
              "                   Item_name  Approved_buget  \n",
              "688  ขุดลอกคลองบึงทรายกองดิน         2575000  \n",
              "689        ขุดลอกลำรางซาฟารี          689000  "
            ],
            "text/html": [
              "\n",
              "\n",
              "  <div id=\"df-25cd6a57-b93c-4c64-8b74-cb1d0fecdcbf\">\n",
              "    <div class=\"colab-df-container\">\n",
              "      <div>\n",
              "<style scoped>\n",
              "    .dataframe tbody tr th:only-of-type {\n",
              "        vertical-align: middle;\n",
              "    }\n",
              "\n",
              "    .dataframe tbody tr th {\n",
              "        vertical-align: top;\n",
              "    }\n",
              "\n",
              "    .dataframe thead th {\n",
              "        text-align: right;\n",
              "    }\n",
              "</style>\n",
              "<table border=\"1\" class=\"dataframe\">\n",
              "  <thead>\n",
              "    <tr style=\"text-align: right;\">\n",
              "      <th></th>\n",
              "      <th>Budget_resource</th>\n",
              "      <th>Issue_No</th>\n",
              "      <th>Fiscal_year</th>\n",
              "      <th>Department_code</th>\n",
              "      <th>Department</th>\n",
              "      <th>Core_budget_code</th>\n",
              "      <th>Expenditure_category</th>\n",
              "      <th>Item_name</th>\n",
              "      <th>Approved_buget</th>\n",
              "    </tr>\n",
              "  </thead>\n",
              "  <tbody>\n",
              "    <tr>\n",
              "      <th>688</th>\n",
              "      <td>งบเพิ่มเติม</td>\n",
              "      <td>1</td>\n",
              "      <td>66</td>\n",
              "      <td>50460000</td>\n",
              "      <td>สำนักงานเขตคลองสามวา</td>\n",
              "      <td>NaN</td>\n",
              "      <td>งบลงทุน</td>\n",
              "      <td>ขุดลอกคลองบึงทรายกองดิน</td>\n",
              "      <td>2575000</td>\n",
              "    </tr>\n",
              "    <tr>\n",
              "      <th>689</th>\n",
              "      <td>งบเพิ่มเติม</td>\n",
              "      <td>1</td>\n",
              "      <td>66</td>\n",
              "      <td>50460000</td>\n",
              "      <td>สำนักงานเขตคลองสามวา</td>\n",
              "      <td>NaN</td>\n",
              "      <td>งบลงทุน</td>\n",
              "      <td>ขุดลอกลำรางซาฟารี</td>\n",
              "      <td>689000</td>\n",
              "    </tr>\n",
              "  </tbody>\n",
              "</table>\n",
              "</div>\n",
              "      <button class=\"colab-df-convert\" onclick=\"convertToInteractive('df-25cd6a57-b93c-4c64-8b74-cb1d0fecdcbf')\"\n",
              "              title=\"Convert this dataframe to an interactive table.\"\n",
              "              style=\"display:none;\">\n",
              "\n",
              "  <svg xmlns=\"http://www.w3.org/2000/svg\" height=\"24px\"viewBox=\"0 0 24 24\"\n",
              "       width=\"24px\">\n",
              "    <path d=\"M0 0h24v24H0V0z\" fill=\"none\"/>\n",
              "    <path d=\"M18.56 5.44l.94 2.06.94-2.06 2.06-.94-2.06-.94-.94-2.06-.94 2.06-2.06.94zm-11 1L8.5 8.5l.94-2.06 2.06-.94-2.06-.94L8.5 2.5l-.94 2.06-2.06.94zm10 10l.94 2.06.94-2.06 2.06-.94-2.06-.94-.94-2.06-.94 2.06-2.06.94z\"/><path d=\"M17.41 7.96l-1.37-1.37c-.4-.4-.92-.59-1.43-.59-.52 0-1.04.2-1.43.59L10.3 9.45l-7.72 7.72c-.78.78-.78 2.05 0 2.83L4 21.41c.39.39.9.59 1.41.59.51 0 1.02-.2 1.41-.59l7.78-7.78 2.81-2.81c.8-.78.8-2.07 0-2.86zM5.41 20L4 18.59l7.72-7.72 1.47 1.35L5.41 20z\"/>\n",
              "  </svg>\n",
              "      </button>\n",
              "\n",
              "\n",
              "\n",
              "    <div id=\"df-f09c5db0-3cf7-4b50-85be-8ef219bf8215\">\n",
              "      <button class=\"colab-df-quickchart\" onclick=\"quickchart('df-f09c5db0-3cf7-4b50-85be-8ef219bf8215')\"\n",
              "              title=\"Suggest charts.\"\n",
              "              style=\"display:none;\">\n",
              "\n",
              "<svg xmlns=\"http://www.w3.org/2000/svg\" height=\"24px\"viewBox=\"0 0 24 24\"\n",
              "     width=\"24px\">\n",
              "    <g>\n",
              "        <path d=\"M19 3H5c-1.1 0-2 .9-2 2v14c0 1.1.9 2 2 2h14c1.1 0 2-.9 2-2V5c0-1.1-.9-2-2-2zM9 17H7v-7h2v7zm4 0h-2V7h2v10zm4 0h-2v-4h2v4z\"/>\n",
              "    </g>\n",
              "</svg>\n",
              "      </button>\n",
              "    </div>\n",
              "\n",
              "<style>\n",
              "  .colab-df-quickchart {\n",
              "    background-color: #E8F0FE;\n",
              "    border: none;\n",
              "    border-radius: 50%;\n",
              "    cursor: pointer;\n",
              "    display: none;\n",
              "    fill: #1967D2;\n",
              "    height: 32px;\n",
              "    padding: 0 0 0 0;\n",
              "    width: 32px;\n",
              "  }\n",
              "\n",
              "  .colab-df-quickchart:hover {\n",
              "    background-color: #E2EBFA;\n",
              "    box-shadow: 0px 1px 2px rgba(60, 64, 67, 0.3), 0px 1px 3px 1px rgba(60, 64, 67, 0.15);\n",
              "    fill: #174EA6;\n",
              "  }\n",
              "\n",
              "  [theme=dark] .colab-df-quickchart {\n",
              "    background-color: #3B4455;\n",
              "    fill: #D2E3FC;\n",
              "  }\n",
              "\n",
              "  [theme=dark] .colab-df-quickchart:hover {\n",
              "    background-color: #434B5C;\n",
              "    box-shadow: 0px 1px 3px 1px rgba(0, 0, 0, 0.15);\n",
              "    filter: drop-shadow(0px 1px 2px rgba(0, 0, 0, 0.3));\n",
              "    fill: #FFFFFF;\n",
              "  }\n",
              "</style>\n",
              "\n",
              "    <script>\n",
              "      async function quickchart(key) {\n",
              "        const containerElement = document.querySelector('#' + key);\n",
              "        const charts = await google.colab.kernel.invokeFunction(\n",
              "            'suggestCharts', [key], {});\n",
              "      }\n",
              "    </script>\n",
              "\n",
              "      <script>\n",
              "\n",
              "function displayQuickchartButton(domScope) {\n",
              "  let quickchartButtonEl =\n",
              "    domScope.querySelector('#df-f09c5db0-3cf7-4b50-85be-8ef219bf8215 button.colab-df-quickchart');\n",
              "  quickchartButtonEl.style.display =\n",
              "    google.colab.kernel.accessAllowed ? 'block' : 'none';\n",
              "}\n",
              "\n",
              "        displayQuickchartButton(document);\n",
              "      </script>\n",
              "      <style>\n",
              "    .colab-df-container {\n",
              "      display:flex;\n",
              "      flex-wrap:wrap;\n",
              "      gap: 12px;\n",
              "    }\n",
              "\n",
              "    .colab-df-convert {\n",
              "      background-color: #E8F0FE;\n",
              "      border: none;\n",
              "      border-radius: 50%;\n",
              "      cursor: pointer;\n",
              "      display: none;\n",
              "      fill: #1967D2;\n",
              "      height: 32px;\n",
              "      padding: 0 0 0 0;\n",
              "      width: 32px;\n",
              "    }\n",
              "\n",
              "    .colab-df-convert:hover {\n",
              "      background-color: #E2EBFA;\n",
              "      box-shadow: 0px 1px 2px rgba(60, 64, 67, 0.3), 0px 1px 3px 1px rgba(60, 64, 67, 0.15);\n",
              "      fill: #174EA6;\n",
              "    }\n",
              "\n",
              "    [theme=dark] .colab-df-convert {\n",
              "      background-color: #3B4455;\n",
              "      fill: #D2E3FC;\n",
              "    }\n",
              "\n",
              "    [theme=dark] .colab-df-convert:hover {\n",
              "      background-color: #434B5C;\n",
              "      box-shadow: 0px 1px 3px 1px rgba(0, 0, 0, 0.15);\n",
              "      filter: drop-shadow(0px 1px 2px rgba(0, 0, 0, 0.3));\n",
              "      fill: #FFFFFF;\n",
              "    }\n",
              "  </style>\n",
              "\n",
              "      <script>\n",
              "        const buttonEl =\n",
              "          document.querySelector('#df-25cd6a57-b93c-4c64-8b74-cb1d0fecdcbf button.colab-df-convert');\n",
              "        buttonEl.style.display =\n",
              "          google.colab.kernel.accessAllowed ? 'block' : 'none';\n",
              "\n",
              "        async function convertToInteractive(key) {\n",
              "          const element = document.querySelector('#df-25cd6a57-b93c-4c64-8b74-cb1d0fecdcbf');\n",
              "          const dataTable =\n",
              "            await google.colab.kernel.invokeFunction('convertToInteractive',\n",
              "                                                     [key], {});\n",
              "          if (!dataTable) return;\n",
              "\n",
              "          const docLinkHtml = 'Like what you see? Visit the ' +\n",
              "            '<a target=\"_blank\" href=https://colab.research.google.com/notebooks/data_table.ipynb>data table notebook</a>'\n",
              "            + ' to learn more about interactive tables.';\n",
              "          element.innerHTML = '';\n",
              "          dataTable['output_type'] = 'display_data';\n",
              "          await google.colab.output.renderOutput(dataTable, element);\n",
              "          const docLink = document.createElement('div');\n",
              "          docLink.innerHTML = docLinkHtml;\n",
              "          element.appendChild(docLink);\n",
              "        }\n",
              "      </script>\n",
              "    </div>\n",
              "  </div>\n"
            ]
          },
          "metadata": {},
          "execution_count": 34
        }
      ]
    },
    {
      "cell_type": "code",
      "source": [],
      "metadata": {
        "id": "19BhKdFr8j-w"
      },
      "execution_count": null,
      "outputs": []
    },
    {
      "cell_type": "markdown",
      "source": [
        "#ปั้น list of logics จากตาราง pandas\n"
      ],
      "metadata": {
        "id": "7BA5gd1Q8HbJ"
      }
    },
    {
      "cell_type": "code",
      "source": [
        "small_df['Approved_buget'] < 1000000"
      ],
      "metadata": {
        "id": "fjNYsVXJ8lES",
        "outputId": "49e293db-9bd3-4eb3-d76e-36c73ef9a615",
        "colab": {
          "base_uri": "https://localhost:8080/"
        }
      },
      "execution_count": 36,
      "outputs": [
        {
          "output_type": "execute_result",
          "data": {
            "text/plain": [
              "687    False\n",
              "688    False\n",
              "689     True\n",
              "690     True\n",
              "691    False\n",
              "Name: Approved_buget, dtype: bool"
            ]
          },
          "metadata": {},
          "execution_count": 36
        }
      ]
    },
    {
      "cell_type": "code",
      "source": [
        "small_df[small_df['Approved_buget'] < 1000000]"
      ],
      "metadata": {
        "id": "9gTZ3hdZ8-uR",
        "outputId": "da09bda2-63c7-4836-8356-1045d309ffe4",
        "colab": {
          "base_uri": "https://localhost:8080/",
          "height": 156
        }
      },
      "execution_count": 37,
      "outputs": [
        {
          "output_type": "execute_result",
          "data": {
            "text/plain": [
              "    Budget_resource  Issue_No  Fiscal_year  Department_code  \\\n",
              "689     งบเพิ่มเติม         1           66         50460000   \n",
              "690     งบเพิ่มเติม         1           66         50460000   \n",
              "\n",
              "               Department Core_budget_code Expenditure_category  \\\n",
              "689  สำนักงานเขตคลองสามวา              NaN              งบลงทุน   \n",
              "690  สำนักงานเขตคลองสามวา              NaN              งบลงทุน   \n",
              "\n",
              "               Item_name  Approved_buget  \n",
              "689    ขุดลอกลำรางซาฟารี          689000  \n",
              "690  ขุดลอกลำรางตาจันทร์          464000  "
            ],
            "text/html": [
              "\n",
              "\n",
              "  <div id=\"df-2ba46686-2914-4a13-8af6-91a6d34d301b\">\n",
              "    <div class=\"colab-df-container\">\n",
              "      <div>\n",
              "<style scoped>\n",
              "    .dataframe tbody tr th:only-of-type {\n",
              "        vertical-align: middle;\n",
              "    }\n",
              "\n",
              "    .dataframe tbody tr th {\n",
              "        vertical-align: top;\n",
              "    }\n",
              "\n",
              "    .dataframe thead th {\n",
              "        text-align: right;\n",
              "    }\n",
              "</style>\n",
              "<table border=\"1\" class=\"dataframe\">\n",
              "  <thead>\n",
              "    <tr style=\"text-align: right;\">\n",
              "      <th></th>\n",
              "      <th>Budget_resource</th>\n",
              "      <th>Issue_No</th>\n",
              "      <th>Fiscal_year</th>\n",
              "      <th>Department_code</th>\n",
              "      <th>Department</th>\n",
              "      <th>Core_budget_code</th>\n",
              "      <th>Expenditure_category</th>\n",
              "      <th>Item_name</th>\n",
              "      <th>Approved_buget</th>\n",
              "    </tr>\n",
              "  </thead>\n",
              "  <tbody>\n",
              "    <tr>\n",
              "      <th>689</th>\n",
              "      <td>งบเพิ่มเติม</td>\n",
              "      <td>1</td>\n",
              "      <td>66</td>\n",
              "      <td>50460000</td>\n",
              "      <td>สำนักงานเขตคลองสามวา</td>\n",
              "      <td>NaN</td>\n",
              "      <td>งบลงทุน</td>\n",
              "      <td>ขุดลอกลำรางซาฟารี</td>\n",
              "      <td>689000</td>\n",
              "    </tr>\n",
              "    <tr>\n",
              "      <th>690</th>\n",
              "      <td>งบเพิ่มเติม</td>\n",
              "      <td>1</td>\n",
              "      <td>66</td>\n",
              "      <td>50460000</td>\n",
              "      <td>สำนักงานเขตคลองสามวา</td>\n",
              "      <td>NaN</td>\n",
              "      <td>งบลงทุน</td>\n",
              "      <td>ขุดลอกลำรางตาจันทร์</td>\n",
              "      <td>464000</td>\n",
              "    </tr>\n",
              "  </tbody>\n",
              "</table>\n",
              "</div>\n",
              "      <button class=\"colab-df-convert\" onclick=\"convertToInteractive('df-2ba46686-2914-4a13-8af6-91a6d34d301b')\"\n",
              "              title=\"Convert this dataframe to an interactive table.\"\n",
              "              style=\"display:none;\">\n",
              "\n",
              "  <svg xmlns=\"http://www.w3.org/2000/svg\" height=\"24px\"viewBox=\"0 0 24 24\"\n",
              "       width=\"24px\">\n",
              "    <path d=\"M0 0h24v24H0V0z\" fill=\"none\"/>\n",
              "    <path d=\"M18.56 5.44l.94 2.06.94-2.06 2.06-.94-2.06-.94-.94-2.06-.94 2.06-2.06.94zm-11 1L8.5 8.5l.94-2.06 2.06-.94-2.06-.94L8.5 2.5l-.94 2.06-2.06.94zm10 10l.94 2.06.94-2.06 2.06-.94-2.06-.94-.94-2.06-.94 2.06-2.06.94z\"/><path d=\"M17.41 7.96l-1.37-1.37c-.4-.4-.92-.59-1.43-.59-.52 0-1.04.2-1.43.59L10.3 9.45l-7.72 7.72c-.78.78-.78 2.05 0 2.83L4 21.41c.39.39.9.59 1.41.59.51 0 1.02-.2 1.41-.59l7.78-7.78 2.81-2.81c.8-.78.8-2.07 0-2.86zM5.41 20L4 18.59l7.72-7.72 1.47 1.35L5.41 20z\"/>\n",
              "  </svg>\n",
              "      </button>\n",
              "\n",
              "\n",
              "\n",
              "    <div id=\"df-337d7db8-c059-47f8-b935-41a3375a7432\">\n",
              "      <button class=\"colab-df-quickchart\" onclick=\"quickchart('df-337d7db8-c059-47f8-b935-41a3375a7432')\"\n",
              "              title=\"Suggest charts.\"\n",
              "              style=\"display:none;\">\n",
              "\n",
              "<svg xmlns=\"http://www.w3.org/2000/svg\" height=\"24px\"viewBox=\"0 0 24 24\"\n",
              "     width=\"24px\">\n",
              "    <g>\n",
              "        <path d=\"M19 3H5c-1.1 0-2 .9-2 2v14c0 1.1.9 2 2 2h14c1.1 0 2-.9 2-2V5c0-1.1-.9-2-2-2zM9 17H7v-7h2v7zm4 0h-2V7h2v10zm4 0h-2v-4h2v4z\"/>\n",
              "    </g>\n",
              "</svg>\n",
              "      </button>\n",
              "    </div>\n",
              "\n",
              "<style>\n",
              "  .colab-df-quickchart {\n",
              "    background-color: #E8F0FE;\n",
              "    border: none;\n",
              "    border-radius: 50%;\n",
              "    cursor: pointer;\n",
              "    display: none;\n",
              "    fill: #1967D2;\n",
              "    height: 32px;\n",
              "    padding: 0 0 0 0;\n",
              "    width: 32px;\n",
              "  }\n",
              "\n",
              "  .colab-df-quickchart:hover {\n",
              "    background-color: #E2EBFA;\n",
              "    box-shadow: 0px 1px 2px rgba(60, 64, 67, 0.3), 0px 1px 3px 1px rgba(60, 64, 67, 0.15);\n",
              "    fill: #174EA6;\n",
              "  }\n",
              "\n",
              "  [theme=dark] .colab-df-quickchart {\n",
              "    background-color: #3B4455;\n",
              "    fill: #D2E3FC;\n",
              "  }\n",
              "\n",
              "  [theme=dark] .colab-df-quickchart:hover {\n",
              "    background-color: #434B5C;\n",
              "    box-shadow: 0px 1px 3px 1px rgba(0, 0, 0, 0.15);\n",
              "    filter: drop-shadow(0px 1px 2px rgba(0, 0, 0, 0.3));\n",
              "    fill: #FFFFFF;\n",
              "  }\n",
              "</style>\n",
              "\n",
              "    <script>\n",
              "      async function quickchart(key) {\n",
              "        const containerElement = document.querySelector('#' + key);\n",
              "        const charts = await google.colab.kernel.invokeFunction(\n",
              "            'suggestCharts', [key], {});\n",
              "      }\n",
              "    </script>\n",
              "\n",
              "      <script>\n",
              "\n",
              "function displayQuickchartButton(domScope) {\n",
              "  let quickchartButtonEl =\n",
              "    domScope.querySelector('#df-337d7db8-c059-47f8-b935-41a3375a7432 button.colab-df-quickchart');\n",
              "  quickchartButtonEl.style.display =\n",
              "    google.colab.kernel.accessAllowed ? 'block' : 'none';\n",
              "}\n",
              "\n",
              "        displayQuickchartButton(document);\n",
              "      </script>\n",
              "      <style>\n",
              "    .colab-df-container {\n",
              "      display:flex;\n",
              "      flex-wrap:wrap;\n",
              "      gap: 12px;\n",
              "    }\n",
              "\n",
              "    .colab-df-convert {\n",
              "      background-color: #E8F0FE;\n",
              "      border: none;\n",
              "      border-radius: 50%;\n",
              "      cursor: pointer;\n",
              "      display: none;\n",
              "      fill: #1967D2;\n",
              "      height: 32px;\n",
              "      padding: 0 0 0 0;\n",
              "      width: 32px;\n",
              "    }\n",
              "\n",
              "    .colab-df-convert:hover {\n",
              "      background-color: #E2EBFA;\n",
              "      box-shadow: 0px 1px 2px rgba(60, 64, 67, 0.3), 0px 1px 3px 1px rgba(60, 64, 67, 0.15);\n",
              "      fill: #174EA6;\n",
              "    }\n",
              "\n",
              "    [theme=dark] .colab-df-convert {\n",
              "      background-color: #3B4455;\n",
              "      fill: #D2E3FC;\n",
              "    }\n",
              "\n",
              "    [theme=dark] .colab-df-convert:hover {\n",
              "      background-color: #434B5C;\n",
              "      box-shadow: 0px 1px 3px 1px rgba(0, 0, 0, 0.15);\n",
              "      filter: drop-shadow(0px 1px 2px rgba(0, 0, 0, 0.3));\n",
              "      fill: #FFFFFF;\n",
              "    }\n",
              "  </style>\n",
              "\n",
              "      <script>\n",
              "        const buttonEl =\n",
              "          document.querySelector('#df-2ba46686-2914-4a13-8af6-91a6d34d301b button.colab-df-convert');\n",
              "        buttonEl.style.display =\n",
              "          google.colab.kernel.accessAllowed ? 'block' : 'none';\n",
              "\n",
              "        async function convertToInteractive(key) {\n",
              "          const element = document.querySelector('#df-2ba46686-2914-4a13-8af6-91a6d34d301b');\n",
              "          const dataTable =\n",
              "            await google.colab.kernel.invokeFunction('convertToInteractive',\n",
              "                                                     [key], {});\n",
              "          if (!dataTable) return;\n",
              "\n",
              "          const docLinkHtml = 'Like what you see? Visit the ' +\n",
              "            '<a target=\"_blank\" href=https://colab.research.google.com/notebooks/data_table.ipynb>data table notebook</a>'\n",
              "            + ' to learn more about interactive tables.';\n",
              "          element.innerHTML = '';\n",
              "          dataTable['output_type'] = 'display_data';\n",
              "          await google.colab.output.renderOutput(dataTable, element);\n",
              "          const docLink = document.createElement('div');\n",
              "          docLink.innerHTML = docLinkHtml;\n",
              "          element.appendChild(docLink);\n",
              "        }\n",
              "      </script>\n",
              "    </div>\n",
              "  </div>\n"
            ]
          },
          "metadata": {},
          "execution_count": 37
        }
      ]
    },
    {
      "cell_type": "markdown",
      "source": [
        "#Quiz 3\n",
        "รายการที่ได้รับการอนุมัติงบ มากกว่า 1 ล้้านบาท แต่ไม่เกิน 2 ล้านบาท"
      ],
      "metadata": {
        "id": "cQ3VQA9K9RzZ"
      }
    },
    {
      "cell_type": "code",
      "source": [
        "big_df =data1.iloc[:]\n",
        "big_df"
      ],
      "metadata": {
        "id": "Ogvm2fpE_Ene",
        "outputId": "0183394e-484c-4f3b-cad8-be77273eea25",
        "colab": {
          "base_uri": "https://localhost:8080/",
          "height": 641
        }
      },
      "execution_count": 52,
      "outputs": [
        {
          "output_type": "execute_result",
          "data": {
            "text/plain": [
              "    Budget_resource  Issue_No  Fiscal_year  Department_code  \\\n",
              "0         งบประจำปี         0           62         11000000   \n",
              "1         งบประจำปี         0           62         11000000   \n",
              "2         งบประจำปี         0           62         11000000   \n",
              "3         งบประจำปี         0           62         11000000   \n",
              "4         งบประจำปี         0           62         11000000   \n",
              "..              ...       ...          ...              ...   \n",
              "687     งบเพิ่มเติม         1           66         50460000   \n",
              "688     งบเพิ่มเติม         1           66         50460000   \n",
              "689     งบเพิ่มเติม         1           66         50460000   \n",
              "690     งบเพิ่มเติม         1           66         50460000   \n",
              "691     งบเพิ่มเติม         1           66         50500000   \n",
              "\n",
              "               Department                                   Core_budget_code  \\\n",
              "0        สำนักการระบายน้ำ  12-เงินสำรองจ่ายทั่วไป กรณีค่าใช้จ่ายต่างๆ เกี...   \n",
              "1        สำนักการระบายน้ำ  12-เงินสำรองจ่ายทั่วไป กรณีค่าใช้จ่ายต่างๆ เกี...   \n",
              "2        สำนักการระบายน้ำ  12-เงินสำรองจ่ายทั่วไป กรณีค่าใช้จ่ายต่างๆ เกี...   \n",
              "3        สำนักการระบายน้ำ  12-เงินสำรองจ่ายทั่วไป กรณีค่าใช้จ่ายต่างๆ เกี...   \n",
              "4        สำนักการระบายน้ำ  12-เงินสำรองจ่ายทั่วไป กรณีค่าใช้จ่ายต่างๆ เกี...   \n",
              "..                    ...                                                ...   \n",
              "687  สำนักงานเขตคลองสามวา                                                NaN   \n",
              "688  สำนักงานเขตคลองสามวา                                                NaN   \n",
              "689  สำนักงานเขตคลองสามวา                                                NaN   \n",
              "690  สำนักงานเขตคลองสามวา                                                NaN   \n",
              "691     สำนักงานเขตบางบอน                                                NaN   \n",
              "\n",
              "    Expenditure_category                                          Item_name  \\\n",
              "0                งบลงทุน        ขุดลอกคลองบางกะปิจากคลองสามเสนถึงคลองแสนแสบ   \n",
              "1                งบลงทุน  ขุดลอกคลองทรงกระเทียมจากคลองลาดพร้าวถึงถนนโชคช...   \n",
              "2                งบลงทุน          ขุดลอกคลองเป้งจากคลองแสนแสบถึงซอยเจริญสุข   \n",
              "3                งบลงทุน  ขุดลอกคลองลำพังพวยจากถนนศรีบูรพาถึงสถานีสูบน้ำ...   \n",
              "4                งบลงทุน  ขุดลอกบึงรางเข้จากคลองพระยาราชมนตรีถึงถนนบางขุ...   \n",
              "..                   ...                                                ...   \n",
              "687              งบลงทุน                                 ขุดลอกคลองผักกะเฉด   \n",
              "688              งบลงทุน                            ขุดลอกคลองบึงทรายกองดิน   \n",
              "689              งบลงทุน                                  ขุดลอกลำรางซาฟารี   \n",
              "690              งบลงทุน                                ขุดลอกลำรางตาจันทร์   \n",
              "691              งบลงทุน          ขุดลอกคลองบางบอนต่อจากของเดิมถึงคลองนายผล   \n",
              "\n",
              "     Approved_buget  \n",
              "0           1193000  \n",
              "1           1100000  \n",
              "2           3075000  \n",
              "3           6240000  \n",
              "4           2685000  \n",
              "..              ...  \n",
              "687         3686000  \n",
              "688         2575000  \n",
              "689          689000  \n",
              "690          464000  \n",
              "691         7578000  \n",
              "\n",
              "[692 rows x 9 columns]"
            ],
            "text/html": [
              "\n",
              "\n",
              "  <div id=\"df-af3375e4-ee0d-4b0b-8a80-ae8079752b4c\">\n",
              "    <div class=\"colab-df-container\">\n",
              "      <div>\n",
              "<style scoped>\n",
              "    .dataframe tbody tr th:only-of-type {\n",
              "        vertical-align: middle;\n",
              "    }\n",
              "\n",
              "    .dataframe tbody tr th {\n",
              "        vertical-align: top;\n",
              "    }\n",
              "\n",
              "    .dataframe thead th {\n",
              "        text-align: right;\n",
              "    }\n",
              "</style>\n",
              "<table border=\"1\" class=\"dataframe\">\n",
              "  <thead>\n",
              "    <tr style=\"text-align: right;\">\n",
              "      <th></th>\n",
              "      <th>Budget_resource</th>\n",
              "      <th>Issue_No</th>\n",
              "      <th>Fiscal_year</th>\n",
              "      <th>Department_code</th>\n",
              "      <th>Department</th>\n",
              "      <th>Core_budget_code</th>\n",
              "      <th>Expenditure_category</th>\n",
              "      <th>Item_name</th>\n",
              "      <th>Approved_buget</th>\n",
              "    </tr>\n",
              "  </thead>\n",
              "  <tbody>\n",
              "    <tr>\n",
              "      <th>0</th>\n",
              "      <td>งบประจำปี</td>\n",
              "      <td>0</td>\n",
              "      <td>62</td>\n",
              "      <td>11000000</td>\n",
              "      <td>สำนักการระบายน้ำ</td>\n",
              "      <td>12-เงินสำรองจ่ายทั่วไป กรณีค่าใช้จ่ายต่างๆ เกี...</td>\n",
              "      <td>งบลงทุน</td>\n",
              "      <td>ขุดลอกคลองบางกะปิจากคลองสามเสนถึงคลองแสนแสบ</td>\n",
              "      <td>1193000</td>\n",
              "    </tr>\n",
              "    <tr>\n",
              "      <th>1</th>\n",
              "      <td>งบประจำปี</td>\n",
              "      <td>0</td>\n",
              "      <td>62</td>\n",
              "      <td>11000000</td>\n",
              "      <td>สำนักการระบายน้ำ</td>\n",
              "      <td>12-เงินสำรองจ่ายทั่วไป กรณีค่าใช้จ่ายต่างๆ เกี...</td>\n",
              "      <td>งบลงทุน</td>\n",
              "      <td>ขุดลอกคลองทรงกระเทียมจากคลองลาดพร้าวถึงถนนโชคช...</td>\n",
              "      <td>1100000</td>\n",
              "    </tr>\n",
              "    <tr>\n",
              "      <th>2</th>\n",
              "      <td>งบประจำปี</td>\n",
              "      <td>0</td>\n",
              "      <td>62</td>\n",
              "      <td>11000000</td>\n",
              "      <td>สำนักการระบายน้ำ</td>\n",
              "      <td>12-เงินสำรองจ่ายทั่วไป กรณีค่าใช้จ่ายต่างๆ เกี...</td>\n",
              "      <td>งบลงทุน</td>\n",
              "      <td>ขุดลอกคลองเป้งจากคลองแสนแสบถึงซอยเจริญสุข</td>\n",
              "      <td>3075000</td>\n",
              "    </tr>\n",
              "    <tr>\n",
              "      <th>3</th>\n",
              "      <td>งบประจำปี</td>\n",
              "      <td>0</td>\n",
              "      <td>62</td>\n",
              "      <td>11000000</td>\n",
              "      <td>สำนักการระบายน้ำ</td>\n",
              "      <td>12-เงินสำรองจ่ายทั่วไป กรณีค่าใช้จ่ายต่างๆ เกี...</td>\n",
              "      <td>งบลงทุน</td>\n",
              "      <td>ขุดลอกคลองลำพังพวยจากถนนศรีบูรพาถึงสถานีสูบน้ำ...</td>\n",
              "      <td>6240000</td>\n",
              "    </tr>\n",
              "    <tr>\n",
              "      <th>4</th>\n",
              "      <td>งบประจำปี</td>\n",
              "      <td>0</td>\n",
              "      <td>62</td>\n",
              "      <td>11000000</td>\n",
              "      <td>สำนักการระบายน้ำ</td>\n",
              "      <td>12-เงินสำรองจ่ายทั่วไป กรณีค่าใช้จ่ายต่างๆ เกี...</td>\n",
              "      <td>งบลงทุน</td>\n",
              "      <td>ขุดลอกบึงรางเข้จากคลองพระยาราชมนตรีถึงถนนบางขุ...</td>\n",
              "      <td>2685000</td>\n",
              "    </tr>\n",
              "    <tr>\n",
              "      <th>...</th>\n",
              "      <td>...</td>\n",
              "      <td>...</td>\n",
              "      <td>...</td>\n",
              "      <td>...</td>\n",
              "      <td>...</td>\n",
              "      <td>...</td>\n",
              "      <td>...</td>\n",
              "      <td>...</td>\n",
              "      <td>...</td>\n",
              "    </tr>\n",
              "    <tr>\n",
              "      <th>687</th>\n",
              "      <td>งบเพิ่มเติม</td>\n",
              "      <td>1</td>\n",
              "      <td>66</td>\n",
              "      <td>50460000</td>\n",
              "      <td>สำนักงานเขตคลองสามวา</td>\n",
              "      <td>NaN</td>\n",
              "      <td>งบลงทุน</td>\n",
              "      <td>ขุดลอกคลองผักกะเฉด</td>\n",
              "      <td>3686000</td>\n",
              "    </tr>\n",
              "    <tr>\n",
              "      <th>688</th>\n",
              "      <td>งบเพิ่มเติม</td>\n",
              "      <td>1</td>\n",
              "      <td>66</td>\n",
              "      <td>50460000</td>\n",
              "      <td>สำนักงานเขตคลองสามวา</td>\n",
              "      <td>NaN</td>\n",
              "      <td>งบลงทุน</td>\n",
              "      <td>ขุดลอกคลองบึงทรายกองดิน</td>\n",
              "      <td>2575000</td>\n",
              "    </tr>\n",
              "    <tr>\n",
              "      <th>689</th>\n",
              "      <td>งบเพิ่มเติม</td>\n",
              "      <td>1</td>\n",
              "      <td>66</td>\n",
              "      <td>50460000</td>\n",
              "      <td>สำนักงานเขตคลองสามวา</td>\n",
              "      <td>NaN</td>\n",
              "      <td>งบลงทุน</td>\n",
              "      <td>ขุดลอกลำรางซาฟารี</td>\n",
              "      <td>689000</td>\n",
              "    </tr>\n",
              "    <tr>\n",
              "      <th>690</th>\n",
              "      <td>งบเพิ่มเติม</td>\n",
              "      <td>1</td>\n",
              "      <td>66</td>\n",
              "      <td>50460000</td>\n",
              "      <td>สำนักงานเขตคลองสามวา</td>\n",
              "      <td>NaN</td>\n",
              "      <td>งบลงทุน</td>\n",
              "      <td>ขุดลอกลำรางตาจันทร์</td>\n",
              "      <td>464000</td>\n",
              "    </tr>\n",
              "    <tr>\n",
              "      <th>691</th>\n",
              "      <td>งบเพิ่มเติม</td>\n",
              "      <td>1</td>\n",
              "      <td>66</td>\n",
              "      <td>50500000</td>\n",
              "      <td>สำนักงานเขตบางบอน</td>\n",
              "      <td>NaN</td>\n",
              "      <td>งบลงทุน</td>\n",
              "      <td>ขุดลอกคลองบางบอนต่อจากของเดิมถึงคลองนายผล</td>\n",
              "      <td>7578000</td>\n",
              "    </tr>\n",
              "  </tbody>\n",
              "</table>\n",
              "<p>692 rows × 9 columns</p>\n",
              "</div>\n",
              "      <button class=\"colab-df-convert\" onclick=\"convertToInteractive('df-af3375e4-ee0d-4b0b-8a80-ae8079752b4c')\"\n",
              "              title=\"Convert this dataframe to an interactive table.\"\n",
              "              style=\"display:none;\">\n",
              "\n",
              "  <svg xmlns=\"http://www.w3.org/2000/svg\" height=\"24px\"viewBox=\"0 0 24 24\"\n",
              "       width=\"24px\">\n",
              "    <path d=\"M0 0h24v24H0V0z\" fill=\"none\"/>\n",
              "    <path d=\"M18.56 5.44l.94 2.06.94-2.06 2.06-.94-2.06-.94-.94-2.06-.94 2.06-2.06.94zm-11 1L8.5 8.5l.94-2.06 2.06-.94-2.06-.94L8.5 2.5l-.94 2.06-2.06.94zm10 10l.94 2.06.94-2.06 2.06-.94-2.06-.94-.94-2.06-.94 2.06-2.06.94z\"/><path d=\"M17.41 7.96l-1.37-1.37c-.4-.4-.92-.59-1.43-.59-.52 0-1.04.2-1.43.59L10.3 9.45l-7.72 7.72c-.78.78-.78 2.05 0 2.83L4 21.41c.39.39.9.59 1.41.59.51 0 1.02-.2 1.41-.59l7.78-7.78 2.81-2.81c.8-.78.8-2.07 0-2.86zM5.41 20L4 18.59l7.72-7.72 1.47 1.35L5.41 20z\"/>\n",
              "  </svg>\n",
              "      </button>\n",
              "\n",
              "\n",
              "\n",
              "    <div id=\"df-2f0b0d7f-88a7-4560-9acf-39fcb304c3ac\">\n",
              "      <button class=\"colab-df-quickchart\" onclick=\"quickchart('df-2f0b0d7f-88a7-4560-9acf-39fcb304c3ac')\"\n",
              "              title=\"Suggest charts.\"\n",
              "              style=\"display:none;\">\n",
              "\n",
              "<svg xmlns=\"http://www.w3.org/2000/svg\" height=\"24px\"viewBox=\"0 0 24 24\"\n",
              "     width=\"24px\">\n",
              "    <g>\n",
              "        <path d=\"M19 3H5c-1.1 0-2 .9-2 2v14c0 1.1.9 2 2 2h14c1.1 0 2-.9 2-2V5c0-1.1-.9-2-2-2zM9 17H7v-7h2v7zm4 0h-2V7h2v10zm4 0h-2v-4h2v4z\"/>\n",
              "    </g>\n",
              "</svg>\n",
              "      </button>\n",
              "    </div>\n",
              "\n",
              "<style>\n",
              "  .colab-df-quickchart {\n",
              "    background-color: #E8F0FE;\n",
              "    border: none;\n",
              "    border-radius: 50%;\n",
              "    cursor: pointer;\n",
              "    display: none;\n",
              "    fill: #1967D2;\n",
              "    height: 32px;\n",
              "    padding: 0 0 0 0;\n",
              "    width: 32px;\n",
              "  }\n",
              "\n",
              "  .colab-df-quickchart:hover {\n",
              "    background-color: #E2EBFA;\n",
              "    box-shadow: 0px 1px 2px rgba(60, 64, 67, 0.3), 0px 1px 3px 1px rgba(60, 64, 67, 0.15);\n",
              "    fill: #174EA6;\n",
              "  }\n",
              "\n",
              "  [theme=dark] .colab-df-quickchart {\n",
              "    background-color: #3B4455;\n",
              "    fill: #D2E3FC;\n",
              "  }\n",
              "\n",
              "  [theme=dark] .colab-df-quickchart:hover {\n",
              "    background-color: #434B5C;\n",
              "    box-shadow: 0px 1px 3px 1px rgba(0, 0, 0, 0.15);\n",
              "    filter: drop-shadow(0px 1px 2px rgba(0, 0, 0, 0.3));\n",
              "    fill: #FFFFFF;\n",
              "  }\n",
              "</style>\n",
              "\n",
              "    <script>\n",
              "      async function quickchart(key) {\n",
              "        const containerElement = document.querySelector('#' + key);\n",
              "        const charts = await google.colab.kernel.invokeFunction(\n",
              "            'suggestCharts', [key], {});\n",
              "      }\n",
              "    </script>\n",
              "\n",
              "      <script>\n",
              "\n",
              "function displayQuickchartButton(domScope) {\n",
              "  let quickchartButtonEl =\n",
              "    domScope.querySelector('#df-2f0b0d7f-88a7-4560-9acf-39fcb304c3ac button.colab-df-quickchart');\n",
              "  quickchartButtonEl.style.display =\n",
              "    google.colab.kernel.accessAllowed ? 'block' : 'none';\n",
              "}\n",
              "\n",
              "        displayQuickchartButton(document);\n",
              "      </script>\n",
              "      <style>\n",
              "    .colab-df-container {\n",
              "      display:flex;\n",
              "      flex-wrap:wrap;\n",
              "      gap: 12px;\n",
              "    }\n",
              "\n",
              "    .colab-df-convert {\n",
              "      background-color: #E8F0FE;\n",
              "      border: none;\n",
              "      border-radius: 50%;\n",
              "      cursor: pointer;\n",
              "      display: none;\n",
              "      fill: #1967D2;\n",
              "      height: 32px;\n",
              "      padding: 0 0 0 0;\n",
              "      width: 32px;\n",
              "    }\n",
              "\n",
              "    .colab-df-convert:hover {\n",
              "      background-color: #E2EBFA;\n",
              "      box-shadow: 0px 1px 2px rgba(60, 64, 67, 0.3), 0px 1px 3px 1px rgba(60, 64, 67, 0.15);\n",
              "      fill: #174EA6;\n",
              "    }\n",
              "\n",
              "    [theme=dark] .colab-df-convert {\n",
              "      background-color: #3B4455;\n",
              "      fill: #D2E3FC;\n",
              "    }\n",
              "\n",
              "    [theme=dark] .colab-df-convert:hover {\n",
              "      background-color: #434B5C;\n",
              "      box-shadow: 0px 1px 3px 1px rgba(0, 0, 0, 0.15);\n",
              "      filter: drop-shadow(0px 1px 2px rgba(0, 0, 0, 0.3));\n",
              "      fill: #FFFFFF;\n",
              "    }\n",
              "  </style>\n",
              "\n",
              "      <script>\n",
              "        const buttonEl =\n",
              "          document.querySelector('#df-af3375e4-ee0d-4b0b-8a80-ae8079752b4c button.colab-df-convert');\n",
              "        buttonEl.style.display =\n",
              "          google.colab.kernel.accessAllowed ? 'block' : 'none';\n",
              "\n",
              "        async function convertToInteractive(key) {\n",
              "          const element = document.querySelector('#df-af3375e4-ee0d-4b0b-8a80-ae8079752b4c');\n",
              "          const dataTable =\n",
              "            await google.colab.kernel.invokeFunction('convertToInteractive',\n",
              "                                                     [key], {});\n",
              "          if (!dataTable) return;\n",
              "\n",
              "          const docLinkHtml = 'Like what you see? Visit the ' +\n",
              "            '<a target=\"_blank\" href=https://colab.research.google.com/notebooks/data_table.ipynb>data table notebook</a>'\n",
              "            + ' to learn more about interactive tables.';\n",
              "          element.innerHTML = '';\n",
              "          dataTable['output_type'] = 'display_data';\n",
              "          await google.colab.output.renderOutput(dataTable, element);\n",
              "          const docLink = document.createElement('div');\n",
              "          docLink.innerHTML = docLinkHtml;\n",
              "          element.appendChild(docLink);\n",
              "        }\n",
              "      </script>\n",
              "    </div>\n",
              "  </div>\n"
            ]
          },
          "metadata": {},
          "execution_count": 52
        }
      ]
    },
    {
      "cell_type": "code",
      "source": [
        "data1[(data1['Approved_buget']>1000000) & (data1['Approved_buget']<=2000000)]"
      ],
      "metadata": {
        "id": "Vn_dSDPWANa_",
        "outputId": "a2427773-7e17-4d1a-d712-926c4ae24863",
        "colab": {
          "base_uri": "https://localhost:8080/",
          "height": 659
        }
      },
      "execution_count": 56,
      "outputs": [
        {
          "output_type": "execute_result",
          "data": {
            "text/plain": [
              "    Budget_resource  Issue_No  Fiscal_year  Department_code  \\\n",
              "0         งบประจำปี         0           62         11000000   \n",
              "1         งบประจำปี         0           62         11000000   \n",
              "5         งบประจำปี         0           62         11000000   \n",
              "22        งบประจำปี         0           63         11000000   \n",
              "25        งบประจำปี         0           63         11000000   \n",
              "..              ...       ...          ...              ...   \n",
              "660     งบเพิ่มเติม         1           66         50350000   \n",
              "662     งบเพิ่มเติม         1           66         50350000   \n",
              "665     งบเพิ่มเติม         1           66         50350000   \n",
              "666     งบเพิ่มเติม         1           66         50360000   \n",
              "670     งบเพิ่มเติม         1           66         50360000   \n",
              "\n",
              "             Department                                   Core_budget_code  \\\n",
              "0      สำนักการระบายน้ำ  12-เงินสำรองจ่ายทั่วไป กรณีค่าใช้จ่ายต่างๆ เกี...   \n",
              "1      สำนักการระบายน้ำ  12-เงินสำรองจ่ายทั่วไป กรณีค่าใช้จ่ายต่างๆ เกี...   \n",
              "5      สำนักการระบายน้ำ  12-เงินสำรองจ่ายทั่วไป กรณีค่าใช้จ่ายต่างๆ เกี...   \n",
              "22     สำนักการระบายน้ำ  12-เงินสำรองจ่ายทั่วไป กรณีค่าใช้จ่ายต่างๆ เกี...   \n",
              "25     สำนักการระบายน้ำ  12-เงินสำรองจ่ายทั่วไป กรณีค่าใช้จ่ายต่างๆ เกี...   \n",
              "..                  ...                                                ...   \n",
              "660  สำนักงานเขตบางพลัด                                                NaN   \n",
              "662  สำนักงานเขตบางพลัด                                                NaN   \n",
              "665  สำนักงานเขตบางพลัด                                                NaN   \n",
              "666   สำนักงานเขตจอมทอง                                                NaN   \n",
              "670   สำนักงานเขตจอมทอง                                                NaN   \n",
              "\n",
              "    Expenditure_category                                          Item_name  \\\n",
              "0                งบลงทุน        ขุดลอกคลองบางกะปิจากคลองสามเสนถึงคลองแสนแสบ   \n",
              "1                งบลงทุน  ขุดลอกคลองทรงกระเทียมจากคลองลาดพร้าวถึงถนนโชคช...   \n",
              "5                งบลงทุน  ขุดลอกคลองราษฎร์สามัคคีจากคลองทวีวัฒนาถึงคลองม...   \n",
              "22               งบลงทุน      ขุดลอกคลองนางหงษ์จากคลองแสนแสบถึงถนนบรรทัดทอง   \n",
              "25               งบลงทุน  ขุดลอกคลองราษฎร์บูรณะจากแม่น้ำเจ้าพระยาถึงสวนธ...   \n",
              "..                   ...                                                ...   \n",
              "660              งบลงทุน                                 ขุดลอกคลองสะพานยาว   \n",
              "662              งบลงทุน         ขุดลอกคลองบางรักและคูน้ำซอยจรัญสนิทวงศ์ 89   \n",
              "665              งบลงทุน                           ขุดลอกคลองวัดน้อยนางหงษ์   \n",
              "666              งบลงทุน  ขุดลอกคลองลัดบางสะแก (1),(2) จากคลองบางค้อและค...   \n",
              "670              งบลงทุน  ขุดลอกลำกระโดงสาธารณประโยชน์แยกคลองต้นไทร (3),...   \n",
              "\n",
              "     Approved_buget  \n",
              "0           1193000  \n",
              "1           1100000  \n",
              "5           1207000  \n",
              "22          1508000  \n",
              "25          1975000  \n",
              "..              ...  \n",
              "660         1756000  \n",
              "662         1859000  \n",
              "665         1187000  \n",
              "666         1581000  \n",
              "670         1388000  \n",
              "\n",
              "[132 rows x 9 columns]"
            ],
            "text/html": [
              "\n",
              "\n",
              "  <div id=\"df-f0cc3de9-a7d0-40cb-97b9-3bc18e604b73\">\n",
              "    <div class=\"colab-df-container\">\n",
              "      <div>\n",
              "<style scoped>\n",
              "    .dataframe tbody tr th:only-of-type {\n",
              "        vertical-align: middle;\n",
              "    }\n",
              "\n",
              "    .dataframe tbody tr th {\n",
              "        vertical-align: top;\n",
              "    }\n",
              "\n",
              "    .dataframe thead th {\n",
              "        text-align: right;\n",
              "    }\n",
              "</style>\n",
              "<table border=\"1\" class=\"dataframe\">\n",
              "  <thead>\n",
              "    <tr style=\"text-align: right;\">\n",
              "      <th></th>\n",
              "      <th>Budget_resource</th>\n",
              "      <th>Issue_No</th>\n",
              "      <th>Fiscal_year</th>\n",
              "      <th>Department_code</th>\n",
              "      <th>Department</th>\n",
              "      <th>Core_budget_code</th>\n",
              "      <th>Expenditure_category</th>\n",
              "      <th>Item_name</th>\n",
              "      <th>Approved_buget</th>\n",
              "    </tr>\n",
              "  </thead>\n",
              "  <tbody>\n",
              "    <tr>\n",
              "      <th>0</th>\n",
              "      <td>งบประจำปี</td>\n",
              "      <td>0</td>\n",
              "      <td>62</td>\n",
              "      <td>11000000</td>\n",
              "      <td>สำนักการระบายน้ำ</td>\n",
              "      <td>12-เงินสำรองจ่ายทั่วไป กรณีค่าใช้จ่ายต่างๆ เกี...</td>\n",
              "      <td>งบลงทุน</td>\n",
              "      <td>ขุดลอกคลองบางกะปิจากคลองสามเสนถึงคลองแสนแสบ</td>\n",
              "      <td>1193000</td>\n",
              "    </tr>\n",
              "    <tr>\n",
              "      <th>1</th>\n",
              "      <td>งบประจำปี</td>\n",
              "      <td>0</td>\n",
              "      <td>62</td>\n",
              "      <td>11000000</td>\n",
              "      <td>สำนักการระบายน้ำ</td>\n",
              "      <td>12-เงินสำรองจ่ายทั่วไป กรณีค่าใช้จ่ายต่างๆ เกี...</td>\n",
              "      <td>งบลงทุน</td>\n",
              "      <td>ขุดลอกคลองทรงกระเทียมจากคลองลาดพร้าวถึงถนนโชคช...</td>\n",
              "      <td>1100000</td>\n",
              "    </tr>\n",
              "    <tr>\n",
              "      <th>5</th>\n",
              "      <td>งบประจำปี</td>\n",
              "      <td>0</td>\n",
              "      <td>62</td>\n",
              "      <td>11000000</td>\n",
              "      <td>สำนักการระบายน้ำ</td>\n",
              "      <td>12-เงินสำรองจ่ายทั่วไป กรณีค่าใช้จ่ายต่างๆ เกี...</td>\n",
              "      <td>งบลงทุน</td>\n",
              "      <td>ขุดลอกคลองราษฎร์สามัคคีจากคลองทวีวัฒนาถึงคลองม...</td>\n",
              "      <td>1207000</td>\n",
              "    </tr>\n",
              "    <tr>\n",
              "      <th>22</th>\n",
              "      <td>งบประจำปี</td>\n",
              "      <td>0</td>\n",
              "      <td>63</td>\n",
              "      <td>11000000</td>\n",
              "      <td>สำนักการระบายน้ำ</td>\n",
              "      <td>12-เงินสำรองจ่ายทั่วไป กรณีค่าใช้จ่ายต่างๆ เกี...</td>\n",
              "      <td>งบลงทุน</td>\n",
              "      <td>ขุดลอกคลองนางหงษ์จากคลองแสนแสบถึงถนนบรรทัดทอง</td>\n",
              "      <td>1508000</td>\n",
              "    </tr>\n",
              "    <tr>\n",
              "      <th>25</th>\n",
              "      <td>งบประจำปี</td>\n",
              "      <td>0</td>\n",
              "      <td>63</td>\n",
              "      <td>11000000</td>\n",
              "      <td>สำนักการระบายน้ำ</td>\n",
              "      <td>12-เงินสำรองจ่ายทั่วไป กรณีค่าใช้จ่ายต่างๆ เกี...</td>\n",
              "      <td>งบลงทุน</td>\n",
              "      <td>ขุดลอกคลองราษฎร์บูรณะจากแม่น้ำเจ้าพระยาถึงสวนธ...</td>\n",
              "      <td>1975000</td>\n",
              "    </tr>\n",
              "    <tr>\n",
              "      <th>...</th>\n",
              "      <td>...</td>\n",
              "      <td>...</td>\n",
              "      <td>...</td>\n",
              "      <td>...</td>\n",
              "      <td>...</td>\n",
              "      <td>...</td>\n",
              "      <td>...</td>\n",
              "      <td>...</td>\n",
              "      <td>...</td>\n",
              "    </tr>\n",
              "    <tr>\n",
              "      <th>660</th>\n",
              "      <td>งบเพิ่มเติม</td>\n",
              "      <td>1</td>\n",
              "      <td>66</td>\n",
              "      <td>50350000</td>\n",
              "      <td>สำนักงานเขตบางพลัด</td>\n",
              "      <td>NaN</td>\n",
              "      <td>งบลงทุน</td>\n",
              "      <td>ขุดลอกคลองสะพานยาว</td>\n",
              "      <td>1756000</td>\n",
              "    </tr>\n",
              "    <tr>\n",
              "      <th>662</th>\n",
              "      <td>งบเพิ่มเติม</td>\n",
              "      <td>1</td>\n",
              "      <td>66</td>\n",
              "      <td>50350000</td>\n",
              "      <td>สำนักงานเขตบางพลัด</td>\n",
              "      <td>NaN</td>\n",
              "      <td>งบลงทุน</td>\n",
              "      <td>ขุดลอกคลองบางรักและคูน้ำซอยจรัญสนิทวงศ์ 89</td>\n",
              "      <td>1859000</td>\n",
              "    </tr>\n",
              "    <tr>\n",
              "      <th>665</th>\n",
              "      <td>งบเพิ่มเติม</td>\n",
              "      <td>1</td>\n",
              "      <td>66</td>\n",
              "      <td>50350000</td>\n",
              "      <td>สำนักงานเขตบางพลัด</td>\n",
              "      <td>NaN</td>\n",
              "      <td>งบลงทุน</td>\n",
              "      <td>ขุดลอกคลองวัดน้อยนางหงษ์</td>\n",
              "      <td>1187000</td>\n",
              "    </tr>\n",
              "    <tr>\n",
              "      <th>666</th>\n",
              "      <td>งบเพิ่มเติม</td>\n",
              "      <td>1</td>\n",
              "      <td>66</td>\n",
              "      <td>50360000</td>\n",
              "      <td>สำนักงานเขตจอมทอง</td>\n",
              "      <td>NaN</td>\n",
              "      <td>งบลงทุน</td>\n",
              "      <td>ขุดลอกคลองลัดบางสะแก (1),(2) จากคลองบางค้อและค...</td>\n",
              "      <td>1581000</td>\n",
              "    </tr>\n",
              "    <tr>\n",
              "      <th>670</th>\n",
              "      <td>งบเพิ่มเติม</td>\n",
              "      <td>1</td>\n",
              "      <td>66</td>\n",
              "      <td>50360000</td>\n",
              "      <td>สำนักงานเขตจอมทอง</td>\n",
              "      <td>NaN</td>\n",
              "      <td>งบลงทุน</td>\n",
              "      <td>ขุดลอกลำกระโดงสาธารณประโยชน์แยกคลองต้นไทร (3),...</td>\n",
              "      <td>1388000</td>\n",
              "    </tr>\n",
              "  </tbody>\n",
              "</table>\n",
              "<p>132 rows × 9 columns</p>\n",
              "</div>\n",
              "      <button class=\"colab-df-convert\" onclick=\"convertToInteractive('df-f0cc3de9-a7d0-40cb-97b9-3bc18e604b73')\"\n",
              "              title=\"Convert this dataframe to an interactive table.\"\n",
              "              style=\"display:none;\">\n",
              "\n",
              "  <svg xmlns=\"http://www.w3.org/2000/svg\" height=\"24px\"viewBox=\"0 0 24 24\"\n",
              "       width=\"24px\">\n",
              "    <path d=\"M0 0h24v24H0V0z\" fill=\"none\"/>\n",
              "    <path d=\"M18.56 5.44l.94 2.06.94-2.06 2.06-.94-2.06-.94-.94-2.06-.94 2.06-2.06.94zm-11 1L8.5 8.5l.94-2.06 2.06-.94-2.06-.94L8.5 2.5l-.94 2.06-2.06.94zm10 10l.94 2.06.94-2.06 2.06-.94-2.06-.94-.94-2.06-.94 2.06-2.06.94z\"/><path d=\"M17.41 7.96l-1.37-1.37c-.4-.4-.92-.59-1.43-.59-.52 0-1.04.2-1.43.59L10.3 9.45l-7.72 7.72c-.78.78-.78 2.05 0 2.83L4 21.41c.39.39.9.59 1.41.59.51 0 1.02-.2 1.41-.59l7.78-7.78 2.81-2.81c.8-.78.8-2.07 0-2.86zM5.41 20L4 18.59l7.72-7.72 1.47 1.35L5.41 20z\"/>\n",
              "  </svg>\n",
              "      </button>\n",
              "\n",
              "\n",
              "\n",
              "    <div id=\"df-cb8f596b-79ba-4a31-bae4-b32fdae3abbc\">\n",
              "      <button class=\"colab-df-quickchart\" onclick=\"quickchart('df-cb8f596b-79ba-4a31-bae4-b32fdae3abbc')\"\n",
              "              title=\"Suggest charts.\"\n",
              "              style=\"display:none;\">\n",
              "\n",
              "<svg xmlns=\"http://www.w3.org/2000/svg\" height=\"24px\"viewBox=\"0 0 24 24\"\n",
              "     width=\"24px\">\n",
              "    <g>\n",
              "        <path d=\"M19 3H5c-1.1 0-2 .9-2 2v14c0 1.1.9 2 2 2h14c1.1 0 2-.9 2-2V5c0-1.1-.9-2-2-2zM9 17H7v-7h2v7zm4 0h-2V7h2v10zm4 0h-2v-4h2v4z\"/>\n",
              "    </g>\n",
              "</svg>\n",
              "      </button>\n",
              "    </div>\n",
              "\n",
              "<style>\n",
              "  .colab-df-quickchart {\n",
              "    background-color: #E8F0FE;\n",
              "    border: none;\n",
              "    border-radius: 50%;\n",
              "    cursor: pointer;\n",
              "    display: none;\n",
              "    fill: #1967D2;\n",
              "    height: 32px;\n",
              "    padding: 0 0 0 0;\n",
              "    width: 32px;\n",
              "  }\n",
              "\n",
              "  .colab-df-quickchart:hover {\n",
              "    background-color: #E2EBFA;\n",
              "    box-shadow: 0px 1px 2px rgba(60, 64, 67, 0.3), 0px 1px 3px 1px rgba(60, 64, 67, 0.15);\n",
              "    fill: #174EA6;\n",
              "  }\n",
              "\n",
              "  [theme=dark] .colab-df-quickchart {\n",
              "    background-color: #3B4455;\n",
              "    fill: #D2E3FC;\n",
              "  }\n",
              "\n",
              "  [theme=dark] .colab-df-quickchart:hover {\n",
              "    background-color: #434B5C;\n",
              "    box-shadow: 0px 1px 3px 1px rgba(0, 0, 0, 0.15);\n",
              "    filter: drop-shadow(0px 1px 2px rgba(0, 0, 0, 0.3));\n",
              "    fill: #FFFFFF;\n",
              "  }\n",
              "</style>\n",
              "\n",
              "    <script>\n",
              "      async function quickchart(key) {\n",
              "        const containerElement = document.querySelector('#' + key);\n",
              "        const charts = await google.colab.kernel.invokeFunction(\n",
              "            'suggestCharts', [key], {});\n",
              "      }\n",
              "    </script>\n",
              "\n",
              "      <script>\n",
              "\n",
              "function displayQuickchartButton(domScope) {\n",
              "  let quickchartButtonEl =\n",
              "    domScope.querySelector('#df-cb8f596b-79ba-4a31-bae4-b32fdae3abbc button.colab-df-quickchart');\n",
              "  quickchartButtonEl.style.display =\n",
              "    google.colab.kernel.accessAllowed ? 'block' : 'none';\n",
              "}\n",
              "\n",
              "        displayQuickchartButton(document);\n",
              "      </script>\n",
              "      <style>\n",
              "    .colab-df-container {\n",
              "      display:flex;\n",
              "      flex-wrap:wrap;\n",
              "      gap: 12px;\n",
              "    }\n",
              "\n",
              "    .colab-df-convert {\n",
              "      background-color: #E8F0FE;\n",
              "      border: none;\n",
              "      border-radius: 50%;\n",
              "      cursor: pointer;\n",
              "      display: none;\n",
              "      fill: #1967D2;\n",
              "      height: 32px;\n",
              "      padding: 0 0 0 0;\n",
              "      width: 32px;\n",
              "    }\n",
              "\n",
              "    .colab-df-convert:hover {\n",
              "      background-color: #E2EBFA;\n",
              "      box-shadow: 0px 1px 2px rgba(60, 64, 67, 0.3), 0px 1px 3px 1px rgba(60, 64, 67, 0.15);\n",
              "      fill: #174EA6;\n",
              "    }\n",
              "\n",
              "    [theme=dark] .colab-df-convert {\n",
              "      background-color: #3B4455;\n",
              "      fill: #D2E3FC;\n",
              "    }\n",
              "\n",
              "    [theme=dark] .colab-df-convert:hover {\n",
              "      background-color: #434B5C;\n",
              "      box-shadow: 0px 1px 3px 1px rgba(0, 0, 0, 0.15);\n",
              "      filter: drop-shadow(0px 1px 2px rgba(0, 0, 0, 0.3));\n",
              "      fill: #FFFFFF;\n",
              "    }\n",
              "  </style>\n",
              "\n",
              "      <script>\n",
              "        const buttonEl =\n",
              "          document.querySelector('#df-f0cc3de9-a7d0-40cb-97b9-3bc18e604b73 button.colab-df-convert');\n",
              "        buttonEl.style.display =\n",
              "          google.colab.kernel.accessAllowed ? 'block' : 'none';\n",
              "\n",
              "        async function convertToInteractive(key) {\n",
              "          const element = document.querySelector('#df-f0cc3de9-a7d0-40cb-97b9-3bc18e604b73');\n",
              "          const dataTable =\n",
              "            await google.colab.kernel.invokeFunction('convertToInteractive',\n",
              "                                                     [key], {});\n",
              "          if (!dataTable) return;\n",
              "\n",
              "          const docLinkHtml = 'Like what you see? Visit the ' +\n",
              "            '<a target=\"_blank\" href=https://colab.research.google.com/notebooks/data_table.ipynb>data table notebook</a>'\n",
              "            + ' to learn more about interactive tables.';\n",
              "          element.innerHTML = '';\n",
              "          dataTable['output_type'] = 'display_data';\n",
              "          await google.colab.output.renderOutput(dataTable, element);\n",
              "          const docLink = document.createElement('div');\n",
              "          docLink.innerHTML = docLinkHtml;\n",
              "          element.appendChild(docLink);\n",
              "        }\n",
              "      </script>\n",
              "    </div>\n",
              "  </div>\n"
            ]
          },
          "metadata": {},
          "execution_count": 56
        }
      ]
    },
    {
      "cell_type": "code",
      "source": [],
      "metadata": {
        "id": "smUz_wTH_wI5"
      },
      "execution_count": null,
      "outputs": []
    },
    {
      "cell_type": "code",
      "source": [
        "data1[data1['propertytype_name_en']== 'condo'] #ใช้ logi"
      ],
      "metadata": {
        "colab": {
          "base_uri": "https://localhost:8080/",
          "height": 514
        },
        "id": "Q065m9jHgSaM",
        "outputId": "43eede02-9dcf-4b46-91fa-e4df387c1e96"
      },
      "execution_count": 17,
      "outputs": [
        {
          "output_type": "error",
          "ename": "KeyError",
          "evalue": "ignored",
          "traceback": [
            "\u001b[0;31m---------------------------------------------------------------------------\u001b[0m",
            "\u001b[0;31mKeyError\u001b[0m                                  Traceback (most recent call last)",
            "\u001b[0;32m/usr/local/lib/python3.10/dist-packages/pandas/core/indexes/base.py\u001b[0m in \u001b[0;36mget_loc\u001b[0;34m(self, key, method, tolerance)\u001b[0m\n\u001b[1;32m   3801\u001b[0m             \u001b[0;32mtry\u001b[0m\u001b[0;34m:\u001b[0m\u001b[0;34m\u001b[0m\u001b[0;34m\u001b[0m\u001b[0m\n\u001b[0;32m-> 3802\u001b[0;31m                 \u001b[0;32mreturn\u001b[0m \u001b[0mself\u001b[0m\u001b[0;34m.\u001b[0m\u001b[0m_engine\u001b[0m\u001b[0;34m.\u001b[0m\u001b[0mget_loc\u001b[0m\u001b[0;34m(\u001b[0m\u001b[0mcasted_key\u001b[0m\u001b[0;34m)\u001b[0m\u001b[0;34m\u001b[0m\u001b[0;34m\u001b[0m\u001b[0m\n\u001b[0m\u001b[1;32m   3803\u001b[0m             \u001b[0;32mexcept\u001b[0m \u001b[0mKeyError\u001b[0m \u001b[0;32mas\u001b[0m \u001b[0merr\u001b[0m\u001b[0;34m:\u001b[0m\u001b[0;34m\u001b[0m\u001b[0;34m\u001b[0m\u001b[0m\n",
            "\u001b[0;32m/usr/local/lib/python3.10/dist-packages/pandas/_libs/index.pyx\u001b[0m in \u001b[0;36mpandas._libs.index.IndexEngine.get_loc\u001b[0;34m()\u001b[0m\n",
            "\u001b[0;32m/usr/local/lib/python3.10/dist-packages/pandas/_libs/index.pyx\u001b[0m in \u001b[0;36mpandas._libs.index.IndexEngine.get_loc\u001b[0;34m()\u001b[0m\n",
            "\u001b[0;32mpandas/_libs/hashtable_class_helper.pxi\u001b[0m in \u001b[0;36mpandas._libs.hashtable.PyObjectHashTable.get_item\u001b[0;34m()\u001b[0m\n",
            "\u001b[0;32mpandas/_libs/hashtable_class_helper.pxi\u001b[0m in \u001b[0;36mpandas._libs.hashtable.PyObjectHashTable.get_item\u001b[0;34m()\u001b[0m\n",
            "\u001b[0;31mKeyError\u001b[0m: 'propertytype_name_en'",
            "\nThe above exception was the direct cause of the following exception:\n",
            "\u001b[0;31mKeyError\u001b[0m                                  Traceback (most recent call last)",
            "\u001b[0;32m<ipython-input-17-df8c806a1bcb>\u001b[0m in \u001b[0;36m<cell line: 1>\u001b[0;34m()\u001b[0m\n\u001b[0;32m----> 1\u001b[0;31m \u001b[0mdata1\u001b[0m\u001b[0;34m[\u001b[0m\u001b[0mdata1\u001b[0m\u001b[0;34m[\u001b[0m\u001b[0;34m'propertytype_name_en'\u001b[0m\u001b[0;34m]\u001b[0m\u001b[0;34m==\u001b[0m \u001b[0;34m'condo'\u001b[0m\u001b[0;34m]\u001b[0m \u001b[0;31m#ใช้ logi\u001b[0m\u001b[0;34m\u001b[0m\u001b[0;34m\u001b[0m\u001b[0m\n\u001b[0m",
            "\u001b[0;32m/usr/local/lib/python3.10/dist-packages/pandas/core/frame.py\u001b[0m in \u001b[0;36m__getitem__\u001b[0;34m(self, key)\u001b[0m\n\u001b[1;32m   3805\u001b[0m             \u001b[0;32mif\u001b[0m \u001b[0mself\u001b[0m\u001b[0;34m.\u001b[0m\u001b[0mcolumns\u001b[0m\u001b[0;34m.\u001b[0m\u001b[0mnlevels\u001b[0m \u001b[0;34m>\u001b[0m \u001b[0;36m1\u001b[0m\u001b[0;34m:\u001b[0m\u001b[0;34m\u001b[0m\u001b[0;34m\u001b[0m\u001b[0m\n\u001b[1;32m   3806\u001b[0m                 \u001b[0;32mreturn\u001b[0m \u001b[0mself\u001b[0m\u001b[0;34m.\u001b[0m\u001b[0m_getitem_multilevel\u001b[0m\u001b[0;34m(\u001b[0m\u001b[0mkey\u001b[0m\u001b[0;34m)\u001b[0m\u001b[0;34m\u001b[0m\u001b[0;34m\u001b[0m\u001b[0m\n\u001b[0;32m-> 3807\u001b[0;31m             \u001b[0mindexer\u001b[0m \u001b[0;34m=\u001b[0m \u001b[0mself\u001b[0m\u001b[0;34m.\u001b[0m\u001b[0mcolumns\u001b[0m\u001b[0;34m.\u001b[0m\u001b[0mget_loc\u001b[0m\u001b[0;34m(\u001b[0m\u001b[0mkey\u001b[0m\u001b[0;34m)\u001b[0m\u001b[0;34m\u001b[0m\u001b[0;34m\u001b[0m\u001b[0m\n\u001b[0m\u001b[1;32m   3808\u001b[0m             \u001b[0;32mif\u001b[0m \u001b[0mis_integer\u001b[0m\u001b[0;34m(\u001b[0m\u001b[0mindexer\u001b[0m\u001b[0;34m)\u001b[0m\u001b[0;34m:\u001b[0m\u001b[0;34m\u001b[0m\u001b[0;34m\u001b[0m\u001b[0m\n\u001b[1;32m   3809\u001b[0m                 \u001b[0mindexer\u001b[0m \u001b[0;34m=\u001b[0m \u001b[0;34m[\u001b[0m\u001b[0mindexer\u001b[0m\u001b[0;34m]\u001b[0m\u001b[0;34m\u001b[0m\u001b[0;34m\u001b[0m\u001b[0m\n",
            "\u001b[0;32m/usr/local/lib/python3.10/dist-packages/pandas/core/indexes/base.py\u001b[0m in \u001b[0;36mget_loc\u001b[0;34m(self, key, method, tolerance)\u001b[0m\n\u001b[1;32m   3802\u001b[0m                 \u001b[0;32mreturn\u001b[0m \u001b[0mself\u001b[0m\u001b[0;34m.\u001b[0m\u001b[0m_engine\u001b[0m\u001b[0;34m.\u001b[0m\u001b[0mget_loc\u001b[0m\u001b[0;34m(\u001b[0m\u001b[0mcasted_key\u001b[0m\u001b[0;34m)\u001b[0m\u001b[0;34m\u001b[0m\u001b[0;34m\u001b[0m\u001b[0m\n\u001b[1;32m   3803\u001b[0m             \u001b[0;32mexcept\u001b[0m \u001b[0mKeyError\u001b[0m \u001b[0;32mas\u001b[0m \u001b[0merr\u001b[0m\u001b[0;34m:\u001b[0m\u001b[0;34m\u001b[0m\u001b[0;34m\u001b[0m\u001b[0m\n\u001b[0;32m-> 3804\u001b[0;31m                 \u001b[0;32mraise\u001b[0m \u001b[0mKeyError\u001b[0m\u001b[0;34m(\u001b[0m\u001b[0mkey\u001b[0m\u001b[0;34m)\u001b[0m \u001b[0;32mfrom\u001b[0m \u001b[0merr\u001b[0m\u001b[0;34m\u001b[0m\u001b[0;34m\u001b[0m\u001b[0m\n\u001b[0m\u001b[1;32m   3805\u001b[0m             \u001b[0;32mexcept\u001b[0m \u001b[0mTypeError\u001b[0m\u001b[0;34m:\u001b[0m\u001b[0;34m\u001b[0m\u001b[0;34m\u001b[0m\u001b[0m\n\u001b[1;32m   3806\u001b[0m                 \u001b[0;31m# If we have a listlike key, _check_indexing_error will raise\u001b[0m\u001b[0;34m\u001b[0m\u001b[0;34m\u001b[0m\u001b[0m\n",
            "\u001b[0;31mKeyError\u001b[0m: 'propertytype_name_en'"
          ]
        }
      ]
    },
    {
      "cell_type": "code",
      "source": [
        "data1['propertytype_name_en']== 'condo'"
      ],
      "metadata": {
        "id": "W7ovnaO2g66t"
      },
      "execution_count": null,
      "outputs": []
    },
    {
      "cell_type": "code",
      "source": [
        "data1[data1['price_min'] > 10000000]"
      ],
      "metadata": {
        "id": "VH3dH6jhd7-v"
      },
      "execution_count": null,
      "outputs": []
    },
    {
      "cell_type": "code",
      "source": [
        "data1[data1['price_min'] > 10000000].describe()"
      ],
      "metadata": {
        "id": "ki9C2z_ghf_w"
      },
      "execution_count": null,
      "outputs": []
    },
    {
      "cell_type": "markdown",
      "source": [
        "# Quiz 4\n",
        "1. ราคาเฉลี่ยของบ้านที่มีราคาระหว่าง 3-5 ร้านบาท\n",
        "2. พื้นที่ และ จำนวนห้องนอนของบ้านที่แพงที่สุด\n",
        "3. จำนวนที่จอดรถและห้องน้ำของบ้านที่ถูกที่สุด\n",
        "4. ชนิดของบ้านที่แพงที่สุด\n",
        "5. บ้านชนิดไหนมีปริมาณมากที่สุด"
      ],
      "metadata": {
        "id": "Hub_AdJqiOAO"
      }
    },
    {
      "cell_type": "code",
      "source": [
        "# 1. ราคาเฉลี่ยของบ้านที่มีราคาระหว่าง 3-5 ร้านบาท\n",
        "data1[(data1['price_min'] >=3000000) & (data1['price_min']<=5000000)].describe()\n",
        "# Ans 3.928111e+06\t = 3.928111  ล้านบาท"
      ],
      "metadata": {
        "id": "njQLgbSyjHUS"
      },
      "execution_count": null,
      "outputs": []
    },
    {
      "cell_type": "code",
      "source": [
        "price_mean = data1[(data1['price_min'] >=3000000) & (data1['price_min']<=5000000)]['price_min'].mean()"
      ],
      "metadata": {
        "id": "Gs_qnLEBfhHp"
      },
      "execution_count": null,
      "outputs": []
    },
    {
      "cell_type": "code",
      "source": [
        "print(f'ราคาเฉลี่ยของบ้านที่มีราคาระหว่าง 3-5 ล้านบาท คือ {int(price_mean):,}')"
      ],
      "metadata": {
        "id": "YI0IJnQVfuQe"
      },
      "execution_count": null,
      "outputs": []
    },
    {
      "cell_type": "code",
      "source": [
        "#2.พื้นที่และจำนวนห้องนอนของบ้านที่แพงที่สุด\n",
        "data1['price_min'].max()"
      ],
      "metadata": {
        "id": "leHcW5KnkLGb"
      },
      "execution_count": null,
      "outputs": []
    },
    {
      "cell_type": "code",
      "source": [
        "data1[data1['price_min']==580000000][['area_usable_min','count_room_bed']]"
      ],
      "metadata": {
        "id": "hgtvSVt1bOQy"
      },
      "execution_count": null,
      "outputs": []
    },
    {
      "cell_type": "code",
      "source": [
        "data1[data1['price_min']==data1['price_min'].max()][['area_usable_min','count_room_bed','price_min']]"
      ],
      "metadata": {
        "id": "ZcCyJtAMgx0r"
      },
      "execution_count": null,
      "outputs": []
    },
    {
      "cell_type": "code",
      "source": [
        "data1[data1['price_min']==data1['price_min'].max()]"
      ],
      "metadata": {
        "id": "xe7bkCjVhCTF"
      },
      "execution_count": null,
      "outputs": []
    },
    {
      "cell_type": "code",
      "source": [
        "#3.จำนวนที่จอดรถและห้องน้ำที่ถูกที่สุด\n",
        "data1['price_min'].min()"
      ],
      "metadata": {
        "id": "9LBy2jtkl-CS"
      },
      "execution_count": null,
      "outputs": []
    },
    {
      "cell_type": "code",
      "source": [
        "data1[data1['price_min']==100000][['count_parking','count_room_bath']]"
      ],
      "metadata": {
        "id": "qPEw_eRmnyzx"
      },
      "execution_count": null,
      "outputs": []
    },
    {
      "cell_type": "code",
      "source": [
        "data1[data1['price_min']==data1['price_min'].min()][['propertytype_name_en','count_parking','count_room_bath','price_min']]"
      ],
      "metadata": {
        "id": "OIumzGQ_hh2i"
      },
      "execution_count": null,
      "outputs": []
    },
    {
      "cell_type": "code",
      "source": [
        "# 4. ชนิดของบ้านที่แพงที่สุด\n",
        "data1.describe()\n",
        "data1[data1['price_min'] == 580000000]\n",
        "# Ans Condo"
      ],
      "metadata": {
        "id": "Xc5DbZbjoDB5"
      },
      "execution_count": null,
      "outputs": []
    },
    {
      "cell_type": "code",
      "source": [
        "# 4. ชนิดของบ้านที่แพงที่สุด\n",
        "data1['propertytype_name_en'][data1['price_min'] == 580000000]"
      ],
      "metadata": {
        "id": "eiEo-9QLsTtQ"
      },
      "execution_count": null,
      "outputs": []
    },
    {
      "cell_type": "code",
      "source": [
        "data1[data1['price_min']==data1['price_min'].max()][['propertytype_name_en','price_min']]"
      ],
      "metadata": {
        "id": "JpVQ3BZUh9aq"
      },
      "execution_count": null,
      "outputs": []
    },
    {
      "cell_type": "code",
      "source": [
        "#5. บ้านชนิดไหนมีปริมาณมากที่สุด\n",
        "data1['propertytype_name_en'].describe()"
      ],
      "metadata": {
        "id": "rczL22K4r99n"
      },
      "execution_count": null,
      "outputs": []
    },
    {
      "cell_type": "code",
      "source": [],
      "metadata": {
        "id": "BuYu_3MCiSuU"
      },
      "execution_count": null,
      "outputs": []
    },
    {
      "cell_type": "code",
      "source": [],
      "metadata": {
        "id": "jc18tzVap6PX"
      },
      "execution_count": null,
      "outputs": []
    },
    {
      "cell_type": "code",
      "source": [
        "import os"
      ],
      "metadata": {
        "id": "P1yKlhjQOTxx"
      },
      "execution_count": null,
      "outputs": []
    },
    {
      "cell_type": "code",
      "metadata": {
        "id": "8aVuLimaokIK"
      },
      "source": [
        "path = '/content/drive/My Drive/dataviz_2021_data'"
      ],
      "execution_count": null,
      "outputs": []
    },
    {
      "cell_type": "code",
      "metadata": {
        "id": "bJMZpuMsrLG1"
      },
      "source": [
        "covid_file_path = os.path.join(path,'pm-20-jan-2021.csv')\n",
        "print(covid_file_path)"
      ],
      "execution_count": null,
      "outputs": []
    },
    {
      "cell_type": "code",
      "metadata": {
        "id": "k1NDGhW8rjb6"
      },
      "source": [
        "a = path + '/pm-18-jan-2021.csv'\n",
        "print(a)"
      ],
      "execution_count": null,
      "outputs": []
    },
    {
      "cell_type": "markdown",
      "metadata": {
        "id": "l3oehUans3Vr"
      },
      "source": [
        "## load data to memory"
      ]
    },
    {
      "cell_type": "code",
      "metadata": {
        "id": "lxKqSaR3sScc"
      },
      "source": [
        "data_covid = pd.read_csv(covid_file_path)\n",
        "data_covid"
      ],
      "execution_count": null,
      "outputs": []
    },
    {
      "cell_type": "code",
      "metadata": {
        "id": "sHTOPUJttJJ8"
      },
      "source": [
        "data_covid.head()"
      ],
      "execution_count": null,
      "outputs": []
    },
    {
      "cell_type": "markdown",
      "source": [
        "NaN = Not a Number"
      ],
      "metadata": {
        "id": "rlAYwIleTDBT"
      }
    },
    {
      "cell_type": "code",
      "source": [
        "data_covid.head(20)"
      ],
      "metadata": {
        "id": "Slh1ACWSSGLW"
      },
      "execution_count": null,
      "outputs": []
    },
    {
      "cell_type": "code",
      "source": [
        "data_covid.tail()"
      ],
      "metadata": {
        "id": "bmXcnfi-Stf6"
      },
      "execution_count": null,
      "outputs": []
    },
    {
      "cell_type": "code",
      "metadata": {
        "id": "zj5UmHPtySZ4"
      },
      "source": [
        "data_covid.shape"
      ],
      "execution_count": null,
      "outputs": []
    },
    {
      "cell_type": "markdown",
      "metadata": {
        "id": "CRYEuv0dzLtW"
      },
      "source": [
        "## ชี้ค่าในตาราง"
      ]
    },
    {
      "cell_type": "markdown",
      "metadata": {
        "id": "KFqGDG0c0AYI"
      },
      "source": [
        "#### basic"
      ]
    },
    {
      "cell_type": "code",
      "metadata": {
        "id": "vQ8Fvpgkyp4E"
      },
      "source": [
        "data_covid['province_of_onset']"
      ],
      "execution_count": null,
      "outputs": []
    },
    {
      "cell_type": "code",
      "metadata": {
        "id": "tHxuEWK6zjSH"
      },
      "source": [
        "data_covid['risk'][12649]"
      ],
      "execution_count": null,
      "outputs": []
    },
    {
      "cell_type": "markdown",
      "metadata": {
        "id": "dZ3UfzfV0DIy"
      },
      "source": [
        "#### .iloc"
      ]
    },
    {
      "cell_type": "code",
      "metadata": {
        "id": "oTb8mQj6z6DN"
      },
      "source": [
        "data_covid.iloc[4,7]"
      ],
      "execution_count": null,
      "outputs": []
    },
    {
      "cell_type": "markdown",
      "source": [
        "# เรียนถึงนี่ 12 Jan 2022"
      ],
      "metadata": {
        "id": "9Y9kGLs5TXZa"
      }
    },
    {
      "cell_type": "markdown",
      "metadata": {
        "id": "shzgCJfy0x2z"
      },
      "source": [
        "## Table slicing"
      ]
    },
    {
      "cell_type": "markdown",
      "metadata": {
        "id": "NWxhCozt0757"
      },
      "source": [
        "#### ตัดมาเฉพาะ column ที่ต้องการ"
      ]
    },
    {
      "cell_type": "code",
      "metadata": {
        "id": "x7I7LHQY0gLe"
      },
      "source": [
        "smaller_table = data_covid[['province_of_onset','announce_date','risk']]\n",
        "smaller_table"
      ],
      "execution_count": null,
      "outputs": []
    },
    {
      "cell_type": "markdown",
      "metadata": {
        "id": "nrVTN03F2GpV"
      },
      "source": [
        "#### ตัดเฉพาะ rows ที่ต้องการ"
      ]
    },
    {
      "cell_type": "markdown",
      "metadata": {
        "id": "58aOjVTl2SK0"
      },
      "source": [
        "##### แบบง่าย แต่ใช้การอะไรไม่ค่อยจะได้ (มองเป็น array แล้วตัดแบบ array)"
      ]
    },
    {
      "cell_type": "code",
      "metadata": {
        "id": "NYFm0KkM1vqR"
      },
      "source": [
        "data_covid.iloc[1:5,:]"
      ],
      "execution_count": null,
      "outputs": []
    },
    {
      "cell_type": "markdown",
      "metadata": {
        "id": "yR2j59YD2y65"
      },
      "source": [
        "แบบ advanced แต่ใช้ประโยชน์ได้เยอะกว่า (ตัดแบบใช้ logic query)"
      ]
    },
    {
      "cell_type": "markdown",
      "source": [
        "```pddf```[list_of_logical_values] คือการเลือก row ที่ logical values เป็น True"
      ],
      "metadata": {
        "id": "CHJVF0-bW8vD"
      }
    },
    {
      "cell_type": "code",
      "source": [
        "data_covid['province_of_onset']"
      ],
      "metadata": {
        "id": "6I1Mfj_VXjbt"
      },
      "execution_count": null,
      "outputs": []
    },
    {
      "cell_type": "code",
      "source": [
        "data_covid['province_of_onset']=='ขอนแก่น'"
      ],
      "metadata": {
        "id": "tfwtOaG1W55V"
      },
      "execution_count": null,
      "outputs": []
    },
    {
      "cell_type": "code",
      "metadata": {
        "id": "7l8BC42x2qSm"
      },
      "source": [
        "data_covid[data_covid['province_of_onset']=='ขอนแก่น']"
      ],
      "execution_count": null,
      "outputs": []
    },
    {
      "cell_type": "code",
      "source": [
        "data_covid[data_covid['age']>=70]"
      ],
      "metadata": {
        "id": "ZHpDomPuYT3n"
      },
      "execution_count": null,
      "outputs": []
    },
    {
      "cell_type": "markdown",
      "metadata": {
        "id": "z9IC5md533qS"
      },
      "source": [
        "การชี้ค่าในตารางด้วย data_covid[***x***] ค่า ***x*** สามารถมีค่าที่ใส่เข้าไปได้ 2 แบบ\n",
        "\n",
        "\n",
        "1.   ชื่อ column\n",
        "2.   ใส่ rows ที่ต้องการ (ใส่ list ที่มี***ขนาดเท่ากับจำนวนแถว*** แล้วบอกว่าเอา แถวไหนบ้างโดยใช้ logical expression (```True```/```False```))\n",
        "\n"
      ]
    },
    {
      "cell_type": "code",
      "metadata": {
        "id": "jQu4sr_53Ytk"
      },
      "source": [
        "eight_rows_covid = data_covid.iloc[:8,3:] # ตารางตัวอย่าง\n",
        "eight_rows_covid"
      ],
      "execution_count": null,
      "outputs": []
    },
    {
      "cell_type": "code",
      "metadata": {
        "id": "3NeywU6J48Vv"
      },
      "source": [
        "eight_rows_covid[[True,False,True,True,False,True,False,False]]   #2.   ใส่ list ที่ มีค่า logic ของ แต่ละ row โดยที่ ค่า True คือ เลือก ค่า False คือไม่เลืิอก"
      ],
      "execution_count": null,
      "outputs": []
    },
    {
      "cell_type": "code",
      "metadata": {
        "id": "VaD8Uq625Xsk"
      },
      "source": [
        "eight_rows_covid['province_of_onset'] == 'กรุงเทพมหานคร'  #สร้าง list ของ logical expression"
      ],
      "execution_count": null,
      "outputs": []
    },
    {
      "cell_type": "code",
      "metadata": {
        "id": "Ch14sJ-c6MFP"
      },
      "source": [
        "eight_rows_covid[eight_rows_covid['province_of_onset'] == 'กรุงเทพมหานคร']  #เราเอา 2 บรรทัดบนมาบวกกัน"
      ],
      "execution_count": null,
      "outputs": []
    },
    {
      "cell_type": "code",
      "source": [
        "eight_rows_covid['district_of_onset'] == 'เมือง'"
      ],
      "metadata": {
        "id": "omeJ7wj4a0rN"
      },
      "execution_count": null,
      "outputs": []
    },
    {
      "cell_type": "code",
      "source": [
        "import numpy as np"
      ],
      "metadata": {
        "id": "rtXDtcyScGO-"
      },
      "execution_count": null,
      "outputs": []
    },
    {
      "cell_type": "markdown",
      "source": [
        "$.isnull()$ ใช้ตรวจสอบว่าเป็น NaN หรือไม่"
      ],
      "metadata": {
        "id": "WLHyHltKcwRH"
      }
    },
    {
      "cell_type": "code",
      "source": [
        "eight_rows_covid['district_of_onset'].isnull()"
      ],
      "metadata": {
        "id": "DTEFmdAmbQYu"
      },
      "execution_count": null,
      "outputs": []
    },
    {
      "cell_type": "code",
      "source": [
        "sum(eight_rows_covid['district_of_onset'].isnull())"
      ],
      "metadata": {
        "id": "lNLVa-vFi2Sn"
      },
      "execution_count": null,
      "outputs": []
    },
    {
      "cell_type": "markdown",
      "metadata": {
        "id": "HTZIBf0a7wTM"
      },
      "source": [
        "Quiz (ให้ใช้เฉพาะที่อาจารย์สอนไปแล้วในวิชานี้)\n",
        "\n",
        "1.   คำนวณ อายุเฉลี่ย ของ**ผู้ชาย** ในข้อมูลทั้งหมด\n",
        "2.   คำนวณ อายุเฉลี่ย ของ**ผู้ชาย** ในจังหวัดขอนแก่น\n",
        "3.   หาจำนวนผู้ป่วยที่เป็นคน **ที่ไม่ใช่คนไทย**"
      ]
    },
    {
      "cell_type": "code",
      "metadata": {
        "id": "hxkhDHOK6hoc"
      },
      "source": [
        "this_data = data_covid[['sex','age','province_of_onset']]"
      ],
      "execution_count": null,
      "outputs": []
    },
    {
      "cell_type": "code",
      "metadata": {
        "id": "KZvCLjtIYfV9"
      },
      "source": [
        "this_data"
      ],
      "execution_count": null,
      "outputs": []
    },
    {
      "cell_type": "code",
      "metadata": {
        "id": "O-364VUjYgxw"
      },
      "source": [
        "female = this_data[this_data['sex']=='หญิง']\n",
        "female"
      ],
      "execution_count": null,
      "outputs": []
    },
    {
      "cell_type": "code",
      "source": [
        "female['age']"
      ],
      "metadata": {
        "id": "ydY1eWvAutHQ"
      },
      "execution_count": null,
      "outputs": []
    },
    {
      "cell_type": "code",
      "metadata": {
        "id": "jdDlyCZiY_U3"
      },
      "source": [
        "sum = 0\n",
        "N = 0\n",
        "for a in female['age']:\n",
        "\n",
        "    if a > 0:\n",
        "        sum += a # sum = sum + a\n",
        "        N += 1\n",
        "\n",
        "print(f'อายุเฉลี่ย ของ ผู้ป่วยหญิง {sum/N}')"
      ],
      "execution_count": null,
      "outputs": []
    },
    {
      "cell_type": "code",
      "metadata": {
        "id": "LpQi57Z8ZhIF"
      },
      "source": [
        "female_KK = female[female['province_of_onset']=='ขอนแก่น']\n",
        "\n",
        "sum = 0\n",
        "N = 0\n",
        "for a in female_KK['age']:\n",
        "\n",
        "    if a > 0:\n",
        "        sum += a # sum = sum + a\n",
        "        N += 1\n",
        "\n",
        "print(f'อายุเฉลี่ย ของ ผู้ป่วยหญิง ในจังหวัดขอนแก่น {sum/N}')"
      ],
      "execution_count": null,
      "outputs": []
    },
    {
      "cell_type": "code",
      "source": [
        "female[(female['province_of_onset']=='ขอนแก่น') | (female['province_of_onset']=='หนองคาย')]"
      ],
      "metadata": {
        "id": "6uofVICgwPw8"
      },
      "execution_count": null,
      "outputs": []
    },
    {
      "cell_type": "markdown",
      "source": [
        "#### หาจำนวนคนป่วยที่ไม่ใช่คนไทย"
      ],
      "metadata": {
        "id": "3Enfi22gXjJQ"
      }
    },
    {
      "cell_type": "code",
      "source": [
        "import numpy as np"
      ],
      "metadata": {
        "id": "WSiCLw5vYGQv"
      },
      "execution_count": null,
      "outputs": []
    },
    {
      "cell_type": "code",
      "source": [
        "np.sum(data_covid['nationality'].dropna() != 'Thailand')"
      ],
      "metadata": {
        "id": "9kXcQaq7Xij5"
      },
      "execution_count": null,
      "outputs": []
    },
    {
      "cell_type": "markdown",
      "metadata": {
        "id": "Jol0oyUYb2-9"
      },
      "source": [
        "การจัดการ Missing Value\n",
        "\n",
        "- ลบ record ที่เป็น missing\n",
        "- แทนที่ ค่า missing ด้วยค่าที่เหมาะสม mean, default, category-unknown\n",
        "- ใช้ ค่าจาก columns อื่นๆ ช่วยประมาณค่า ค่าใน column ที่หายไป (regression, deep learning, etc.)"
      ]
    },
    {
      "cell_type": "markdown",
      "metadata": {
        "id": "wedBfQPMePi6"
      },
      "source": [
        "### ลบ record (dropna)\n",
        "\n",
        "missing = ```None``` ```NA```(not autorized) ```NaN``` (not a number)"
      ]
    },
    {
      "cell_type": "code",
      "source": [
        "this_data"
      ],
      "metadata": {
        "id": "DagWgMmSC47b"
      },
      "execution_count": null,
      "outputs": []
    },
    {
      "cell_type": "code",
      "metadata": {
        "id": "x_f9i5-UePB-"
      },
      "source": [
        "this_data.shape #(12423, 3)"
      ],
      "execution_count": null,
      "outputs": []
    },
    {
      "cell_type": "code",
      "source": [
        "this_data.dropna()"
      ],
      "metadata": {
        "id": "1jUEAe7nDDxa"
      },
      "execution_count": null,
      "outputs": []
    },
    {
      "cell_type": "code",
      "metadata": {
        "id": "XHrGf2AUfSko"
      },
      "source": [
        "print(data_covid.shape)\n",
        "print(data_covid.dropna().shape)"
      ],
      "execution_count": null,
      "outputs": []
    },
    {
      "cell_type": "code",
      "source": [
        "this_data.dropna(subset=['age','sex'])"
      ],
      "metadata": {
        "id": "y2kDzWaPDkcH"
      },
      "execution_count": null,
      "outputs": []
    },
    {
      "cell_type": "code",
      "source": [
        "print(this_data.dropna().shape)\n",
        "print(this_data.dropna(subset=['sex','age']).shape)"
      ],
      "metadata": {
        "id": "TzVFFCWBDkQ4"
      },
      "execution_count": null,
      "outputs": []
    },
    {
      "cell_type": "markdown",
      "source": [
        "# ตรวจสอบ Missing (```isnull()```)"
      ],
      "metadata": {
        "id": "HT8aUn3kEzRI"
      }
    },
    {
      "cell_type": "code",
      "source": [
        "this_data.isnull()"
      ],
      "metadata": {
        "id": "jm0kpFrRDkOM"
      },
      "execution_count": null,
      "outputs": []
    },
    {
      "cell_type": "code",
      "source": [
        "this_data.isnull().any() # .any() เอาค่าความจริงใน column มา OR กัน"
      ],
      "metadata": {
        "id": "Xedt7QXqDkJ6"
      },
      "execution_count": null,
      "outputs": []
    },
    {
      "cell_type": "code",
      "source": [
        "this_data.isnull().all() # .all() เอาค่าความจริงใน column มา AND กัน"
      ],
      "metadata": {
        "id": "D2OrckdlE5Ot"
      },
      "execution_count": null,
      "outputs": []
    },
    {
      "cell_type": "code",
      "source": [
        "this_data.isnull().any().any()"
      ],
      "metadata": {
        "id": "jTfgKcyiE5Dg"
      },
      "execution_count": null,
      "outputs": []
    },
    {
      "cell_type": "code",
      "source": [
        "this_data.dropna(subset=['sex','age']).isnull().any()"
      ],
      "metadata": {
        "id": "WAkQ3SPPE42d"
      },
      "execution_count": null,
      "outputs": []
    },
    {
      "cell_type": "code",
      "source": [
        "this_data.dropna(subset=['sex','age'])"
      ],
      "metadata": {
        "id": "jzKzRmS0HvKS"
      },
      "execution_count": null,
      "outputs": []
    },
    {
      "cell_type": "markdown",
      "source": [
        "### 1. เพื่อให้ได้ผลลัพธ์การจัดการ ```dropna()``` ต้องเอาตัวแปรมารับ"
      ],
      "metadata": {
        "id": "Zk1jlJifH4dr"
      }
    },
    {
      "cell_type": "code",
      "source": [
        "this_data_nonull = this_data.dropna(subset=['sex','age'])"
      ],
      "metadata": {
        "id": "Eel9ffG3IGVR"
      },
      "execution_count": null,
      "outputs": []
    },
    {
      "cell_type": "code",
      "source": [
        "this_data_nonull.isnull().any()"
      ],
      "metadata": {
        "id": "vuKKQdJGE4pr"
      },
      "execution_count": null,
      "outputs": []
    },
    {
      "cell_type": "markdown",
      "source": [
        "### 2. update ตารางด้วยตัวแปร ```inplace```"
      ],
      "metadata": {
        "id": "0t2Z-fDwITjk"
      }
    },
    {
      "cell_type": "code",
      "source": [
        "this_data.dropna(subset=['sex','age'],inplace=True)"
      ],
      "metadata": {
        "id": "J9xXSTGPIerx"
      },
      "execution_count": null,
      "outputs": []
    },
    {
      "cell_type": "code",
      "source": [
        "this_data.isnull().any()"
      ],
      "metadata": {
        "id": "xmXVdVexIebF"
      },
      "execution_count": null,
      "outputs": []
    },
    {
      "cell_type": "code",
      "source": [
        "aa = this_data.dropna(subset=['sex','age'],inplace=True)"
      ],
      "metadata": {
        "id": "JnDdRvgkJKIt"
      },
      "execution_count": null,
      "outputs": []
    },
    {
      "cell_type": "code",
      "source": [
        "aa"
      ],
      "metadata": {
        "id": "BKZ2ZQD9JQJd"
      },
      "execution_count": null,
      "outputs": []
    },
    {
      "cell_type": "markdown",
      "metadata": {
        "id": "m5hChDmpjkyN"
      },
      "source": [
        "### แทน missing ด้วยค่าที่เหมาะสม (```fillna()```)"
      ]
    },
    {
      "cell_type": "code",
      "metadata": {
        "id": "KvRsTv4umSnR"
      },
      "source": [
        "this_data = data_covid[['sex','age','province_of_onset']]"
      ],
      "execution_count": null,
      "outputs": []
    },
    {
      "cell_type": "code",
      "metadata": {
        "id": "8n1Qyl0ibKrL"
      },
      "source": [
        "this_data"
      ],
      "execution_count": null,
      "outputs": []
    },
    {
      "cell_type": "code",
      "metadata": {
        "id": "wnlhDEjpkgUr"
      },
      "source": [
        "print(f'จำนวน record ก่อน drop missing ใน province {this_data.shape[0]}')\n",
        "print(f'จำนวน record หลัง drop missing ใน province {this_data.dropna(subset=[\"province_of_onset\"]).shape[0]}')"
      ],
      "execution_count": null,
      "outputs": []
    },
    {
      "cell_type": "markdown",
      "source": [
        "### 1. แทนด้วย class ใหม่"
      ],
      "metadata": {
        "id": "VafsBJyuLzul"
      }
    },
    {
      "cell_type": "code",
      "metadata": {
        "id": "rFrzt9d7mZx4"
      },
      "source": [
        "this_data_updated = this_data.fillna(value={'sex':'ไม่รู้', 'age':-99, 'province_of_onset':'ไม่รู้'})\n",
        "this_data_updated.head()"
      ],
      "execution_count": null,
      "outputs": []
    },
    {
      "cell_type": "code",
      "source": [
        "this_data_updated.tail(15)"
      ],
      "metadata": {
        "id": "K-i3Ni62MCD_"
      },
      "execution_count": null,
      "outputs": []
    },
    {
      "cell_type": "code",
      "source": [
        "this_data_updated.isnull().any()"
      ],
      "metadata": {
        "id": "keFV6MJCLqAJ"
      },
      "execution_count": null,
      "outputs": []
    },
    {
      "cell_type": "markdown",
      "source": [
        "### 2. แทนด้วยค่าที่เหมาะสม\n",
        "\n",
        "\n",
        "*   ตามใจคนทำ\n",
        "*   ค่ากลาง\n",
        "\n"
      ],
      "metadata": {
        "id": "VqyI1LblMUx-"
      }
    },
    {
      "cell_type": "markdown",
      "source": [
        "#### ตามใจคนทำ"
      ],
      "metadata": {
        "id": "wHh1S-4KN_RZ"
      }
    },
    {
      "cell_type": "code",
      "source": [
        "data_covid.head()"
      ],
      "metadata": {
        "id": "F7UXHr-IMpyR"
      },
      "execution_count": null,
      "outputs": []
    },
    {
      "cell_type": "code",
      "source": [
        "data_covid_fillasiwant = data_covid.fillna(value={'sex':'หญิง'})  #เรามีข้อมูลว่า เพศหญิงมีเยอะกว่าเพศชาย"
      ],
      "metadata": {
        "id": "ExtImcdMMgTY"
      },
      "execution_count": null,
      "outputs": []
    },
    {
      "cell_type": "code",
      "source": [
        "data_covid_fillasiwant.isnull().any()"
      ],
      "metadata": {
        "id": "6GqvCJQSNUBd"
      },
      "execution_count": null,
      "outputs": []
    },
    {
      "cell_type": "markdown",
      "source": [
        "#### แทนด้วยค่ากลาง"
      ],
      "metadata": {
        "id": "01ChEOM6OCUs"
      }
    },
    {
      "cell_type": "code",
      "source": [
        "data_covid['age']"
      ],
      "metadata": {
        "id": "GODZ_S29OMi_"
      },
      "execution_count": null,
      "outputs": []
    },
    {
      "cell_type": "code",
      "source": [
        "data_covid['age'].mean()"
      ],
      "metadata": {
        "id": "CNX3z3EqOSLj"
      },
      "execution_count": null,
      "outputs": []
    },
    {
      "cell_type": "code",
      "source": [
        "data_covid_fillwithmean = data_covid.fillna(value={'age':data_covid['age'].mean()})"
      ],
      "metadata": {
        "id": "dm3aeX6zMf-o"
      },
      "execution_count": null,
      "outputs": []
    },
    {
      "cell_type": "code",
      "source": [
        "data_covid_fillwithmean.isnull().any()"
      ],
      "metadata": {
        "id": "Ixiwxl1tOmac"
      },
      "execution_count": null,
      "outputs": []
    },
    {
      "cell_type": "markdown",
      "metadata": {
        "id": "ZbzScMVdb6U7"
      },
      "source": [
        "### การวนลูป record ในตาราง  (```.iterrows```)"
      ]
    },
    {
      "cell_type": "code",
      "metadata": {
        "id": "HuvNCoCRq1YQ"
      },
      "source": [
        "this_data = data_covid[['sex','age','province_of_onset']]\n",
        "this_data"
      ],
      "execution_count": null,
      "outputs": []
    },
    {
      "cell_type": "code",
      "metadata": {
        "id": "WekNYPgMtwxX"
      },
      "source": [
        "for each_row in this_data.iterrows():\n",
        "    # print(each_row)\n",
        "    # print(each_row[1])\n",
        "    # print(each_row[1]['sex'])\n",
        "    if (each_row[1]['age'] <= 20) and (each_row[1]['province_of_onset'] == 'ขอนแก่น'):\n",
        "        print(each_row)"
      ],
      "execution_count": null,
      "outputs": []
    },
    {
      "cell_type": "markdown",
      "metadata": {
        "id": "Rt9Sm-nGr8um"
      },
      "source": [
        "### การวนลูป แบบมองตารางแพนด้าส์(pandas dataframe) เป็น numpy array  (```.iloc```)"
      ]
    },
    {
      "cell_type": "code",
      "metadata": {
        "id": "-gT66JgMuBN0"
      },
      "source": [
        "for each_row in range(this_data.shape[0]):\n",
        "    if (this_data.iloc[each_row,1] <= 20) and (this_data.iloc[each_row,2] == 'ขอนแก่น'):  #each_row คือ ตัวเลข\n",
        "        print(each_row)\n",
        "        print(this_data.iloc[each_row,:])"
      ],
      "execution_count": null,
      "outputs": []
    },
    {
      "cell_type": "markdown",
      "metadata": {
        "id": "VlgREHOC0eXu"
      },
      "source": [
        "## Quiz ตัดตารางออกมาเฉพาะปี 2021 ```announce_date``` ในปี 2021\n",
        "\n",
        "**Hint**\n",
        "*   วนลูปหา index ของปี 2021\n",
        "*   ตัดตารางมาเฉพาะ ปี 2021\n",
        "\n"
      ]
    },
    {
      "cell_type": "code",
      "metadata": {
        "id": "E3C7RQIz8wtu"
      },
      "source": [
        "TF=list()\n",
        "for each_row in data_covid.iterrows():\n",
        "    if each_row[1]['announce_date'].split('/')[2] == '2021':\n",
        "        TF.append(True)\n",
        "    else:\n",
        "        TF.append(False)\n",
        "\n",
        "data_covid[TF].head()"
      ],
      "execution_count": null,
      "outputs": []
    },
    {
      "cell_type": "code",
      "source": [
        "TF"
      ],
      "metadata": {
        "id": "6-bZiKrFc_Yn"
      },
      "execution_count": null,
      "outputs": []
    },
    {
      "cell_type": "code",
      "source": [],
      "metadata": {
        "id": "sQSXrHg9dCYR"
      },
      "execution_count": null,
      "outputs": []
    },
    {
      "cell_type": "markdown",
      "source": [
        "### HW กลุ่ม 2 || เลือกข้อมูลมาเฉพาะวัน announce_date เป็นวันที่ 1-20  "
      ],
      "metadata": {
        "id": "nC3foO7jTFb9"
      }
    },
    {
      "cell_type": "markdown",
      "metadata": {
        "id": "gXOzi1O6BAFO"
      },
      "source": [
        "# Function ตัวช่วยใน pandas"
      ]
    },
    {
      "cell_type": "markdown",
      "metadata": {
        "id": "TvToU8hCCJL-"
      },
      "source": [
        "### ```.describe()``` คำนวณค่าทางสถิติของข้อมูลที่เป็นตัวเลข"
      ]
    },
    {
      "cell_type": "code",
      "metadata": {
        "id": "XM8qJ0o7A7ip"
      },
      "source": [
        "data_covid.describe()"
      ],
      "execution_count": null,
      "outputs": []
    },
    {
      "cell_type": "markdown",
      "metadata": {
        "id": "zXToQo4-CaPF"
      },
      "source": [
        "### ```.mean()``` คำนวณค่าเฉลี่ยของข้อมูลโดยไม่สนใจ missing"
      ]
    },
    {
      "cell_type": "code",
      "metadata": {
        "id": "TBwXJCRLBomc"
      },
      "source": [
        "data_covid[data_covid['sex']=='ชาย']['age'].mean()"
      ],
      "execution_count": null,
      "outputs": []
    },
    {
      "cell_type": "markdown",
      "metadata": {
        "id": "NuwVtwnjCpb5"
      },
      "source": [
        "### ```.isnull()```"
      ]
    },
    {
      "cell_type": "code",
      "metadata": {
        "id": "GNHkaDLMCo5t"
      },
      "source": [
        "data_covid.isnull()"
      ],
      "execution_count": null,
      "outputs": []
    },
    {
      "cell_type": "markdown",
      "metadata": {
        "id": "mkAeKL1D5HLi"
      },
      "source": [
        "# next\n",
        "\n",
        "*   ต่อตารางแกน X แกน y\n",
        "*   .groupby\n",
        "*   save table"
      ]
    },
    {
      "cell_type": "code",
      "metadata": {
        "id": "hqgXy4NYxy1W"
      },
      "source": [],
      "execution_count": null,
      "outputs": []
    }
  ]
}