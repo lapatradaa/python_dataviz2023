{
  "nbformat": 4,
  "nbformat_minor": 0,
  "metadata": {
    "colab": {
      "name": " Pandas101.ipynb",
      "provenance": [],
      "include_colab_link": true
    },
    "kernelspec": {
      "name": "python3",
      "display_name": "Python 3"
    }
  },
  "cells": [
    {
      "cell_type": "markdown",
      "metadata": {
        "id": "view-in-github",
        "colab_type": "text"
      },
      "source": [
        "<a href=\"https://colab.research.google.com/github/lapatradaa/python_dataviz2023/blob/main/Pandas101.ipynb\" target=\"_parent\"><img src=\"https://colab.research.google.com/assets/colab-badge.svg\" alt=\"Open In Colab\"/></a>"
      ]
    },
    {
      "cell_type": "code",
      "metadata": {
        "id": "-db5CJRNlwyL"
      },
      "source": [
        "import pandas as pd"
      ],
      "execution_count": 114,
      "outputs": []
    },
    {
      "cell_type": "markdown",
      "source": [
        "## Meta data = Data that describtion data\n",
        "\n",
        "ใช้อธิบายช้อมูล\n",
        "\n",
        "## CSV = Comma Separated Values\n",
        "ในการจะใส่ค่าแต่ละค่า จะใช้  comma ในการแย่ง"
      ],
      "metadata": {
        "id": "RuhVtlerGS4Q"
      }
    },
    {
      "cell_type": "markdown",
      "source": [
        ".csv = Comma Separated Values"
      ],
      "metadata": {
        "id": "nG20ex-3NX6H"
      }
    },
    {
      "cell_type": "markdown",
      "source": [
        "data.go.th"
      ],
      "metadata": {
        "id": "AyRXEjDINX3K"
      }
    },
    {
      "cell_type": "markdown",
      "source": [
        "# นำ Data เข้า\n",
        "- upload to colab  # กรณีใช้เเค่ครั้งเดียว\n",
        "- link with google drive"
      ],
      "metadata": {
        "id": "_rHnnYlYIGsG"
      }
    },
    {
      "cell_type": "markdown",
      "source": [
        "## link with google drive"
      ],
      "metadata": {
        "id": "CgUMNJxVO9FV"
      }
    },
    {
      "cell_type": "code",
      "metadata": {
        "colab": {
          "base_uri": "https://localhost:8080/"
        },
        "id": "RwYRFJocm086",
        "outputId": "6b1c71ec-10e0-4d19-b097-cf7f59e99bad"
      },
      "source": [
        "from google.colab import drive\n",
        "drive.mount('/content/drive')  # mount =  เชื่อมไดร์ฟ"
      ],
      "execution_count": 115,
      "outputs": [
        {
          "output_type": "stream",
          "name": "stdout",
          "text": [
            "Drive already mounted at /content/drive; to attempt to forcibly remount, call drive.mount(\"/content/drive\", force_remount=True).\n"
          ]
        }
      ]
    },
    {
      "cell_type": "code",
      "source": [
        "from google.colab import drive\n",
        "drive.mount('/content/drive')"
      ],
      "metadata": {
        "id": "BQp5UajlNW8o",
        "colab": {
          "base_uri": "https://localhost:8080/"
        },
        "outputId": "c9233ca2-5b02-4c67-8e15-54cf66cc3f7b"
      },
      "execution_count": null,
      "outputs": [
        {
          "output_type": "stream",
          "name": "stdout",
          "text": [
            "Drive already mounted at /content/drive; to attempt to forcibly remount, call drive.mount(\"/content/drive\", force_remount=True).\n"
          ]
        }
      ]
    },
    {
      "cell_type": "code",
      "source": [
        "data1 = pd.read_csv('/content/drive/MyDrive/DataViz23Data/data bkk 01.csv')\n",
        "data1.head()"
      ],
      "metadata": {
        "colab": {
          "base_uri": "https://localhost:8080/",
          "height": 206
        },
        "id": "PSxrUlEWPjHE",
        "outputId": "0160b016-e87f-4eef-ba2c-1e1dc6a288a1"
      },
      "execution_count": null,
      "outputs": [
        {
          "output_type": "execute_result",
          "data": {
            "text/plain": [
              "  Budget_resource  Issue_No  Fiscal_year  Department_code        Department  \\\n",
              "0       งบประจำปี         0           62         11000000  สำนักการระบายน้ำ   \n",
              "1       งบประจำปี         0           62         11000000  สำนักการระบายน้ำ   \n",
              "2       งบประจำปี         0           62         11000000  สำนักการระบายน้ำ   \n",
              "3       งบประจำปี         0           62         11000000  สำนักการระบายน้ำ   \n",
              "4       งบประจำปี         0           62         11000000  สำนักการระบายน้ำ   \n",
              "\n",
              "                                    Core_budget_code Expenditure_category  \\\n",
              "0  12-เงินสำรองจ่ายทั่วไป กรณีค่าใช้จ่ายต่างๆ เกี...              งบลงทุน   \n",
              "1  12-เงินสำรองจ่ายทั่วไป กรณีค่าใช้จ่ายต่างๆ เกี...              งบลงทุน   \n",
              "2  12-เงินสำรองจ่ายทั่วไป กรณีค่าใช้จ่ายต่างๆ เกี...              งบลงทุน   \n",
              "3  12-เงินสำรองจ่ายทั่วไป กรณีค่าใช้จ่ายต่างๆ เกี...              งบลงทุน   \n",
              "4  12-เงินสำรองจ่ายทั่วไป กรณีค่าใช้จ่ายต่างๆ เกี...              งบลงทุน   \n",
              "\n",
              "                                           Item_name  Approved_buget  \n",
              "0        ขุดลอกคลองบางกะปิจากคลองสามเสนถึงคลองแสนแสบ         1193000  \n",
              "1  ขุดลอกคลองทรงกระเทียมจากคลองลาดพร้าวถึงถนนโชคช...         1100000  \n",
              "2          ขุดลอกคลองเป้งจากคลองแสนแสบถึงซอยเจริญสุข         3075000  \n",
              "3  ขุดลอกคลองลำพังพวยจากถนนศรีบูรพาถึงสถานีสูบน้ำ...         6240000  \n",
              "4  ขุดลอกบึงรางเข้จากคลองพระยาราชมนตรีถึงถนนบางขุ...         2685000  "
            ],
            "text/html": [
              "\n",
              "\n",
              "  <div id=\"df-1bd95fa2-1c76-4f25-8f69-44074d4e7847\">\n",
              "    <div class=\"colab-df-container\">\n",
              "      <div>\n",
              "<style scoped>\n",
              "    .dataframe tbody tr th:only-of-type {\n",
              "        vertical-align: middle;\n",
              "    }\n",
              "\n",
              "    .dataframe tbody tr th {\n",
              "        vertical-align: top;\n",
              "    }\n",
              "\n",
              "    .dataframe thead th {\n",
              "        text-align: right;\n",
              "    }\n",
              "</style>\n",
              "<table border=\"1\" class=\"dataframe\">\n",
              "  <thead>\n",
              "    <tr style=\"text-align: right;\">\n",
              "      <th></th>\n",
              "      <th>Budget_resource</th>\n",
              "      <th>Issue_No</th>\n",
              "      <th>Fiscal_year</th>\n",
              "      <th>Department_code</th>\n",
              "      <th>Department</th>\n",
              "      <th>Core_budget_code</th>\n",
              "      <th>Expenditure_category</th>\n",
              "      <th>Item_name</th>\n",
              "      <th>Approved_buget</th>\n",
              "    </tr>\n",
              "  </thead>\n",
              "  <tbody>\n",
              "    <tr>\n",
              "      <th>0</th>\n",
              "      <td>งบประจำปี</td>\n",
              "      <td>0</td>\n",
              "      <td>62</td>\n",
              "      <td>11000000</td>\n",
              "      <td>สำนักการระบายน้ำ</td>\n",
              "      <td>12-เงินสำรองจ่ายทั่วไป กรณีค่าใช้จ่ายต่างๆ เกี...</td>\n",
              "      <td>งบลงทุน</td>\n",
              "      <td>ขุดลอกคลองบางกะปิจากคลองสามเสนถึงคลองแสนแสบ</td>\n",
              "      <td>1193000</td>\n",
              "    </tr>\n",
              "    <tr>\n",
              "      <th>1</th>\n",
              "      <td>งบประจำปี</td>\n",
              "      <td>0</td>\n",
              "      <td>62</td>\n",
              "      <td>11000000</td>\n",
              "      <td>สำนักการระบายน้ำ</td>\n",
              "      <td>12-เงินสำรองจ่ายทั่วไป กรณีค่าใช้จ่ายต่างๆ เกี...</td>\n",
              "      <td>งบลงทุน</td>\n",
              "      <td>ขุดลอกคลองทรงกระเทียมจากคลองลาดพร้าวถึงถนนโชคช...</td>\n",
              "      <td>1100000</td>\n",
              "    </tr>\n",
              "    <tr>\n",
              "      <th>2</th>\n",
              "      <td>งบประจำปี</td>\n",
              "      <td>0</td>\n",
              "      <td>62</td>\n",
              "      <td>11000000</td>\n",
              "      <td>สำนักการระบายน้ำ</td>\n",
              "      <td>12-เงินสำรองจ่ายทั่วไป กรณีค่าใช้จ่ายต่างๆ เกี...</td>\n",
              "      <td>งบลงทุน</td>\n",
              "      <td>ขุดลอกคลองเป้งจากคลองแสนแสบถึงซอยเจริญสุข</td>\n",
              "      <td>3075000</td>\n",
              "    </tr>\n",
              "    <tr>\n",
              "      <th>3</th>\n",
              "      <td>งบประจำปี</td>\n",
              "      <td>0</td>\n",
              "      <td>62</td>\n",
              "      <td>11000000</td>\n",
              "      <td>สำนักการระบายน้ำ</td>\n",
              "      <td>12-เงินสำรองจ่ายทั่วไป กรณีค่าใช้จ่ายต่างๆ เกี...</td>\n",
              "      <td>งบลงทุน</td>\n",
              "      <td>ขุดลอกคลองลำพังพวยจากถนนศรีบูรพาถึงสถานีสูบน้ำ...</td>\n",
              "      <td>6240000</td>\n",
              "    </tr>\n",
              "    <tr>\n",
              "      <th>4</th>\n",
              "      <td>งบประจำปี</td>\n",
              "      <td>0</td>\n",
              "      <td>62</td>\n",
              "      <td>11000000</td>\n",
              "      <td>สำนักการระบายน้ำ</td>\n",
              "      <td>12-เงินสำรองจ่ายทั่วไป กรณีค่าใช้จ่ายต่างๆ เกี...</td>\n",
              "      <td>งบลงทุน</td>\n",
              "      <td>ขุดลอกบึงรางเข้จากคลองพระยาราชมนตรีถึงถนนบางขุ...</td>\n",
              "      <td>2685000</td>\n",
              "    </tr>\n",
              "  </tbody>\n",
              "</table>\n",
              "</div>\n",
              "      <button class=\"colab-df-convert\" onclick=\"convertToInteractive('df-1bd95fa2-1c76-4f25-8f69-44074d4e7847')\"\n",
              "              title=\"Convert this dataframe to an interactive table.\"\n",
              "              style=\"display:none;\">\n",
              "\n",
              "  <svg xmlns=\"http://www.w3.org/2000/svg\" height=\"24px\"viewBox=\"0 0 24 24\"\n",
              "       width=\"24px\">\n",
              "    <path d=\"M0 0h24v24H0V0z\" fill=\"none\"/>\n",
              "    <path d=\"M18.56 5.44l.94 2.06.94-2.06 2.06-.94-2.06-.94-.94-2.06-.94 2.06-2.06.94zm-11 1L8.5 8.5l.94-2.06 2.06-.94-2.06-.94L8.5 2.5l-.94 2.06-2.06.94zm10 10l.94 2.06.94-2.06 2.06-.94-2.06-.94-.94-2.06-.94 2.06-2.06.94z\"/><path d=\"M17.41 7.96l-1.37-1.37c-.4-.4-.92-.59-1.43-.59-.52 0-1.04.2-1.43.59L10.3 9.45l-7.72 7.72c-.78.78-.78 2.05 0 2.83L4 21.41c.39.39.9.59 1.41.59.51 0 1.02-.2 1.41-.59l7.78-7.78 2.81-2.81c.8-.78.8-2.07 0-2.86zM5.41 20L4 18.59l7.72-7.72 1.47 1.35L5.41 20z\"/>\n",
              "  </svg>\n",
              "      </button>\n",
              "\n",
              "\n",
              "\n",
              "    <div id=\"df-316b4e5e-c5df-41f3-855f-420bcaffc8a6\">\n",
              "      <button class=\"colab-df-quickchart\" onclick=\"quickchart('df-316b4e5e-c5df-41f3-855f-420bcaffc8a6')\"\n",
              "              title=\"Suggest charts.\"\n",
              "              style=\"display:none;\">\n",
              "\n",
              "<svg xmlns=\"http://www.w3.org/2000/svg\" height=\"24px\"viewBox=\"0 0 24 24\"\n",
              "     width=\"24px\">\n",
              "    <g>\n",
              "        <path d=\"M19 3H5c-1.1 0-2 .9-2 2v14c0 1.1.9 2 2 2h14c1.1 0 2-.9 2-2V5c0-1.1-.9-2-2-2zM9 17H7v-7h2v7zm4 0h-2V7h2v10zm4 0h-2v-4h2v4z\"/>\n",
              "    </g>\n",
              "</svg>\n",
              "      </button>\n",
              "    </div>\n",
              "\n",
              "<style>\n",
              "  .colab-df-quickchart {\n",
              "    background-color: #E8F0FE;\n",
              "    border: none;\n",
              "    border-radius: 50%;\n",
              "    cursor: pointer;\n",
              "    display: none;\n",
              "    fill: #1967D2;\n",
              "    height: 32px;\n",
              "    padding: 0 0 0 0;\n",
              "    width: 32px;\n",
              "  }\n",
              "\n",
              "  .colab-df-quickchart:hover {\n",
              "    background-color: #E2EBFA;\n",
              "    box-shadow: 0px 1px 2px rgba(60, 64, 67, 0.3), 0px 1px 3px 1px rgba(60, 64, 67, 0.15);\n",
              "    fill: #174EA6;\n",
              "  }\n",
              "\n",
              "  [theme=dark] .colab-df-quickchart {\n",
              "    background-color: #3B4455;\n",
              "    fill: #D2E3FC;\n",
              "  }\n",
              "\n",
              "  [theme=dark] .colab-df-quickchart:hover {\n",
              "    background-color: #434B5C;\n",
              "    box-shadow: 0px 1px 3px 1px rgba(0, 0, 0, 0.15);\n",
              "    filter: drop-shadow(0px 1px 2px rgba(0, 0, 0, 0.3));\n",
              "    fill: #FFFFFF;\n",
              "  }\n",
              "</style>\n",
              "\n",
              "    <script>\n",
              "      async function quickchart(key) {\n",
              "        const containerElement = document.querySelector('#' + key);\n",
              "        const charts = await google.colab.kernel.invokeFunction(\n",
              "            'suggestCharts', [key], {});\n",
              "      }\n",
              "    </script>\n",
              "\n",
              "      <script>\n",
              "\n",
              "function displayQuickchartButton(domScope) {\n",
              "  let quickchartButtonEl =\n",
              "    domScope.querySelector('#df-316b4e5e-c5df-41f3-855f-420bcaffc8a6 button.colab-df-quickchart');\n",
              "  quickchartButtonEl.style.display =\n",
              "    google.colab.kernel.accessAllowed ? 'block' : 'none';\n",
              "}\n",
              "\n",
              "        displayQuickchartButton(document);\n",
              "      </script>\n",
              "      <style>\n",
              "    .colab-df-container {\n",
              "      display:flex;\n",
              "      flex-wrap:wrap;\n",
              "      gap: 12px;\n",
              "    }\n",
              "\n",
              "    .colab-df-convert {\n",
              "      background-color: #E8F0FE;\n",
              "      border: none;\n",
              "      border-radius: 50%;\n",
              "      cursor: pointer;\n",
              "      display: none;\n",
              "      fill: #1967D2;\n",
              "      height: 32px;\n",
              "      padding: 0 0 0 0;\n",
              "      width: 32px;\n",
              "    }\n",
              "\n",
              "    .colab-df-convert:hover {\n",
              "      background-color: #E2EBFA;\n",
              "      box-shadow: 0px 1px 2px rgba(60, 64, 67, 0.3), 0px 1px 3px 1px rgba(60, 64, 67, 0.15);\n",
              "      fill: #174EA6;\n",
              "    }\n",
              "\n",
              "    [theme=dark] .colab-df-convert {\n",
              "      background-color: #3B4455;\n",
              "      fill: #D2E3FC;\n",
              "    }\n",
              "\n",
              "    [theme=dark] .colab-df-convert:hover {\n",
              "      background-color: #434B5C;\n",
              "      box-shadow: 0px 1px 3px 1px rgba(0, 0, 0, 0.15);\n",
              "      filter: drop-shadow(0px 1px 2px rgba(0, 0, 0, 0.3));\n",
              "      fill: #FFFFFF;\n",
              "    }\n",
              "  </style>\n",
              "\n",
              "      <script>\n",
              "        const buttonEl =\n",
              "          document.querySelector('#df-1bd95fa2-1c76-4f25-8f69-44074d4e7847 button.colab-df-convert');\n",
              "        buttonEl.style.display =\n",
              "          google.colab.kernel.accessAllowed ? 'block' : 'none';\n",
              "\n",
              "        async function convertToInteractive(key) {\n",
              "          const element = document.querySelector('#df-1bd95fa2-1c76-4f25-8f69-44074d4e7847');\n",
              "          const dataTable =\n",
              "            await google.colab.kernel.invokeFunction('convertToInteractive',\n",
              "                                                     [key], {});\n",
              "          if (!dataTable) return;\n",
              "\n",
              "          const docLinkHtml = 'Like what you see? Visit the ' +\n",
              "            '<a target=\"_blank\" href=https://colab.research.google.com/notebooks/data_table.ipynb>data table notebook</a>'\n",
              "            + ' to learn more about interactive tables.';\n",
              "          element.innerHTML = '';\n",
              "          dataTable['output_type'] = 'display_data';\n",
              "          await google.colab.output.renderOutput(dataTable, element);\n",
              "          const docLink = document.createElement('div');\n",
              "          docLink.innerHTML = docLinkHtml;\n",
              "          element.appendChild(docLink);\n",
              "        }\n",
              "      </script>\n",
              "    </div>\n",
              "  </div>\n"
            ]
          },
          "metadata": {},
          "execution_count": 6
        }
      ]
    },
    {
      "cell_type": "code",
      "source": [
        "data1.head(10)  # ดูหัวตาราง จากแถวบน 10 แถวแรก นับจาก 0-9"
      ],
      "metadata": {
        "id": "x2yBLVzVQZp0",
        "colab": {
          "base_uri": "https://localhost:8080/",
          "height": 363
        },
        "outputId": "6b357464-3fc0-4673-f08f-03834e645adf"
      },
      "execution_count": null,
      "outputs": [
        {
          "output_type": "execute_result",
          "data": {
            "text/plain": [
              "  Budget_resource  Issue_No  Fiscal_year  Department_code          Department  \\\n",
              "0       งบประจำปี         0           62         11000000    สำนักการระบายน้ำ   \n",
              "1       งบประจำปี         0           62         11000000    สำนักการระบายน้ำ   \n",
              "2       งบประจำปี         0           62         11000000    สำนักการระบายน้ำ   \n",
              "3       งบประจำปี         0           62         11000000    สำนักการระบายน้ำ   \n",
              "4       งบประจำปี         0           62         11000000    สำนักการระบายน้ำ   \n",
              "5       งบประจำปี         0           62         11000000    สำนักการระบายน้ำ   \n",
              "6       งบประจำปี         0           62         50130000  สำนักงานเขตมีนบุรี   \n",
              "7       งบประจำปี         0           62         50130000  สำนักงานเขตมีนบุรี   \n",
              "8       งบประจำปี         0           62         50150000  สำนักงานเขตหนองจอก   \n",
              "9       งบประจำปี         0           62         50150000  สำนักงานเขตหนองจอก   \n",
              "\n",
              "                                    Core_budget_code Expenditure_category  \\\n",
              "0  12-เงินสำรองจ่ายทั่วไป กรณีค่าใช้จ่ายต่างๆ เกี...              งบลงทุน   \n",
              "1  12-เงินสำรองจ่ายทั่วไป กรณีค่าใช้จ่ายต่างๆ เกี...              งบลงทุน   \n",
              "2  12-เงินสำรองจ่ายทั่วไป กรณีค่าใช้จ่ายต่างๆ เกี...              งบลงทุน   \n",
              "3  12-เงินสำรองจ่ายทั่วไป กรณีค่าใช้จ่ายต่างๆ เกี...              งบลงทุน   \n",
              "4  12-เงินสำรองจ่ายทั่วไป กรณีค่าใช้จ่ายต่างๆ เกี...              งบลงทุน   \n",
              "5  12-เงินสำรองจ่ายทั่วไป กรณีค่าใช้จ่ายต่างๆ เกี...              งบลงทุน   \n",
              "6  12-เงินสำรองจ่ายทั่วไป กรณีค่าใช้จ่ายต่างๆ เกี...              งบลงทุน   \n",
              "7  12-เงินสำรองจ่ายทั่วไป กรณีค่าใช้จ่ายต่างๆ เกี...              งบลงทุน   \n",
              "8               28-เงินสำรองค่าใช้จ่าย ในการพัฒนาเขต              งบลงทุน   \n",
              "9               28-เงินสำรองค่าใช้จ่าย ในการพัฒนาเขต              งบลงทุน   \n",
              "\n",
              "                                           Item_name  Approved_buget  \n",
              "0        ขุดลอกคลองบางกะปิจากคลองสามเสนถึงคลองแสนแสบ         1193000  \n",
              "1  ขุดลอกคลองทรงกระเทียมจากคลองลาดพร้าวถึงถนนโชคช...         1100000  \n",
              "2          ขุดลอกคลองเป้งจากคลองแสนแสบถึงซอยเจริญสุข         3075000  \n",
              "3  ขุดลอกคลองลำพังพวยจากถนนศรีบูรพาถึงสถานีสูบน้ำ...         6240000  \n",
              "4  ขุดลอกบึงรางเข้จากคลองพระยาราชมนตรีถึงถนนบางขุ...         2685000  \n",
              "5  ขุดลอกคลองราษฎร์สามัคคีจากคลองทวีวัฒนาถึงคลองม...         1207000  \n",
              "6  ขุดลอกลำรางโต๊ะรอด ตั้งแต่คลองสองต้นนุ่นถึงระย...          225400  \n",
              "7  ขุดลอกลำรางเลียบคลองบึงขวาง ตั้งแต่คลองบึงขวาง...          452500  \n",
              "8  ขุดลอกคลองลำแขก จากคลองลำปลาทิว \\nถึงคลองลำตาเ...          447000  \n",
              "9  ขุดลอกคลองอู่ตะเภา จากคลองลำนกแขวก\\nถึงคลองลำม...          497000  "
            ],
            "text/html": [
              "\n",
              "\n",
              "  <div id=\"df-1ae75dc7-d6cc-4c3b-ac6e-6d9c78e3a460\">\n",
              "    <div class=\"colab-df-container\">\n",
              "      <div>\n",
              "<style scoped>\n",
              "    .dataframe tbody tr th:only-of-type {\n",
              "        vertical-align: middle;\n",
              "    }\n",
              "\n",
              "    .dataframe tbody tr th {\n",
              "        vertical-align: top;\n",
              "    }\n",
              "\n",
              "    .dataframe thead th {\n",
              "        text-align: right;\n",
              "    }\n",
              "</style>\n",
              "<table border=\"1\" class=\"dataframe\">\n",
              "  <thead>\n",
              "    <tr style=\"text-align: right;\">\n",
              "      <th></th>\n",
              "      <th>Budget_resource</th>\n",
              "      <th>Issue_No</th>\n",
              "      <th>Fiscal_year</th>\n",
              "      <th>Department_code</th>\n",
              "      <th>Department</th>\n",
              "      <th>Core_budget_code</th>\n",
              "      <th>Expenditure_category</th>\n",
              "      <th>Item_name</th>\n",
              "      <th>Approved_buget</th>\n",
              "    </tr>\n",
              "  </thead>\n",
              "  <tbody>\n",
              "    <tr>\n",
              "      <th>0</th>\n",
              "      <td>งบประจำปี</td>\n",
              "      <td>0</td>\n",
              "      <td>62</td>\n",
              "      <td>11000000</td>\n",
              "      <td>สำนักการระบายน้ำ</td>\n",
              "      <td>12-เงินสำรองจ่ายทั่วไป กรณีค่าใช้จ่ายต่างๆ เกี...</td>\n",
              "      <td>งบลงทุน</td>\n",
              "      <td>ขุดลอกคลองบางกะปิจากคลองสามเสนถึงคลองแสนแสบ</td>\n",
              "      <td>1193000</td>\n",
              "    </tr>\n",
              "    <tr>\n",
              "      <th>1</th>\n",
              "      <td>งบประจำปี</td>\n",
              "      <td>0</td>\n",
              "      <td>62</td>\n",
              "      <td>11000000</td>\n",
              "      <td>สำนักการระบายน้ำ</td>\n",
              "      <td>12-เงินสำรองจ่ายทั่วไป กรณีค่าใช้จ่ายต่างๆ เกี...</td>\n",
              "      <td>งบลงทุน</td>\n",
              "      <td>ขุดลอกคลองทรงกระเทียมจากคลองลาดพร้าวถึงถนนโชคช...</td>\n",
              "      <td>1100000</td>\n",
              "    </tr>\n",
              "    <tr>\n",
              "      <th>2</th>\n",
              "      <td>งบประจำปี</td>\n",
              "      <td>0</td>\n",
              "      <td>62</td>\n",
              "      <td>11000000</td>\n",
              "      <td>สำนักการระบายน้ำ</td>\n",
              "      <td>12-เงินสำรองจ่ายทั่วไป กรณีค่าใช้จ่ายต่างๆ เกี...</td>\n",
              "      <td>งบลงทุน</td>\n",
              "      <td>ขุดลอกคลองเป้งจากคลองแสนแสบถึงซอยเจริญสุข</td>\n",
              "      <td>3075000</td>\n",
              "    </tr>\n",
              "    <tr>\n",
              "      <th>3</th>\n",
              "      <td>งบประจำปี</td>\n",
              "      <td>0</td>\n",
              "      <td>62</td>\n",
              "      <td>11000000</td>\n",
              "      <td>สำนักการระบายน้ำ</td>\n",
              "      <td>12-เงินสำรองจ่ายทั่วไป กรณีค่าใช้จ่ายต่างๆ เกี...</td>\n",
              "      <td>งบลงทุน</td>\n",
              "      <td>ขุดลอกคลองลำพังพวยจากถนนศรีบูรพาถึงสถานีสูบน้ำ...</td>\n",
              "      <td>6240000</td>\n",
              "    </tr>\n",
              "    <tr>\n",
              "      <th>4</th>\n",
              "      <td>งบประจำปี</td>\n",
              "      <td>0</td>\n",
              "      <td>62</td>\n",
              "      <td>11000000</td>\n",
              "      <td>สำนักการระบายน้ำ</td>\n",
              "      <td>12-เงินสำรองจ่ายทั่วไป กรณีค่าใช้จ่ายต่างๆ เกี...</td>\n",
              "      <td>งบลงทุน</td>\n",
              "      <td>ขุดลอกบึงรางเข้จากคลองพระยาราชมนตรีถึงถนนบางขุ...</td>\n",
              "      <td>2685000</td>\n",
              "    </tr>\n",
              "    <tr>\n",
              "      <th>5</th>\n",
              "      <td>งบประจำปี</td>\n",
              "      <td>0</td>\n",
              "      <td>62</td>\n",
              "      <td>11000000</td>\n",
              "      <td>สำนักการระบายน้ำ</td>\n",
              "      <td>12-เงินสำรองจ่ายทั่วไป กรณีค่าใช้จ่ายต่างๆ เกี...</td>\n",
              "      <td>งบลงทุน</td>\n",
              "      <td>ขุดลอกคลองราษฎร์สามัคคีจากคลองทวีวัฒนาถึงคลองม...</td>\n",
              "      <td>1207000</td>\n",
              "    </tr>\n",
              "    <tr>\n",
              "      <th>6</th>\n",
              "      <td>งบประจำปี</td>\n",
              "      <td>0</td>\n",
              "      <td>62</td>\n",
              "      <td>50130000</td>\n",
              "      <td>สำนักงานเขตมีนบุรี</td>\n",
              "      <td>12-เงินสำรองจ่ายทั่วไป กรณีค่าใช้จ่ายต่างๆ เกี...</td>\n",
              "      <td>งบลงทุน</td>\n",
              "      <td>ขุดลอกลำรางโต๊ะรอด ตั้งแต่คลองสองต้นนุ่นถึงระย...</td>\n",
              "      <td>225400</td>\n",
              "    </tr>\n",
              "    <tr>\n",
              "      <th>7</th>\n",
              "      <td>งบประจำปี</td>\n",
              "      <td>0</td>\n",
              "      <td>62</td>\n",
              "      <td>50130000</td>\n",
              "      <td>สำนักงานเขตมีนบุรี</td>\n",
              "      <td>12-เงินสำรองจ่ายทั่วไป กรณีค่าใช้จ่ายต่างๆ เกี...</td>\n",
              "      <td>งบลงทุน</td>\n",
              "      <td>ขุดลอกลำรางเลียบคลองบึงขวาง ตั้งแต่คลองบึงขวาง...</td>\n",
              "      <td>452500</td>\n",
              "    </tr>\n",
              "    <tr>\n",
              "      <th>8</th>\n",
              "      <td>งบประจำปี</td>\n",
              "      <td>0</td>\n",
              "      <td>62</td>\n",
              "      <td>50150000</td>\n",
              "      <td>สำนักงานเขตหนองจอก</td>\n",
              "      <td>28-เงินสำรองค่าใช้จ่าย ในการพัฒนาเขต</td>\n",
              "      <td>งบลงทุน</td>\n",
              "      <td>ขุดลอกคลองลำแขก จากคลองลำปลาทิว \\nถึงคลองลำตาเ...</td>\n",
              "      <td>447000</td>\n",
              "    </tr>\n",
              "    <tr>\n",
              "      <th>9</th>\n",
              "      <td>งบประจำปี</td>\n",
              "      <td>0</td>\n",
              "      <td>62</td>\n",
              "      <td>50150000</td>\n",
              "      <td>สำนักงานเขตหนองจอก</td>\n",
              "      <td>28-เงินสำรองค่าใช้จ่าย ในการพัฒนาเขต</td>\n",
              "      <td>งบลงทุน</td>\n",
              "      <td>ขุดลอกคลองอู่ตะเภา จากคลองลำนกแขวก\\nถึงคลองลำม...</td>\n",
              "      <td>497000</td>\n",
              "    </tr>\n",
              "  </tbody>\n",
              "</table>\n",
              "</div>\n",
              "      <button class=\"colab-df-convert\" onclick=\"convertToInteractive('df-1ae75dc7-d6cc-4c3b-ac6e-6d9c78e3a460')\"\n",
              "              title=\"Convert this dataframe to an interactive table.\"\n",
              "              style=\"display:none;\">\n",
              "\n",
              "  <svg xmlns=\"http://www.w3.org/2000/svg\" height=\"24px\"viewBox=\"0 0 24 24\"\n",
              "       width=\"24px\">\n",
              "    <path d=\"M0 0h24v24H0V0z\" fill=\"none\"/>\n",
              "    <path d=\"M18.56 5.44l.94 2.06.94-2.06 2.06-.94-2.06-.94-.94-2.06-.94 2.06-2.06.94zm-11 1L8.5 8.5l.94-2.06 2.06-.94-2.06-.94L8.5 2.5l-.94 2.06-2.06.94zm10 10l.94 2.06.94-2.06 2.06-.94-2.06-.94-.94-2.06-.94 2.06-2.06.94z\"/><path d=\"M17.41 7.96l-1.37-1.37c-.4-.4-.92-.59-1.43-.59-.52 0-1.04.2-1.43.59L10.3 9.45l-7.72 7.72c-.78.78-.78 2.05 0 2.83L4 21.41c.39.39.9.59 1.41.59.51 0 1.02-.2 1.41-.59l7.78-7.78 2.81-2.81c.8-.78.8-2.07 0-2.86zM5.41 20L4 18.59l7.72-7.72 1.47 1.35L5.41 20z\"/>\n",
              "  </svg>\n",
              "      </button>\n",
              "\n",
              "\n",
              "\n",
              "    <div id=\"df-1219c343-1953-49d9-b23e-7dfab95c4aaa\">\n",
              "      <button class=\"colab-df-quickchart\" onclick=\"quickchart('df-1219c343-1953-49d9-b23e-7dfab95c4aaa')\"\n",
              "              title=\"Suggest charts.\"\n",
              "              style=\"display:none;\">\n",
              "\n",
              "<svg xmlns=\"http://www.w3.org/2000/svg\" height=\"24px\"viewBox=\"0 0 24 24\"\n",
              "     width=\"24px\">\n",
              "    <g>\n",
              "        <path d=\"M19 3H5c-1.1 0-2 .9-2 2v14c0 1.1.9 2 2 2h14c1.1 0 2-.9 2-2V5c0-1.1-.9-2-2-2zM9 17H7v-7h2v7zm4 0h-2V7h2v10zm4 0h-2v-4h2v4z\"/>\n",
              "    </g>\n",
              "</svg>\n",
              "      </button>\n",
              "    </div>\n",
              "\n",
              "<style>\n",
              "  .colab-df-quickchart {\n",
              "    background-color: #E8F0FE;\n",
              "    border: none;\n",
              "    border-radius: 50%;\n",
              "    cursor: pointer;\n",
              "    display: none;\n",
              "    fill: #1967D2;\n",
              "    height: 32px;\n",
              "    padding: 0 0 0 0;\n",
              "    width: 32px;\n",
              "  }\n",
              "\n",
              "  .colab-df-quickchart:hover {\n",
              "    background-color: #E2EBFA;\n",
              "    box-shadow: 0px 1px 2px rgba(60, 64, 67, 0.3), 0px 1px 3px 1px rgba(60, 64, 67, 0.15);\n",
              "    fill: #174EA6;\n",
              "  }\n",
              "\n",
              "  [theme=dark] .colab-df-quickchart {\n",
              "    background-color: #3B4455;\n",
              "    fill: #D2E3FC;\n",
              "  }\n",
              "\n",
              "  [theme=dark] .colab-df-quickchart:hover {\n",
              "    background-color: #434B5C;\n",
              "    box-shadow: 0px 1px 3px 1px rgba(0, 0, 0, 0.15);\n",
              "    filter: drop-shadow(0px 1px 2px rgba(0, 0, 0, 0.3));\n",
              "    fill: #FFFFFF;\n",
              "  }\n",
              "</style>\n",
              "\n",
              "    <script>\n",
              "      async function quickchart(key) {\n",
              "        const containerElement = document.querySelector('#' + key);\n",
              "        const charts = await google.colab.kernel.invokeFunction(\n",
              "            'suggestCharts', [key], {});\n",
              "      }\n",
              "    </script>\n",
              "\n",
              "      <script>\n",
              "\n",
              "function displayQuickchartButton(domScope) {\n",
              "  let quickchartButtonEl =\n",
              "    domScope.querySelector('#df-1219c343-1953-49d9-b23e-7dfab95c4aaa button.colab-df-quickchart');\n",
              "  quickchartButtonEl.style.display =\n",
              "    google.colab.kernel.accessAllowed ? 'block' : 'none';\n",
              "}\n",
              "\n",
              "        displayQuickchartButton(document);\n",
              "      </script>\n",
              "      <style>\n",
              "    .colab-df-container {\n",
              "      display:flex;\n",
              "      flex-wrap:wrap;\n",
              "      gap: 12px;\n",
              "    }\n",
              "\n",
              "    .colab-df-convert {\n",
              "      background-color: #E8F0FE;\n",
              "      border: none;\n",
              "      border-radius: 50%;\n",
              "      cursor: pointer;\n",
              "      display: none;\n",
              "      fill: #1967D2;\n",
              "      height: 32px;\n",
              "      padding: 0 0 0 0;\n",
              "      width: 32px;\n",
              "    }\n",
              "\n",
              "    .colab-df-convert:hover {\n",
              "      background-color: #E2EBFA;\n",
              "      box-shadow: 0px 1px 2px rgba(60, 64, 67, 0.3), 0px 1px 3px 1px rgba(60, 64, 67, 0.15);\n",
              "      fill: #174EA6;\n",
              "    }\n",
              "\n",
              "    [theme=dark] .colab-df-convert {\n",
              "      background-color: #3B4455;\n",
              "      fill: #D2E3FC;\n",
              "    }\n",
              "\n",
              "    [theme=dark] .colab-df-convert:hover {\n",
              "      background-color: #434B5C;\n",
              "      box-shadow: 0px 1px 3px 1px rgba(0, 0, 0, 0.15);\n",
              "      filter: drop-shadow(0px 1px 2px rgba(0, 0, 0, 0.3));\n",
              "      fill: #FFFFFF;\n",
              "    }\n",
              "  </style>\n",
              "\n",
              "      <script>\n",
              "        const buttonEl =\n",
              "          document.querySelector('#df-1ae75dc7-d6cc-4c3b-ac6e-6d9c78e3a460 button.colab-df-convert');\n",
              "        buttonEl.style.display =\n",
              "          google.colab.kernel.accessAllowed ? 'block' : 'none';\n",
              "\n",
              "        async function convertToInteractive(key) {\n",
              "          const element = document.querySelector('#df-1ae75dc7-d6cc-4c3b-ac6e-6d9c78e3a460');\n",
              "          const dataTable =\n",
              "            await google.colab.kernel.invokeFunction('convertToInteractive',\n",
              "                                                     [key], {});\n",
              "          if (!dataTable) return;\n",
              "\n",
              "          const docLinkHtml = 'Like what you see? Visit the ' +\n",
              "            '<a target=\"_blank\" href=https://colab.research.google.com/notebooks/data_table.ipynb>data table notebook</a>'\n",
              "            + ' to learn more about interactive tables.';\n",
              "          element.innerHTML = '';\n",
              "          dataTable['output_type'] = 'display_data';\n",
              "          await google.colab.output.renderOutput(dataTable, element);\n",
              "          const docLink = document.createElement('div');\n",
              "          docLink.innerHTML = docLinkHtml;\n",
              "          element.appendChild(docLink);\n",
              "        }\n",
              "      </script>\n",
              "    </div>\n",
              "  </div>\n"
            ]
          },
          "metadata": {},
          "execution_count": 7
        }
      ]
    },
    {
      "cell_type": "code",
      "source": [
        "data1.tail(10) # ดูท้ายตาราง จากข้างล่าง"
      ],
      "metadata": {
        "id": "ekG57u89QWrH",
        "colab": {
          "base_uri": "https://localhost:8080/",
          "height": 363
        },
        "outputId": "44323493-a7b4-4596-b3f9-ca41ff1fe23b"
      },
      "execution_count": null,
      "outputs": [
        {
          "output_type": "execute_result",
          "data": {
            "text/plain": [
              "    Budget_resource  Issue_No  Fiscal_year  Department_code  \\\n",
              "682     งบเพิ่มเติม         1           66         50460000   \n",
              "683     งบเพิ่มเติม         1           66         50460000   \n",
              "684     งบเพิ่มเติม         1           66         50460000   \n",
              "685     งบเพิ่มเติม         1           66         50460000   \n",
              "686     งบเพิ่มเติม         1           66         50460000   \n",
              "687     งบเพิ่มเติม         1           66         50460000   \n",
              "688     งบเพิ่มเติม         1           66         50460000   \n",
              "689     งบเพิ่มเติม         1           66         50460000   \n",
              "690     งบเพิ่มเติม         1           66         50460000   \n",
              "691     งบเพิ่มเติม         1           66         50500000   \n",
              "\n",
              "               Department Core_budget_code Expenditure_category  \\\n",
              "682  สำนักงานเขตคลองสามวา              NaN              งบลงทุน   \n",
              "683  สำนักงานเขตคลองสามวา              NaN              งบลงทุน   \n",
              "684  สำนักงานเขตคลองสามวา              NaN              งบลงทุน   \n",
              "685  สำนักงานเขตคลองสามวา              NaN              งบลงทุน   \n",
              "686  สำนักงานเขตคลองสามวา              NaN              งบลงทุน   \n",
              "687  สำนักงานเขตคลองสามวา              NaN              งบลงทุน   \n",
              "688  สำนักงานเขตคลองสามวา              NaN              งบลงทุน   \n",
              "689  สำนักงานเขตคลองสามวา              NaN              งบลงทุน   \n",
              "690  สำนักงานเขตคลองสามวา              NaN              งบลงทุน   \n",
              "691     สำนักงานเขตบางบอน              NaN              งบลงทุน   \n",
              "\n",
              "                                     Item_name  Approved_buget  \n",
              "682                      ขุดลอกลำรางไทยเอราวัณ         3494000  \n",
              "683                     ขุดลอกคลองหนึ่งตะวันตก         4330000  \n",
              "684                       ขุดลอกคลองสองตะวันตก         9832000  \n",
              "685                           ขุดลอกคลองกีบหมู         2925000  \n",
              "686                         ขุดลอกคลองลำกะโหลก         3875000  \n",
              "687                         ขุดลอกคลองผักกะเฉด         3686000  \n",
              "688                    ขุดลอกคลองบึงทรายกองดิน         2575000  \n",
              "689                          ขุดลอกลำรางซาฟารี          689000  \n",
              "690                        ขุดลอกลำรางตาจันทร์          464000  \n",
              "691  ขุดลอกคลองบางบอนต่อจากของเดิมถึงคลองนายผล         7578000  "
            ],
            "text/html": [
              "\n",
              "\n",
              "  <div id=\"df-41c29c75-8cbb-4f2a-9501-1db9dd29fb80\">\n",
              "    <div class=\"colab-df-container\">\n",
              "      <div>\n",
              "<style scoped>\n",
              "    .dataframe tbody tr th:only-of-type {\n",
              "        vertical-align: middle;\n",
              "    }\n",
              "\n",
              "    .dataframe tbody tr th {\n",
              "        vertical-align: top;\n",
              "    }\n",
              "\n",
              "    .dataframe thead th {\n",
              "        text-align: right;\n",
              "    }\n",
              "</style>\n",
              "<table border=\"1\" class=\"dataframe\">\n",
              "  <thead>\n",
              "    <tr style=\"text-align: right;\">\n",
              "      <th></th>\n",
              "      <th>Budget_resource</th>\n",
              "      <th>Issue_No</th>\n",
              "      <th>Fiscal_year</th>\n",
              "      <th>Department_code</th>\n",
              "      <th>Department</th>\n",
              "      <th>Core_budget_code</th>\n",
              "      <th>Expenditure_category</th>\n",
              "      <th>Item_name</th>\n",
              "      <th>Approved_buget</th>\n",
              "    </tr>\n",
              "  </thead>\n",
              "  <tbody>\n",
              "    <tr>\n",
              "      <th>682</th>\n",
              "      <td>งบเพิ่มเติม</td>\n",
              "      <td>1</td>\n",
              "      <td>66</td>\n",
              "      <td>50460000</td>\n",
              "      <td>สำนักงานเขตคลองสามวา</td>\n",
              "      <td>NaN</td>\n",
              "      <td>งบลงทุน</td>\n",
              "      <td>ขุดลอกลำรางไทยเอราวัณ</td>\n",
              "      <td>3494000</td>\n",
              "    </tr>\n",
              "    <tr>\n",
              "      <th>683</th>\n",
              "      <td>งบเพิ่มเติม</td>\n",
              "      <td>1</td>\n",
              "      <td>66</td>\n",
              "      <td>50460000</td>\n",
              "      <td>สำนักงานเขตคลองสามวา</td>\n",
              "      <td>NaN</td>\n",
              "      <td>งบลงทุน</td>\n",
              "      <td>ขุดลอกคลองหนึ่งตะวันตก</td>\n",
              "      <td>4330000</td>\n",
              "    </tr>\n",
              "    <tr>\n",
              "      <th>684</th>\n",
              "      <td>งบเพิ่มเติม</td>\n",
              "      <td>1</td>\n",
              "      <td>66</td>\n",
              "      <td>50460000</td>\n",
              "      <td>สำนักงานเขตคลองสามวา</td>\n",
              "      <td>NaN</td>\n",
              "      <td>งบลงทุน</td>\n",
              "      <td>ขุดลอกคลองสองตะวันตก</td>\n",
              "      <td>9832000</td>\n",
              "    </tr>\n",
              "    <tr>\n",
              "      <th>685</th>\n",
              "      <td>งบเพิ่มเติม</td>\n",
              "      <td>1</td>\n",
              "      <td>66</td>\n",
              "      <td>50460000</td>\n",
              "      <td>สำนักงานเขตคลองสามวา</td>\n",
              "      <td>NaN</td>\n",
              "      <td>งบลงทุน</td>\n",
              "      <td>ขุดลอกคลองกีบหมู</td>\n",
              "      <td>2925000</td>\n",
              "    </tr>\n",
              "    <tr>\n",
              "      <th>686</th>\n",
              "      <td>งบเพิ่มเติม</td>\n",
              "      <td>1</td>\n",
              "      <td>66</td>\n",
              "      <td>50460000</td>\n",
              "      <td>สำนักงานเขตคลองสามวา</td>\n",
              "      <td>NaN</td>\n",
              "      <td>งบลงทุน</td>\n",
              "      <td>ขุดลอกคลองลำกะโหลก</td>\n",
              "      <td>3875000</td>\n",
              "    </tr>\n",
              "    <tr>\n",
              "      <th>687</th>\n",
              "      <td>งบเพิ่มเติม</td>\n",
              "      <td>1</td>\n",
              "      <td>66</td>\n",
              "      <td>50460000</td>\n",
              "      <td>สำนักงานเขตคลองสามวา</td>\n",
              "      <td>NaN</td>\n",
              "      <td>งบลงทุน</td>\n",
              "      <td>ขุดลอกคลองผักกะเฉด</td>\n",
              "      <td>3686000</td>\n",
              "    </tr>\n",
              "    <tr>\n",
              "      <th>688</th>\n",
              "      <td>งบเพิ่มเติม</td>\n",
              "      <td>1</td>\n",
              "      <td>66</td>\n",
              "      <td>50460000</td>\n",
              "      <td>สำนักงานเขตคลองสามวา</td>\n",
              "      <td>NaN</td>\n",
              "      <td>งบลงทุน</td>\n",
              "      <td>ขุดลอกคลองบึงทรายกองดิน</td>\n",
              "      <td>2575000</td>\n",
              "    </tr>\n",
              "    <tr>\n",
              "      <th>689</th>\n",
              "      <td>งบเพิ่มเติม</td>\n",
              "      <td>1</td>\n",
              "      <td>66</td>\n",
              "      <td>50460000</td>\n",
              "      <td>สำนักงานเขตคลองสามวา</td>\n",
              "      <td>NaN</td>\n",
              "      <td>งบลงทุน</td>\n",
              "      <td>ขุดลอกลำรางซาฟารี</td>\n",
              "      <td>689000</td>\n",
              "    </tr>\n",
              "    <tr>\n",
              "      <th>690</th>\n",
              "      <td>งบเพิ่มเติม</td>\n",
              "      <td>1</td>\n",
              "      <td>66</td>\n",
              "      <td>50460000</td>\n",
              "      <td>สำนักงานเขตคลองสามวา</td>\n",
              "      <td>NaN</td>\n",
              "      <td>งบลงทุน</td>\n",
              "      <td>ขุดลอกลำรางตาจันทร์</td>\n",
              "      <td>464000</td>\n",
              "    </tr>\n",
              "    <tr>\n",
              "      <th>691</th>\n",
              "      <td>งบเพิ่มเติม</td>\n",
              "      <td>1</td>\n",
              "      <td>66</td>\n",
              "      <td>50500000</td>\n",
              "      <td>สำนักงานเขตบางบอน</td>\n",
              "      <td>NaN</td>\n",
              "      <td>งบลงทุน</td>\n",
              "      <td>ขุดลอกคลองบางบอนต่อจากของเดิมถึงคลองนายผล</td>\n",
              "      <td>7578000</td>\n",
              "    </tr>\n",
              "  </tbody>\n",
              "</table>\n",
              "</div>\n",
              "      <button class=\"colab-df-convert\" onclick=\"convertToInteractive('df-41c29c75-8cbb-4f2a-9501-1db9dd29fb80')\"\n",
              "              title=\"Convert this dataframe to an interactive table.\"\n",
              "              style=\"display:none;\">\n",
              "\n",
              "  <svg xmlns=\"http://www.w3.org/2000/svg\" height=\"24px\"viewBox=\"0 0 24 24\"\n",
              "       width=\"24px\">\n",
              "    <path d=\"M0 0h24v24H0V0z\" fill=\"none\"/>\n",
              "    <path d=\"M18.56 5.44l.94 2.06.94-2.06 2.06-.94-2.06-.94-.94-2.06-.94 2.06-2.06.94zm-11 1L8.5 8.5l.94-2.06 2.06-.94-2.06-.94L8.5 2.5l-.94 2.06-2.06.94zm10 10l.94 2.06.94-2.06 2.06-.94-2.06-.94-.94-2.06-.94 2.06-2.06.94z\"/><path d=\"M17.41 7.96l-1.37-1.37c-.4-.4-.92-.59-1.43-.59-.52 0-1.04.2-1.43.59L10.3 9.45l-7.72 7.72c-.78.78-.78 2.05 0 2.83L4 21.41c.39.39.9.59 1.41.59.51 0 1.02-.2 1.41-.59l7.78-7.78 2.81-2.81c.8-.78.8-2.07 0-2.86zM5.41 20L4 18.59l7.72-7.72 1.47 1.35L5.41 20z\"/>\n",
              "  </svg>\n",
              "      </button>\n",
              "\n",
              "\n",
              "\n",
              "    <div id=\"df-26a82f07-27b8-4199-9d01-5ea39c692de4\">\n",
              "      <button class=\"colab-df-quickchart\" onclick=\"quickchart('df-26a82f07-27b8-4199-9d01-5ea39c692de4')\"\n",
              "              title=\"Suggest charts.\"\n",
              "              style=\"display:none;\">\n",
              "\n",
              "<svg xmlns=\"http://www.w3.org/2000/svg\" height=\"24px\"viewBox=\"0 0 24 24\"\n",
              "     width=\"24px\">\n",
              "    <g>\n",
              "        <path d=\"M19 3H5c-1.1 0-2 .9-2 2v14c0 1.1.9 2 2 2h14c1.1 0 2-.9 2-2V5c0-1.1-.9-2-2-2zM9 17H7v-7h2v7zm4 0h-2V7h2v10zm4 0h-2v-4h2v4z\"/>\n",
              "    </g>\n",
              "</svg>\n",
              "      </button>\n",
              "    </div>\n",
              "\n",
              "<style>\n",
              "  .colab-df-quickchart {\n",
              "    background-color: #E8F0FE;\n",
              "    border: none;\n",
              "    border-radius: 50%;\n",
              "    cursor: pointer;\n",
              "    display: none;\n",
              "    fill: #1967D2;\n",
              "    height: 32px;\n",
              "    padding: 0 0 0 0;\n",
              "    width: 32px;\n",
              "  }\n",
              "\n",
              "  .colab-df-quickchart:hover {\n",
              "    background-color: #E2EBFA;\n",
              "    box-shadow: 0px 1px 2px rgba(60, 64, 67, 0.3), 0px 1px 3px 1px rgba(60, 64, 67, 0.15);\n",
              "    fill: #174EA6;\n",
              "  }\n",
              "\n",
              "  [theme=dark] .colab-df-quickchart {\n",
              "    background-color: #3B4455;\n",
              "    fill: #D2E3FC;\n",
              "  }\n",
              "\n",
              "  [theme=dark] .colab-df-quickchart:hover {\n",
              "    background-color: #434B5C;\n",
              "    box-shadow: 0px 1px 3px 1px rgba(0, 0, 0, 0.15);\n",
              "    filter: drop-shadow(0px 1px 2px rgba(0, 0, 0, 0.3));\n",
              "    fill: #FFFFFF;\n",
              "  }\n",
              "</style>\n",
              "\n",
              "    <script>\n",
              "      async function quickchart(key) {\n",
              "        const containerElement = document.querySelector('#' + key);\n",
              "        const charts = await google.colab.kernel.invokeFunction(\n",
              "            'suggestCharts', [key], {});\n",
              "      }\n",
              "    </script>\n",
              "\n",
              "      <script>\n",
              "\n",
              "function displayQuickchartButton(domScope) {\n",
              "  let quickchartButtonEl =\n",
              "    domScope.querySelector('#df-26a82f07-27b8-4199-9d01-5ea39c692de4 button.colab-df-quickchart');\n",
              "  quickchartButtonEl.style.display =\n",
              "    google.colab.kernel.accessAllowed ? 'block' : 'none';\n",
              "}\n",
              "\n",
              "        displayQuickchartButton(document);\n",
              "      </script>\n",
              "      <style>\n",
              "    .colab-df-container {\n",
              "      display:flex;\n",
              "      flex-wrap:wrap;\n",
              "      gap: 12px;\n",
              "    }\n",
              "\n",
              "    .colab-df-convert {\n",
              "      background-color: #E8F0FE;\n",
              "      border: none;\n",
              "      border-radius: 50%;\n",
              "      cursor: pointer;\n",
              "      display: none;\n",
              "      fill: #1967D2;\n",
              "      height: 32px;\n",
              "      padding: 0 0 0 0;\n",
              "      width: 32px;\n",
              "    }\n",
              "\n",
              "    .colab-df-convert:hover {\n",
              "      background-color: #E2EBFA;\n",
              "      box-shadow: 0px 1px 2px rgba(60, 64, 67, 0.3), 0px 1px 3px 1px rgba(60, 64, 67, 0.15);\n",
              "      fill: #174EA6;\n",
              "    }\n",
              "\n",
              "    [theme=dark] .colab-df-convert {\n",
              "      background-color: #3B4455;\n",
              "      fill: #D2E3FC;\n",
              "    }\n",
              "\n",
              "    [theme=dark] .colab-df-convert:hover {\n",
              "      background-color: #434B5C;\n",
              "      box-shadow: 0px 1px 3px 1px rgba(0, 0, 0, 0.15);\n",
              "      filter: drop-shadow(0px 1px 2px rgba(0, 0, 0, 0.3));\n",
              "      fill: #FFFFFF;\n",
              "    }\n",
              "  </style>\n",
              "\n",
              "      <script>\n",
              "        const buttonEl =\n",
              "          document.querySelector('#df-41c29c75-8cbb-4f2a-9501-1db9dd29fb80 button.colab-df-convert');\n",
              "        buttonEl.style.display =\n",
              "          google.colab.kernel.accessAllowed ? 'block' : 'none';\n",
              "\n",
              "        async function convertToInteractive(key) {\n",
              "          const element = document.querySelector('#df-41c29c75-8cbb-4f2a-9501-1db9dd29fb80');\n",
              "          const dataTable =\n",
              "            await google.colab.kernel.invokeFunction('convertToInteractive',\n",
              "                                                     [key], {});\n",
              "          if (!dataTable) return;\n",
              "\n",
              "          const docLinkHtml = 'Like what you see? Visit the ' +\n",
              "            '<a target=\"_blank\" href=https://colab.research.google.com/notebooks/data_table.ipynb>data table notebook</a>'\n",
              "            + ' to learn more about interactive tables.';\n",
              "          element.innerHTML = '';\n",
              "          dataTable['output_type'] = 'display_data';\n",
              "          await google.colab.output.renderOutput(dataTable, element);\n",
              "          const docLink = document.createElement('div');\n",
              "          docLink.innerHTML = docLinkHtml;\n",
              "          element.appendChild(docLink);\n",
              "        }\n",
              "      </script>\n",
              "    </div>\n",
              "  </div>\n"
            ]
          },
          "metadata": {},
          "execution_count": 8
        }
      ]
    },
    {
      "cell_type": "code",
      "source": [
        "data1.shape # ดูขนาด กี่เเถวกี่หลัก"
      ],
      "metadata": {
        "id": "QQMkd0xvQhvJ",
        "colab": {
          "base_uri": "https://localhost:8080/"
        },
        "outputId": "492a09c6-e326-4842-9af6-69b921918514"
      },
      "execution_count": null,
      "outputs": [
        {
          "output_type": "execute_result",
          "data": {
            "text/plain": [
              "(692, 9)"
            ]
          },
          "metadata": {},
          "execution_count": 9
        }
      ]
    },
    {
      "cell_type": "code",
      "source": [
        "data1.describe()"
      ],
      "metadata": {
        "colab": {
          "base_uri": "https://localhost:8080/",
          "height": 300
        },
        "id": "nTnEhgEnTMSX",
        "outputId": "38dc148f-f6d1-4fb1-fdd3-ff182d0b05db"
      },
      "execution_count": null,
      "outputs": [
        {
          "output_type": "execute_result",
          "data": {
            "text/plain": [
              "         Issue_No  Fiscal_year  Department_code  Approved_buget\n",
              "count  692.000000   692.000000     6.920000e+02    6.920000e+02\n",
              "mean     0.333815    64.543353     4.534202e+07    1.482811e+06\n",
              "std      0.474972     1.476149     1.303279e+07    2.464625e+06\n",
              "min      0.000000    62.000000     1.100000e+07    0.000000e+00\n",
              "25%      0.000000    63.000000     5.013000e+07    4.100000e+05\n",
              "50%      0.000000    65.000000     5.023000e+07    5.980000e+05\n",
              "75%      1.000000    66.000000     5.036000e+07    1.628250e+06\n",
              "max      2.000000    66.000000     5.050000e+07    2.850000e+07"
            ],
            "text/html": [
              "\n",
              "\n",
              "  <div id=\"df-4134a853-2b8f-4d88-a022-e1d057103ebf\">\n",
              "    <div class=\"colab-df-container\">\n",
              "      <div>\n",
              "<style scoped>\n",
              "    .dataframe tbody tr th:only-of-type {\n",
              "        vertical-align: middle;\n",
              "    }\n",
              "\n",
              "    .dataframe tbody tr th {\n",
              "        vertical-align: top;\n",
              "    }\n",
              "\n",
              "    .dataframe thead th {\n",
              "        text-align: right;\n",
              "    }\n",
              "</style>\n",
              "<table border=\"1\" class=\"dataframe\">\n",
              "  <thead>\n",
              "    <tr style=\"text-align: right;\">\n",
              "      <th></th>\n",
              "      <th>Issue_No</th>\n",
              "      <th>Fiscal_year</th>\n",
              "      <th>Department_code</th>\n",
              "      <th>Approved_buget</th>\n",
              "    </tr>\n",
              "  </thead>\n",
              "  <tbody>\n",
              "    <tr>\n",
              "      <th>count</th>\n",
              "      <td>692.000000</td>\n",
              "      <td>692.000000</td>\n",
              "      <td>6.920000e+02</td>\n",
              "      <td>6.920000e+02</td>\n",
              "    </tr>\n",
              "    <tr>\n",
              "      <th>mean</th>\n",
              "      <td>0.333815</td>\n",
              "      <td>64.543353</td>\n",
              "      <td>4.534202e+07</td>\n",
              "      <td>1.482811e+06</td>\n",
              "    </tr>\n",
              "    <tr>\n",
              "      <th>std</th>\n",
              "      <td>0.474972</td>\n",
              "      <td>1.476149</td>\n",
              "      <td>1.303279e+07</td>\n",
              "      <td>2.464625e+06</td>\n",
              "    </tr>\n",
              "    <tr>\n",
              "      <th>min</th>\n",
              "      <td>0.000000</td>\n",
              "      <td>62.000000</td>\n",
              "      <td>1.100000e+07</td>\n",
              "      <td>0.000000e+00</td>\n",
              "    </tr>\n",
              "    <tr>\n",
              "      <th>25%</th>\n",
              "      <td>0.000000</td>\n",
              "      <td>63.000000</td>\n",
              "      <td>5.013000e+07</td>\n",
              "      <td>4.100000e+05</td>\n",
              "    </tr>\n",
              "    <tr>\n",
              "      <th>50%</th>\n",
              "      <td>0.000000</td>\n",
              "      <td>65.000000</td>\n",
              "      <td>5.023000e+07</td>\n",
              "      <td>5.980000e+05</td>\n",
              "    </tr>\n",
              "    <tr>\n",
              "      <th>75%</th>\n",
              "      <td>1.000000</td>\n",
              "      <td>66.000000</td>\n",
              "      <td>5.036000e+07</td>\n",
              "      <td>1.628250e+06</td>\n",
              "    </tr>\n",
              "    <tr>\n",
              "      <th>max</th>\n",
              "      <td>2.000000</td>\n",
              "      <td>66.000000</td>\n",
              "      <td>5.050000e+07</td>\n",
              "      <td>2.850000e+07</td>\n",
              "    </tr>\n",
              "  </tbody>\n",
              "</table>\n",
              "</div>\n",
              "      <button class=\"colab-df-convert\" onclick=\"convertToInteractive('df-4134a853-2b8f-4d88-a022-e1d057103ebf')\"\n",
              "              title=\"Convert this dataframe to an interactive table.\"\n",
              "              style=\"display:none;\">\n",
              "\n",
              "  <svg xmlns=\"http://www.w3.org/2000/svg\" height=\"24px\"viewBox=\"0 0 24 24\"\n",
              "       width=\"24px\">\n",
              "    <path d=\"M0 0h24v24H0V0z\" fill=\"none\"/>\n",
              "    <path d=\"M18.56 5.44l.94 2.06.94-2.06 2.06-.94-2.06-.94-.94-2.06-.94 2.06-2.06.94zm-11 1L8.5 8.5l.94-2.06 2.06-.94-2.06-.94L8.5 2.5l-.94 2.06-2.06.94zm10 10l.94 2.06.94-2.06 2.06-.94-2.06-.94-.94-2.06-.94 2.06-2.06.94z\"/><path d=\"M17.41 7.96l-1.37-1.37c-.4-.4-.92-.59-1.43-.59-.52 0-1.04.2-1.43.59L10.3 9.45l-7.72 7.72c-.78.78-.78 2.05 0 2.83L4 21.41c.39.39.9.59 1.41.59.51 0 1.02-.2 1.41-.59l7.78-7.78 2.81-2.81c.8-.78.8-2.07 0-2.86zM5.41 20L4 18.59l7.72-7.72 1.47 1.35L5.41 20z\"/>\n",
              "  </svg>\n",
              "      </button>\n",
              "\n",
              "\n",
              "\n",
              "    <div id=\"df-1a23d55a-b93a-4c0e-afb4-f78abf719957\">\n",
              "      <button class=\"colab-df-quickchart\" onclick=\"quickchart('df-1a23d55a-b93a-4c0e-afb4-f78abf719957')\"\n",
              "              title=\"Suggest charts.\"\n",
              "              style=\"display:none;\">\n",
              "\n",
              "<svg xmlns=\"http://www.w3.org/2000/svg\" height=\"24px\"viewBox=\"0 0 24 24\"\n",
              "     width=\"24px\">\n",
              "    <g>\n",
              "        <path d=\"M19 3H5c-1.1 0-2 .9-2 2v14c0 1.1.9 2 2 2h14c1.1 0 2-.9 2-2V5c0-1.1-.9-2-2-2zM9 17H7v-7h2v7zm4 0h-2V7h2v10zm4 0h-2v-4h2v4z\"/>\n",
              "    </g>\n",
              "</svg>\n",
              "      </button>\n",
              "    </div>\n",
              "\n",
              "<style>\n",
              "  .colab-df-quickchart {\n",
              "    background-color: #E8F0FE;\n",
              "    border: none;\n",
              "    border-radius: 50%;\n",
              "    cursor: pointer;\n",
              "    display: none;\n",
              "    fill: #1967D2;\n",
              "    height: 32px;\n",
              "    padding: 0 0 0 0;\n",
              "    width: 32px;\n",
              "  }\n",
              "\n",
              "  .colab-df-quickchart:hover {\n",
              "    background-color: #E2EBFA;\n",
              "    box-shadow: 0px 1px 2px rgba(60, 64, 67, 0.3), 0px 1px 3px 1px rgba(60, 64, 67, 0.15);\n",
              "    fill: #174EA6;\n",
              "  }\n",
              "\n",
              "  [theme=dark] .colab-df-quickchart {\n",
              "    background-color: #3B4455;\n",
              "    fill: #D2E3FC;\n",
              "  }\n",
              "\n",
              "  [theme=dark] .colab-df-quickchart:hover {\n",
              "    background-color: #434B5C;\n",
              "    box-shadow: 0px 1px 3px 1px rgba(0, 0, 0, 0.15);\n",
              "    filter: drop-shadow(0px 1px 2px rgba(0, 0, 0, 0.3));\n",
              "    fill: #FFFFFF;\n",
              "  }\n",
              "</style>\n",
              "\n",
              "    <script>\n",
              "      async function quickchart(key) {\n",
              "        const containerElement = document.querySelector('#' + key);\n",
              "        const charts = await google.colab.kernel.invokeFunction(\n",
              "            'suggestCharts', [key], {});\n",
              "      }\n",
              "    </script>\n",
              "\n",
              "      <script>\n",
              "\n",
              "function displayQuickchartButton(domScope) {\n",
              "  let quickchartButtonEl =\n",
              "    domScope.querySelector('#df-1a23d55a-b93a-4c0e-afb4-f78abf719957 button.colab-df-quickchart');\n",
              "  quickchartButtonEl.style.display =\n",
              "    google.colab.kernel.accessAllowed ? 'block' : 'none';\n",
              "}\n",
              "\n",
              "        displayQuickchartButton(document);\n",
              "      </script>\n",
              "      <style>\n",
              "    .colab-df-container {\n",
              "      display:flex;\n",
              "      flex-wrap:wrap;\n",
              "      gap: 12px;\n",
              "    }\n",
              "\n",
              "    .colab-df-convert {\n",
              "      background-color: #E8F0FE;\n",
              "      border: none;\n",
              "      border-radius: 50%;\n",
              "      cursor: pointer;\n",
              "      display: none;\n",
              "      fill: #1967D2;\n",
              "      height: 32px;\n",
              "      padding: 0 0 0 0;\n",
              "      width: 32px;\n",
              "    }\n",
              "\n",
              "    .colab-df-convert:hover {\n",
              "      background-color: #E2EBFA;\n",
              "      box-shadow: 0px 1px 2px rgba(60, 64, 67, 0.3), 0px 1px 3px 1px rgba(60, 64, 67, 0.15);\n",
              "      fill: #174EA6;\n",
              "    }\n",
              "\n",
              "    [theme=dark] .colab-df-convert {\n",
              "      background-color: #3B4455;\n",
              "      fill: #D2E3FC;\n",
              "    }\n",
              "\n",
              "    [theme=dark] .colab-df-convert:hover {\n",
              "      background-color: #434B5C;\n",
              "      box-shadow: 0px 1px 3px 1px rgba(0, 0, 0, 0.15);\n",
              "      filter: drop-shadow(0px 1px 2px rgba(0, 0, 0, 0.3));\n",
              "      fill: #FFFFFF;\n",
              "    }\n",
              "  </style>\n",
              "\n",
              "      <script>\n",
              "        const buttonEl =\n",
              "          document.querySelector('#df-4134a853-2b8f-4d88-a022-e1d057103ebf button.colab-df-convert');\n",
              "        buttonEl.style.display =\n",
              "          google.colab.kernel.accessAllowed ? 'block' : 'none';\n",
              "\n",
              "        async function convertToInteractive(key) {\n",
              "          const element = document.querySelector('#df-4134a853-2b8f-4d88-a022-e1d057103ebf');\n",
              "          const dataTable =\n",
              "            await google.colab.kernel.invokeFunction('convertToInteractive',\n",
              "                                                     [key], {});\n",
              "          if (!dataTable) return;\n",
              "\n",
              "          const docLinkHtml = 'Like what you see? Visit the ' +\n",
              "            '<a target=\"_blank\" href=https://colab.research.google.com/notebooks/data_table.ipynb>data table notebook</a>'\n",
              "            + ' to learn more about interactive tables.';\n",
              "          element.innerHTML = '';\n",
              "          dataTable['output_type'] = 'display_data';\n",
              "          await google.colab.output.renderOutput(dataTable, element);\n",
              "          const docLink = document.createElement('div');\n",
              "          docLink.innerHTML = docLinkHtml;\n",
              "          element.appendChild(docLink);\n",
              "        }\n",
              "      </script>\n",
              "    </div>\n",
              "  </div>\n"
            ]
          },
          "metadata": {},
          "execution_count": 11
        }
      ]
    },
    {
      "cell_type": "markdown",
      "source": [
        "NaN = Not a Number"
      ],
      "metadata": {
        "id": "4GLanX2ocuyZ"
      }
    },
    {
      "cell_type": "markdown",
      "source": [
        "DF คือ DataFrame เป็นชื่อ data structure ที่ pandas ใช้"
      ],
      "metadata": {
        "id": "P3N10ITE3d38"
      }
    },
    {
      "cell_type": "markdown",
      "source": [
        "# ชี้ค่าในตาราง (indexing)\n",
        "\n",
        "\n"
      ],
      "metadata": {
        "id": "GYQmkd9IdAKj"
      }
    },
    {
      "cell_type": "markdown",
      "source": [
        "#มุมมองตาราง df[columns][rows]"
      ],
      "metadata": {
        "id": "vYW2zZU23REc"
      }
    },
    {
      "cell_type": "markdown",
      "source": [
        "# Table Slicing\n",
        "ไม่ค่อยมีประสิทธิภาพ\n",
        "ต้องทราบพิกัด"
      ],
      "metadata": {
        "id": "C503gqEWeuuj"
      }
    },
    {
      "cell_type": "code",
      "source": [
        "data1.iloc[-20 :,7:10]"
      ],
      "metadata": {
        "colab": {
          "base_uri": "https://localhost:8080/",
          "height": 677
        },
        "id": "jblMyFWufTfW",
        "outputId": "a6e3c5c8-70f3-44dc-9711-2c7fab539ea3"
      },
      "execution_count": null,
      "outputs": [
        {
          "output_type": "execute_result",
          "data": {
            "text/plain": [
              "                                             Item_name  Approved_buget\n",
              "672  ขุดลอกลำกระโดงแยกคลองบางแวก (ตรงข้ามวัดบุณยประ...          472000\n",
              "673  ขุดลอกลำกระโดงแยกคลองบางขี้แก้ง (หมู่บ้านเอเวอ...          492000\n",
              "674                         ขุดลอกคลองแยกคลองตาเทียม 1          469000\n",
              "675  ขุดลอกลำกระโดงระหว่างซอยเพชรเกษม 43 กับ ซอยเพช...          493000\n",
              "676                          ขุดลอกคลองแยกคลองยายเพิ่ม          481000\n",
              "677                    ขุดลอกลำกระโดงข้างหมู่บ้านวรนุช          492000\n",
              "678                                    ขุดลอกคลองตาตี่          483000\n",
              "679                        ขุดลอกลำกระโดงข้างเดอะมอลล์          462000\n",
              "680                      ขุดลอกลำกระโดงข้างบ้านบางแค 2          499000\n",
              "681                                   ขุดลอกลำรางตาเชย         3559000\n",
              "682                              ขุดลอกลำรางไทยเอราวัณ         3494000\n",
              "683                             ขุดลอกคลองหนึ่งตะวันตก         4330000\n",
              "684                               ขุดลอกคลองสองตะวันตก         9832000\n",
              "685                                   ขุดลอกคลองกีบหมู         2925000\n",
              "686                                 ขุดลอกคลองลำกะโหลก         3875000\n",
              "687                                 ขุดลอกคลองผักกะเฉด         3686000\n",
              "688                            ขุดลอกคลองบึงทรายกองดิน         2575000\n",
              "689                                  ขุดลอกลำรางซาฟารี          689000\n",
              "690                                ขุดลอกลำรางตาจันทร์          464000\n",
              "691          ขุดลอกคลองบางบอนต่อจากของเดิมถึงคลองนายผล         7578000"
            ],
            "text/html": [
              "\n",
              "\n",
              "  <div id=\"df-9ce3ae71-0635-4c8f-835a-ab6b720bb31c\">\n",
              "    <div class=\"colab-df-container\">\n",
              "      <div>\n",
              "<style scoped>\n",
              "    .dataframe tbody tr th:only-of-type {\n",
              "        vertical-align: middle;\n",
              "    }\n",
              "\n",
              "    .dataframe tbody tr th {\n",
              "        vertical-align: top;\n",
              "    }\n",
              "\n",
              "    .dataframe thead th {\n",
              "        text-align: right;\n",
              "    }\n",
              "</style>\n",
              "<table border=\"1\" class=\"dataframe\">\n",
              "  <thead>\n",
              "    <tr style=\"text-align: right;\">\n",
              "      <th></th>\n",
              "      <th>Item_name</th>\n",
              "      <th>Approved_buget</th>\n",
              "    </tr>\n",
              "  </thead>\n",
              "  <tbody>\n",
              "    <tr>\n",
              "      <th>672</th>\n",
              "      <td>ขุดลอกลำกระโดงแยกคลองบางแวก (ตรงข้ามวัดบุณยประ...</td>\n",
              "      <td>472000</td>\n",
              "    </tr>\n",
              "    <tr>\n",
              "      <th>673</th>\n",
              "      <td>ขุดลอกลำกระโดงแยกคลองบางขี้แก้ง (หมู่บ้านเอเวอ...</td>\n",
              "      <td>492000</td>\n",
              "    </tr>\n",
              "    <tr>\n",
              "      <th>674</th>\n",
              "      <td>ขุดลอกคลองแยกคลองตาเทียม 1</td>\n",
              "      <td>469000</td>\n",
              "    </tr>\n",
              "    <tr>\n",
              "      <th>675</th>\n",
              "      <td>ขุดลอกลำกระโดงระหว่างซอยเพชรเกษม 43 กับ ซอยเพช...</td>\n",
              "      <td>493000</td>\n",
              "    </tr>\n",
              "    <tr>\n",
              "      <th>676</th>\n",
              "      <td>ขุดลอกคลองแยกคลองยายเพิ่ม</td>\n",
              "      <td>481000</td>\n",
              "    </tr>\n",
              "    <tr>\n",
              "      <th>677</th>\n",
              "      <td>ขุดลอกลำกระโดงข้างหมู่บ้านวรนุช</td>\n",
              "      <td>492000</td>\n",
              "    </tr>\n",
              "    <tr>\n",
              "      <th>678</th>\n",
              "      <td>ขุดลอกคลองตาตี่</td>\n",
              "      <td>483000</td>\n",
              "    </tr>\n",
              "    <tr>\n",
              "      <th>679</th>\n",
              "      <td>ขุดลอกลำกระโดงข้างเดอะมอลล์</td>\n",
              "      <td>462000</td>\n",
              "    </tr>\n",
              "    <tr>\n",
              "      <th>680</th>\n",
              "      <td>ขุดลอกลำกระโดงข้างบ้านบางแค 2</td>\n",
              "      <td>499000</td>\n",
              "    </tr>\n",
              "    <tr>\n",
              "      <th>681</th>\n",
              "      <td>ขุดลอกลำรางตาเชย</td>\n",
              "      <td>3559000</td>\n",
              "    </tr>\n",
              "    <tr>\n",
              "      <th>682</th>\n",
              "      <td>ขุดลอกลำรางไทยเอราวัณ</td>\n",
              "      <td>3494000</td>\n",
              "    </tr>\n",
              "    <tr>\n",
              "      <th>683</th>\n",
              "      <td>ขุดลอกคลองหนึ่งตะวันตก</td>\n",
              "      <td>4330000</td>\n",
              "    </tr>\n",
              "    <tr>\n",
              "      <th>684</th>\n",
              "      <td>ขุดลอกคลองสองตะวันตก</td>\n",
              "      <td>9832000</td>\n",
              "    </tr>\n",
              "    <tr>\n",
              "      <th>685</th>\n",
              "      <td>ขุดลอกคลองกีบหมู</td>\n",
              "      <td>2925000</td>\n",
              "    </tr>\n",
              "    <tr>\n",
              "      <th>686</th>\n",
              "      <td>ขุดลอกคลองลำกะโหลก</td>\n",
              "      <td>3875000</td>\n",
              "    </tr>\n",
              "    <tr>\n",
              "      <th>687</th>\n",
              "      <td>ขุดลอกคลองผักกะเฉด</td>\n",
              "      <td>3686000</td>\n",
              "    </tr>\n",
              "    <tr>\n",
              "      <th>688</th>\n",
              "      <td>ขุดลอกคลองบึงทรายกองดิน</td>\n",
              "      <td>2575000</td>\n",
              "    </tr>\n",
              "    <tr>\n",
              "      <th>689</th>\n",
              "      <td>ขุดลอกลำรางซาฟารี</td>\n",
              "      <td>689000</td>\n",
              "    </tr>\n",
              "    <tr>\n",
              "      <th>690</th>\n",
              "      <td>ขุดลอกลำรางตาจันทร์</td>\n",
              "      <td>464000</td>\n",
              "    </tr>\n",
              "    <tr>\n",
              "      <th>691</th>\n",
              "      <td>ขุดลอกคลองบางบอนต่อจากของเดิมถึงคลองนายผล</td>\n",
              "      <td>7578000</td>\n",
              "    </tr>\n",
              "  </tbody>\n",
              "</table>\n",
              "</div>\n",
              "      <button class=\"colab-df-convert\" onclick=\"convertToInteractive('df-9ce3ae71-0635-4c8f-835a-ab6b720bb31c')\"\n",
              "              title=\"Convert this dataframe to an interactive table.\"\n",
              "              style=\"display:none;\">\n",
              "\n",
              "  <svg xmlns=\"http://www.w3.org/2000/svg\" height=\"24px\"viewBox=\"0 0 24 24\"\n",
              "       width=\"24px\">\n",
              "    <path d=\"M0 0h24v24H0V0z\" fill=\"none\"/>\n",
              "    <path d=\"M18.56 5.44l.94 2.06.94-2.06 2.06-.94-2.06-.94-.94-2.06-.94 2.06-2.06.94zm-11 1L8.5 8.5l.94-2.06 2.06-.94-2.06-.94L8.5 2.5l-.94 2.06-2.06.94zm10 10l.94 2.06.94-2.06 2.06-.94-2.06-.94-.94-2.06-.94 2.06-2.06.94z\"/><path d=\"M17.41 7.96l-1.37-1.37c-.4-.4-.92-.59-1.43-.59-.52 0-1.04.2-1.43.59L10.3 9.45l-7.72 7.72c-.78.78-.78 2.05 0 2.83L4 21.41c.39.39.9.59 1.41.59.51 0 1.02-.2 1.41-.59l7.78-7.78 2.81-2.81c.8-.78.8-2.07 0-2.86zM5.41 20L4 18.59l7.72-7.72 1.47 1.35L5.41 20z\"/>\n",
              "  </svg>\n",
              "      </button>\n",
              "\n",
              "\n",
              "\n",
              "    <div id=\"df-61f31f4b-de73-411a-ab79-31d1a2180253\">\n",
              "      <button class=\"colab-df-quickchart\" onclick=\"quickchart('df-61f31f4b-de73-411a-ab79-31d1a2180253')\"\n",
              "              title=\"Suggest charts.\"\n",
              "              style=\"display:none;\">\n",
              "\n",
              "<svg xmlns=\"http://www.w3.org/2000/svg\" height=\"24px\"viewBox=\"0 0 24 24\"\n",
              "     width=\"24px\">\n",
              "    <g>\n",
              "        <path d=\"M19 3H5c-1.1 0-2 .9-2 2v14c0 1.1.9 2 2 2h14c1.1 0 2-.9 2-2V5c0-1.1-.9-2-2-2zM9 17H7v-7h2v7zm4 0h-2V7h2v10zm4 0h-2v-4h2v4z\"/>\n",
              "    </g>\n",
              "</svg>\n",
              "      </button>\n",
              "    </div>\n",
              "\n",
              "<style>\n",
              "  .colab-df-quickchart {\n",
              "    background-color: #E8F0FE;\n",
              "    border: none;\n",
              "    border-radius: 50%;\n",
              "    cursor: pointer;\n",
              "    display: none;\n",
              "    fill: #1967D2;\n",
              "    height: 32px;\n",
              "    padding: 0 0 0 0;\n",
              "    width: 32px;\n",
              "  }\n",
              "\n",
              "  .colab-df-quickchart:hover {\n",
              "    background-color: #E2EBFA;\n",
              "    box-shadow: 0px 1px 2px rgba(60, 64, 67, 0.3), 0px 1px 3px 1px rgba(60, 64, 67, 0.15);\n",
              "    fill: #174EA6;\n",
              "  }\n",
              "\n",
              "  [theme=dark] .colab-df-quickchart {\n",
              "    background-color: #3B4455;\n",
              "    fill: #D2E3FC;\n",
              "  }\n",
              "\n",
              "  [theme=dark] .colab-df-quickchart:hover {\n",
              "    background-color: #434B5C;\n",
              "    box-shadow: 0px 1px 3px 1px rgba(0, 0, 0, 0.15);\n",
              "    filter: drop-shadow(0px 1px 2px rgba(0, 0, 0, 0.3));\n",
              "    fill: #FFFFFF;\n",
              "  }\n",
              "</style>\n",
              "\n",
              "    <script>\n",
              "      async function quickchart(key) {\n",
              "        const containerElement = document.querySelector('#' + key);\n",
              "        const charts = await google.colab.kernel.invokeFunction(\n",
              "            'suggestCharts', [key], {});\n",
              "      }\n",
              "    </script>\n",
              "\n",
              "      <script>\n",
              "\n",
              "function displayQuickchartButton(domScope) {\n",
              "  let quickchartButtonEl =\n",
              "    domScope.querySelector('#df-61f31f4b-de73-411a-ab79-31d1a2180253 button.colab-df-quickchart');\n",
              "  quickchartButtonEl.style.display =\n",
              "    google.colab.kernel.accessAllowed ? 'block' : 'none';\n",
              "}\n",
              "\n",
              "        displayQuickchartButton(document);\n",
              "      </script>\n",
              "      <style>\n",
              "    .colab-df-container {\n",
              "      display:flex;\n",
              "      flex-wrap:wrap;\n",
              "      gap: 12px;\n",
              "    }\n",
              "\n",
              "    .colab-df-convert {\n",
              "      background-color: #E8F0FE;\n",
              "      border: none;\n",
              "      border-radius: 50%;\n",
              "      cursor: pointer;\n",
              "      display: none;\n",
              "      fill: #1967D2;\n",
              "      height: 32px;\n",
              "      padding: 0 0 0 0;\n",
              "      width: 32px;\n",
              "    }\n",
              "\n",
              "    .colab-df-convert:hover {\n",
              "      background-color: #E2EBFA;\n",
              "      box-shadow: 0px 1px 2px rgba(60, 64, 67, 0.3), 0px 1px 3px 1px rgba(60, 64, 67, 0.15);\n",
              "      fill: #174EA6;\n",
              "    }\n",
              "\n",
              "    [theme=dark] .colab-df-convert {\n",
              "      background-color: #3B4455;\n",
              "      fill: #D2E3FC;\n",
              "    }\n",
              "\n",
              "    [theme=dark] .colab-df-convert:hover {\n",
              "      background-color: #434B5C;\n",
              "      box-shadow: 0px 1px 3px 1px rgba(0, 0, 0, 0.15);\n",
              "      filter: drop-shadow(0px 1px 2px rgba(0, 0, 0, 0.3));\n",
              "      fill: #FFFFFF;\n",
              "    }\n",
              "  </style>\n",
              "\n",
              "      <script>\n",
              "        const buttonEl =\n",
              "          document.querySelector('#df-9ce3ae71-0635-4c8f-835a-ab6b720bb31c button.colab-df-convert');\n",
              "        buttonEl.style.display =\n",
              "          google.colab.kernel.accessAllowed ? 'block' : 'none';\n",
              "\n",
              "        async function convertToInteractive(key) {\n",
              "          const element = document.querySelector('#df-9ce3ae71-0635-4c8f-835a-ab6b720bb31c');\n",
              "          const dataTable =\n",
              "            await google.colab.kernel.invokeFunction('convertToInteractive',\n",
              "                                                     [key], {});\n",
              "          if (!dataTable) return;\n",
              "\n",
              "          const docLinkHtml = 'Like what you see? Visit the ' +\n",
              "            '<a target=\"_blank\" href=https://colab.research.google.com/notebooks/data_table.ipynb>data table notebook</a>'\n",
              "            + ' to learn more about interactive tables.';\n",
              "          element.innerHTML = '';\n",
              "          dataTable['output_type'] = 'display_data';\n",
              "          await google.colab.output.renderOutput(dataTable, element);\n",
              "          const docLink = document.createElement('div');\n",
              "          docLink.innerHTML = docLinkHtml;\n",
              "          element.appendChild(docLink);\n",
              "        }\n",
              "      </script>\n",
              "    </div>\n",
              "  </div>\n"
            ]
          },
          "metadata": {},
          "execution_count": 12
        }
      ]
    },
    {
      "cell_type": "code",
      "source": [
        "data1.columns"
      ],
      "metadata": {
        "colab": {
          "base_uri": "https://localhost:8080/"
        },
        "id": "dyKj_3ZT2Y9-",
        "outputId": "206dcbd8-40dd-415d-831b-cf465ead1c31"
      },
      "execution_count": null,
      "outputs": [
        {
          "output_type": "execute_result",
          "data": {
            "text/plain": [
              "Index(['Budget_resource', 'Issue_No', 'Fiscal_year', 'Department_code',\n",
              "       'Department', 'Core_budget_code', 'Expenditure_category', 'Item_name',\n",
              "       'Approved_buget'],\n",
              "      dtype='object')"
            ]
          },
          "metadata": {},
          "execution_count": 13
        }
      ]
    },
    {
      "cell_type": "code",
      "source": [
        "data1[['Approved_buget', 'Item_name','Department' ]] #เลือกเรียง column"
      ],
      "metadata": {
        "colab": {
          "base_uri": "https://localhost:8080/",
          "height": 424
        },
        "id": "mFSof0j12c2e",
        "outputId": "2402bc95-a544-4ac1-9bf2-bae973ffaea5"
      },
      "execution_count": null,
      "outputs": [
        {
          "output_type": "execute_result",
          "data": {
            "text/plain": [
              "     Approved_buget                                          Item_name  \\\n",
              "0           1193000        ขุดลอกคลองบางกะปิจากคลองสามเสนถึงคลองแสนแสบ   \n",
              "1           1100000  ขุดลอกคลองทรงกระเทียมจากคลองลาดพร้าวถึงถนนโชคช...   \n",
              "2           3075000          ขุดลอกคลองเป้งจากคลองแสนแสบถึงซอยเจริญสุข   \n",
              "3           6240000  ขุดลอกคลองลำพังพวยจากถนนศรีบูรพาถึงสถานีสูบน้ำ...   \n",
              "4           2685000  ขุดลอกบึงรางเข้จากคลองพระยาราชมนตรีถึงถนนบางขุ...   \n",
              "..              ...                                                ...   \n",
              "687         3686000                                 ขุดลอกคลองผักกะเฉด   \n",
              "688         2575000                            ขุดลอกคลองบึงทรายกองดิน   \n",
              "689          689000                                  ขุดลอกลำรางซาฟารี   \n",
              "690          464000                                ขุดลอกลำรางตาจันทร์   \n",
              "691         7578000          ขุดลอกคลองบางบอนต่อจากของเดิมถึงคลองนายผล   \n",
              "\n",
              "               Department  \n",
              "0        สำนักการระบายน้ำ  \n",
              "1        สำนักการระบายน้ำ  \n",
              "2        สำนักการระบายน้ำ  \n",
              "3        สำนักการระบายน้ำ  \n",
              "4        สำนักการระบายน้ำ  \n",
              "..                    ...  \n",
              "687  สำนักงานเขตคลองสามวา  \n",
              "688  สำนักงานเขตคลองสามวา  \n",
              "689  สำนักงานเขตคลองสามวา  \n",
              "690  สำนักงานเขตคลองสามวา  \n",
              "691     สำนักงานเขตบางบอน  \n",
              "\n",
              "[692 rows x 3 columns]"
            ],
            "text/html": [
              "\n",
              "\n",
              "  <div id=\"df-a72b4bda-a341-423a-9087-5be2a1091f73\">\n",
              "    <div class=\"colab-df-container\">\n",
              "      <div>\n",
              "<style scoped>\n",
              "    .dataframe tbody tr th:only-of-type {\n",
              "        vertical-align: middle;\n",
              "    }\n",
              "\n",
              "    .dataframe tbody tr th {\n",
              "        vertical-align: top;\n",
              "    }\n",
              "\n",
              "    .dataframe thead th {\n",
              "        text-align: right;\n",
              "    }\n",
              "</style>\n",
              "<table border=\"1\" class=\"dataframe\">\n",
              "  <thead>\n",
              "    <tr style=\"text-align: right;\">\n",
              "      <th></th>\n",
              "      <th>Approved_buget</th>\n",
              "      <th>Item_name</th>\n",
              "      <th>Department</th>\n",
              "    </tr>\n",
              "  </thead>\n",
              "  <tbody>\n",
              "    <tr>\n",
              "      <th>0</th>\n",
              "      <td>1193000</td>\n",
              "      <td>ขุดลอกคลองบางกะปิจากคลองสามเสนถึงคลองแสนแสบ</td>\n",
              "      <td>สำนักการระบายน้ำ</td>\n",
              "    </tr>\n",
              "    <tr>\n",
              "      <th>1</th>\n",
              "      <td>1100000</td>\n",
              "      <td>ขุดลอกคลองทรงกระเทียมจากคลองลาดพร้าวถึงถนนโชคช...</td>\n",
              "      <td>สำนักการระบายน้ำ</td>\n",
              "    </tr>\n",
              "    <tr>\n",
              "      <th>2</th>\n",
              "      <td>3075000</td>\n",
              "      <td>ขุดลอกคลองเป้งจากคลองแสนแสบถึงซอยเจริญสุข</td>\n",
              "      <td>สำนักการระบายน้ำ</td>\n",
              "    </tr>\n",
              "    <tr>\n",
              "      <th>3</th>\n",
              "      <td>6240000</td>\n",
              "      <td>ขุดลอกคลองลำพังพวยจากถนนศรีบูรพาถึงสถานีสูบน้ำ...</td>\n",
              "      <td>สำนักการระบายน้ำ</td>\n",
              "    </tr>\n",
              "    <tr>\n",
              "      <th>4</th>\n",
              "      <td>2685000</td>\n",
              "      <td>ขุดลอกบึงรางเข้จากคลองพระยาราชมนตรีถึงถนนบางขุ...</td>\n",
              "      <td>สำนักการระบายน้ำ</td>\n",
              "    </tr>\n",
              "    <tr>\n",
              "      <th>...</th>\n",
              "      <td>...</td>\n",
              "      <td>...</td>\n",
              "      <td>...</td>\n",
              "    </tr>\n",
              "    <tr>\n",
              "      <th>687</th>\n",
              "      <td>3686000</td>\n",
              "      <td>ขุดลอกคลองผักกะเฉด</td>\n",
              "      <td>สำนักงานเขตคลองสามวา</td>\n",
              "    </tr>\n",
              "    <tr>\n",
              "      <th>688</th>\n",
              "      <td>2575000</td>\n",
              "      <td>ขุดลอกคลองบึงทรายกองดิน</td>\n",
              "      <td>สำนักงานเขตคลองสามวา</td>\n",
              "    </tr>\n",
              "    <tr>\n",
              "      <th>689</th>\n",
              "      <td>689000</td>\n",
              "      <td>ขุดลอกลำรางซาฟารี</td>\n",
              "      <td>สำนักงานเขตคลองสามวา</td>\n",
              "    </tr>\n",
              "    <tr>\n",
              "      <th>690</th>\n",
              "      <td>464000</td>\n",
              "      <td>ขุดลอกลำรางตาจันทร์</td>\n",
              "      <td>สำนักงานเขตคลองสามวา</td>\n",
              "    </tr>\n",
              "    <tr>\n",
              "      <th>691</th>\n",
              "      <td>7578000</td>\n",
              "      <td>ขุดลอกคลองบางบอนต่อจากของเดิมถึงคลองนายผล</td>\n",
              "      <td>สำนักงานเขตบางบอน</td>\n",
              "    </tr>\n",
              "  </tbody>\n",
              "</table>\n",
              "<p>692 rows × 3 columns</p>\n",
              "</div>\n",
              "      <button class=\"colab-df-convert\" onclick=\"convertToInteractive('df-a72b4bda-a341-423a-9087-5be2a1091f73')\"\n",
              "              title=\"Convert this dataframe to an interactive table.\"\n",
              "              style=\"display:none;\">\n",
              "\n",
              "  <svg xmlns=\"http://www.w3.org/2000/svg\" height=\"24px\"viewBox=\"0 0 24 24\"\n",
              "       width=\"24px\">\n",
              "    <path d=\"M0 0h24v24H0V0z\" fill=\"none\"/>\n",
              "    <path d=\"M18.56 5.44l.94 2.06.94-2.06 2.06-.94-2.06-.94-.94-2.06-.94 2.06-2.06.94zm-11 1L8.5 8.5l.94-2.06 2.06-.94-2.06-.94L8.5 2.5l-.94 2.06-2.06.94zm10 10l.94 2.06.94-2.06 2.06-.94-2.06-.94-.94-2.06-.94 2.06-2.06.94z\"/><path d=\"M17.41 7.96l-1.37-1.37c-.4-.4-.92-.59-1.43-.59-.52 0-1.04.2-1.43.59L10.3 9.45l-7.72 7.72c-.78.78-.78 2.05 0 2.83L4 21.41c.39.39.9.59 1.41.59.51 0 1.02-.2 1.41-.59l7.78-7.78 2.81-2.81c.8-.78.8-2.07 0-2.86zM5.41 20L4 18.59l7.72-7.72 1.47 1.35L5.41 20z\"/>\n",
              "  </svg>\n",
              "      </button>\n",
              "\n",
              "\n",
              "\n",
              "    <div id=\"df-11d952c8-5e0c-4025-bf13-cfc3ab8f43d7\">\n",
              "      <button class=\"colab-df-quickchart\" onclick=\"quickchart('df-11d952c8-5e0c-4025-bf13-cfc3ab8f43d7')\"\n",
              "              title=\"Suggest charts.\"\n",
              "              style=\"display:none;\">\n",
              "\n",
              "<svg xmlns=\"http://www.w3.org/2000/svg\" height=\"24px\"viewBox=\"0 0 24 24\"\n",
              "     width=\"24px\">\n",
              "    <g>\n",
              "        <path d=\"M19 3H5c-1.1 0-2 .9-2 2v14c0 1.1.9 2 2 2h14c1.1 0 2-.9 2-2V5c0-1.1-.9-2-2-2zM9 17H7v-7h2v7zm4 0h-2V7h2v10zm4 0h-2v-4h2v4z\"/>\n",
              "    </g>\n",
              "</svg>\n",
              "      </button>\n",
              "    </div>\n",
              "\n",
              "<style>\n",
              "  .colab-df-quickchart {\n",
              "    background-color: #E8F0FE;\n",
              "    border: none;\n",
              "    border-radius: 50%;\n",
              "    cursor: pointer;\n",
              "    display: none;\n",
              "    fill: #1967D2;\n",
              "    height: 32px;\n",
              "    padding: 0 0 0 0;\n",
              "    width: 32px;\n",
              "  }\n",
              "\n",
              "  .colab-df-quickchart:hover {\n",
              "    background-color: #E2EBFA;\n",
              "    box-shadow: 0px 1px 2px rgba(60, 64, 67, 0.3), 0px 1px 3px 1px rgba(60, 64, 67, 0.15);\n",
              "    fill: #174EA6;\n",
              "  }\n",
              "\n",
              "  [theme=dark] .colab-df-quickchart {\n",
              "    background-color: #3B4455;\n",
              "    fill: #D2E3FC;\n",
              "  }\n",
              "\n",
              "  [theme=dark] .colab-df-quickchart:hover {\n",
              "    background-color: #434B5C;\n",
              "    box-shadow: 0px 1px 3px 1px rgba(0, 0, 0, 0.15);\n",
              "    filter: drop-shadow(0px 1px 2px rgba(0, 0, 0, 0.3));\n",
              "    fill: #FFFFFF;\n",
              "  }\n",
              "</style>\n",
              "\n",
              "    <script>\n",
              "      async function quickchart(key) {\n",
              "        const containerElement = document.querySelector('#' + key);\n",
              "        const charts = await google.colab.kernel.invokeFunction(\n",
              "            'suggestCharts', [key], {});\n",
              "      }\n",
              "    </script>\n",
              "\n",
              "      <script>\n",
              "\n",
              "function displayQuickchartButton(domScope) {\n",
              "  let quickchartButtonEl =\n",
              "    domScope.querySelector('#df-11d952c8-5e0c-4025-bf13-cfc3ab8f43d7 button.colab-df-quickchart');\n",
              "  quickchartButtonEl.style.display =\n",
              "    google.colab.kernel.accessAllowed ? 'block' : 'none';\n",
              "}\n",
              "\n",
              "        displayQuickchartButton(document);\n",
              "      </script>\n",
              "      <style>\n",
              "    .colab-df-container {\n",
              "      display:flex;\n",
              "      flex-wrap:wrap;\n",
              "      gap: 12px;\n",
              "    }\n",
              "\n",
              "    .colab-df-convert {\n",
              "      background-color: #E8F0FE;\n",
              "      border: none;\n",
              "      border-radius: 50%;\n",
              "      cursor: pointer;\n",
              "      display: none;\n",
              "      fill: #1967D2;\n",
              "      height: 32px;\n",
              "      padding: 0 0 0 0;\n",
              "      width: 32px;\n",
              "    }\n",
              "\n",
              "    .colab-df-convert:hover {\n",
              "      background-color: #E2EBFA;\n",
              "      box-shadow: 0px 1px 2px rgba(60, 64, 67, 0.3), 0px 1px 3px 1px rgba(60, 64, 67, 0.15);\n",
              "      fill: #174EA6;\n",
              "    }\n",
              "\n",
              "    [theme=dark] .colab-df-convert {\n",
              "      background-color: #3B4455;\n",
              "      fill: #D2E3FC;\n",
              "    }\n",
              "\n",
              "    [theme=dark] .colab-df-convert:hover {\n",
              "      background-color: #434B5C;\n",
              "      box-shadow: 0px 1px 3px 1px rgba(0, 0, 0, 0.15);\n",
              "      filter: drop-shadow(0px 1px 2px rgba(0, 0, 0, 0.3));\n",
              "      fill: #FFFFFF;\n",
              "    }\n",
              "  </style>\n",
              "\n",
              "      <script>\n",
              "        const buttonEl =\n",
              "          document.querySelector('#df-a72b4bda-a341-423a-9087-5be2a1091f73 button.colab-df-convert');\n",
              "        buttonEl.style.display =\n",
              "          google.colab.kernel.accessAllowed ? 'block' : 'none';\n",
              "\n",
              "        async function convertToInteractive(key) {\n",
              "          const element = document.querySelector('#df-a72b4bda-a341-423a-9087-5be2a1091f73');\n",
              "          const dataTable =\n",
              "            await google.colab.kernel.invokeFunction('convertToInteractive',\n",
              "                                                     [key], {});\n",
              "          if (!dataTable) return;\n",
              "\n",
              "          const docLinkHtml = 'Like what you see? Visit the ' +\n",
              "            '<a target=\"_blank\" href=https://colab.research.google.com/notebooks/data_table.ipynb>data table notebook</a>'\n",
              "            + ' to learn more about interactive tables.';\n",
              "          element.innerHTML = '';\n",
              "          dataTable['output_type'] = 'display_data';\n",
              "          await google.colab.output.renderOutput(dataTable, element);\n",
              "          const docLink = document.createElement('div');\n",
              "          docLink.innerHTML = docLinkHtml;\n",
              "          element.appendChild(docLink);\n",
              "        }\n",
              "      </script>\n",
              "    </div>\n",
              "  </div>\n"
            ]
          },
          "metadata": {},
          "execution_count": 14
        }
      ]
    },
    {
      "cell_type": "code",
      "source": [
        "data1[['Approved_buget', 'Item_name','Department' ]][6:11]"
      ],
      "metadata": {
        "colab": {
          "base_uri": "https://localhost:8080/",
          "height": 206
        },
        "id": "zUJ_Nk3p26v8",
        "outputId": "26db5c21-9c9f-458e-bf76-64a9bd4aa9a9"
      },
      "execution_count": null,
      "outputs": [
        {
          "output_type": "execute_result",
          "data": {
            "text/plain": [
              "    Approved_buget                                          Item_name  \\\n",
              "6           225400  ขุดลอกลำรางโต๊ะรอด ตั้งแต่คลองสองต้นนุ่นถึงระย...   \n",
              "7           452500  ขุดลอกลำรางเลียบคลองบึงขวาง ตั้งแต่คลองบึงขวาง...   \n",
              "8           447000  ขุดลอกคลองลำแขก จากคลองลำปลาทิว \\nถึงคลองลำตาเ...   \n",
              "9           497000  ขุดลอกคลองอู่ตะเภา จากคลองลำนกแขวก\\nถึงคลองลำม...   \n",
              "10          189500                ขุดลอกลำกระโดงตรงข้ามซอยเพชรเกษม 50   \n",
              "\n",
              "              Department  \n",
              "6     สำนักงานเขตมีนบุรี  \n",
              "7     สำนักงานเขตมีนบุรี  \n",
              "8     สำนักงานเขตหนองจอก  \n",
              "9     สำนักงานเขตหนองจอก  \n",
              "10  สำนักงานเขตภาษีเจริญ  "
            ],
            "text/html": [
              "\n",
              "\n",
              "  <div id=\"df-11b63c96-c50d-4f63-a127-4ba132d6c3c0\">\n",
              "    <div class=\"colab-df-container\">\n",
              "      <div>\n",
              "<style scoped>\n",
              "    .dataframe tbody tr th:only-of-type {\n",
              "        vertical-align: middle;\n",
              "    }\n",
              "\n",
              "    .dataframe tbody tr th {\n",
              "        vertical-align: top;\n",
              "    }\n",
              "\n",
              "    .dataframe thead th {\n",
              "        text-align: right;\n",
              "    }\n",
              "</style>\n",
              "<table border=\"1\" class=\"dataframe\">\n",
              "  <thead>\n",
              "    <tr style=\"text-align: right;\">\n",
              "      <th></th>\n",
              "      <th>Approved_buget</th>\n",
              "      <th>Item_name</th>\n",
              "      <th>Department</th>\n",
              "    </tr>\n",
              "  </thead>\n",
              "  <tbody>\n",
              "    <tr>\n",
              "      <th>6</th>\n",
              "      <td>225400</td>\n",
              "      <td>ขุดลอกลำรางโต๊ะรอด ตั้งแต่คลองสองต้นนุ่นถึงระย...</td>\n",
              "      <td>สำนักงานเขตมีนบุรี</td>\n",
              "    </tr>\n",
              "    <tr>\n",
              "      <th>7</th>\n",
              "      <td>452500</td>\n",
              "      <td>ขุดลอกลำรางเลียบคลองบึงขวาง ตั้งแต่คลองบึงขวาง...</td>\n",
              "      <td>สำนักงานเขตมีนบุรี</td>\n",
              "    </tr>\n",
              "    <tr>\n",
              "      <th>8</th>\n",
              "      <td>447000</td>\n",
              "      <td>ขุดลอกคลองลำแขก จากคลองลำปลาทิว \\nถึงคลองลำตาเ...</td>\n",
              "      <td>สำนักงานเขตหนองจอก</td>\n",
              "    </tr>\n",
              "    <tr>\n",
              "      <th>9</th>\n",
              "      <td>497000</td>\n",
              "      <td>ขุดลอกคลองอู่ตะเภา จากคลองลำนกแขวก\\nถึงคลองลำม...</td>\n",
              "      <td>สำนักงานเขตหนองจอก</td>\n",
              "    </tr>\n",
              "    <tr>\n",
              "      <th>10</th>\n",
              "      <td>189500</td>\n",
              "      <td>ขุดลอกลำกระโดงตรงข้ามซอยเพชรเกษม 50</td>\n",
              "      <td>สำนักงานเขตภาษีเจริญ</td>\n",
              "    </tr>\n",
              "  </tbody>\n",
              "</table>\n",
              "</div>\n",
              "      <button class=\"colab-df-convert\" onclick=\"convertToInteractive('df-11b63c96-c50d-4f63-a127-4ba132d6c3c0')\"\n",
              "              title=\"Convert this dataframe to an interactive table.\"\n",
              "              style=\"display:none;\">\n",
              "\n",
              "  <svg xmlns=\"http://www.w3.org/2000/svg\" height=\"24px\"viewBox=\"0 0 24 24\"\n",
              "       width=\"24px\">\n",
              "    <path d=\"M0 0h24v24H0V0z\" fill=\"none\"/>\n",
              "    <path d=\"M18.56 5.44l.94 2.06.94-2.06 2.06-.94-2.06-.94-.94-2.06-.94 2.06-2.06.94zm-11 1L8.5 8.5l.94-2.06 2.06-.94-2.06-.94L8.5 2.5l-.94 2.06-2.06.94zm10 10l.94 2.06.94-2.06 2.06-.94-2.06-.94-.94-2.06-.94 2.06-2.06.94z\"/><path d=\"M17.41 7.96l-1.37-1.37c-.4-.4-.92-.59-1.43-.59-.52 0-1.04.2-1.43.59L10.3 9.45l-7.72 7.72c-.78.78-.78 2.05 0 2.83L4 21.41c.39.39.9.59 1.41.59.51 0 1.02-.2 1.41-.59l7.78-7.78 2.81-2.81c.8-.78.8-2.07 0-2.86zM5.41 20L4 18.59l7.72-7.72 1.47 1.35L5.41 20z\"/>\n",
              "  </svg>\n",
              "      </button>\n",
              "\n",
              "\n",
              "\n",
              "    <div id=\"df-443b60b4-cfe3-41b1-b8db-4bcc0437a924\">\n",
              "      <button class=\"colab-df-quickchart\" onclick=\"quickchart('df-443b60b4-cfe3-41b1-b8db-4bcc0437a924')\"\n",
              "              title=\"Suggest charts.\"\n",
              "              style=\"display:none;\">\n",
              "\n",
              "<svg xmlns=\"http://www.w3.org/2000/svg\" height=\"24px\"viewBox=\"0 0 24 24\"\n",
              "     width=\"24px\">\n",
              "    <g>\n",
              "        <path d=\"M19 3H5c-1.1 0-2 .9-2 2v14c0 1.1.9 2 2 2h14c1.1 0 2-.9 2-2V5c0-1.1-.9-2-2-2zM9 17H7v-7h2v7zm4 0h-2V7h2v10zm4 0h-2v-4h2v4z\"/>\n",
              "    </g>\n",
              "</svg>\n",
              "      </button>\n",
              "    </div>\n",
              "\n",
              "<style>\n",
              "  .colab-df-quickchart {\n",
              "    background-color: #E8F0FE;\n",
              "    border: none;\n",
              "    border-radius: 50%;\n",
              "    cursor: pointer;\n",
              "    display: none;\n",
              "    fill: #1967D2;\n",
              "    height: 32px;\n",
              "    padding: 0 0 0 0;\n",
              "    width: 32px;\n",
              "  }\n",
              "\n",
              "  .colab-df-quickchart:hover {\n",
              "    background-color: #E2EBFA;\n",
              "    box-shadow: 0px 1px 2px rgba(60, 64, 67, 0.3), 0px 1px 3px 1px rgba(60, 64, 67, 0.15);\n",
              "    fill: #174EA6;\n",
              "  }\n",
              "\n",
              "  [theme=dark] .colab-df-quickchart {\n",
              "    background-color: #3B4455;\n",
              "    fill: #D2E3FC;\n",
              "  }\n",
              "\n",
              "  [theme=dark] .colab-df-quickchart:hover {\n",
              "    background-color: #434B5C;\n",
              "    box-shadow: 0px 1px 3px 1px rgba(0, 0, 0, 0.15);\n",
              "    filter: drop-shadow(0px 1px 2px rgba(0, 0, 0, 0.3));\n",
              "    fill: #FFFFFF;\n",
              "  }\n",
              "</style>\n",
              "\n",
              "    <script>\n",
              "      async function quickchart(key) {\n",
              "        const containerElement = document.querySelector('#' + key);\n",
              "        const charts = await google.colab.kernel.invokeFunction(\n",
              "            'suggestCharts', [key], {});\n",
              "      }\n",
              "    </script>\n",
              "\n",
              "      <script>\n",
              "\n",
              "function displayQuickchartButton(domScope) {\n",
              "  let quickchartButtonEl =\n",
              "    domScope.querySelector('#df-443b60b4-cfe3-41b1-b8db-4bcc0437a924 button.colab-df-quickchart');\n",
              "  quickchartButtonEl.style.display =\n",
              "    google.colab.kernel.accessAllowed ? 'block' : 'none';\n",
              "}\n",
              "\n",
              "        displayQuickchartButton(document);\n",
              "      </script>\n",
              "      <style>\n",
              "    .colab-df-container {\n",
              "      display:flex;\n",
              "      flex-wrap:wrap;\n",
              "      gap: 12px;\n",
              "    }\n",
              "\n",
              "    .colab-df-convert {\n",
              "      background-color: #E8F0FE;\n",
              "      border: none;\n",
              "      border-radius: 50%;\n",
              "      cursor: pointer;\n",
              "      display: none;\n",
              "      fill: #1967D2;\n",
              "      height: 32px;\n",
              "      padding: 0 0 0 0;\n",
              "      width: 32px;\n",
              "    }\n",
              "\n",
              "    .colab-df-convert:hover {\n",
              "      background-color: #E2EBFA;\n",
              "      box-shadow: 0px 1px 2px rgba(60, 64, 67, 0.3), 0px 1px 3px 1px rgba(60, 64, 67, 0.15);\n",
              "      fill: #174EA6;\n",
              "    }\n",
              "\n",
              "    [theme=dark] .colab-df-convert {\n",
              "      background-color: #3B4455;\n",
              "      fill: #D2E3FC;\n",
              "    }\n",
              "\n",
              "    [theme=dark] .colab-df-convert:hover {\n",
              "      background-color: #434B5C;\n",
              "      box-shadow: 0px 1px 3px 1px rgba(0, 0, 0, 0.15);\n",
              "      filter: drop-shadow(0px 1px 2px rgba(0, 0, 0, 0.3));\n",
              "      fill: #FFFFFF;\n",
              "    }\n",
              "  </style>\n",
              "\n",
              "      <script>\n",
              "        const buttonEl =\n",
              "          document.querySelector('#df-11b63c96-c50d-4f63-a127-4ba132d6c3c0 button.colab-df-convert');\n",
              "        buttonEl.style.display =\n",
              "          google.colab.kernel.accessAllowed ? 'block' : 'none';\n",
              "\n",
              "        async function convertToInteractive(key) {\n",
              "          const element = document.querySelector('#df-11b63c96-c50d-4f63-a127-4ba132d6c3c0');\n",
              "          const dataTable =\n",
              "            await google.colab.kernel.invokeFunction('convertToInteractive',\n",
              "                                                     [key], {});\n",
              "          if (!dataTable) return;\n",
              "\n",
              "          const docLinkHtml = 'Like what you see? Visit the ' +\n",
              "            '<a target=\"_blank\" href=https://colab.research.google.com/notebooks/data_table.ipynb>data table notebook</a>'\n",
              "            + ' to learn more about interactive tables.';\n",
              "          element.innerHTML = '';\n",
              "          dataTable['output_type'] = 'display_data';\n",
              "          await google.colab.output.renderOutput(dataTable, element);\n",
              "          const docLink = document.createElement('div');\n",
              "          docLink.innerHTML = docLinkHtml;\n",
              "          element.appendChild(docLink);\n",
              "        }\n",
              "      </script>\n",
              "    </div>\n",
              "  </div>\n"
            ]
          },
          "metadata": {},
          "execution_count": 15
        }
      ]
    },
    {
      "cell_type": "markdown",
      "source": [
        "#มุมมองแบบ array"
      ],
      "metadata": {
        "id": "rmDRIy0w3_gx"
      }
    },
    {
      "cell_type": "code",
      "source": [
        "data1.iloc[0,0] #.iloc เปลี่ยนมุมมองเป็น np.array"
      ],
      "metadata": {
        "colab": {
          "base_uri": "https://localhost:8080/",
          "height": 35
        },
        "id": "7R-8MxGb4IK0",
        "outputId": "2f89accc-36d9-4ab2-c77e-db488ffb48ea"
      },
      "execution_count": null,
      "outputs": [
        {
          "output_type": "execute_result",
          "data": {
            "text/plain": [
              "'งบประจำปี'"
            ],
            "application/vnd.google.colaboratory.intrinsic+json": {
              "type": "string"
            }
          },
          "metadata": {},
          "execution_count": 16
        }
      ]
    },
    {
      "cell_type": "markdown",
      "source": [
        " ## table Query"
      ],
      "metadata": {
        "id": "h9oTu2hKgMBK"
      }
    },
    {
      "cell_type": "markdown",
      "source": [
        "#อยากได้รายการที่ใช้งบเงิน 1ล้านบาท\n",
        "df[โดยที่ logic] โดยที่ logics จะต้องมีจำนวนสมาชิกเท่ากับจำนวนแถวของdf\n",
        "\n"
      ],
      "metadata": {
        "id": "GB4_cCaF59LZ"
      }
    },
    {
      "cell_type": "code",
      "source": [
        "small_df =data1.iloc[-5:,:]\n",
        "small_df"
      ],
      "metadata": {
        "colab": {
          "base_uri": "https://localhost:8080/",
          "height": 206
        },
        "id": "HQu99e364HGW",
        "outputId": "ae359ee5-da8f-47e0-9b55-e57347e518a3"
      },
      "execution_count": null,
      "outputs": [
        {
          "output_type": "execute_result",
          "data": {
            "text/plain": [
              "    Budget_resource  Issue_No  Fiscal_year  Department_code  \\\n",
              "687     งบเพิ่มเติม         1           66         50460000   \n",
              "688     งบเพิ่มเติม         1           66         50460000   \n",
              "689     งบเพิ่มเติม         1           66         50460000   \n",
              "690     งบเพิ่มเติม         1           66         50460000   \n",
              "691     งบเพิ่มเติม         1           66         50500000   \n",
              "\n",
              "               Department Core_budget_code Expenditure_category  \\\n",
              "687  สำนักงานเขตคลองสามวา              NaN              งบลงทุน   \n",
              "688  สำนักงานเขตคลองสามวา              NaN              งบลงทุน   \n",
              "689  สำนักงานเขตคลองสามวา              NaN              งบลงทุน   \n",
              "690  สำนักงานเขตคลองสามวา              NaN              งบลงทุน   \n",
              "691     สำนักงานเขตบางบอน              NaN              งบลงทุน   \n",
              "\n",
              "                                     Item_name  Approved_buget  \n",
              "687                         ขุดลอกคลองผักกะเฉด         3686000  \n",
              "688                    ขุดลอกคลองบึงทรายกองดิน         2575000  \n",
              "689                          ขุดลอกลำรางซาฟารี          689000  \n",
              "690                        ขุดลอกลำรางตาจันทร์          464000  \n",
              "691  ขุดลอกคลองบางบอนต่อจากของเดิมถึงคลองนายผล         7578000  "
            ],
            "text/html": [
              "\n",
              "\n",
              "  <div id=\"df-f7f49257-8301-4b90-af88-c8457ae814c7\">\n",
              "    <div class=\"colab-df-container\">\n",
              "      <div>\n",
              "<style scoped>\n",
              "    .dataframe tbody tr th:only-of-type {\n",
              "        vertical-align: middle;\n",
              "    }\n",
              "\n",
              "    .dataframe tbody tr th {\n",
              "        vertical-align: top;\n",
              "    }\n",
              "\n",
              "    .dataframe thead th {\n",
              "        text-align: right;\n",
              "    }\n",
              "</style>\n",
              "<table border=\"1\" class=\"dataframe\">\n",
              "  <thead>\n",
              "    <tr style=\"text-align: right;\">\n",
              "      <th></th>\n",
              "      <th>Budget_resource</th>\n",
              "      <th>Issue_No</th>\n",
              "      <th>Fiscal_year</th>\n",
              "      <th>Department_code</th>\n",
              "      <th>Department</th>\n",
              "      <th>Core_budget_code</th>\n",
              "      <th>Expenditure_category</th>\n",
              "      <th>Item_name</th>\n",
              "      <th>Approved_buget</th>\n",
              "    </tr>\n",
              "  </thead>\n",
              "  <tbody>\n",
              "    <tr>\n",
              "      <th>687</th>\n",
              "      <td>งบเพิ่มเติม</td>\n",
              "      <td>1</td>\n",
              "      <td>66</td>\n",
              "      <td>50460000</td>\n",
              "      <td>สำนักงานเขตคลองสามวา</td>\n",
              "      <td>NaN</td>\n",
              "      <td>งบลงทุน</td>\n",
              "      <td>ขุดลอกคลองผักกะเฉด</td>\n",
              "      <td>3686000</td>\n",
              "    </tr>\n",
              "    <tr>\n",
              "      <th>688</th>\n",
              "      <td>งบเพิ่มเติม</td>\n",
              "      <td>1</td>\n",
              "      <td>66</td>\n",
              "      <td>50460000</td>\n",
              "      <td>สำนักงานเขตคลองสามวา</td>\n",
              "      <td>NaN</td>\n",
              "      <td>งบลงทุน</td>\n",
              "      <td>ขุดลอกคลองบึงทรายกองดิน</td>\n",
              "      <td>2575000</td>\n",
              "    </tr>\n",
              "    <tr>\n",
              "      <th>689</th>\n",
              "      <td>งบเพิ่มเติม</td>\n",
              "      <td>1</td>\n",
              "      <td>66</td>\n",
              "      <td>50460000</td>\n",
              "      <td>สำนักงานเขตคลองสามวา</td>\n",
              "      <td>NaN</td>\n",
              "      <td>งบลงทุน</td>\n",
              "      <td>ขุดลอกลำรางซาฟารี</td>\n",
              "      <td>689000</td>\n",
              "    </tr>\n",
              "    <tr>\n",
              "      <th>690</th>\n",
              "      <td>งบเพิ่มเติม</td>\n",
              "      <td>1</td>\n",
              "      <td>66</td>\n",
              "      <td>50460000</td>\n",
              "      <td>สำนักงานเขตคลองสามวา</td>\n",
              "      <td>NaN</td>\n",
              "      <td>งบลงทุน</td>\n",
              "      <td>ขุดลอกลำรางตาจันทร์</td>\n",
              "      <td>464000</td>\n",
              "    </tr>\n",
              "    <tr>\n",
              "      <th>691</th>\n",
              "      <td>งบเพิ่มเติม</td>\n",
              "      <td>1</td>\n",
              "      <td>66</td>\n",
              "      <td>50500000</td>\n",
              "      <td>สำนักงานเขตบางบอน</td>\n",
              "      <td>NaN</td>\n",
              "      <td>งบลงทุน</td>\n",
              "      <td>ขุดลอกคลองบางบอนต่อจากของเดิมถึงคลองนายผล</td>\n",
              "      <td>7578000</td>\n",
              "    </tr>\n",
              "  </tbody>\n",
              "</table>\n",
              "</div>\n",
              "      <button class=\"colab-df-convert\" onclick=\"convertToInteractive('df-f7f49257-8301-4b90-af88-c8457ae814c7')\"\n",
              "              title=\"Convert this dataframe to an interactive table.\"\n",
              "              style=\"display:none;\">\n",
              "\n",
              "  <svg xmlns=\"http://www.w3.org/2000/svg\" height=\"24px\"viewBox=\"0 0 24 24\"\n",
              "       width=\"24px\">\n",
              "    <path d=\"M0 0h24v24H0V0z\" fill=\"none\"/>\n",
              "    <path d=\"M18.56 5.44l.94 2.06.94-2.06 2.06-.94-2.06-.94-.94-2.06-.94 2.06-2.06.94zm-11 1L8.5 8.5l.94-2.06 2.06-.94-2.06-.94L8.5 2.5l-.94 2.06-2.06.94zm10 10l.94 2.06.94-2.06 2.06-.94-2.06-.94-.94-2.06-.94 2.06-2.06.94z\"/><path d=\"M17.41 7.96l-1.37-1.37c-.4-.4-.92-.59-1.43-.59-.52 0-1.04.2-1.43.59L10.3 9.45l-7.72 7.72c-.78.78-.78 2.05 0 2.83L4 21.41c.39.39.9.59 1.41.59.51 0 1.02-.2 1.41-.59l7.78-7.78 2.81-2.81c.8-.78.8-2.07 0-2.86zM5.41 20L4 18.59l7.72-7.72 1.47 1.35L5.41 20z\"/>\n",
              "  </svg>\n",
              "      </button>\n",
              "\n",
              "\n",
              "\n",
              "    <div id=\"df-7f088644-3e01-4dbb-be57-ac9e456dd7e2\">\n",
              "      <button class=\"colab-df-quickchart\" onclick=\"quickchart('df-7f088644-3e01-4dbb-be57-ac9e456dd7e2')\"\n",
              "              title=\"Suggest charts.\"\n",
              "              style=\"display:none;\">\n",
              "\n",
              "<svg xmlns=\"http://www.w3.org/2000/svg\" height=\"24px\"viewBox=\"0 0 24 24\"\n",
              "     width=\"24px\">\n",
              "    <g>\n",
              "        <path d=\"M19 3H5c-1.1 0-2 .9-2 2v14c0 1.1.9 2 2 2h14c1.1 0 2-.9 2-2V5c0-1.1-.9-2-2-2zM9 17H7v-7h2v7zm4 0h-2V7h2v10zm4 0h-2v-4h2v4z\"/>\n",
              "    </g>\n",
              "</svg>\n",
              "      </button>\n",
              "    </div>\n",
              "\n",
              "<style>\n",
              "  .colab-df-quickchart {\n",
              "    background-color: #E8F0FE;\n",
              "    border: none;\n",
              "    border-radius: 50%;\n",
              "    cursor: pointer;\n",
              "    display: none;\n",
              "    fill: #1967D2;\n",
              "    height: 32px;\n",
              "    padding: 0 0 0 0;\n",
              "    width: 32px;\n",
              "  }\n",
              "\n",
              "  .colab-df-quickchart:hover {\n",
              "    background-color: #E2EBFA;\n",
              "    box-shadow: 0px 1px 2px rgba(60, 64, 67, 0.3), 0px 1px 3px 1px rgba(60, 64, 67, 0.15);\n",
              "    fill: #174EA6;\n",
              "  }\n",
              "\n",
              "  [theme=dark] .colab-df-quickchart {\n",
              "    background-color: #3B4455;\n",
              "    fill: #D2E3FC;\n",
              "  }\n",
              "\n",
              "  [theme=dark] .colab-df-quickchart:hover {\n",
              "    background-color: #434B5C;\n",
              "    box-shadow: 0px 1px 3px 1px rgba(0, 0, 0, 0.15);\n",
              "    filter: drop-shadow(0px 1px 2px rgba(0, 0, 0, 0.3));\n",
              "    fill: #FFFFFF;\n",
              "  }\n",
              "</style>\n",
              "\n",
              "    <script>\n",
              "      async function quickchart(key) {\n",
              "        const containerElement = document.querySelector('#' + key);\n",
              "        const charts = await google.colab.kernel.invokeFunction(\n",
              "            'suggestCharts', [key], {});\n",
              "      }\n",
              "    </script>\n",
              "\n",
              "      <script>\n",
              "\n",
              "function displayQuickchartButton(domScope) {\n",
              "  let quickchartButtonEl =\n",
              "    domScope.querySelector('#df-7f088644-3e01-4dbb-be57-ac9e456dd7e2 button.colab-df-quickchart');\n",
              "  quickchartButtonEl.style.display =\n",
              "    google.colab.kernel.accessAllowed ? 'block' : 'none';\n",
              "}\n",
              "\n",
              "        displayQuickchartButton(document);\n",
              "      </script>\n",
              "      <style>\n",
              "    .colab-df-container {\n",
              "      display:flex;\n",
              "      flex-wrap:wrap;\n",
              "      gap: 12px;\n",
              "    }\n",
              "\n",
              "    .colab-df-convert {\n",
              "      background-color: #E8F0FE;\n",
              "      border: none;\n",
              "      border-radius: 50%;\n",
              "      cursor: pointer;\n",
              "      display: none;\n",
              "      fill: #1967D2;\n",
              "      height: 32px;\n",
              "      padding: 0 0 0 0;\n",
              "      width: 32px;\n",
              "    }\n",
              "\n",
              "    .colab-df-convert:hover {\n",
              "      background-color: #E2EBFA;\n",
              "      box-shadow: 0px 1px 2px rgba(60, 64, 67, 0.3), 0px 1px 3px 1px rgba(60, 64, 67, 0.15);\n",
              "      fill: #174EA6;\n",
              "    }\n",
              "\n",
              "    [theme=dark] .colab-df-convert {\n",
              "      background-color: #3B4455;\n",
              "      fill: #D2E3FC;\n",
              "    }\n",
              "\n",
              "    [theme=dark] .colab-df-convert:hover {\n",
              "      background-color: #434B5C;\n",
              "      box-shadow: 0px 1px 3px 1px rgba(0, 0, 0, 0.15);\n",
              "      filter: drop-shadow(0px 1px 2px rgba(0, 0, 0, 0.3));\n",
              "      fill: #FFFFFF;\n",
              "    }\n",
              "  </style>\n",
              "\n",
              "      <script>\n",
              "        const buttonEl =\n",
              "          document.querySelector('#df-f7f49257-8301-4b90-af88-c8457ae814c7 button.colab-df-convert');\n",
              "        buttonEl.style.display =\n",
              "          google.colab.kernel.accessAllowed ? 'block' : 'none';\n",
              "\n",
              "        async function convertToInteractive(key) {\n",
              "          const element = document.querySelector('#df-f7f49257-8301-4b90-af88-c8457ae814c7');\n",
              "          const dataTable =\n",
              "            await google.colab.kernel.invokeFunction('convertToInteractive',\n",
              "                                                     [key], {});\n",
              "          if (!dataTable) return;\n",
              "\n",
              "          const docLinkHtml = 'Like what you see? Visit the ' +\n",
              "            '<a target=\"_blank\" href=https://colab.research.google.com/notebooks/data_table.ipynb>data table notebook</a>'\n",
              "            + ' to learn more about interactive tables.';\n",
              "          element.innerHTML = '';\n",
              "          dataTable['output_type'] = 'display_data';\n",
              "          await google.colab.output.renderOutput(dataTable, element);\n",
              "          const docLink = document.createElement('div');\n",
              "          docLink.innerHTML = docLinkHtml;\n",
              "          element.appendChild(docLink);\n",
              "        }\n",
              "      </script>\n",
              "    </div>\n",
              "  </div>\n"
            ]
          },
          "metadata": {},
          "execution_count": 17
        }
      ]
    },
    {
      "cell_type": "code",
      "source": [
        "small_df[[False,True,True,False,False]]"
      ],
      "metadata": {
        "colab": {
          "base_uri": "https://localhost:8080/",
          "height": 112
        },
        "id": "wtR7NMb22Sio",
        "outputId": "afc1d948-dff7-46bb-ffb9-9990a34fa437"
      },
      "execution_count": null,
      "outputs": [
        {
          "output_type": "execute_result",
          "data": {
            "text/plain": [
              "    Budget_resource  Issue_No  Fiscal_year  Department_code  \\\n",
              "688     งบเพิ่มเติม         1           66         50460000   \n",
              "689     งบเพิ่มเติม         1           66         50460000   \n",
              "\n",
              "               Department Core_budget_code Expenditure_category  \\\n",
              "688  สำนักงานเขตคลองสามวา              NaN              งบลงทุน   \n",
              "689  สำนักงานเขตคลองสามวา              NaN              งบลงทุน   \n",
              "\n",
              "                   Item_name  Approved_buget  \n",
              "688  ขุดลอกคลองบึงทรายกองดิน         2575000  \n",
              "689        ขุดลอกลำรางซาฟารี          689000  "
            ],
            "text/html": [
              "\n",
              "\n",
              "  <div id=\"df-a194b9ca-af32-44a2-9c15-22981136ef08\">\n",
              "    <div class=\"colab-df-container\">\n",
              "      <div>\n",
              "<style scoped>\n",
              "    .dataframe tbody tr th:only-of-type {\n",
              "        vertical-align: middle;\n",
              "    }\n",
              "\n",
              "    .dataframe tbody tr th {\n",
              "        vertical-align: top;\n",
              "    }\n",
              "\n",
              "    .dataframe thead th {\n",
              "        text-align: right;\n",
              "    }\n",
              "</style>\n",
              "<table border=\"1\" class=\"dataframe\">\n",
              "  <thead>\n",
              "    <tr style=\"text-align: right;\">\n",
              "      <th></th>\n",
              "      <th>Budget_resource</th>\n",
              "      <th>Issue_No</th>\n",
              "      <th>Fiscal_year</th>\n",
              "      <th>Department_code</th>\n",
              "      <th>Department</th>\n",
              "      <th>Core_budget_code</th>\n",
              "      <th>Expenditure_category</th>\n",
              "      <th>Item_name</th>\n",
              "      <th>Approved_buget</th>\n",
              "    </tr>\n",
              "  </thead>\n",
              "  <tbody>\n",
              "    <tr>\n",
              "      <th>688</th>\n",
              "      <td>งบเพิ่มเติม</td>\n",
              "      <td>1</td>\n",
              "      <td>66</td>\n",
              "      <td>50460000</td>\n",
              "      <td>สำนักงานเขตคลองสามวา</td>\n",
              "      <td>NaN</td>\n",
              "      <td>งบลงทุน</td>\n",
              "      <td>ขุดลอกคลองบึงทรายกองดิน</td>\n",
              "      <td>2575000</td>\n",
              "    </tr>\n",
              "    <tr>\n",
              "      <th>689</th>\n",
              "      <td>งบเพิ่มเติม</td>\n",
              "      <td>1</td>\n",
              "      <td>66</td>\n",
              "      <td>50460000</td>\n",
              "      <td>สำนักงานเขตคลองสามวา</td>\n",
              "      <td>NaN</td>\n",
              "      <td>งบลงทุน</td>\n",
              "      <td>ขุดลอกลำรางซาฟารี</td>\n",
              "      <td>689000</td>\n",
              "    </tr>\n",
              "  </tbody>\n",
              "</table>\n",
              "</div>\n",
              "      <button class=\"colab-df-convert\" onclick=\"convertToInteractive('df-a194b9ca-af32-44a2-9c15-22981136ef08')\"\n",
              "              title=\"Convert this dataframe to an interactive table.\"\n",
              "              style=\"display:none;\">\n",
              "\n",
              "  <svg xmlns=\"http://www.w3.org/2000/svg\" height=\"24px\"viewBox=\"0 0 24 24\"\n",
              "       width=\"24px\">\n",
              "    <path d=\"M0 0h24v24H0V0z\" fill=\"none\"/>\n",
              "    <path d=\"M18.56 5.44l.94 2.06.94-2.06 2.06-.94-2.06-.94-.94-2.06-.94 2.06-2.06.94zm-11 1L8.5 8.5l.94-2.06 2.06-.94-2.06-.94L8.5 2.5l-.94 2.06-2.06.94zm10 10l.94 2.06.94-2.06 2.06-.94-2.06-.94-.94-2.06-.94 2.06-2.06.94z\"/><path d=\"M17.41 7.96l-1.37-1.37c-.4-.4-.92-.59-1.43-.59-.52 0-1.04.2-1.43.59L10.3 9.45l-7.72 7.72c-.78.78-.78 2.05 0 2.83L4 21.41c.39.39.9.59 1.41.59.51 0 1.02-.2 1.41-.59l7.78-7.78 2.81-2.81c.8-.78.8-2.07 0-2.86zM5.41 20L4 18.59l7.72-7.72 1.47 1.35L5.41 20z\"/>\n",
              "  </svg>\n",
              "      </button>\n",
              "\n",
              "\n",
              "\n",
              "    <div id=\"df-ab19b616-b83e-46e9-8b20-aac549046639\">\n",
              "      <button class=\"colab-df-quickchart\" onclick=\"quickchart('df-ab19b616-b83e-46e9-8b20-aac549046639')\"\n",
              "              title=\"Suggest charts.\"\n",
              "              style=\"display:none;\">\n",
              "\n",
              "<svg xmlns=\"http://www.w3.org/2000/svg\" height=\"24px\"viewBox=\"0 0 24 24\"\n",
              "     width=\"24px\">\n",
              "    <g>\n",
              "        <path d=\"M19 3H5c-1.1 0-2 .9-2 2v14c0 1.1.9 2 2 2h14c1.1 0 2-.9 2-2V5c0-1.1-.9-2-2-2zM9 17H7v-7h2v7zm4 0h-2V7h2v10zm4 0h-2v-4h2v4z\"/>\n",
              "    </g>\n",
              "</svg>\n",
              "      </button>\n",
              "    </div>\n",
              "\n",
              "<style>\n",
              "  .colab-df-quickchart {\n",
              "    background-color: #E8F0FE;\n",
              "    border: none;\n",
              "    border-radius: 50%;\n",
              "    cursor: pointer;\n",
              "    display: none;\n",
              "    fill: #1967D2;\n",
              "    height: 32px;\n",
              "    padding: 0 0 0 0;\n",
              "    width: 32px;\n",
              "  }\n",
              "\n",
              "  .colab-df-quickchart:hover {\n",
              "    background-color: #E2EBFA;\n",
              "    box-shadow: 0px 1px 2px rgba(60, 64, 67, 0.3), 0px 1px 3px 1px rgba(60, 64, 67, 0.15);\n",
              "    fill: #174EA6;\n",
              "  }\n",
              "\n",
              "  [theme=dark] .colab-df-quickchart {\n",
              "    background-color: #3B4455;\n",
              "    fill: #D2E3FC;\n",
              "  }\n",
              "\n",
              "  [theme=dark] .colab-df-quickchart:hover {\n",
              "    background-color: #434B5C;\n",
              "    box-shadow: 0px 1px 3px 1px rgba(0, 0, 0, 0.15);\n",
              "    filter: drop-shadow(0px 1px 2px rgba(0, 0, 0, 0.3));\n",
              "    fill: #FFFFFF;\n",
              "  }\n",
              "</style>\n",
              "\n",
              "    <script>\n",
              "      async function quickchart(key) {\n",
              "        const containerElement = document.querySelector('#' + key);\n",
              "        const charts = await google.colab.kernel.invokeFunction(\n",
              "            'suggestCharts', [key], {});\n",
              "      }\n",
              "    </script>\n",
              "\n",
              "      <script>\n",
              "\n",
              "function displayQuickchartButton(domScope) {\n",
              "  let quickchartButtonEl =\n",
              "    domScope.querySelector('#df-ab19b616-b83e-46e9-8b20-aac549046639 button.colab-df-quickchart');\n",
              "  quickchartButtonEl.style.display =\n",
              "    google.colab.kernel.accessAllowed ? 'block' : 'none';\n",
              "}\n",
              "\n",
              "        displayQuickchartButton(document);\n",
              "      </script>\n",
              "      <style>\n",
              "    .colab-df-container {\n",
              "      display:flex;\n",
              "      flex-wrap:wrap;\n",
              "      gap: 12px;\n",
              "    }\n",
              "\n",
              "    .colab-df-convert {\n",
              "      background-color: #E8F0FE;\n",
              "      border: none;\n",
              "      border-radius: 50%;\n",
              "      cursor: pointer;\n",
              "      display: none;\n",
              "      fill: #1967D2;\n",
              "      height: 32px;\n",
              "      padding: 0 0 0 0;\n",
              "      width: 32px;\n",
              "    }\n",
              "\n",
              "    .colab-df-convert:hover {\n",
              "      background-color: #E2EBFA;\n",
              "      box-shadow: 0px 1px 2px rgba(60, 64, 67, 0.3), 0px 1px 3px 1px rgba(60, 64, 67, 0.15);\n",
              "      fill: #174EA6;\n",
              "    }\n",
              "\n",
              "    [theme=dark] .colab-df-convert {\n",
              "      background-color: #3B4455;\n",
              "      fill: #D2E3FC;\n",
              "    }\n",
              "\n",
              "    [theme=dark] .colab-df-convert:hover {\n",
              "      background-color: #434B5C;\n",
              "      box-shadow: 0px 1px 3px 1px rgba(0, 0, 0, 0.15);\n",
              "      filter: drop-shadow(0px 1px 2px rgba(0, 0, 0, 0.3));\n",
              "      fill: #FFFFFF;\n",
              "    }\n",
              "  </style>\n",
              "\n",
              "      <script>\n",
              "        const buttonEl =\n",
              "          document.querySelector('#df-a194b9ca-af32-44a2-9c15-22981136ef08 button.colab-df-convert');\n",
              "        buttonEl.style.display =\n",
              "          google.colab.kernel.accessAllowed ? 'block' : 'none';\n",
              "\n",
              "        async function convertToInteractive(key) {\n",
              "          const element = document.querySelector('#df-a194b9ca-af32-44a2-9c15-22981136ef08');\n",
              "          const dataTable =\n",
              "            await google.colab.kernel.invokeFunction('convertToInteractive',\n",
              "                                                     [key], {});\n",
              "          if (!dataTable) return;\n",
              "\n",
              "          const docLinkHtml = 'Like what you see? Visit the ' +\n",
              "            '<a target=\"_blank\" href=https://colab.research.google.com/notebooks/data_table.ipynb>data table notebook</a>'\n",
              "            + ' to learn more about interactive tables.';\n",
              "          element.innerHTML = '';\n",
              "          dataTable['output_type'] = 'display_data';\n",
              "          await google.colab.output.renderOutput(dataTable, element);\n",
              "          const docLink = document.createElement('div');\n",
              "          docLink.innerHTML = docLinkHtml;\n",
              "          element.appendChild(docLink);\n",
              "        }\n",
              "      </script>\n",
              "    </div>\n",
              "  </div>\n"
            ]
          },
          "metadata": {},
          "execution_count": 18
        }
      ]
    },
    {
      "cell_type": "markdown",
      "source": [
        "#ปั้น list of logics จากตาราง pandas\n"
      ],
      "metadata": {
        "id": "7BA5gd1Q8HbJ"
      }
    },
    {
      "cell_type": "code",
      "source": [
        "small_df['Approved_buget'] < 1000000"
      ],
      "metadata": {
        "colab": {
          "base_uri": "https://localhost:8080/"
        },
        "id": "fjNYsVXJ8lES",
        "outputId": "08cba302-ccd1-44b7-ae61-cfdfd32501d5"
      },
      "execution_count": null,
      "outputs": [
        {
          "output_type": "execute_result",
          "data": {
            "text/plain": [
              "687    False\n",
              "688    False\n",
              "689     True\n",
              "690     True\n",
              "691    False\n",
              "Name: Approved_buget, dtype: bool"
            ]
          },
          "metadata": {},
          "execution_count": 19
        }
      ]
    },
    {
      "cell_type": "code",
      "source": [
        "small_df[small_df['Approved_buget'] < 1000000]"
      ],
      "metadata": {
        "colab": {
          "base_uri": "https://localhost:8080/",
          "height": 112
        },
        "id": "9gTZ3hdZ8-uR",
        "outputId": "76126f6d-2822-444b-bc47-168c516bf317"
      },
      "execution_count": null,
      "outputs": [
        {
          "output_type": "execute_result",
          "data": {
            "text/plain": [
              "    Budget_resource  Issue_No  Fiscal_year  Department_code  \\\n",
              "689     งบเพิ่มเติม         1           66         50460000   \n",
              "690     งบเพิ่มเติม         1           66         50460000   \n",
              "\n",
              "               Department Core_budget_code Expenditure_category  \\\n",
              "689  สำนักงานเขตคลองสามวา              NaN              งบลงทุน   \n",
              "690  สำนักงานเขตคลองสามวา              NaN              งบลงทุน   \n",
              "\n",
              "               Item_name  Approved_buget  \n",
              "689    ขุดลอกลำรางซาฟารี          689000  \n",
              "690  ขุดลอกลำรางตาจันทร์          464000  "
            ],
            "text/html": [
              "\n",
              "\n",
              "  <div id=\"df-d2073722-1040-41f6-8553-d60d516089ac\">\n",
              "    <div class=\"colab-df-container\">\n",
              "      <div>\n",
              "<style scoped>\n",
              "    .dataframe tbody tr th:only-of-type {\n",
              "        vertical-align: middle;\n",
              "    }\n",
              "\n",
              "    .dataframe tbody tr th {\n",
              "        vertical-align: top;\n",
              "    }\n",
              "\n",
              "    .dataframe thead th {\n",
              "        text-align: right;\n",
              "    }\n",
              "</style>\n",
              "<table border=\"1\" class=\"dataframe\">\n",
              "  <thead>\n",
              "    <tr style=\"text-align: right;\">\n",
              "      <th></th>\n",
              "      <th>Budget_resource</th>\n",
              "      <th>Issue_No</th>\n",
              "      <th>Fiscal_year</th>\n",
              "      <th>Department_code</th>\n",
              "      <th>Department</th>\n",
              "      <th>Core_budget_code</th>\n",
              "      <th>Expenditure_category</th>\n",
              "      <th>Item_name</th>\n",
              "      <th>Approved_buget</th>\n",
              "    </tr>\n",
              "  </thead>\n",
              "  <tbody>\n",
              "    <tr>\n",
              "      <th>689</th>\n",
              "      <td>งบเพิ่มเติม</td>\n",
              "      <td>1</td>\n",
              "      <td>66</td>\n",
              "      <td>50460000</td>\n",
              "      <td>สำนักงานเขตคลองสามวา</td>\n",
              "      <td>NaN</td>\n",
              "      <td>งบลงทุน</td>\n",
              "      <td>ขุดลอกลำรางซาฟารี</td>\n",
              "      <td>689000</td>\n",
              "    </tr>\n",
              "    <tr>\n",
              "      <th>690</th>\n",
              "      <td>งบเพิ่มเติม</td>\n",
              "      <td>1</td>\n",
              "      <td>66</td>\n",
              "      <td>50460000</td>\n",
              "      <td>สำนักงานเขตคลองสามวา</td>\n",
              "      <td>NaN</td>\n",
              "      <td>งบลงทุน</td>\n",
              "      <td>ขุดลอกลำรางตาจันทร์</td>\n",
              "      <td>464000</td>\n",
              "    </tr>\n",
              "  </tbody>\n",
              "</table>\n",
              "</div>\n",
              "      <button class=\"colab-df-convert\" onclick=\"convertToInteractive('df-d2073722-1040-41f6-8553-d60d516089ac')\"\n",
              "              title=\"Convert this dataframe to an interactive table.\"\n",
              "              style=\"display:none;\">\n",
              "\n",
              "  <svg xmlns=\"http://www.w3.org/2000/svg\" height=\"24px\"viewBox=\"0 0 24 24\"\n",
              "       width=\"24px\">\n",
              "    <path d=\"M0 0h24v24H0V0z\" fill=\"none\"/>\n",
              "    <path d=\"M18.56 5.44l.94 2.06.94-2.06 2.06-.94-2.06-.94-.94-2.06-.94 2.06-2.06.94zm-11 1L8.5 8.5l.94-2.06 2.06-.94-2.06-.94L8.5 2.5l-.94 2.06-2.06.94zm10 10l.94 2.06.94-2.06 2.06-.94-2.06-.94-.94-2.06-.94 2.06-2.06.94z\"/><path d=\"M17.41 7.96l-1.37-1.37c-.4-.4-.92-.59-1.43-.59-.52 0-1.04.2-1.43.59L10.3 9.45l-7.72 7.72c-.78.78-.78 2.05 0 2.83L4 21.41c.39.39.9.59 1.41.59.51 0 1.02-.2 1.41-.59l7.78-7.78 2.81-2.81c.8-.78.8-2.07 0-2.86zM5.41 20L4 18.59l7.72-7.72 1.47 1.35L5.41 20z\"/>\n",
              "  </svg>\n",
              "      </button>\n",
              "\n",
              "\n",
              "\n",
              "    <div id=\"df-03a39bc1-067e-4b96-a4bc-ebd76025a828\">\n",
              "      <button class=\"colab-df-quickchart\" onclick=\"quickchart('df-03a39bc1-067e-4b96-a4bc-ebd76025a828')\"\n",
              "              title=\"Suggest charts.\"\n",
              "              style=\"display:none;\">\n",
              "\n",
              "<svg xmlns=\"http://www.w3.org/2000/svg\" height=\"24px\"viewBox=\"0 0 24 24\"\n",
              "     width=\"24px\">\n",
              "    <g>\n",
              "        <path d=\"M19 3H5c-1.1 0-2 .9-2 2v14c0 1.1.9 2 2 2h14c1.1 0 2-.9 2-2V5c0-1.1-.9-2-2-2zM9 17H7v-7h2v7zm4 0h-2V7h2v10zm4 0h-2v-4h2v4z\"/>\n",
              "    </g>\n",
              "</svg>\n",
              "      </button>\n",
              "    </div>\n",
              "\n",
              "<style>\n",
              "  .colab-df-quickchart {\n",
              "    background-color: #E8F0FE;\n",
              "    border: none;\n",
              "    border-radius: 50%;\n",
              "    cursor: pointer;\n",
              "    display: none;\n",
              "    fill: #1967D2;\n",
              "    height: 32px;\n",
              "    padding: 0 0 0 0;\n",
              "    width: 32px;\n",
              "  }\n",
              "\n",
              "  .colab-df-quickchart:hover {\n",
              "    background-color: #E2EBFA;\n",
              "    box-shadow: 0px 1px 2px rgba(60, 64, 67, 0.3), 0px 1px 3px 1px rgba(60, 64, 67, 0.15);\n",
              "    fill: #174EA6;\n",
              "  }\n",
              "\n",
              "  [theme=dark] .colab-df-quickchart {\n",
              "    background-color: #3B4455;\n",
              "    fill: #D2E3FC;\n",
              "  }\n",
              "\n",
              "  [theme=dark] .colab-df-quickchart:hover {\n",
              "    background-color: #434B5C;\n",
              "    box-shadow: 0px 1px 3px 1px rgba(0, 0, 0, 0.15);\n",
              "    filter: drop-shadow(0px 1px 2px rgba(0, 0, 0, 0.3));\n",
              "    fill: #FFFFFF;\n",
              "  }\n",
              "</style>\n",
              "\n",
              "    <script>\n",
              "      async function quickchart(key) {\n",
              "        const containerElement = document.querySelector('#' + key);\n",
              "        const charts = await google.colab.kernel.invokeFunction(\n",
              "            'suggestCharts', [key], {});\n",
              "      }\n",
              "    </script>\n",
              "\n",
              "      <script>\n",
              "\n",
              "function displayQuickchartButton(domScope) {\n",
              "  let quickchartButtonEl =\n",
              "    domScope.querySelector('#df-03a39bc1-067e-4b96-a4bc-ebd76025a828 button.colab-df-quickchart');\n",
              "  quickchartButtonEl.style.display =\n",
              "    google.colab.kernel.accessAllowed ? 'block' : 'none';\n",
              "}\n",
              "\n",
              "        displayQuickchartButton(document);\n",
              "      </script>\n",
              "      <style>\n",
              "    .colab-df-container {\n",
              "      display:flex;\n",
              "      flex-wrap:wrap;\n",
              "      gap: 12px;\n",
              "    }\n",
              "\n",
              "    .colab-df-convert {\n",
              "      background-color: #E8F0FE;\n",
              "      border: none;\n",
              "      border-radius: 50%;\n",
              "      cursor: pointer;\n",
              "      display: none;\n",
              "      fill: #1967D2;\n",
              "      height: 32px;\n",
              "      padding: 0 0 0 0;\n",
              "      width: 32px;\n",
              "    }\n",
              "\n",
              "    .colab-df-convert:hover {\n",
              "      background-color: #E2EBFA;\n",
              "      box-shadow: 0px 1px 2px rgba(60, 64, 67, 0.3), 0px 1px 3px 1px rgba(60, 64, 67, 0.15);\n",
              "      fill: #174EA6;\n",
              "    }\n",
              "\n",
              "    [theme=dark] .colab-df-convert {\n",
              "      background-color: #3B4455;\n",
              "      fill: #D2E3FC;\n",
              "    }\n",
              "\n",
              "    [theme=dark] .colab-df-convert:hover {\n",
              "      background-color: #434B5C;\n",
              "      box-shadow: 0px 1px 3px 1px rgba(0, 0, 0, 0.15);\n",
              "      filter: drop-shadow(0px 1px 2px rgba(0, 0, 0, 0.3));\n",
              "      fill: #FFFFFF;\n",
              "    }\n",
              "  </style>\n",
              "\n",
              "      <script>\n",
              "        const buttonEl =\n",
              "          document.querySelector('#df-d2073722-1040-41f6-8553-d60d516089ac button.colab-df-convert');\n",
              "        buttonEl.style.display =\n",
              "          google.colab.kernel.accessAllowed ? 'block' : 'none';\n",
              "\n",
              "        async function convertToInteractive(key) {\n",
              "          const element = document.querySelector('#df-d2073722-1040-41f6-8553-d60d516089ac');\n",
              "          const dataTable =\n",
              "            await google.colab.kernel.invokeFunction('convertToInteractive',\n",
              "                                                     [key], {});\n",
              "          if (!dataTable) return;\n",
              "\n",
              "          const docLinkHtml = 'Like what you see? Visit the ' +\n",
              "            '<a target=\"_blank\" href=https://colab.research.google.com/notebooks/data_table.ipynb>data table notebook</a>'\n",
              "            + ' to learn more about interactive tables.';\n",
              "          element.innerHTML = '';\n",
              "          dataTable['output_type'] = 'display_data';\n",
              "          await google.colab.output.renderOutput(dataTable, element);\n",
              "          const docLink = document.createElement('div');\n",
              "          docLink.innerHTML = docLinkHtml;\n",
              "          element.appendChild(docLink);\n",
              "        }\n",
              "      </script>\n",
              "    </div>\n",
              "  </div>\n"
            ]
          },
          "metadata": {},
          "execution_count": 20
        }
      ]
    },
    {
      "cell_type": "markdown",
      "source": [
        "#Quiz 3\n",
        "รายการที่ได้รับการอนุมัติงบ มากกว่า 1 ล้้านบาท แต่ไม่เกิน 2 ล้านบาท"
      ],
      "metadata": {
        "id": "cQ3VQA9K9RzZ"
      }
    },
    {
      "cell_type": "code",
      "source": [
        "big_df =data1.iloc[:]\n",
        "big_df"
      ],
      "metadata": {
        "colab": {
          "base_uri": "https://localhost:8080/",
          "height": 424
        },
        "id": "Ogvm2fpE_Ene",
        "outputId": "877eb826-6990-4fe1-a78a-080bf37a7170"
      },
      "execution_count": null,
      "outputs": [
        {
          "output_type": "execute_result",
          "data": {
            "text/plain": [
              "    Budget_resource  Issue_No  Fiscal_year  Department_code  \\\n",
              "0         งบประจำปี         0           62         11000000   \n",
              "1         งบประจำปี         0           62         11000000   \n",
              "2         งบประจำปี         0           62         11000000   \n",
              "3         งบประจำปี         0           62         11000000   \n",
              "4         งบประจำปี         0           62         11000000   \n",
              "..              ...       ...          ...              ...   \n",
              "687     งบเพิ่มเติม         1           66         50460000   \n",
              "688     งบเพิ่มเติม         1           66         50460000   \n",
              "689     งบเพิ่มเติม         1           66         50460000   \n",
              "690     งบเพิ่มเติม         1           66         50460000   \n",
              "691     งบเพิ่มเติม         1           66         50500000   \n",
              "\n",
              "               Department                                   Core_budget_code  \\\n",
              "0        สำนักการระบายน้ำ  12-เงินสำรองจ่ายทั่วไป กรณีค่าใช้จ่ายต่างๆ เกี...   \n",
              "1        สำนักการระบายน้ำ  12-เงินสำรองจ่ายทั่วไป กรณีค่าใช้จ่ายต่างๆ เกี...   \n",
              "2        สำนักการระบายน้ำ  12-เงินสำรองจ่ายทั่วไป กรณีค่าใช้จ่ายต่างๆ เกี...   \n",
              "3        สำนักการระบายน้ำ  12-เงินสำรองจ่ายทั่วไป กรณีค่าใช้จ่ายต่างๆ เกี...   \n",
              "4        สำนักการระบายน้ำ  12-เงินสำรองจ่ายทั่วไป กรณีค่าใช้จ่ายต่างๆ เกี...   \n",
              "..                    ...                                                ...   \n",
              "687  สำนักงานเขตคลองสามวา                                                NaN   \n",
              "688  สำนักงานเขตคลองสามวา                                                NaN   \n",
              "689  สำนักงานเขตคลองสามวา                                                NaN   \n",
              "690  สำนักงานเขตคลองสามวา                                                NaN   \n",
              "691     สำนักงานเขตบางบอน                                                NaN   \n",
              "\n",
              "    Expenditure_category                                          Item_name  \\\n",
              "0                งบลงทุน        ขุดลอกคลองบางกะปิจากคลองสามเสนถึงคลองแสนแสบ   \n",
              "1                งบลงทุน  ขุดลอกคลองทรงกระเทียมจากคลองลาดพร้าวถึงถนนโชคช...   \n",
              "2                งบลงทุน          ขุดลอกคลองเป้งจากคลองแสนแสบถึงซอยเจริญสุข   \n",
              "3                งบลงทุน  ขุดลอกคลองลำพังพวยจากถนนศรีบูรพาถึงสถานีสูบน้ำ...   \n",
              "4                งบลงทุน  ขุดลอกบึงรางเข้จากคลองพระยาราชมนตรีถึงถนนบางขุ...   \n",
              "..                   ...                                                ...   \n",
              "687              งบลงทุน                                 ขุดลอกคลองผักกะเฉด   \n",
              "688              งบลงทุน                            ขุดลอกคลองบึงทรายกองดิน   \n",
              "689              งบลงทุน                                  ขุดลอกลำรางซาฟารี   \n",
              "690              งบลงทุน                                ขุดลอกลำรางตาจันทร์   \n",
              "691              งบลงทุน          ขุดลอกคลองบางบอนต่อจากของเดิมถึงคลองนายผล   \n",
              "\n",
              "     Approved_buget  \n",
              "0           1193000  \n",
              "1           1100000  \n",
              "2           3075000  \n",
              "3           6240000  \n",
              "4           2685000  \n",
              "..              ...  \n",
              "687         3686000  \n",
              "688         2575000  \n",
              "689          689000  \n",
              "690          464000  \n",
              "691         7578000  \n",
              "\n",
              "[692 rows x 9 columns]"
            ],
            "text/html": [
              "\n",
              "\n",
              "  <div id=\"df-fe8f6a6e-4c94-4c91-9b25-e1ddcd2f03c9\">\n",
              "    <div class=\"colab-df-container\">\n",
              "      <div>\n",
              "<style scoped>\n",
              "    .dataframe tbody tr th:only-of-type {\n",
              "        vertical-align: middle;\n",
              "    }\n",
              "\n",
              "    .dataframe tbody tr th {\n",
              "        vertical-align: top;\n",
              "    }\n",
              "\n",
              "    .dataframe thead th {\n",
              "        text-align: right;\n",
              "    }\n",
              "</style>\n",
              "<table border=\"1\" class=\"dataframe\">\n",
              "  <thead>\n",
              "    <tr style=\"text-align: right;\">\n",
              "      <th></th>\n",
              "      <th>Budget_resource</th>\n",
              "      <th>Issue_No</th>\n",
              "      <th>Fiscal_year</th>\n",
              "      <th>Department_code</th>\n",
              "      <th>Department</th>\n",
              "      <th>Core_budget_code</th>\n",
              "      <th>Expenditure_category</th>\n",
              "      <th>Item_name</th>\n",
              "      <th>Approved_buget</th>\n",
              "    </tr>\n",
              "  </thead>\n",
              "  <tbody>\n",
              "    <tr>\n",
              "      <th>0</th>\n",
              "      <td>งบประจำปี</td>\n",
              "      <td>0</td>\n",
              "      <td>62</td>\n",
              "      <td>11000000</td>\n",
              "      <td>สำนักการระบายน้ำ</td>\n",
              "      <td>12-เงินสำรองจ่ายทั่วไป กรณีค่าใช้จ่ายต่างๆ เกี...</td>\n",
              "      <td>งบลงทุน</td>\n",
              "      <td>ขุดลอกคลองบางกะปิจากคลองสามเสนถึงคลองแสนแสบ</td>\n",
              "      <td>1193000</td>\n",
              "    </tr>\n",
              "    <tr>\n",
              "      <th>1</th>\n",
              "      <td>งบประจำปี</td>\n",
              "      <td>0</td>\n",
              "      <td>62</td>\n",
              "      <td>11000000</td>\n",
              "      <td>สำนักการระบายน้ำ</td>\n",
              "      <td>12-เงินสำรองจ่ายทั่วไป กรณีค่าใช้จ่ายต่างๆ เกี...</td>\n",
              "      <td>งบลงทุน</td>\n",
              "      <td>ขุดลอกคลองทรงกระเทียมจากคลองลาดพร้าวถึงถนนโชคช...</td>\n",
              "      <td>1100000</td>\n",
              "    </tr>\n",
              "    <tr>\n",
              "      <th>2</th>\n",
              "      <td>งบประจำปี</td>\n",
              "      <td>0</td>\n",
              "      <td>62</td>\n",
              "      <td>11000000</td>\n",
              "      <td>สำนักการระบายน้ำ</td>\n",
              "      <td>12-เงินสำรองจ่ายทั่วไป กรณีค่าใช้จ่ายต่างๆ เกี...</td>\n",
              "      <td>งบลงทุน</td>\n",
              "      <td>ขุดลอกคลองเป้งจากคลองแสนแสบถึงซอยเจริญสุข</td>\n",
              "      <td>3075000</td>\n",
              "    </tr>\n",
              "    <tr>\n",
              "      <th>3</th>\n",
              "      <td>งบประจำปี</td>\n",
              "      <td>0</td>\n",
              "      <td>62</td>\n",
              "      <td>11000000</td>\n",
              "      <td>สำนักการระบายน้ำ</td>\n",
              "      <td>12-เงินสำรองจ่ายทั่วไป กรณีค่าใช้จ่ายต่างๆ เกี...</td>\n",
              "      <td>งบลงทุน</td>\n",
              "      <td>ขุดลอกคลองลำพังพวยจากถนนศรีบูรพาถึงสถานีสูบน้ำ...</td>\n",
              "      <td>6240000</td>\n",
              "    </tr>\n",
              "    <tr>\n",
              "      <th>4</th>\n",
              "      <td>งบประจำปี</td>\n",
              "      <td>0</td>\n",
              "      <td>62</td>\n",
              "      <td>11000000</td>\n",
              "      <td>สำนักการระบายน้ำ</td>\n",
              "      <td>12-เงินสำรองจ่ายทั่วไป กรณีค่าใช้จ่ายต่างๆ เกี...</td>\n",
              "      <td>งบลงทุน</td>\n",
              "      <td>ขุดลอกบึงรางเข้จากคลองพระยาราชมนตรีถึงถนนบางขุ...</td>\n",
              "      <td>2685000</td>\n",
              "    </tr>\n",
              "    <tr>\n",
              "      <th>...</th>\n",
              "      <td>...</td>\n",
              "      <td>...</td>\n",
              "      <td>...</td>\n",
              "      <td>...</td>\n",
              "      <td>...</td>\n",
              "      <td>...</td>\n",
              "      <td>...</td>\n",
              "      <td>...</td>\n",
              "      <td>...</td>\n",
              "    </tr>\n",
              "    <tr>\n",
              "      <th>687</th>\n",
              "      <td>งบเพิ่มเติม</td>\n",
              "      <td>1</td>\n",
              "      <td>66</td>\n",
              "      <td>50460000</td>\n",
              "      <td>สำนักงานเขตคลองสามวา</td>\n",
              "      <td>NaN</td>\n",
              "      <td>งบลงทุน</td>\n",
              "      <td>ขุดลอกคลองผักกะเฉด</td>\n",
              "      <td>3686000</td>\n",
              "    </tr>\n",
              "    <tr>\n",
              "      <th>688</th>\n",
              "      <td>งบเพิ่มเติม</td>\n",
              "      <td>1</td>\n",
              "      <td>66</td>\n",
              "      <td>50460000</td>\n",
              "      <td>สำนักงานเขตคลองสามวา</td>\n",
              "      <td>NaN</td>\n",
              "      <td>งบลงทุน</td>\n",
              "      <td>ขุดลอกคลองบึงทรายกองดิน</td>\n",
              "      <td>2575000</td>\n",
              "    </tr>\n",
              "    <tr>\n",
              "      <th>689</th>\n",
              "      <td>งบเพิ่มเติม</td>\n",
              "      <td>1</td>\n",
              "      <td>66</td>\n",
              "      <td>50460000</td>\n",
              "      <td>สำนักงานเขตคลองสามวา</td>\n",
              "      <td>NaN</td>\n",
              "      <td>งบลงทุน</td>\n",
              "      <td>ขุดลอกลำรางซาฟารี</td>\n",
              "      <td>689000</td>\n",
              "    </tr>\n",
              "    <tr>\n",
              "      <th>690</th>\n",
              "      <td>งบเพิ่มเติม</td>\n",
              "      <td>1</td>\n",
              "      <td>66</td>\n",
              "      <td>50460000</td>\n",
              "      <td>สำนักงานเขตคลองสามวา</td>\n",
              "      <td>NaN</td>\n",
              "      <td>งบลงทุน</td>\n",
              "      <td>ขุดลอกลำรางตาจันทร์</td>\n",
              "      <td>464000</td>\n",
              "    </tr>\n",
              "    <tr>\n",
              "      <th>691</th>\n",
              "      <td>งบเพิ่มเติม</td>\n",
              "      <td>1</td>\n",
              "      <td>66</td>\n",
              "      <td>50500000</td>\n",
              "      <td>สำนักงานเขตบางบอน</td>\n",
              "      <td>NaN</td>\n",
              "      <td>งบลงทุน</td>\n",
              "      <td>ขุดลอกคลองบางบอนต่อจากของเดิมถึงคลองนายผล</td>\n",
              "      <td>7578000</td>\n",
              "    </tr>\n",
              "  </tbody>\n",
              "</table>\n",
              "<p>692 rows × 9 columns</p>\n",
              "</div>\n",
              "      <button class=\"colab-df-convert\" onclick=\"convertToInteractive('df-fe8f6a6e-4c94-4c91-9b25-e1ddcd2f03c9')\"\n",
              "              title=\"Convert this dataframe to an interactive table.\"\n",
              "              style=\"display:none;\">\n",
              "\n",
              "  <svg xmlns=\"http://www.w3.org/2000/svg\" height=\"24px\"viewBox=\"0 0 24 24\"\n",
              "       width=\"24px\">\n",
              "    <path d=\"M0 0h24v24H0V0z\" fill=\"none\"/>\n",
              "    <path d=\"M18.56 5.44l.94 2.06.94-2.06 2.06-.94-2.06-.94-.94-2.06-.94 2.06-2.06.94zm-11 1L8.5 8.5l.94-2.06 2.06-.94-2.06-.94L8.5 2.5l-.94 2.06-2.06.94zm10 10l.94 2.06.94-2.06 2.06-.94-2.06-.94-.94-2.06-.94 2.06-2.06.94z\"/><path d=\"M17.41 7.96l-1.37-1.37c-.4-.4-.92-.59-1.43-.59-.52 0-1.04.2-1.43.59L10.3 9.45l-7.72 7.72c-.78.78-.78 2.05 0 2.83L4 21.41c.39.39.9.59 1.41.59.51 0 1.02-.2 1.41-.59l7.78-7.78 2.81-2.81c.8-.78.8-2.07 0-2.86zM5.41 20L4 18.59l7.72-7.72 1.47 1.35L5.41 20z\"/>\n",
              "  </svg>\n",
              "      </button>\n",
              "\n",
              "\n",
              "\n",
              "    <div id=\"df-76956d44-3611-4e39-b7d4-ddf136bf3738\">\n",
              "      <button class=\"colab-df-quickchart\" onclick=\"quickchart('df-76956d44-3611-4e39-b7d4-ddf136bf3738')\"\n",
              "              title=\"Suggest charts.\"\n",
              "              style=\"display:none;\">\n",
              "\n",
              "<svg xmlns=\"http://www.w3.org/2000/svg\" height=\"24px\"viewBox=\"0 0 24 24\"\n",
              "     width=\"24px\">\n",
              "    <g>\n",
              "        <path d=\"M19 3H5c-1.1 0-2 .9-2 2v14c0 1.1.9 2 2 2h14c1.1 0 2-.9 2-2V5c0-1.1-.9-2-2-2zM9 17H7v-7h2v7zm4 0h-2V7h2v10zm4 0h-2v-4h2v4z\"/>\n",
              "    </g>\n",
              "</svg>\n",
              "      </button>\n",
              "    </div>\n",
              "\n",
              "<style>\n",
              "  .colab-df-quickchart {\n",
              "    background-color: #E8F0FE;\n",
              "    border: none;\n",
              "    border-radius: 50%;\n",
              "    cursor: pointer;\n",
              "    display: none;\n",
              "    fill: #1967D2;\n",
              "    height: 32px;\n",
              "    padding: 0 0 0 0;\n",
              "    width: 32px;\n",
              "  }\n",
              "\n",
              "  .colab-df-quickchart:hover {\n",
              "    background-color: #E2EBFA;\n",
              "    box-shadow: 0px 1px 2px rgba(60, 64, 67, 0.3), 0px 1px 3px 1px rgba(60, 64, 67, 0.15);\n",
              "    fill: #174EA6;\n",
              "  }\n",
              "\n",
              "  [theme=dark] .colab-df-quickchart {\n",
              "    background-color: #3B4455;\n",
              "    fill: #D2E3FC;\n",
              "  }\n",
              "\n",
              "  [theme=dark] .colab-df-quickchart:hover {\n",
              "    background-color: #434B5C;\n",
              "    box-shadow: 0px 1px 3px 1px rgba(0, 0, 0, 0.15);\n",
              "    filter: drop-shadow(0px 1px 2px rgba(0, 0, 0, 0.3));\n",
              "    fill: #FFFFFF;\n",
              "  }\n",
              "</style>\n",
              "\n",
              "    <script>\n",
              "      async function quickchart(key) {\n",
              "        const containerElement = document.querySelector('#' + key);\n",
              "        const charts = await google.colab.kernel.invokeFunction(\n",
              "            'suggestCharts', [key], {});\n",
              "      }\n",
              "    </script>\n",
              "\n",
              "      <script>\n",
              "\n",
              "function displayQuickchartButton(domScope) {\n",
              "  let quickchartButtonEl =\n",
              "    domScope.querySelector('#df-76956d44-3611-4e39-b7d4-ddf136bf3738 button.colab-df-quickchart');\n",
              "  quickchartButtonEl.style.display =\n",
              "    google.colab.kernel.accessAllowed ? 'block' : 'none';\n",
              "}\n",
              "\n",
              "        displayQuickchartButton(document);\n",
              "      </script>\n",
              "      <style>\n",
              "    .colab-df-container {\n",
              "      display:flex;\n",
              "      flex-wrap:wrap;\n",
              "      gap: 12px;\n",
              "    }\n",
              "\n",
              "    .colab-df-convert {\n",
              "      background-color: #E8F0FE;\n",
              "      border: none;\n",
              "      border-radius: 50%;\n",
              "      cursor: pointer;\n",
              "      display: none;\n",
              "      fill: #1967D2;\n",
              "      height: 32px;\n",
              "      padding: 0 0 0 0;\n",
              "      width: 32px;\n",
              "    }\n",
              "\n",
              "    .colab-df-convert:hover {\n",
              "      background-color: #E2EBFA;\n",
              "      box-shadow: 0px 1px 2px rgba(60, 64, 67, 0.3), 0px 1px 3px 1px rgba(60, 64, 67, 0.15);\n",
              "      fill: #174EA6;\n",
              "    }\n",
              "\n",
              "    [theme=dark] .colab-df-convert {\n",
              "      background-color: #3B4455;\n",
              "      fill: #D2E3FC;\n",
              "    }\n",
              "\n",
              "    [theme=dark] .colab-df-convert:hover {\n",
              "      background-color: #434B5C;\n",
              "      box-shadow: 0px 1px 3px 1px rgba(0, 0, 0, 0.15);\n",
              "      filter: drop-shadow(0px 1px 2px rgba(0, 0, 0, 0.3));\n",
              "      fill: #FFFFFF;\n",
              "    }\n",
              "  </style>\n",
              "\n",
              "      <script>\n",
              "        const buttonEl =\n",
              "          document.querySelector('#df-fe8f6a6e-4c94-4c91-9b25-e1ddcd2f03c9 button.colab-df-convert');\n",
              "        buttonEl.style.display =\n",
              "          google.colab.kernel.accessAllowed ? 'block' : 'none';\n",
              "\n",
              "        async function convertToInteractive(key) {\n",
              "          const element = document.querySelector('#df-fe8f6a6e-4c94-4c91-9b25-e1ddcd2f03c9');\n",
              "          const dataTable =\n",
              "            await google.colab.kernel.invokeFunction('convertToInteractive',\n",
              "                                                     [key], {});\n",
              "          if (!dataTable) return;\n",
              "\n",
              "          const docLinkHtml = 'Like what you see? Visit the ' +\n",
              "            '<a target=\"_blank\" href=https://colab.research.google.com/notebooks/data_table.ipynb>data table notebook</a>'\n",
              "            + ' to learn more about interactive tables.';\n",
              "          element.innerHTML = '';\n",
              "          dataTable['output_type'] = 'display_data';\n",
              "          await google.colab.output.renderOutput(dataTable, element);\n",
              "          const docLink = document.createElement('div');\n",
              "          docLink.innerHTML = docLinkHtml;\n",
              "          element.appendChild(docLink);\n",
              "        }\n",
              "      </script>\n",
              "    </div>\n",
              "  </div>\n"
            ]
          },
          "metadata": {},
          "execution_count": 21
        }
      ]
    },
    {
      "cell_type": "code",
      "source": [
        "data1[(data1['Approved_buget']>1000000) & (data1['Approved_buget']<=2000000)]"
      ],
      "metadata": {
        "colab": {
          "base_uri": "https://localhost:8080/",
          "height": 424
        },
        "id": "Vn_dSDPWANa_",
        "outputId": "b7c32ff6-0a6f-4479-d750-851999c04814"
      },
      "execution_count": null,
      "outputs": [
        {
          "output_type": "execute_result",
          "data": {
            "text/plain": [
              "    Budget_resource  Issue_No  Fiscal_year  Department_code  \\\n",
              "0         งบประจำปี         0           62         11000000   \n",
              "1         งบประจำปี         0           62         11000000   \n",
              "5         งบประจำปี         0           62         11000000   \n",
              "22        งบประจำปี         0           63         11000000   \n",
              "25        งบประจำปี         0           63         11000000   \n",
              "..              ...       ...          ...              ...   \n",
              "660     งบเพิ่มเติม         1           66         50350000   \n",
              "662     งบเพิ่มเติม         1           66         50350000   \n",
              "665     งบเพิ่มเติม         1           66         50350000   \n",
              "666     งบเพิ่มเติม         1           66         50360000   \n",
              "670     งบเพิ่มเติม         1           66         50360000   \n",
              "\n",
              "             Department                                   Core_budget_code  \\\n",
              "0      สำนักการระบายน้ำ  12-เงินสำรองจ่ายทั่วไป กรณีค่าใช้จ่ายต่างๆ เกี...   \n",
              "1      สำนักการระบายน้ำ  12-เงินสำรองจ่ายทั่วไป กรณีค่าใช้จ่ายต่างๆ เกี...   \n",
              "5      สำนักการระบายน้ำ  12-เงินสำรองจ่ายทั่วไป กรณีค่าใช้จ่ายต่างๆ เกี...   \n",
              "22     สำนักการระบายน้ำ  12-เงินสำรองจ่ายทั่วไป กรณีค่าใช้จ่ายต่างๆ เกี...   \n",
              "25     สำนักการระบายน้ำ  12-เงินสำรองจ่ายทั่วไป กรณีค่าใช้จ่ายต่างๆ เกี...   \n",
              "..                  ...                                                ...   \n",
              "660  สำนักงานเขตบางพลัด                                                NaN   \n",
              "662  สำนักงานเขตบางพลัด                                                NaN   \n",
              "665  สำนักงานเขตบางพลัด                                                NaN   \n",
              "666   สำนักงานเขตจอมทอง                                                NaN   \n",
              "670   สำนักงานเขตจอมทอง                                                NaN   \n",
              "\n",
              "    Expenditure_category                                          Item_name  \\\n",
              "0                งบลงทุน        ขุดลอกคลองบางกะปิจากคลองสามเสนถึงคลองแสนแสบ   \n",
              "1                งบลงทุน  ขุดลอกคลองทรงกระเทียมจากคลองลาดพร้าวถึงถนนโชคช...   \n",
              "5                งบลงทุน  ขุดลอกคลองราษฎร์สามัคคีจากคลองทวีวัฒนาถึงคลองม...   \n",
              "22               งบลงทุน      ขุดลอกคลองนางหงษ์จากคลองแสนแสบถึงถนนบรรทัดทอง   \n",
              "25               งบลงทุน  ขุดลอกคลองราษฎร์บูรณะจากแม่น้ำเจ้าพระยาถึงสวนธ...   \n",
              "..                   ...                                                ...   \n",
              "660              งบลงทุน                                 ขุดลอกคลองสะพานยาว   \n",
              "662              งบลงทุน         ขุดลอกคลองบางรักและคูน้ำซอยจรัญสนิทวงศ์ 89   \n",
              "665              งบลงทุน                           ขุดลอกคลองวัดน้อยนางหงษ์   \n",
              "666              งบลงทุน  ขุดลอกคลองลัดบางสะแก (1),(2) จากคลองบางค้อและค...   \n",
              "670              งบลงทุน  ขุดลอกลำกระโดงสาธารณประโยชน์แยกคลองต้นไทร (3),...   \n",
              "\n",
              "     Approved_buget  \n",
              "0           1193000  \n",
              "1           1100000  \n",
              "5           1207000  \n",
              "22          1508000  \n",
              "25          1975000  \n",
              "..              ...  \n",
              "660         1756000  \n",
              "662         1859000  \n",
              "665         1187000  \n",
              "666         1581000  \n",
              "670         1388000  \n",
              "\n",
              "[132 rows x 9 columns]"
            ],
            "text/html": [
              "\n",
              "\n",
              "  <div id=\"df-558144ec-ce67-485f-82f2-8b678e93d082\">\n",
              "    <div class=\"colab-df-container\">\n",
              "      <div>\n",
              "<style scoped>\n",
              "    .dataframe tbody tr th:only-of-type {\n",
              "        vertical-align: middle;\n",
              "    }\n",
              "\n",
              "    .dataframe tbody tr th {\n",
              "        vertical-align: top;\n",
              "    }\n",
              "\n",
              "    .dataframe thead th {\n",
              "        text-align: right;\n",
              "    }\n",
              "</style>\n",
              "<table border=\"1\" class=\"dataframe\">\n",
              "  <thead>\n",
              "    <tr style=\"text-align: right;\">\n",
              "      <th></th>\n",
              "      <th>Budget_resource</th>\n",
              "      <th>Issue_No</th>\n",
              "      <th>Fiscal_year</th>\n",
              "      <th>Department_code</th>\n",
              "      <th>Department</th>\n",
              "      <th>Core_budget_code</th>\n",
              "      <th>Expenditure_category</th>\n",
              "      <th>Item_name</th>\n",
              "      <th>Approved_buget</th>\n",
              "    </tr>\n",
              "  </thead>\n",
              "  <tbody>\n",
              "    <tr>\n",
              "      <th>0</th>\n",
              "      <td>งบประจำปี</td>\n",
              "      <td>0</td>\n",
              "      <td>62</td>\n",
              "      <td>11000000</td>\n",
              "      <td>สำนักการระบายน้ำ</td>\n",
              "      <td>12-เงินสำรองจ่ายทั่วไป กรณีค่าใช้จ่ายต่างๆ เกี...</td>\n",
              "      <td>งบลงทุน</td>\n",
              "      <td>ขุดลอกคลองบางกะปิจากคลองสามเสนถึงคลองแสนแสบ</td>\n",
              "      <td>1193000</td>\n",
              "    </tr>\n",
              "    <tr>\n",
              "      <th>1</th>\n",
              "      <td>งบประจำปี</td>\n",
              "      <td>0</td>\n",
              "      <td>62</td>\n",
              "      <td>11000000</td>\n",
              "      <td>สำนักการระบายน้ำ</td>\n",
              "      <td>12-เงินสำรองจ่ายทั่วไป กรณีค่าใช้จ่ายต่างๆ เกี...</td>\n",
              "      <td>งบลงทุน</td>\n",
              "      <td>ขุดลอกคลองทรงกระเทียมจากคลองลาดพร้าวถึงถนนโชคช...</td>\n",
              "      <td>1100000</td>\n",
              "    </tr>\n",
              "    <tr>\n",
              "      <th>5</th>\n",
              "      <td>งบประจำปี</td>\n",
              "      <td>0</td>\n",
              "      <td>62</td>\n",
              "      <td>11000000</td>\n",
              "      <td>สำนักการระบายน้ำ</td>\n",
              "      <td>12-เงินสำรองจ่ายทั่วไป กรณีค่าใช้จ่ายต่างๆ เกี...</td>\n",
              "      <td>งบลงทุน</td>\n",
              "      <td>ขุดลอกคลองราษฎร์สามัคคีจากคลองทวีวัฒนาถึงคลองม...</td>\n",
              "      <td>1207000</td>\n",
              "    </tr>\n",
              "    <tr>\n",
              "      <th>22</th>\n",
              "      <td>งบประจำปี</td>\n",
              "      <td>0</td>\n",
              "      <td>63</td>\n",
              "      <td>11000000</td>\n",
              "      <td>สำนักการระบายน้ำ</td>\n",
              "      <td>12-เงินสำรองจ่ายทั่วไป กรณีค่าใช้จ่ายต่างๆ เกี...</td>\n",
              "      <td>งบลงทุน</td>\n",
              "      <td>ขุดลอกคลองนางหงษ์จากคลองแสนแสบถึงถนนบรรทัดทอง</td>\n",
              "      <td>1508000</td>\n",
              "    </tr>\n",
              "    <tr>\n",
              "      <th>25</th>\n",
              "      <td>งบประจำปี</td>\n",
              "      <td>0</td>\n",
              "      <td>63</td>\n",
              "      <td>11000000</td>\n",
              "      <td>สำนักการระบายน้ำ</td>\n",
              "      <td>12-เงินสำรองจ่ายทั่วไป กรณีค่าใช้จ่ายต่างๆ เกี...</td>\n",
              "      <td>งบลงทุน</td>\n",
              "      <td>ขุดลอกคลองราษฎร์บูรณะจากแม่น้ำเจ้าพระยาถึงสวนธ...</td>\n",
              "      <td>1975000</td>\n",
              "    </tr>\n",
              "    <tr>\n",
              "      <th>...</th>\n",
              "      <td>...</td>\n",
              "      <td>...</td>\n",
              "      <td>...</td>\n",
              "      <td>...</td>\n",
              "      <td>...</td>\n",
              "      <td>...</td>\n",
              "      <td>...</td>\n",
              "      <td>...</td>\n",
              "      <td>...</td>\n",
              "    </tr>\n",
              "    <tr>\n",
              "      <th>660</th>\n",
              "      <td>งบเพิ่มเติม</td>\n",
              "      <td>1</td>\n",
              "      <td>66</td>\n",
              "      <td>50350000</td>\n",
              "      <td>สำนักงานเขตบางพลัด</td>\n",
              "      <td>NaN</td>\n",
              "      <td>งบลงทุน</td>\n",
              "      <td>ขุดลอกคลองสะพานยาว</td>\n",
              "      <td>1756000</td>\n",
              "    </tr>\n",
              "    <tr>\n",
              "      <th>662</th>\n",
              "      <td>งบเพิ่มเติม</td>\n",
              "      <td>1</td>\n",
              "      <td>66</td>\n",
              "      <td>50350000</td>\n",
              "      <td>สำนักงานเขตบางพลัด</td>\n",
              "      <td>NaN</td>\n",
              "      <td>งบลงทุน</td>\n",
              "      <td>ขุดลอกคลองบางรักและคูน้ำซอยจรัญสนิทวงศ์ 89</td>\n",
              "      <td>1859000</td>\n",
              "    </tr>\n",
              "    <tr>\n",
              "      <th>665</th>\n",
              "      <td>งบเพิ่มเติม</td>\n",
              "      <td>1</td>\n",
              "      <td>66</td>\n",
              "      <td>50350000</td>\n",
              "      <td>สำนักงานเขตบางพลัด</td>\n",
              "      <td>NaN</td>\n",
              "      <td>งบลงทุน</td>\n",
              "      <td>ขุดลอกคลองวัดน้อยนางหงษ์</td>\n",
              "      <td>1187000</td>\n",
              "    </tr>\n",
              "    <tr>\n",
              "      <th>666</th>\n",
              "      <td>งบเพิ่มเติม</td>\n",
              "      <td>1</td>\n",
              "      <td>66</td>\n",
              "      <td>50360000</td>\n",
              "      <td>สำนักงานเขตจอมทอง</td>\n",
              "      <td>NaN</td>\n",
              "      <td>งบลงทุน</td>\n",
              "      <td>ขุดลอกคลองลัดบางสะแก (1),(2) จากคลองบางค้อและค...</td>\n",
              "      <td>1581000</td>\n",
              "    </tr>\n",
              "    <tr>\n",
              "      <th>670</th>\n",
              "      <td>งบเพิ่มเติม</td>\n",
              "      <td>1</td>\n",
              "      <td>66</td>\n",
              "      <td>50360000</td>\n",
              "      <td>สำนักงานเขตจอมทอง</td>\n",
              "      <td>NaN</td>\n",
              "      <td>งบลงทุน</td>\n",
              "      <td>ขุดลอกลำกระโดงสาธารณประโยชน์แยกคลองต้นไทร (3),...</td>\n",
              "      <td>1388000</td>\n",
              "    </tr>\n",
              "  </tbody>\n",
              "</table>\n",
              "<p>132 rows × 9 columns</p>\n",
              "</div>\n",
              "      <button class=\"colab-df-convert\" onclick=\"convertToInteractive('df-558144ec-ce67-485f-82f2-8b678e93d082')\"\n",
              "              title=\"Convert this dataframe to an interactive table.\"\n",
              "              style=\"display:none;\">\n",
              "\n",
              "  <svg xmlns=\"http://www.w3.org/2000/svg\" height=\"24px\"viewBox=\"0 0 24 24\"\n",
              "       width=\"24px\">\n",
              "    <path d=\"M0 0h24v24H0V0z\" fill=\"none\"/>\n",
              "    <path d=\"M18.56 5.44l.94 2.06.94-2.06 2.06-.94-2.06-.94-.94-2.06-.94 2.06-2.06.94zm-11 1L8.5 8.5l.94-2.06 2.06-.94-2.06-.94L8.5 2.5l-.94 2.06-2.06.94zm10 10l.94 2.06.94-2.06 2.06-.94-2.06-.94-.94-2.06-.94 2.06-2.06.94z\"/><path d=\"M17.41 7.96l-1.37-1.37c-.4-.4-.92-.59-1.43-.59-.52 0-1.04.2-1.43.59L10.3 9.45l-7.72 7.72c-.78.78-.78 2.05 0 2.83L4 21.41c.39.39.9.59 1.41.59.51 0 1.02-.2 1.41-.59l7.78-7.78 2.81-2.81c.8-.78.8-2.07 0-2.86zM5.41 20L4 18.59l7.72-7.72 1.47 1.35L5.41 20z\"/>\n",
              "  </svg>\n",
              "      </button>\n",
              "\n",
              "\n",
              "\n",
              "    <div id=\"df-0c80ac1a-acce-4d55-ac5f-575654bffa84\">\n",
              "      <button class=\"colab-df-quickchart\" onclick=\"quickchart('df-0c80ac1a-acce-4d55-ac5f-575654bffa84')\"\n",
              "              title=\"Suggest charts.\"\n",
              "              style=\"display:none;\">\n",
              "\n",
              "<svg xmlns=\"http://www.w3.org/2000/svg\" height=\"24px\"viewBox=\"0 0 24 24\"\n",
              "     width=\"24px\">\n",
              "    <g>\n",
              "        <path d=\"M19 3H5c-1.1 0-2 .9-2 2v14c0 1.1.9 2 2 2h14c1.1 0 2-.9 2-2V5c0-1.1-.9-2-2-2zM9 17H7v-7h2v7zm4 0h-2V7h2v10zm4 0h-2v-4h2v4z\"/>\n",
              "    </g>\n",
              "</svg>\n",
              "      </button>\n",
              "    </div>\n",
              "\n",
              "<style>\n",
              "  .colab-df-quickchart {\n",
              "    background-color: #E8F0FE;\n",
              "    border: none;\n",
              "    border-radius: 50%;\n",
              "    cursor: pointer;\n",
              "    display: none;\n",
              "    fill: #1967D2;\n",
              "    height: 32px;\n",
              "    padding: 0 0 0 0;\n",
              "    width: 32px;\n",
              "  }\n",
              "\n",
              "  .colab-df-quickchart:hover {\n",
              "    background-color: #E2EBFA;\n",
              "    box-shadow: 0px 1px 2px rgba(60, 64, 67, 0.3), 0px 1px 3px 1px rgba(60, 64, 67, 0.15);\n",
              "    fill: #174EA6;\n",
              "  }\n",
              "\n",
              "  [theme=dark] .colab-df-quickchart {\n",
              "    background-color: #3B4455;\n",
              "    fill: #D2E3FC;\n",
              "  }\n",
              "\n",
              "  [theme=dark] .colab-df-quickchart:hover {\n",
              "    background-color: #434B5C;\n",
              "    box-shadow: 0px 1px 3px 1px rgba(0, 0, 0, 0.15);\n",
              "    filter: drop-shadow(0px 1px 2px rgba(0, 0, 0, 0.3));\n",
              "    fill: #FFFFFF;\n",
              "  }\n",
              "</style>\n",
              "\n",
              "    <script>\n",
              "      async function quickchart(key) {\n",
              "        const containerElement = document.querySelector('#' + key);\n",
              "        const charts = await google.colab.kernel.invokeFunction(\n",
              "            'suggestCharts', [key], {});\n",
              "      }\n",
              "    </script>\n",
              "\n",
              "      <script>\n",
              "\n",
              "function displayQuickchartButton(domScope) {\n",
              "  let quickchartButtonEl =\n",
              "    domScope.querySelector('#df-0c80ac1a-acce-4d55-ac5f-575654bffa84 button.colab-df-quickchart');\n",
              "  quickchartButtonEl.style.display =\n",
              "    google.colab.kernel.accessAllowed ? 'block' : 'none';\n",
              "}\n",
              "\n",
              "        displayQuickchartButton(document);\n",
              "      </script>\n",
              "      <style>\n",
              "    .colab-df-container {\n",
              "      display:flex;\n",
              "      flex-wrap:wrap;\n",
              "      gap: 12px;\n",
              "    }\n",
              "\n",
              "    .colab-df-convert {\n",
              "      background-color: #E8F0FE;\n",
              "      border: none;\n",
              "      border-radius: 50%;\n",
              "      cursor: pointer;\n",
              "      display: none;\n",
              "      fill: #1967D2;\n",
              "      height: 32px;\n",
              "      padding: 0 0 0 0;\n",
              "      width: 32px;\n",
              "    }\n",
              "\n",
              "    .colab-df-convert:hover {\n",
              "      background-color: #E2EBFA;\n",
              "      box-shadow: 0px 1px 2px rgba(60, 64, 67, 0.3), 0px 1px 3px 1px rgba(60, 64, 67, 0.15);\n",
              "      fill: #174EA6;\n",
              "    }\n",
              "\n",
              "    [theme=dark] .colab-df-convert {\n",
              "      background-color: #3B4455;\n",
              "      fill: #D2E3FC;\n",
              "    }\n",
              "\n",
              "    [theme=dark] .colab-df-convert:hover {\n",
              "      background-color: #434B5C;\n",
              "      box-shadow: 0px 1px 3px 1px rgba(0, 0, 0, 0.15);\n",
              "      filter: drop-shadow(0px 1px 2px rgba(0, 0, 0, 0.3));\n",
              "      fill: #FFFFFF;\n",
              "    }\n",
              "  </style>\n",
              "\n",
              "      <script>\n",
              "        const buttonEl =\n",
              "          document.querySelector('#df-558144ec-ce67-485f-82f2-8b678e93d082 button.colab-df-convert');\n",
              "        buttonEl.style.display =\n",
              "          google.colab.kernel.accessAllowed ? 'block' : 'none';\n",
              "\n",
              "        async function convertToInteractive(key) {\n",
              "          const element = document.querySelector('#df-558144ec-ce67-485f-82f2-8b678e93d082');\n",
              "          const dataTable =\n",
              "            await google.colab.kernel.invokeFunction('convertToInteractive',\n",
              "                                                     [key], {});\n",
              "          if (!dataTable) return;\n",
              "\n",
              "          const docLinkHtml = 'Like what you see? Visit the ' +\n",
              "            '<a target=\"_blank\" href=https://colab.research.google.com/notebooks/data_table.ipynb>data table notebook</a>'\n",
              "            + ' to learn more about interactive tables.';\n",
              "          element.innerHTML = '';\n",
              "          dataTable['output_type'] = 'display_data';\n",
              "          await google.colab.output.renderOutput(dataTable, element);\n",
              "          const docLink = document.createElement('div');\n",
              "          docLink.innerHTML = docLinkHtml;\n",
              "          element.appendChild(docLink);\n",
              "        }\n",
              "      </script>\n",
              "    </div>\n",
              "  </div>\n"
            ]
          },
          "metadata": {},
          "execution_count": 22
        }
      ]
    },
    {
      "cell_type": "code",
      "source": [
        "data1.isnull()"
      ],
      "metadata": {
        "id": "_HuANdLZC2Ut",
        "outputId": "8d16c863-d707-4eef-df29-37d85ce21190",
        "colab": {
          "base_uri": "https://localhost:8080/",
          "height": 424
        }
      },
      "execution_count": null,
      "outputs": [
        {
          "output_type": "execute_result",
          "data": {
            "text/plain": [
              "     Budget_resource  Issue_No  Fiscal_year  Department_code  Department  \\\n",
              "0              False     False        False            False       False   \n",
              "1              False     False        False            False       False   \n",
              "2              False     False        False            False       False   \n",
              "3              False     False        False            False       False   \n",
              "4              False     False        False            False       False   \n",
              "..               ...       ...          ...              ...         ...   \n",
              "687            False     False        False            False       False   \n",
              "688            False     False        False            False       False   \n",
              "689            False     False        False            False       False   \n",
              "690            False     False        False            False       False   \n",
              "691            False     False        False            False       False   \n",
              "\n",
              "     Core_budget_code  Expenditure_category  Item_name  Approved_buget  \n",
              "0               False                 False      False           False  \n",
              "1               False                 False      False           False  \n",
              "2               False                 False      False           False  \n",
              "3               False                 False      False           False  \n",
              "4               False                 False      False           False  \n",
              "..                ...                   ...        ...             ...  \n",
              "687              True                 False      False           False  \n",
              "688              True                 False      False           False  \n",
              "689              True                 False      False           False  \n",
              "690              True                 False      False           False  \n",
              "691              True                 False      False           False  \n",
              "\n",
              "[692 rows x 9 columns]"
            ],
            "text/html": [
              "\n",
              "\n",
              "  <div id=\"df-0907c341-786b-4ca1-a505-67307677fc4f\">\n",
              "    <div class=\"colab-df-container\">\n",
              "      <div>\n",
              "<style scoped>\n",
              "    .dataframe tbody tr th:only-of-type {\n",
              "        vertical-align: middle;\n",
              "    }\n",
              "\n",
              "    .dataframe tbody tr th {\n",
              "        vertical-align: top;\n",
              "    }\n",
              "\n",
              "    .dataframe thead th {\n",
              "        text-align: right;\n",
              "    }\n",
              "</style>\n",
              "<table border=\"1\" class=\"dataframe\">\n",
              "  <thead>\n",
              "    <tr style=\"text-align: right;\">\n",
              "      <th></th>\n",
              "      <th>Budget_resource</th>\n",
              "      <th>Issue_No</th>\n",
              "      <th>Fiscal_year</th>\n",
              "      <th>Department_code</th>\n",
              "      <th>Department</th>\n",
              "      <th>Core_budget_code</th>\n",
              "      <th>Expenditure_category</th>\n",
              "      <th>Item_name</th>\n",
              "      <th>Approved_buget</th>\n",
              "    </tr>\n",
              "  </thead>\n",
              "  <tbody>\n",
              "    <tr>\n",
              "      <th>0</th>\n",
              "      <td>False</td>\n",
              "      <td>False</td>\n",
              "      <td>False</td>\n",
              "      <td>False</td>\n",
              "      <td>False</td>\n",
              "      <td>False</td>\n",
              "      <td>False</td>\n",
              "      <td>False</td>\n",
              "      <td>False</td>\n",
              "    </tr>\n",
              "    <tr>\n",
              "      <th>1</th>\n",
              "      <td>False</td>\n",
              "      <td>False</td>\n",
              "      <td>False</td>\n",
              "      <td>False</td>\n",
              "      <td>False</td>\n",
              "      <td>False</td>\n",
              "      <td>False</td>\n",
              "      <td>False</td>\n",
              "      <td>False</td>\n",
              "    </tr>\n",
              "    <tr>\n",
              "      <th>2</th>\n",
              "      <td>False</td>\n",
              "      <td>False</td>\n",
              "      <td>False</td>\n",
              "      <td>False</td>\n",
              "      <td>False</td>\n",
              "      <td>False</td>\n",
              "      <td>False</td>\n",
              "      <td>False</td>\n",
              "      <td>False</td>\n",
              "    </tr>\n",
              "    <tr>\n",
              "      <th>3</th>\n",
              "      <td>False</td>\n",
              "      <td>False</td>\n",
              "      <td>False</td>\n",
              "      <td>False</td>\n",
              "      <td>False</td>\n",
              "      <td>False</td>\n",
              "      <td>False</td>\n",
              "      <td>False</td>\n",
              "      <td>False</td>\n",
              "    </tr>\n",
              "    <tr>\n",
              "      <th>4</th>\n",
              "      <td>False</td>\n",
              "      <td>False</td>\n",
              "      <td>False</td>\n",
              "      <td>False</td>\n",
              "      <td>False</td>\n",
              "      <td>False</td>\n",
              "      <td>False</td>\n",
              "      <td>False</td>\n",
              "      <td>False</td>\n",
              "    </tr>\n",
              "    <tr>\n",
              "      <th>...</th>\n",
              "      <td>...</td>\n",
              "      <td>...</td>\n",
              "      <td>...</td>\n",
              "      <td>...</td>\n",
              "      <td>...</td>\n",
              "      <td>...</td>\n",
              "      <td>...</td>\n",
              "      <td>...</td>\n",
              "      <td>...</td>\n",
              "    </tr>\n",
              "    <tr>\n",
              "      <th>687</th>\n",
              "      <td>False</td>\n",
              "      <td>False</td>\n",
              "      <td>False</td>\n",
              "      <td>False</td>\n",
              "      <td>False</td>\n",
              "      <td>True</td>\n",
              "      <td>False</td>\n",
              "      <td>False</td>\n",
              "      <td>False</td>\n",
              "    </tr>\n",
              "    <tr>\n",
              "      <th>688</th>\n",
              "      <td>False</td>\n",
              "      <td>False</td>\n",
              "      <td>False</td>\n",
              "      <td>False</td>\n",
              "      <td>False</td>\n",
              "      <td>True</td>\n",
              "      <td>False</td>\n",
              "      <td>False</td>\n",
              "      <td>False</td>\n",
              "    </tr>\n",
              "    <tr>\n",
              "      <th>689</th>\n",
              "      <td>False</td>\n",
              "      <td>False</td>\n",
              "      <td>False</td>\n",
              "      <td>False</td>\n",
              "      <td>False</td>\n",
              "      <td>True</td>\n",
              "      <td>False</td>\n",
              "      <td>False</td>\n",
              "      <td>False</td>\n",
              "    </tr>\n",
              "    <tr>\n",
              "      <th>690</th>\n",
              "      <td>False</td>\n",
              "      <td>False</td>\n",
              "      <td>False</td>\n",
              "      <td>False</td>\n",
              "      <td>False</td>\n",
              "      <td>True</td>\n",
              "      <td>False</td>\n",
              "      <td>False</td>\n",
              "      <td>False</td>\n",
              "    </tr>\n",
              "    <tr>\n",
              "      <th>691</th>\n",
              "      <td>False</td>\n",
              "      <td>False</td>\n",
              "      <td>False</td>\n",
              "      <td>False</td>\n",
              "      <td>False</td>\n",
              "      <td>True</td>\n",
              "      <td>False</td>\n",
              "      <td>False</td>\n",
              "      <td>False</td>\n",
              "    </tr>\n",
              "  </tbody>\n",
              "</table>\n",
              "<p>692 rows × 9 columns</p>\n",
              "</div>\n",
              "      <button class=\"colab-df-convert\" onclick=\"convertToInteractive('df-0907c341-786b-4ca1-a505-67307677fc4f')\"\n",
              "              title=\"Convert this dataframe to an interactive table.\"\n",
              "              style=\"display:none;\">\n",
              "\n",
              "  <svg xmlns=\"http://www.w3.org/2000/svg\" height=\"24px\"viewBox=\"0 0 24 24\"\n",
              "       width=\"24px\">\n",
              "    <path d=\"M0 0h24v24H0V0z\" fill=\"none\"/>\n",
              "    <path d=\"M18.56 5.44l.94 2.06.94-2.06 2.06-.94-2.06-.94-.94-2.06-.94 2.06-2.06.94zm-11 1L8.5 8.5l.94-2.06 2.06-.94-2.06-.94L8.5 2.5l-.94 2.06-2.06.94zm10 10l.94 2.06.94-2.06 2.06-.94-2.06-.94-.94-2.06-.94 2.06-2.06.94z\"/><path d=\"M17.41 7.96l-1.37-1.37c-.4-.4-.92-.59-1.43-.59-.52 0-1.04.2-1.43.59L10.3 9.45l-7.72 7.72c-.78.78-.78 2.05 0 2.83L4 21.41c.39.39.9.59 1.41.59.51 0 1.02-.2 1.41-.59l7.78-7.78 2.81-2.81c.8-.78.8-2.07 0-2.86zM5.41 20L4 18.59l7.72-7.72 1.47 1.35L5.41 20z\"/>\n",
              "  </svg>\n",
              "      </button>\n",
              "\n",
              "\n",
              "\n",
              "    <div id=\"df-ba1fa214-0780-4f29-aa2e-9118efdaf0e0\">\n",
              "      <button class=\"colab-df-quickchart\" onclick=\"quickchart('df-ba1fa214-0780-4f29-aa2e-9118efdaf0e0')\"\n",
              "              title=\"Suggest charts.\"\n",
              "              style=\"display:none;\">\n",
              "\n",
              "<svg xmlns=\"http://www.w3.org/2000/svg\" height=\"24px\"viewBox=\"0 0 24 24\"\n",
              "     width=\"24px\">\n",
              "    <g>\n",
              "        <path d=\"M19 3H5c-1.1 0-2 .9-2 2v14c0 1.1.9 2 2 2h14c1.1 0 2-.9 2-2V5c0-1.1-.9-2-2-2zM9 17H7v-7h2v7zm4 0h-2V7h2v10zm4 0h-2v-4h2v4z\"/>\n",
              "    </g>\n",
              "</svg>\n",
              "      </button>\n",
              "    </div>\n",
              "\n",
              "<style>\n",
              "  .colab-df-quickchart {\n",
              "    background-color: #E8F0FE;\n",
              "    border: none;\n",
              "    border-radius: 50%;\n",
              "    cursor: pointer;\n",
              "    display: none;\n",
              "    fill: #1967D2;\n",
              "    height: 32px;\n",
              "    padding: 0 0 0 0;\n",
              "    width: 32px;\n",
              "  }\n",
              "\n",
              "  .colab-df-quickchart:hover {\n",
              "    background-color: #E2EBFA;\n",
              "    box-shadow: 0px 1px 2px rgba(60, 64, 67, 0.3), 0px 1px 3px 1px rgba(60, 64, 67, 0.15);\n",
              "    fill: #174EA6;\n",
              "  }\n",
              "\n",
              "  [theme=dark] .colab-df-quickchart {\n",
              "    background-color: #3B4455;\n",
              "    fill: #D2E3FC;\n",
              "  }\n",
              "\n",
              "  [theme=dark] .colab-df-quickchart:hover {\n",
              "    background-color: #434B5C;\n",
              "    box-shadow: 0px 1px 3px 1px rgba(0, 0, 0, 0.15);\n",
              "    filter: drop-shadow(0px 1px 2px rgba(0, 0, 0, 0.3));\n",
              "    fill: #FFFFFF;\n",
              "  }\n",
              "</style>\n",
              "\n",
              "    <script>\n",
              "      async function quickchart(key) {\n",
              "        const containerElement = document.querySelector('#' + key);\n",
              "        const charts = await google.colab.kernel.invokeFunction(\n",
              "            'suggestCharts', [key], {});\n",
              "      }\n",
              "    </script>\n",
              "\n",
              "      <script>\n",
              "\n",
              "function displayQuickchartButton(domScope) {\n",
              "  let quickchartButtonEl =\n",
              "    domScope.querySelector('#df-ba1fa214-0780-4f29-aa2e-9118efdaf0e0 button.colab-df-quickchart');\n",
              "  quickchartButtonEl.style.display =\n",
              "    google.colab.kernel.accessAllowed ? 'block' : 'none';\n",
              "}\n",
              "\n",
              "        displayQuickchartButton(document);\n",
              "      </script>\n",
              "      <style>\n",
              "    .colab-df-container {\n",
              "      display:flex;\n",
              "      flex-wrap:wrap;\n",
              "      gap: 12px;\n",
              "    }\n",
              "\n",
              "    .colab-df-convert {\n",
              "      background-color: #E8F0FE;\n",
              "      border: none;\n",
              "      border-radius: 50%;\n",
              "      cursor: pointer;\n",
              "      display: none;\n",
              "      fill: #1967D2;\n",
              "      height: 32px;\n",
              "      padding: 0 0 0 0;\n",
              "      width: 32px;\n",
              "    }\n",
              "\n",
              "    .colab-df-convert:hover {\n",
              "      background-color: #E2EBFA;\n",
              "      box-shadow: 0px 1px 2px rgba(60, 64, 67, 0.3), 0px 1px 3px 1px rgba(60, 64, 67, 0.15);\n",
              "      fill: #174EA6;\n",
              "    }\n",
              "\n",
              "    [theme=dark] .colab-df-convert {\n",
              "      background-color: #3B4455;\n",
              "      fill: #D2E3FC;\n",
              "    }\n",
              "\n",
              "    [theme=dark] .colab-df-convert:hover {\n",
              "      background-color: #434B5C;\n",
              "      box-shadow: 0px 1px 3px 1px rgba(0, 0, 0, 0.15);\n",
              "      filter: drop-shadow(0px 1px 2px rgba(0, 0, 0, 0.3));\n",
              "      fill: #FFFFFF;\n",
              "    }\n",
              "  </style>\n",
              "\n",
              "      <script>\n",
              "        const buttonEl =\n",
              "          document.querySelector('#df-0907c341-786b-4ca1-a505-67307677fc4f button.colab-df-convert');\n",
              "        buttonEl.style.display =\n",
              "          google.colab.kernel.accessAllowed ? 'block' : 'none';\n",
              "\n",
              "        async function convertToInteractive(key) {\n",
              "          const element = document.querySelector('#df-0907c341-786b-4ca1-a505-67307677fc4f');\n",
              "          const dataTable =\n",
              "            await google.colab.kernel.invokeFunction('convertToInteractive',\n",
              "                                                     [key], {});\n",
              "          if (!dataTable) return;\n",
              "\n",
              "          const docLinkHtml = 'Like what you see? Visit the ' +\n",
              "            '<a target=\"_blank\" href=https://colab.research.google.com/notebooks/data_table.ipynb>data table notebook</a>'\n",
              "            + ' to learn more about interactive tables.';\n",
              "          element.innerHTML = '';\n",
              "          dataTable['output_type'] = 'display_data';\n",
              "          await google.colab.output.renderOutput(dataTable, element);\n",
              "          const docLink = document.createElement('div');\n",
              "          docLink.innerHTML = docLinkHtml;\n",
              "          element.appendChild(docLink);\n",
              "        }\n",
              "      </script>\n",
              "    </div>\n",
              "  </div>\n"
            ]
          },
          "metadata": {},
          "execution_count": 23
        }
      ]
    },
    {
      "cell_type": "code",
      "source": [
        "data1.isnull().any() #.any() เอาค่าความจริงใน columns มา or ทั้งหมด"
      ],
      "metadata": {
        "colab": {
          "base_uri": "https://localhost:8080/"
        },
        "id": "smUz_wTH_wI5",
        "outputId": "a7cb556f-284b-42f3-84bf-117c8f1db02f"
      },
      "execution_count": null,
      "outputs": [
        {
          "output_type": "execute_result",
          "data": {
            "text/plain": [
              "Budget_resource         False\n",
              "Issue_No                False\n",
              "Fiscal_year             False\n",
              "Department_code         False\n",
              "Department              False\n",
              "Core_budget_code         True\n",
              "Expenditure_category    False\n",
              "Item_name               False\n",
              "Approved_buget          False\n",
              "dtype: bool"
            ]
          },
          "metadata": {},
          "execution_count": 24
        }
      ]
    },
    {
      "cell_type": "code",
      "source": [
        "data1.isnull().any().any()"
      ],
      "metadata": {
        "id": "qB9ygWB5DtJn",
        "outputId": "19e32139-47b4-4c1d-bf23-b24412238f34",
        "colab": {
          "base_uri": "https://localhost:8080/"
        }
      },
      "execution_count": null,
      "outputs": [
        {
          "output_type": "execute_result",
          "data": {
            "text/plain": [
              "True"
            ]
          },
          "metadata": {},
          "execution_count": 25
        }
      ]
    },
    {
      "cell_type": "markdown",
      "source": [
        "#การจัดการ missing value\n",
        "* ลบ record ที่เป็น missing (dropna)\n",
        "*   แทนที่ ค่า missing ด้วยคำที่เหมาะสม mean,defalt,category-unknown (fillna)\n",
        "*   ใช้คำจาก column อื่นๆช่วยประมาณค่า ค่าใน column ที่หายไป (regression, deep learning,etc)(fillna)"
      ],
      "metadata": {
        "id": "jyiYW41IFcQm"
      }
    },
    {
      "cell_type": "markdown",
      "source": [
        "#Nan\n",
        "#Null\n",
        "#NA"
      ],
      "metadata": {
        "id": "y6EjluNkFOKQ"
      }
    },
    {
      "cell_type": "code",
      "source": [
        "data1.shape"
      ],
      "metadata": {
        "id": "gOg4CqP1FugT",
        "outputId": "6090a305-7c60-4f96-c110-c696c10f658d",
        "colab": {
          "base_uri": "https://localhost:8080/"
        }
      },
      "execution_count": null,
      "outputs": [
        {
          "output_type": "execute_result",
          "data": {
            "text/plain": [
              "(692, 9)"
            ]
          },
          "metadata": {},
          "execution_count": 26
        }
      ]
    },
    {
      "cell_type": "code",
      "source": [
        "data1.dropna().shape"
      ],
      "metadata": {
        "id": "B0sROhb7Fqpy",
        "outputId": "d21edc1d-857b-4542-c38b-92bb40439666",
        "colab": {
          "base_uri": "https://localhost:8080/"
        }
      },
      "execution_count": null,
      "outputs": [
        {
          "output_type": "execute_result",
          "data": {
            "text/plain": [
              "(266, 9)"
            ]
          },
          "metadata": {},
          "execution_count": 27
        }
      ]
    },
    {
      "cell_type": "code",
      "source": [
        "data1.dropna(subset=['Fiscal_year']).shape"
      ],
      "metadata": {
        "id": "-qdYdVAWHsYp",
        "outputId": "0a47a397-522f-414d-c814-1d7d4f2a3aac",
        "colab": {
          "base_uri": "https://localhost:8080/"
        }
      },
      "execution_count": null,
      "outputs": [
        {
          "output_type": "execute_result",
          "data": {
            "text/plain": [
              "(692, 9)"
            ]
          },
          "metadata": {},
          "execution_count": 28
        }
      ]
    },
    {
      "cell_type": "code",
      "source": [
        "data1.dropna(subset=['Fiscal_year'])"
      ],
      "metadata": {
        "id": "WVbVNrBrIvm2",
        "outputId": "0236fa6e-f761-4507-c999-9801639e58bf",
        "colab": {
          "base_uri": "https://localhost:8080/",
          "height": 424
        }
      },
      "execution_count": null,
      "outputs": [
        {
          "output_type": "execute_result",
          "data": {
            "text/plain": [
              "    Budget_resource  Issue_No  Fiscal_year  Department_code  \\\n",
              "0         งบประจำปี         0           62         11000000   \n",
              "1         งบประจำปี         0           62         11000000   \n",
              "2         งบประจำปี         0           62         11000000   \n",
              "3         งบประจำปี         0           62         11000000   \n",
              "4         งบประจำปี         0           62         11000000   \n",
              "..              ...       ...          ...              ...   \n",
              "687     งบเพิ่มเติม         1           66         50460000   \n",
              "688     งบเพิ่มเติม         1           66         50460000   \n",
              "689     งบเพิ่มเติม         1           66         50460000   \n",
              "690     งบเพิ่มเติม         1           66         50460000   \n",
              "691     งบเพิ่มเติม         1           66         50500000   \n",
              "\n",
              "               Department                                   Core_budget_code  \\\n",
              "0        สำนักการระบายน้ำ  12-เงินสำรองจ่ายทั่วไป กรณีค่าใช้จ่ายต่างๆ เกี...   \n",
              "1        สำนักการระบายน้ำ  12-เงินสำรองจ่ายทั่วไป กรณีค่าใช้จ่ายต่างๆ เกี...   \n",
              "2        สำนักการระบายน้ำ  12-เงินสำรองจ่ายทั่วไป กรณีค่าใช้จ่ายต่างๆ เกี...   \n",
              "3        สำนักการระบายน้ำ  12-เงินสำรองจ่ายทั่วไป กรณีค่าใช้จ่ายต่างๆ เกี...   \n",
              "4        สำนักการระบายน้ำ  12-เงินสำรองจ่ายทั่วไป กรณีค่าใช้จ่ายต่างๆ เกี...   \n",
              "..                    ...                                                ...   \n",
              "687  สำนักงานเขตคลองสามวา                                                NaN   \n",
              "688  สำนักงานเขตคลองสามวา                                                NaN   \n",
              "689  สำนักงานเขตคลองสามวา                                                NaN   \n",
              "690  สำนักงานเขตคลองสามวา                                                NaN   \n",
              "691     สำนักงานเขตบางบอน                                                NaN   \n",
              "\n",
              "    Expenditure_category                                          Item_name  \\\n",
              "0                งบลงทุน        ขุดลอกคลองบางกะปิจากคลองสามเสนถึงคลองแสนแสบ   \n",
              "1                งบลงทุน  ขุดลอกคลองทรงกระเทียมจากคลองลาดพร้าวถึงถนนโชคช...   \n",
              "2                งบลงทุน          ขุดลอกคลองเป้งจากคลองแสนแสบถึงซอยเจริญสุข   \n",
              "3                งบลงทุน  ขุดลอกคลองลำพังพวยจากถนนศรีบูรพาถึงสถานีสูบน้ำ...   \n",
              "4                งบลงทุน  ขุดลอกบึงรางเข้จากคลองพระยาราชมนตรีถึงถนนบางขุ...   \n",
              "..                   ...                                                ...   \n",
              "687              งบลงทุน                                 ขุดลอกคลองผักกะเฉด   \n",
              "688              งบลงทุน                            ขุดลอกคลองบึงทรายกองดิน   \n",
              "689              งบลงทุน                                  ขุดลอกลำรางซาฟารี   \n",
              "690              งบลงทุน                                ขุดลอกลำรางตาจันทร์   \n",
              "691              งบลงทุน          ขุดลอกคลองบางบอนต่อจากของเดิมถึงคลองนายผล   \n",
              "\n",
              "     Approved_buget  \n",
              "0           1193000  \n",
              "1           1100000  \n",
              "2           3075000  \n",
              "3           6240000  \n",
              "4           2685000  \n",
              "..              ...  \n",
              "687         3686000  \n",
              "688         2575000  \n",
              "689          689000  \n",
              "690          464000  \n",
              "691         7578000  \n",
              "\n",
              "[692 rows x 9 columns]"
            ],
            "text/html": [
              "\n",
              "\n",
              "  <div id=\"df-f4112c0c-a1de-4702-b6f5-86a63db6d791\">\n",
              "    <div class=\"colab-df-container\">\n",
              "      <div>\n",
              "<style scoped>\n",
              "    .dataframe tbody tr th:only-of-type {\n",
              "        vertical-align: middle;\n",
              "    }\n",
              "\n",
              "    .dataframe tbody tr th {\n",
              "        vertical-align: top;\n",
              "    }\n",
              "\n",
              "    .dataframe thead th {\n",
              "        text-align: right;\n",
              "    }\n",
              "</style>\n",
              "<table border=\"1\" class=\"dataframe\">\n",
              "  <thead>\n",
              "    <tr style=\"text-align: right;\">\n",
              "      <th></th>\n",
              "      <th>Budget_resource</th>\n",
              "      <th>Issue_No</th>\n",
              "      <th>Fiscal_year</th>\n",
              "      <th>Department_code</th>\n",
              "      <th>Department</th>\n",
              "      <th>Core_budget_code</th>\n",
              "      <th>Expenditure_category</th>\n",
              "      <th>Item_name</th>\n",
              "      <th>Approved_buget</th>\n",
              "    </tr>\n",
              "  </thead>\n",
              "  <tbody>\n",
              "    <tr>\n",
              "      <th>0</th>\n",
              "      <td>งบประจำปี</td>\n",
              "      <td>0</td>\n",
              "      <td>62</td>\n",
              "      <td>11000000</td>\n",
              "      <td>สำนักการระบายน้ำ</td>\n",
              "      <td>12-เงินสำรองจ่ายทั่วไป กรณีค่าใช้จ่ายต่างๆ เกี...</td>\n",
              "      <td>งบลงทุน</td>\n",
              "      <td>ขุดลอกคลองบางกะปิจากคลองสามเสนถึงคลองแสนแสบ</td>\n",
              "      <td>1193000</td>\n",
              "    </tr>\n",
              "    <tr>\n",
              "      <th>1</th>\n",
              "      <td>งบประจำปี</td>\n",
              "      <td>0</td>\n",
              "      <td>62</td>\n",
              "      <td>11000000</td>\n",
              "      <td>สำนักการระบายน้ำ</td>\n",
              "      <td>12-เงินสำรองจ่ายทั่วไป กรณีค่าใช้จ่ายต่างๆ เกี...</td>\n",
              "      <td>งบลงทุน</td>\n",
              "      <td>ขุดลอกคลองทรงกระเทียมจากคลองลาดพร้าวถึงถนนโชคช...</td>\n",
              "      <td>1100000</td>\n",
              "    </tr>\n",
              "    <tr>\n",
              "      <th>2</th>\n",
              "      <td>งบประจำปี</td>\n",
              "      <td>0</td>\n",
              "      <td>62</td>\n",
              "      <td>11000000</td>\n",
              "      <td>สำนักการระบายน้ำ</td>\n",
              "      <td>12-เงินสำรองจ่ายทั่วไป กรณีค่าใช้จ่ายต่างๆ เกี...</td>\n",
              "      <td>งบลงทุน</td>\n",
              "      <td>ขุดลอกคลองเป้งจากคลองแสนแสบถึงซอยเจริญสุข</td>\n",
              "      <td>3075000</td>\n",
              "    </tr>\n",
              "    <tr>\n",
              "      <th>3</th>\n",
              "      <td>งบประจำปี</td>\n",
              "      <td>0</td>\n",
              "      <td>62</td>\n",
              "      <td>11000000</td>\n",
              "      <td>สำนักการระบายน้ำ</td>\n",
              "      <td>12-เงินสำรองจ่ายทั่วไป กรณีค่าใช้จ่ายต่างๆ เกี...</td>\n",
              "      <td>งบลงทุน</td>\n",
              "      <td>ขุดลอกคลองลำพังพวยจากถนนศรีบูรพาถึงสถานีสูบน้ำ...</td>\n",
              "      <td>6240000</td>\n",
              "    </tr>\n",
              "    <tr>\n",
              "      <th>4</th>\n",
              "      <td>งบประจำปี</td>\n",
              "      <td>0</td>\n",
              "      <td>62</td>\n",
              "      <td>11000000</td>\n",
              "      <td>สำนักการระบายน้ำ</td>\n",
              "      <td>12-เงินสำรองจ่ายทั่วไป กรณีค่าใช้จ่ายต่างๆ เกี...</td>\n",
              "      <td>งบลงทุน</td>\n",
              "      <td>ขุดลอกบึงรางเข้จากคลองพระยาราชมนตรีถึงถนนบางขุ...</td>\n",
              "      <td>2685000</td>\n",
              "    </tr>\n",
              "    <tr>\n",
              "      <th>...</th>\n",
              "      <td>...</td>\n",
              "      <td>...</td>\n",
              "      <td>...</td>\n",
              "      <td>...</td>\n",
              "      <td>...</td>\n",
              "      <td>...</td>\n",
              "      <td>...</td>\n",
              "      <td>...</td>\n",
              "      <td>...</td>\n",
              "    </tr>\n",
              "    <tr>\n",
              "      <th>687</th>\n",
              "      <td>งบเพิ่มเติม</td>\n",
              "      <td>1</td>\n",
              "      <td>66</td>\n",
              "      <td>50460000</td>\n",
              "      <td>สำนักงานเขตคลองสามวา</td>\n",
              "      <td>NaN</td>\n",
              "      <td>งบลงทุน</td>\n",
              "      <td>ขุดลอกคลองผักกะเฉด</td>\n",
              "      <td>3686000</td>\n",
              "    </tr>\n",
              "    <tr>\n",
              "      <th>688</th>\n",
              "      <td>งบเพิ่มเติม</td>\n",
              "      <td>1</td>\n",
              "      <td>66</td>\n",
              "      <td>50460000</td>\n",
              "      <td>สำนักงานเขตคลองสามวา</td>\n",
              "      <td>NaN</td>\n",
              "      <td>งบลงทุน</td>\n",
              "      <td>ขุดลอกคลองบึงทรายกองดิน</td>\n",
              "      <td>2575000</td>\n",
              "    </tr>\n",
              "    <tr>\n",
              "      <th>689</th>\n",
              "      <td>งบเพิ่มเติม</td>\n",
              "      <td>1</td>\n",
              "      <td>66</td>\n",
              "      <td>50460000</td>\n",
              "      <td>สำนักงานเขตคลองสามวา</td>\n",
              "      <td>NaN</td>\n",
              "      <td>งบลงทุน</td>\n",
              "      <td>ขุดลอกลำรางซาฟารี</td>\n",
              "      <td>689000</td>\n",
              "    </tr>\n",
              "    <tr>\n",
              "      <th>690</th>\n",
              "      <td>งบเพิ่มเติม</td>\n",
              "      <td>1</td>\n",
              "      <td>66</td>\n",
              "      <td>50460000</td>\n",
              "      <td>สำนักงานเขตคลองสามวา</td>\n",
              "      <td>NaN</td>\n",
              "      <td>งบลงทุน</td>\n",
              "      <td>ขุดลอกลำรางตาจันทร์</td>\n",
              "      <td>464000</td>\n",
              "    </tr>\n",
              "    <tr>\n",
              "      <th>691</th>\n",
              "      <td>งบเพิ่มเติม</td>\n",
              "      <td>1</td>\n",
              "      <td>66</td>\n",
              "      <td>50500000</td>\n",
              "      <td>สำนักงานเขตบางบอน</td>\n",
              "      <td>NaN</td>\n",
              "      <td>งบลงทุน</td>\n",
              "      <td>ขุดลอกคลองบางบอนต่อจากของเดิมถึงคลองนายผล</td>\n",
              "      <td>7578000</td>\n",
              "    </tr>\n",
              "  </tbody>\n",
              "</table>\n",
              "<p>692 rows × 9 columns</p>\n",
              "</div>\n",
              "      <button class=\"colab-df-convert\" onclick=\"convertToInteractive('df-f4112c0c-a1de-4702-b6f5-86a63db6d791')\"\n",
              "              title=\"Convert this dataframe to an interactive table.\"\n",
              "              style=\"display:none;\">\n",
              "\n",
              "  <svg xmlns=\"http://www.w3.org/2000/svg\" height=\"24px\"viewBox=\"0 0 24 24\"\n",
              "       width=\"24px\">\n",
              "    <path d=\"M0 0h24v24H0V0z\" fill=\"none\"/>\n",
              "    <path d=\"M18.56 5.44l.94 2.06.94-2.06 2.06-.94-2.06-.94-.94-2.06-.94 2.06-2.06.94zm-11 1L8.5 8.5l.94-2.06 2.06-.94-2.06-.94L8.5 2.5l-.94 2.06-2.06.94zm10 10l.94 2.06.94-2.06 2.06-.94-2.06-.94-.94-2.06-.94 2.06-2.06.94z\"/><path d=\"M17.41 7.96l-1.37-1.37c-.4-.4-.92-.59-1.43-.59-.52 0-1.04.2-1.43.59L10.3 9.45l-7.72 7.72c-.78.78-.78 2.05 0 2.83L4 21.41c.39.39.9.59 1.41.59.51 0 1.02-.2 1.41-.59l7.78-7.78 2.81-2.81c.8-.78.8-2.07 0-2.86zM5.41 20L4 18.59l7.72-7.72 1.47 1.35L5.41 20z\"/>\n",
              "  </svg>\n",
              "      </button>\n",
              "\n",
              "\n",
              "\n",
              "    <div id=\"df-6f494be1-370e-4fd2-b43a-a0fdf4af4f13\">\n",
              "      <button class=\"colab-df-quickchart\" onclick=\"quickchart('df-6f494be1-370e-4fd2-b43a-a0fdf4af4f13')\"\n",
              "              title=\"Suggest charts.\"\n",
              "              style=\"display:none;\">\n",
              "\n",
              "<svg xmlns=\"http://www.w3.org/2000/svg\" height=\"24px\"viewBox=\"0 0 24 24\"\n",
              "     width=\"24px\">\n",
              "    <g>\n",
              "        <path d=\"M19 3H5c-1.1 0-2 .9-2 2v14c0 1.1.9 2 2 2h14c1.1 0 2-.9 2-2V5c0-1.1-.9-2-2-2zM9 17H7v-7h2v7zm4 0h-2V7h2v10zm4 0h-2v-4h2v4z\"/>\n",
              "    </g>\n",
              "</svg>\n",
              "      </button>\n",
              "    </div>\n",
              "\n",
              "<style>\n",
              "  .colab-df-quickchart {\n",
              "    background-color: #E8F0FE;\n",
              "    border: none;\n",
              "    border-radius: 50%;\n",
              "    cursor: pointer;\n",
              "    display: none;\n",
              "    fill: #1967D2;\n",
              "    height: 32px;\n",
              "    padding: 0 0 0 0;\n",
              "    width: 32px;\n",
              "  }\n",
              "\n",
              "  .colab-df-quickchart:hover {\n",
              "    background-color: #E2EBFA;\n",
              "    box-shadow: 0px 1px 2px rgba(60, 64, 67, 0.3), 0px 1px 3px 1px rgba(60, 64, 67, 0.15);\n",
              "    fill: #174EA6;\n",
              "  }\n",
              "\n",
              "  [theme=dark] .colab-df-quickchart {\n",
              "    background-color: #3B4455;\n",
              "    fill: #D2E3FC;\n",
              "  }\n",
              "\n",
              "  [theme=dark] .colab-df-quickchart:hover {\n",
              "    background-color: #434B5C;\n",
              "    box-shadow: 0px 1px 3px 1px rgba(0, 0, 0, 0.15);\n",
              "    filter: drop-shadow(0px 1px 2px rgba(0, 0, 0, 0.3));\n",
              "    fill: #FFFFFF;\n",
              "  }\n",
              "</style>\n",
              "\n",
              "    <script>\n",
              "      async function quickchart(key) {\n",
              "        const containerElement = document.querySelector('#' + key);\n",
              "        const charts = await google.colab.kernel.invokeFunction(\n",
              "            'suggestCharts', [key], {});\n",
              "      }\n",
              "    </script>\n",
              "\n",
              "      <script>\n",
              "\n",
              "function displayQuickchartButton(domScope) {\n",
              "  let quickchartButtonEl =\n",
              "    domScope.querySelector('#df-6f494be1-370e-4fd2-b43a-a0fdf4af4f13 button.colab-df-quickchart');\n",
              "  quickchartButtonEl.style.display =\n",
              "    google.colab.kernel.accessAllowed ? 'block' : 'none';\n",
              "}\n",
              "\n",
              "        displayQuickchartButton(document);\n",
              "      </script>\n",
              "      <style>\n",
              "    .colab-df-container {\n",
              "      display:flex;\n",
              "      flex-wrap:wrap;\n",
              "      gap: 12px;\n",
              "    }\n",
              "\n",
              "    .colab-df-convert {\n",
              "      background-color: #E8F0FE;\n",
              "      border: none;\n",
              "      border-radius: 50%;\n",
              "      cursor: pointer;\n",
              "      display: none;\n",
              "      fill: #1967D2;\n",
              "      height: 32px;\n",
              "      padding: 0 0 0 0;\n",
              "      width: 32px;\n",
              "    }\n",
              "\n",
              "    .colab-df-convert:hover {\n",
              "      background-color: #E2EBFA;\n",
              "      box-shadow: 0px 1px 2px rgba(60, 64, 67, 0.3), 0px 1px 3px 1px rgba(60, 64, 67, 0.15);\n",
              "      fill: #174EA6;\n",
              "    }\n",
              "\n",
              "    [theme=dark] .colab-df-convert {\n",
              "      background-color: #3B4455;\n",
              "      fill: #D2E3FC;\n",
              "    }\n",
              "\n",
              "    [theme=dark] .colab-df-convert:hover {\n",
              "      background-color: #434B5C;\n",
              "      box-shadow: 0px 1px 3px 1px rgba(0, 0, 0, 0.15);\n",
              "      filter: drop-shadow(0px 1px 2px rgba(0, 0, 0, 0.3));\n",
              "      fill: #FFFFFF;\n",
              "    }\n",
              "  </style>\n",
              "\n",
              "      <script>\n",
              "        const buttonEl =\n",
              "          document.querySelector('#df-f4112c0c-a1de-4702-b6f5-86a63db6d791 button.colab-df-convert');\n",
              "        buttonEl.style.display =\n",
              "          google.colab.kernel.accessAllowed ? 'block' : 'none';\n",
              "\n",
              "        async function convertToInteractive(key) {\n",
              "          const element = document.querySelector('#df-f4112c0c-a1de-4702-b6f5-86a63db6d791');\n",
              "          const dataTable =\n",
              "            await google.colab.kernel.invokeFunction('convertToInteractive',\n",
              "                                                     [key], {});\n",
              "          if (!dataTable) return;\n",
              "\n",
              "          const docLinkHtml = 'Like what you see? Visit the ' +\n",
              "            '<a target=\"_blank\" href=https://colab.research.google.com/notebooks/data_table.ipynb>data table notebook</a>'\n",
              "            + ' to learn more about interactive tables.';\n",
              "          element.innerHTML = '';\n",
              "          dataTable['output_type'] = 'display_data';\n",
              "          await google.colab.output.renderOutput(dataTable, element);\n",
              "          const docLink = document.createElement('div');\n",
              "          docLink.innerHTML = docLinkHtml;\n",
              "          element.appendChild(docLink);\n",
              "        }\n",
              "      </script>\n",
              "    </div>\n",
              "  </div>\n"
            ]
          },
          "metadata": {},
          "execution_count": 29
        }
      ]
    },
    {
      "cell_type": "code",
      "source": [
        "data1.isnull().any()"
      ],
      "metadata": {
        "id": "28TTDCvhIeii",
        "outputId": "deb9fa77-9b55-4089-ea31-5ad5fa14d730",
        "colab": {
          "base_uri": "https://localhost:8080/"
        }
      },
      "execution_count": null,
      "outputs": [
        {
          "output_type": "execute_result",
          "data": {
            "text/plain": [
              "Budget_resource         False\n",
              "Issue_No                False\n",
              "Fiscal_year             False\n",
              "Department_code         False\n",
              "Department              False\n",
              "Core_budget_code         True\n",
              "Expenditure_category    False\n",
              "Item_name               False\n",
              "Approved_buget          False\n",
              "dtype: bool"
            ]
          },
          "metadata": {},
          "execution_count": 30
        }
      ]
    },
    {
      "cell_type": "code",
      "source": [
        "data1.dropna(subset=['Fiscal_year'],inplace = True)"
      ],
      "metadata": {
        "id": "Jm9PJRQ3JMed"
      },
      "execution_count": null,
      "outputs": []
    },
    {
      "cell_type": "code",
      "source": [
        "data1.isnull().any()"
      ],
      "metadata": {
        "id": "D8oudbg_JhjF",
        "outputId": "957abeb0-fb55-43f7-aa16-d1be9838e0a7",
        "colab": {
          "base_uri": "https://localhost:8080/"
        }
      },
      "execution_count": null,
      "outputs": [
        {
          "output_type": "execute_result",
          "data": {
            "text/plain": [
              "Budget_resource         False\n",
              "Issue_No                False\n",
              "Fiscal_year             False\n",
              "Department_code         False\n",
              "Department              False\n",
              "Core_budget_code         True\n",
              "Expenditure_category    False\n",
              "Item_name               False\n",
              "Approved_buget          False\n",
              "dtype: bool"
            ]
          },
          "metadata": {},
          "execution_count": 32
        }
      ]
    },
    {
      "cell_type": "markdown",
      "source": [
        "##fill NA"
      ],
      "metadata": {
        "id": "yFwKkQmmJvr1"
      }
    },
    {
      "cell_type": "code",
      "source": [
        "set(data1['Core_budget_code'])"
      ],
      "metadata": {
        "id": "7p8zePidJx7b",
        "outputId": "027400ec-694c-45e7-b360-46025ea8d663",
        "colab": {
          "base_uri": "https://localhost:8080/"
        }
      },
      "execution_count": null,
      "outputs": [
        {
          "output_type": "execute_result",
          "data": {
            "text/plain": [
              "{'-',\n",
              " '12-เงินสำรองจ่ายทั่วไป กรณีค่าใช้จ่ายต่างๆ เกี่ยวกับน้ำท่วม',\n",
              " '17-เงินสำรองจ่ายทั่วไป กรณีค่าใช้จ่ายเพื่อการพัฒนากรุงเทพมหานคร',\n",
              " '28-เงินสำรองค่าใช้จ่าย ในการพัฒนาเขต',\n",
              " nan}"
            ]
          },
          "metadata": {},
          "execution_count": 33
        }
      ]
    },
    {
      "cell_type": "code",
      "source": [
        "data1.fillna('-',inplace=True)"
      ],
      "metadata": {
        "id": "aN6s24T0LD0M"
      },
      "execution_count": null,
      "outputs": []
    },
    {
      "cell_type": "code",
      "source": [
        "set(data1['Core_budget_code'])"
      ],
      "metadata": {
        "id": "JO2NhKNvLVlJ",
        "outputId": "57ccb658-bc82-4d8e-a3b0-efab4990c7b4",
        "colab": {
          "base_uri": "https://localhost:8080/"
        }
      },
      "execution_count": null,
      "outputs": [
        {
          "output_type": "execute_result",
          "data": {
            "text/plain": [
              "{'-',\n",
              " '12-เงินสำรองจ่ายทั่วไป กรณีค่าใช้จ่ายต่างๆ เกี่ยวกับน้ำท่วม',\n",
              " '17-เงินสำรองจ่ายทั่วไป กรณีค่าใช้จ่ายเพื่อการพัฒนากรุงเทพมหานคร',\n",
              " '28-เงินสำรองค่าใช้จ่าย ในการพัฒนาเขต'}"
            ]
          },
          "metadata": {},
          "execution_count": 35
        }
      ]
    },
    {
      "cell_type": "code",
      "source": [
        "data1.isnull().any()"
      ],
      "metadata": {
        "id": "30d6NU1hLgNo",
        "outputId": "48dc9abe-2a2a-40d1-e752-0bd76d555f2e",
        "colab": {
          "base_uri": "https://localhost:8080/"
        }
      },
      "execution_count": null,
      "outputs": [
        {
          "output_type": "execute_result",
          "data": {
            "text/plain": [
              "Budget_resource         False\n",
              "Issue_No                False\n",
              "Fiscal_year             False\n",
              "Department_code         False\n",
              "Department              False\n",
              "Core_budget_code        False\n",
              "Expenditure_category    False\n",
              "Item_name               False\n",
              "Approved_buget          False\n",
              "dtype: bool"
            ]
          },
          "metadata": {},
          "execution_count": 36
        }
      ]
    },
    {
      "cell_type": "markdown",
      "source": [
        "#HW3\n",
        "1. รายการที่แพงและถูกที่สุดคือรายการไหน\n",
        "2. รายการขุดลอกคูคลองของ 'สำนักงานเขตคลองสาน' และ 'สำนักงานเขตคลองสามวา'\n",
        "3. จากข้อ 2 เขตไหนใช้งบประมาณเยอะกว่ากัน\n",
        "4. Core Budget ไหน ('12-เงินสำรองจ่ายทั่วไป กรณีค่าใช้จ่ายต่างๆ เกี่ยวกับน้ำท่วม', '17-เงินสำรองจ่ายทั่วไป กรณีค่าใช้จ่ายเพื่อการพัฒนากรุงเทพมหานคร','28-เงินสำรองค่าใช้จ่าย ในการพัฒนาเขต') มีค่าเฉลี่ยงบประมาณที่ถูกอนุมัติสูงที่สุด\n"
      ],
      "metadata": {
        "id": "cV8vxRo_L6ZJ"
      }
    },
    {
      "cell_type": "code",
      "source": [
        "import pandas as pd"
      ],
      "metadata": {
        "id": "8OpGfD9NCZ8i"
      },
      "execution_count": null,
      "outputs": []
    },
    {
      "cell_type": "code",
      "source": [
        "data1.describe()"
      ],
      "metadata": {
        "id": "tHrWOBiDCe2G",
        "outputId": "bafdaca2-f0f0-454e-eca2-0128535b33aa",
        "colab": {
          "base_uri": "https://localhost:8080/",
          "height": 300
        }
      },
      "execution_count": null,
      "outputs": [
        {
          "output_type": "execute_result",
          "data": {
            "text/plain": [
              "         Issue_No  Fiscal_year  Department_code  Approved_buget\n",
              "count  692.000000   692.000000     6.920000e+02    6.920000e+02\n",
              "mean     0.333815    64.543353     4.534202e+07    1.482811e+06\n",
              "std      0.474972     1.476149     1.303279e+07    2.464625e+06\n",
              "min      0.000000    62.000000     1.100000e+07    0.000000e+00\n",
              "25%      0.000000    63.000000     5.013000e+07    4.100000e+05\n",
              "50%      0.000000    65.000000     5.023000e+07    5.980000e+05\n",
              "75%      1.000000    66.000000     5.036000e+07    1.628250e+06\n",
              "max      2.000000    66.000000     5.050000e+07    2.850000e+07"
            ],
            "text/html": [
              "\n",
              "\n",
              "  <div id=\"df-c998620d-c97e-4bb8-b867-ccc6a8b4bb4c\">\n",
              "    <div class=\"colab-df-container\">\n",
              "      <div>\n",
              "<style scoped>\n",
              "    .dataframe tbody tr th:only-of-type {\n",
              "        vertical-align: middle;\n",
              "    }\n",
              "\n",
              "    .dataframe tbody tr th {\n",
              "        vertical-align: top;\n",
              "    }\n",
              "\n",
              "    .dataframe thead th {\n",
              "        text-align: right;\n",
              "    }\n",
              "</style>\n",
              "<table border=\"1\" class=\"dataframe\">\n",
              "  <thead>\n",
              "    <tr style=\"text-align: right;\">\n",
              "      <th></th>\n",
              "      <th>Issue_No</th>\n",
              "      <th>Fiscal_year</th>\n",
              "      <th>Department_code</th>\n",
              "      <th>Approved_buget</th>\n",
              "    </tr>\n",
              "  </thead>\n",
              "  <tbody>\n",
              "    <tr>\n",
              "      <th>count</th>\n",
              "      <td>692.000000</td>\n",
              "      <td>692.000000</td>\n",
              "      <td>6.920000e+02</td>\n",
              "      <td>6.920000e+02</td>\n",
              "    </tr>\n",
              "    <tr>\n",
              "      <th>mean</th>\n",
              "      <td>0.333815</td>\n",
              "      <td>64.543353</td>\n",
              "      <td>4.534202e+07</td>\n",
              "      <td>1.482811e+06</td>\n",
              "    </tr>\n",
              "    <tr>\n",
              "      <th>std</th>\n",
              "      <td>0.474972</td>\n",
              "      <td>1.476149</td>\n",
              "      <td>1.303279e+07</td>\n",
              "      <td>2.464625e+06</td>\n",
              "    </tr>\n",
              "    <tr>\n",
              "      <th>min</th>\n",
              "      <td>0.000000</td>\n",
              "      <td>62.000000</td>\n",
              "      <td>1.100000e+07</td>\n",
              "      <td>0.000000e+00</td>\n",
              "    </tr>\n",
              "    <tr>\n",
              "      <th>25%</th>\n",
              "      <td>0.000000</td>\n",
              "      <td>63.000000</td>\n",
              "      <td>5.013000e+07</td>\n",
              "      <td>4.100000e+05</td>\n",
              "    </tr>\n",
              "    <tr>\n",
              "      <th>50%</th>\n",
              "      <td>0.000000</td>\n",
              "      <td>65.000000</td>\n",
              "      <td>5.023000e+07</td>\n",
              "      <td>5.980000e+05</td>\n",
              "    </tr>\n",
              "    <tr>\n",
              "      <th>75%</th>\n",
              "      <td>1.000000</td>\n",
              "      <td>66.000000</td>\n",
              "      <td>5.036000e+07</td>\n",
              "      <td>1.628250e+06</td>\n",
              "    </tr>\n",
              "    <tr>\n",
              "      <th>max</th>\n",
              "      <td>2.000000</td>\n",
              "      <td>66.000000</td>\n",
              "      <td>5.050000e+07</td>\n",
              "      <td>2.850000e+07</td>\n",
              "    </tr>\n",
              "  </tbody>\n",
              "</table>\n",
              "</div>\n",
              "      <button class=\"colab-df-convert\" onclick=\"convertToInteractive('df-c998620d-c97e-4bb8-b867-ccc6a8b4bb4c')\"\n",
              "              title=\"Convert this dataframe to an interactive table.\"\n",
              "              style=\"display:none;\">\n",
              "\n",
              "  <svg xmlns=\"http://www.w3.org/2000/svg\" height=\"24px\"viewBox=\"0 0 24 24\"\n",
              "       width=\"24px\">\n",
              "    <path d=\"M0 0h24v24H0V0z\" fill=\"none\"/>\n",
              "    <path d=\"M18.56 5.44l.94 2.06.94-2.06 2.06-.94-2.06-.94-.94-2.06-.94 2.06-2.06.94zm-11 1L8.5 8.5l.94-2.06 2.06-.94-2.06-.94L8.5 2.5l-.94 2.06-2.06.94zm10 10l.94 2.06.94-2.06 2.06-.94-2.06-.94-.94-2.06-.94 2.06-2.06.94z\"/><path d=\"M17.41 7.96l-1.37-1.37c-.4-.4-.92-.59-1.43-.59-.52 0-1.04.2-1.43.59L10.3 9.45l-7.72 7.72c-.78.78-.78 2.05 0 2.83L4 21.41c.39.39.9.59 1.41.59.51 0 1.02-.2 1.41-.59l7.78-7.78 2.81-2.81c.8-.78.8-2.07 0-2.86zM5.41 20L4 18.59l7.72-7.72 1.47 1.35L5.41 20z\"/>\n",
              "  </svg>\n",
              "      </button>\n",
              "\n",
              "\n",
              "\n",
              "    <div id=\"df-de79034a-6807-45bf-b085-17b566635561\">\n",
              "      <button class=\"colab-df-quickchart\" onclick=\"quickchart('df-de79034a-6807-45bf-b085-17b566635561')\"\n",
              "              title=\"Suggest charts.\"\n",
              "              style=\"display:none;\">\n",
              "\n",
              "<svg xmlns=\"http://www.w3.org/2000/svg\" height=\"24px\"viewBox=\"0 0 24 24\"\n",
              "     width=\"24px\">\n",
              "    <g>\n",
              "        <path d=\"M19 3H5c-1.1 0-2 .9-2 2v14c0 1.1.9 2 2 2h14c1.1 0 2-.9 2-2V5c0-1.1-.9-2-2-2zM9 17H7v-7h2v7zm4 0h-2V7h2v10zm4 0h-2v-4h2v4z\"/>\n",
              "    </g>\n",
              "</svg>\n",
              "      </button>\n",
              "    </div>\n",
              "\n",
              "<style>\n",
              "  .colab-df-quickchart {\n",
              "    background-color: #E8F0FE;\n",
              "    border: none;\n",
              "    border-radius: 50%;\n",
              "    cursor: pointer;\n",
              "    display: none;\n",
              "    fill: #1967D2;\n",
              "    height: 32px;\n",
              "    padding: 0 0 0 0;\n",
              "    width: 32px;\n",
              "  }\n",
              "\n",
              "  .colab-df-quickchart:hover {\n",
              "    background-color: #E2EBFA;\n",
              "    box-shadow: 0px 1px 2px rgba(60, 64, 67, 0.3), 0px 1px 3px 1px rgba(60, 64, 67, 0.15);\n",
              "    fill: #174EA6;\n",
              "  }\n",
              "\n",
              "  [theme=dark] .colab-df-quickchart {\n",
              "    background-color: #3B4455;\n",
              "    fill: #D2E3FC;\n",
              "  }\n",
              "\n",
              "  [theme=dark] .colab-df-quickchart:hover {\n",
              "    background-color: #434B5C;\n",
              "    box-shadow: 0px 1px 3px 1px rgba(0, 0, 0, 0.15);\n",
              "    filter: drop-shadow(0px 1px 2px rgba(0, 0, 0, 0.3));\n",
              "    fill: #FFFFFF;\n",
              "  }\n",
              "</style>\n",
              "\n",
              "    <script>\n",
              "      async function quickchart(key) {\n",
              "        const containerElement = document.querySelector('#' + key);\n",
              "        const charts = await google.colab.kernel.invokeFunction(\n",
              "            'suggestCharts', [key], {});\n",
              "      }\n",
              "    </script>\n",
              "\n",
              "      <script>\n",
              "\n",
              "function displayQuickchartButton(domScope) {\n",
              "  let quickchartButtonEl =\n",
              "    domScope.querySelector('#df-de79034a-6807-45bf-b085-17b566635561 button.colab-df-quickchart');\n",
              "  quickchartButtonEl.style.display =\n",
              "    google.colab.kernel.accessAllowed ? 'block' : 'none';\n",
              "}\n",
              "\n",
              "        displayQuickchartButton(document);\n",
              "      </script>\n",
              "      <style>\n",
              "    .colab-df-container {\n",
              "      display:flex;\n",
              "      flex-wrap:wrap;\n",
              "      gap: 12px;\n",
              "    }\n",
              "\n",
              "    .colab-df-convert {\n",
              "      background-color: #E8F0FE;\n",
              "      border: none;\n",
              "      border-radius: 50%;\n",
              "      cursor: pointer;\n",
              "      display: none;\n",
              "      fill: #1967D2;\n",
              "      height: 32px;\n",
              "      padding: 0 0 0 0;\n",
              "      width: 32px;\n",
              "    }\n",
              "\n",
              "    .colab-df-convert:hover {\n",
              "      background-color: #E2EBFA;\n",
              "      box-shadow: 0px 1px 2px rgba(60, 64, 67, 0.3), 0px 1px 3px 1px rgba(60, 64, 67, 0.15);\n",
              "      fill: #174EA6;\n",
              "    }\n",
              "\n",
              "    [theme=dark] .colab-df-convert {\n",
              "      background-color: #3B4455;\n",
              "      fill: #D2E3FC;\n",
              "    }\n",
              "\n",
              "    [theme=dark] .colab-df-convert:hover {\n",
              "      background-color: #434B5C;\n",
              "      box-shadow: 0px 1px 3px 1px rgba(0, 0, 0, 0.15);\n",
              "      filter: drop-shadow(0px 1px 2px rgba(0, 0, 0, 0.3));\n",
              "      fill: #FFFFFF;\n",
              "    }\n",
              "  </style>\n",
              "\n",
              "      <script>\n",
              "        const buttonEl =\n",
              "          document.querySelector('#df-c998620d-c97e-4bb8-b867-ccc6a8b4bb4c button.colab-df-convert');\n",
              "        buttonEl.style.display =\n",
              "          google.colab.kernel.accessAllowed ? 'block' : 'none';\n",
              "\n",
              "        async function convertToInteractive(key) {\n",
              "          const element = document.querySelector('#df-c998620d-c97e-4bb8-b867-ccc6a8b4bb4c');\n",
              "          const dataTable =\n",
              "            await google.colab.kernel.invokeFunction('convertToInteractive',\n",
              "                                                     [key], {});\n",
              "          if (!dataTable) return;\n",
              "\n",
              "          const docLinkHtml = 'Like what you see? Visit the ' +\n",
              "            '<a target=\"_blank\" href=https://colab.research.google.com/notebooks/data_table.ipynb>data table notebook</a>'\n",
              "            + ' to learn more about interactive tables.';\n",
              "          element.innerHTML = '';\n",
              "          dataTable['output_type'] = 'display_data';\n",
              "          await google.colab.output.renderOutput(dataTable, element);\n",
              "          const docLink = document.createElement('div');\n",
              "          docLink.innerHTML = docLinkHtml;\n",
              "          element.appendChild(docLink);\n",
              "        }\n",
              "      </script>\n",
              "    </div>\n",
              "  </div>\n"
            ]
          },
          "metadata": {},
          "execution_count": 38
        }
      ]
    },
    {
      "cell_type": "markdown",
      "source": [
        "##ข้อ1\n"
      ],
      "metadata": {
        "id": "540XtDPNDOf8"
      }
    },
    {
      "cell_type": "code",
      "source": [
        "data1_max = data1['Approved_buget'].max()\n",
        "data1_min = data1['Approved_buget'].min()"
      ],
      "metadata": {
        "id": "5o4_yZnxDJ0w"
      },
      "execution_count": null,
      "outputs": []
    },
    {
      "cell_type": "code",
      "source": [
        "data1[(data1['Approved_buget'] == data1_max) | (data1['Approved_buget'] == data1_min)]"
      ],
      "metadata": {
        "id": "rLVLbNMcGJgx",
        "outputId": "ef4e927e-1ad6-4d3f-c5e2-7a8873919a4d",
        "colab": {
          "base_uri": "https://localhost:8080/",
          "height": 175
        }
      },
      "execution_count": null,
      "outputs": [
        {
          "output_type": "execute_result",
          "data": {
            "text/plain": [
              "    Budget_resource  Issue_No  Fiscal_year  Department_code  \\\n",
              "576     งบเพิ่มเติม         1           66         11000000   \n",
              "612     งบเพิ่มเติม         1           66         50180000   \n",
              "613     งบเพิ่มเติม         1           66         50180000   \n",
              "631     งบเพิ่มเติม         1           66         50240000   \n",
              "\n",
              "                 Department Core_budget_code Expenditure_category  \\\n",
              "576        สำนักการระบายน้ำ                -              งบลงทุน   \n",
              "612       สำนักงานเขตธนบุรี                -              งบลงทุน   \n",
              "613       สำนักงานเขตธนบุรี                -              งบลงทุน   \n",
              "631  สำนักงานเขตราษฎร์บูรณะ                -              งบลงทุน   \n",
              "\n",
              "                                             Item_name  Approved_buget  \n",
              "576  ขุดลอกคลองพระยาสุเรนทร์ จากคลองหกวาถึงคลองบางช...        28500000  \n",
              "612  ขุดลอกลำกระโดงอำนวยสุข จากคลองบางกอกใหญ่ถึงสุด...               0  \n",
              "613  ขุดลอกคลองแยกวัดประดู่ จากคลองบางกอกใหญ่ถึงคลอ...               0  \n",
              "631   ขุดลอกคลองต้นโศกจากคลองราษฎร์บูรณะถึงคลองแจงร้อน               0  "
            ],
            "text/html": [
              "\n",
              "\n",
              "  <div id=\"df-d8d232aa-8a29-4e8a-aba5-3585ad566221\">\n",
              "    <div class=\"colab-df-container\">\n",
              "      <div>\n",
              "<style scoped>\n",
              "    .dataframe tbody tr th:only-of-type {\n",
              "        vertical-align: middle;\n",
              "    }\n",
              "\n",
              "    .dataframe tbody tr th {\n",
              "        vertical-align: top;\n",
              "    }\n",
              "\n",
              "    .dataframe thead th {\n",
              "        text-align: right;\n",
              "    }\n",
              "</style>\n",
              "<table border=\"1\" class=\"dataframe\">\n",
              "  <thead>\n",
              "    <tr style=\"text-align: right;\">\n",
              "      <th></th>\n",
              "      <th>Budget_resource</th>\n",
              "      <th>Issue_No</th>\n",
              "      <th>Fiscal_year</th>\n",
              "      <th>Department_code</th>\n",
              "      <th>Department</th>\n",
              "      <th>Core_budget_code</th>\n",
              "      <th>Expenditure_category</th>\n",
              "      <th>Item_name</th>\n",
              "      <th>Approved_buget</th>\n",
              "    </tr>\n",
              "  </thead>\n",
              "  <tbody>\n",
              "    <tr>\n",
              "      <th>576</th>\n",
              "      <td>งบเพิ่มเติม</td>\n",
              "      <td>1</td>\n",
              "      <td>66</td>\n",
              "      <td>11000000</td>\n",
              "      <td>สำนักการระบายน้ำ</td>\n",
              "      <td>-</td>\n",
              "      <td>งบลงทุน</td>\n",
              "      <td>ขุดลอกคลองพระยาสุเรนทร์ จากคลองหกวาถึงคลองบางช...</td>\n",
              "      <td>28500000</td>\n",
              "    </tr>\n",
              "    <tr>\n",
              "      <th>612</th>\n",
              "      <td>งบเพิ่มเติม</td>\n",
              "      <td>1</td>\n",
              "      <td>66</td>\n",
              "      <td>50180000</td>\n",
              "      <td>สำนักงานเขตธนบุรี</td>\n",
              "      <td>-</td>\n",
              "      <td>งบลงทุน</td>\n",
              "      <td>ขุดลอกลำกระโดงอำนวยสุข จากคลองบางกอกใหญ่ถึงสุด...</td>\n",
              "      <td>0</td>\n",
              "    </tr>\n",
              "    <tr>\n",
              "      <th>613</th>\n",
              "      <td>งบเพิ่มเติม</td>\n",
              "      <td>1</td>\n",
              "      <td>66</td>\n",
              "      <td>50180000</td>\n",
              "      <td>สำนักงานเขตธนบุรี</td>\n",
              "      <td>-</td>\n",
              "      <td>งบลงทุน</td>\n",
              "      <td>ขุดลอกคลองแยกวัดประดู่ จากคลองบางกอกใหญ่ถึงคลอ...</td>\n",
              "      <td>0</td>\n",
              "    </tr>\n",
              "    <tr>\n",
              "      <th>631</th>\n",
              "      <td>งบเพิ่มเติม</td>\n",
              "      <td>1</td>\n",
              "      <td>66</td>\n",
              "      <td>50240000</td>\n",
              "      <td>สำนักงานเขตราษฎร์บูรณะ</td>\n",
              "      <td>-</td>\n",
              "      <td>งบลงทุน</td>\n",
              "      <td>ขุดลอกคลองต้นโศกจากคลองราษฎร์บูรณะถึงคลองแจงร้อน</td>\n",
              "      <td>0</td>\n",
              "    </tr>\n",
              "  </tbody>\n",
              "</table>\n",
              "</div>\n",
              "      <button class=\"colab-df-convert\" onclick=\"convertToInteractive('df-d8d232aa-8a29-4e8a-aba5-3585ad566221')\"\n",
              "              title=\"Convert this dataframe to an interactive table.\"\n",
              "              style=\"display:none;\">\n",
              "\n",
              "  <svg xmlns=\"http://www.w3.org/2000/svg\" height=\"24px\"viewBox=\"0 0 24 24\"\n",
              "       width=\"24px\">\n",
              "    <path d=\"M0 0h24v24H0V0z\" fill=\"none\"/>\n",
              "    <path d=\"M18.56 5.44l.94 2.06.94-2.06 2.06-.94-2.06-.94-.94-2.06-.94 2.06-2.06.94zm-11 1L8.5 8.5l.94-2.06 2.06-.94-2.06-.94L8.5 2.5l-.94 2.06-2.06.94zm10 10l.94 2.06.94-2.06 2.06-.94-2.06-.94-.94-2.06-.94 2.06-2.06.94z\"/><path d=\"M17.41 7.96l-1.37-1.37c-.4-.4-.92-.59-1.43-.59-.52 0-1.04.2-1.43.59L10.3 9.45l-7.72 7.72c-.78.78-.78 2.05 0 2.83L4 21.41c.39.39.9.59 1.41.59.51 0 1.02-.2 1.41-.59l7.78-7.78 2.81-2.81c.8-.78.8-2.07 0-2.86zM5.41 20L4 18.59l7.72-7.72 1.47 1.35L5.41 20z\"/>\n",
              "  </svg>\n",
              "      </button>\n",
              "\n",
              "\n",
              "\n",
              "    <div id=\"df-5113d117-1ec9-4390-85b6-41a2cda6099d\">\n",
              "      <button class=\"colab-df-quickchart\" onclick=\"quickchart('df-5113d117-1ec9-4390-85b6-41a2cda6099d')\"\n",
              "              title=\"Suggest charts.\"\n",
              "              style=\"display:none;\">\n",
              "\n",
              "<svg xmlns=\"http://www.w3.org/2000/svg\" height=\"24px\"viewBox=\"0 0 24 24\"\n",
              "     width=\"24px\">\n",
              "    <g>\n",
              "        <path d=\"M19 3H5c-1.1 0-2 .9-2 2v14c0 1.1.9 2 2 2h14c1.1 0 2-.9 2-2V5c0-1.1-.9-2-2-2zM9 17H7v-7h2v7zm4 0h-2V7h2v10zm4 0h-2v-4h2v4z\"/>\n",
              "    </g>\n",
              "</svg>\n",
              "      </button>\n",
              "    </div>\n",
              "\n",
              "<style>\n",
              "  .colab-df-quickchart {\n",
              "    background-color: #E8F0FE;\n",
              "    border: none;\n",
              "    border-radius: 50%;\n",
              "    cursor: pointer;\n",
              "    display: none;\n",
              "    fill: #1967D2;\n",
              "    height: 32px;\n",
              "    padding: 0 0 0 0;\n",
              "    width: 32px;\n",
              "  }\n",
              "\n",
              "  .colab-df-quickchart:hover {\n",
              "    background-color: #E2EBFA;\n",
              "    box-shadow: 0px 1px 2px rgba(60, 64, 67, 0.3), 0px 1px 3px 1px rgba(60, 64, 67, 0.15);\n",
              "    fill: #174EA6;\n",
              "  }\n",
              "\n",
              "  [theme=dark] .colab-df-quickchart {\n",
              "    background-color: #3B4455;\n",
              "    fill: #D2E3FC;\n",
              "  }\n",
              "\n",
              "  [theme=dark] .colab-df-quickchart:hover {\n",
              "    background-color: #434B5C;\n",
              "    box-shadow: 0px 1px 3px 1px rgba(0, 0, 0, 0.15);\n",
              "    filter: drop-shadow(0px 1px 2px rgba(0, 0, 0, 0.3));\n",
              "    fill: #FFFFFF;\n",
              "  }\n",
              "</style>\n",
              "\n",
              "    <script>\n",
              "      async function quickchart(key) {\n",
              "        const containerElement = document.querySelector('#' + key);\n",
              "        const charts = await google.colab.kernel.invokeFunction(\n",
              "            'suggestCharts', [key], {});\n",
              "      }\n",
              "    </script>\n",
              "\n",
              "      <script>\n",
              "\n",
              "function displayQuickchartButton(domScope) {\n",
              "  let quickchartButtonEl =\n",
              "    domScope.querySelector('#df-5113d117-1ec9-4390-85b6-41a2cda6099d button.colab-df-quickchart');\n",
              "  quickchartButtonEl.style.display =\n",
              "    google.colab.kernel.accessAllowed ? 'block' : 'none';\n",
              "}\n",
              "\n",
              "        displayQuickchartButton(document);\n",
              "      </script>\n",
              "      <style>\n",
              "    .colab-df-container {\n",
              "      display:flex;\n",
              "      flex-wrap:wrap;\n",
              "      gap: 12px;\n",
              "    }\n",
              "\n",
              "    .colab-df-convert {\n",
              "      background-color: #E8F0FE;\n",
              "      border: none;\n",
              "      border-radius: 50%;\n",
              "      cursor: pointer;\n",
              "      display: none;\n",
              "      fill: #1967D2;\n",
              "      height: 32px;\n",
              "      padding: 0 0 0 0;\n",
              "      width: 32px;\n",
              "    }\n",
              "\n",
              "    .colab-df-convert:hover {\n",
              "      background-color: #E2EBFA;\n",
              "      box-shadow: 0px 1px 2px rgba(60, 64, 67, 0.3), 0px 1px 3px 1px rgba(60, 64, 67, 0.15);\n",
              "      fill: #174EA6;\n",
              "    }\n",
              "\n",
              "    [theme=dark] .colab-df-convert {\n",
              "      background-color: #3B4455;\n",
              "      fill: #D2E3FC;\n",
              "    }\n",
              "\n",
              "    [theme=dark] .colab-df-convert:hover {\n",
              "      background-color: #434B5C;\n",
              "      box-shadow: 0px 1px 3px 1px rgba(0, 0, 0, 0.15);\n",
              "      filter: drop-shadow(0px 1px 2px rgba(0, 0, 0, 0.3));\n",
              "      fill: #FFFFFF;\n",
              "    }\n",
              "  </style>\n",
              "\n",
              "      <script>\n",
              "        const buttonEl =\n",
              "          document.querySelector('#df-d8d232aa-8a29-4e8a-aba5-3585ad566221 button.colab-df-convert');\n",
              "        buttonEl.style.display =\n",
              "          google.colab.kernel.accessAllowed ? 'block' : 'none';\n",
              "\n",
              "        async function convertToInteractive(key) {\n",
              "          const element = document.querySelector('#df-d8d232aa-8a29-4e8a-aba5-3585ad566221');\n",
              "          const dataTable =\n",
              "            await google.colab.kernel.invokeFunction('convertToInteractive',\n",
              "                                                     [key], {});\n",
              "          if (!dataTable) return;\n",
              "\n",
              "          const docLinkHtml = 'Like what you see? Visit the ' +\n",
              "            '<a target=\"_blank\" href=https://colab.research.google.com/notebooks/data_table.ipynb>data table notebook</a>'\n",
              "            + ' to learn more about interactive tables.';\n",
              "          element.innerHTML = '';\n",
              "          dataTable['output_type'] = 'display_data';\n",
              "          await google.colab.output.renderOutput(dataTable, element);\n",
              "          const docLink = document.createElement('div');\n",
              "          docLink.innerHTML = docLinkHtml;\n",
              "          element.appendChild(docLink);\n",
              "        }\n",
              "      </script>\n",
              "    </div>\n",
              "  </div>\n"
            ]
          },
          "metadata": {},
          "execution_count": 48
        }
      ]
    },
    {
      "cell_type": "markdown",
      "source": [
        "#ข้อ2"
      ],
      "metadata": {
        "id": "nac9e_P7EFby"
      }
    },
    {
      "cell_type": "code",
      "source": [
        "data1[(data1['Department'] == 'สำนักงานเขตคลองสาน') | (data1['Department'] == 'สำนักงานเขตคลองสามวา')]\n"
      ],
      "metadata": {
        "id": "WstaKJ95EIDv",
        "outputId": "6c34e54f-0ebe-497a-c6a1-703b86bab90a",
        "colab": {
          "base_uri": "https://localhost:8080/",
          "height": 1000
        }
      },
      "execution_count": 138,
      "outputs": [
        {
          "output_type": "execute_result",
          "data": {
            "text/plain": [
              "    Budget_resource  Issue_No  Fiscal_year  Department_code  \\\n",
              "57        งบประจำปี         0           62         50170000   \n",
              "58        งบประจำปี         0           62         50170000   \n",
              "59        งบประจำปี         0           62         50170000   \n",
              "122       งบประจำปี         0           63         50170000   \n",
              "123       งบประจำปี         0           63         50170000   \n",
              "212       งบประจำปี         0           64         50170000   \n",
              "213       งบประจำปี         0           64         50170000   \n",
              "214       งบประจำปี         0           64         50170000   \n",
              "215       งบประจำปี         0           64         50170000   \n",
              "252       งบประจำปี         0           64         50460000   \n",
              "253       งบประจำปี         0           64         50460000   \n",
              "271       งบประจำปี         0           65         50170000   \n",
              "400     งบเพิ่มเติม         1           65         50460000   \n",
              "401     งบเพิ่มเติม         1           65         50460000   \n",
              "402     งบเพิ่มเติม         1           65         50460000   \n",
              "403     งบเพิ่มเติม         1           65         50460000   \n",
              "404     งบเพิ่มเติม         1           65         50460000   \n",
              "441       งบประจำปี         0           66         50170000   \n",
              "442       งบประจำปี         0           66         50170000   \n",
              "443       งบประจำปี         0           66         50170000   \n",
              "681     งบเพิ่มเติม         1           66         50460000   \n",
              "682     งบเพิ่มเติม         1           66         50460000   \n",
              "683     งบเพิ่มเติม         1           66         50460000   \n",
              "684     งบเพิ่มเติม         1           66         50460000   \n",
              "685     งบเพิ่มเติม         1           66         50460000   \n",
              "686     งบเพิ่มเติม         1           66         50460000   \n",
              "687     งบเพิ่มเติม         1           66         50460000   \n",
              "688     งบเพิ่มเติม         1           66         50460000   \n",
              "689     งบเพิ่มเติม         1           66         50460000   \n",
              "690     งบเพิ่มเติม         1           66         50460000   \n",
              "\n",
              "               Department Core_budget_code Expenditure_category  \\\n",
              "57     สำนักงานเขตคลองสาน                -              งบลงทุน   \n",
              "58     สำนักงานเขตคลองสาน                -              งบลงทุน   \n",
              "59     สำนักงานเขตคลองสาน                -              งบลงทุน   \n",
              "122    สำนักงานเขตคลองสาน                -              งบลงทุน   \n",
              "123    สำนักงานเขตคลองสาน                -              งบลงทุน   \n",
              "212    สำนักงานเขตคลองสาน                -              งบลงทุน   \n",
              "213    สำนักงานเขตคลองสาน                -              งบลงทุน   \n",
              "214    สำนักงานเขตคลองสาน                -              งบลงทุน   \n",
              "215    สำนักงานเขตคลองสาน                -              งบลงทุน   \n",
              "252  สำนักงานเขตคลองสามวา                -              งบลงทุน   \n",
              "253  สำนักงานเขตคลองสามวา                -              งบลงทุน   \n",
              "271    สำนักงานเขตคลองสาน                -              งบลงทุน   \n",
              "400  สำนักงานเขตคลองสามวา                -              งบลงทุน   \n",
              "401  สำนักงานเขตคลองสามวา                -              งบลงทุน   \n",
              "402  สำนักงานเขตคลองสามวา                -              งบลงทุน   \n",
              "403  สำนักงานเขตคลองสามวา                -              งบลงทุน   \n",
              "404  สำนักงานเขตคลองสามวา                -              งบลงทุน   \n",
              "441    สำนักงานเขตคลองสาน                -              งบลงทุน   \n",
              "442    สำนักงานเขตคลองสาน                -              งบลงทุน   \n",
              "443    สำนักงานเขตคลองสาน                -              งบลงทุน   \n",
              "681  สำนักงานเขตคลองสามวา                -              งบลงทุน   \n",
              "682  สำนักงานเขตคลองสามวา                -              งบลงทุน   \n",
              "683  สำนักงานเขตคลองสามวา                -              งบลงทุน   \n",
              "684  สำนักงานเขตคลองสามวา                -              งบลงทุน   \n",
              "685  สำนักงานเขตคลองสามวา                -              งบลงทุน   \n",
              "686  สำนักงานเขตคลองสามวา                -              งบลงทุน   \n",
              "687  สำนักงานเขตคลองสามวา                -              งบลงทุน   \n",
              "688  สำนักงานเขตคลองสามวา                -              งบลงทุน   \n",
              "689  สำนักงานเขตคลองสามวา                -              งบลงทุน   \n",
              "690  สำนักงานเขตคลองสามวา                -              งบลงทุน   \n",
              "\n",
              "                                             Item_name  Approved_buget  \n",
              "57                                  ขุดลอกคูน้ำสารภี 1          513000  \n",
              "58                             ขุดลอกคลองวัดทองเพลง\\n          2218000  \n",
              "59   ขุดลอกลำกระโดงชุมชนสองร้อยห้อง\\nจากบริเวณบ้านเ...           89000  \n",
              "122  ขุดลอกคลองวัดทองธรรมชาติและคลองแยกคลองวัดทองธร...          500000  \n",
              "123                                   ขุดลอกคลองโรงปลา           90000  \n",
              "212                         ขุดลอกลำกระโดงซอยอิสรภาพ 3          162000  \n",
              "213       ขุดลอกคลองหลังวัดพิชัยญาติและคลองวัดน้อยเก่า          209000  \n",
              "214                                ขุดลอกคลองพระยาเกษม          487000  \n",
              "215                    ขุดลอกคลองข้างโรงเรียนปทุมวิทยา           80000  \n",
              "252  ขุดลอกคลองสามตะวันตก จากคลองสามวา ถึงคลองพระยา...         6236000  \n",
              "253  ขุดลอกคลองสี่ตะวันตก จากคลองสามวา ถึงคลองพระยา...         5815000  \n",
              "271  ขุดลอกคลองวัดน้อยใหม่จากแยกบ้านแขกถึงคลองสมเด็...          659000  \n",
              "400  ขุดลอกลำรางวัดแป้นทอง จากคลองสี่ตะวันตก ถึงคลอ...         1246200  \n",
              "401  ขุดลอกลำรางครูพัว จากคลองสองตะวันตก ถึงคลองหนึ...          542200  \n",
              "402     ขุดลอกลำรางตาชม จากคลองลำควายตาย ถึงคลองบางชัน          452300  \n",
              "403  ขุดลอกคลองเจ๊ก จากคลองหนึ่งตะวันตก ถึงสุดเขตคล...         1204500  \n",
              "404  ขุดลอกคลองซอยเชื่อมคลองลำแบนกับคลองหนองระแหง จ...          453600  \n",
              "441  ขุดลอกคลองโรงหนัง จากคลองบางไส้ไก่ถึงแม่น้ำเจ้...         1325000  \n",
              "442  ขุดลอกคลองข้างโรงน้ำแข็ง จากสุดระยะคลองถึงแม่น...          358000  \n",
              "443  ขุดลอกคลองข้างวัดอนงค์ จากคลองหลัง\\nวัดพิชัยญา...          205000  \n",
              "681                                   ขุดลอกลำรางตาเชย         3559000  \n",
              "682                              ขุดลอกลำรางไทยเอราวัณ         3494000  \n",
              "683                             ขุดลอกคลองหนึ่งตะวันตก         4330000  \n",
              "684                               ขุดลอกคลองสองตะวันตก         9832000  \n",
              "685                                   ขุดลอกคลองกีบหมู         2925000  \n",
              "686                                 ขุดลอกคลองลำกะโหลก         3875000  \n",
              "687                                 ขุดลอกคลองผักกะเฉด         3686000  \n",
              "688                            ขุดลอกคลองบึงทรายกองดิน         2575000  \n",
              "689                                  ขุดลอกลำรางซาฟารี          689000  \n",
              "690                                ขุดลอกลำรางตาจันทร์          464000  "
            ],
            "text/html": [
              "\n",
              "\n",
              "  <div id=\"df-8794bb03-8957-4ab2-b5ec-431711ce2191\">\n",
              "    <div class=\"colab-df-container\">\n",
              "      <div>\n",
              "<style scoped>\n",
              "    .dataframe tbody tr th:only-of-type {\n",
              "        vertical-align: middle;\n",
              "    }\n",
              "\n",
              "    .dataframe tbody tr th {\n",
              "        vertical-align: top;\n",
              "    }\n",
              "\n",
              "    .dataframe thead th {\n",
              "        text-align: right;\n",
              "    }\n",
              "</style>\n",
              "<table border=\"1\" class=\"dataframe\">\n",
              "  <thead>\n",
              "    <tr style=\"text-align: right;\">\n",
              "      <th></th>\n",
              "      <th>Budget_resource</th>\n",
              "      <th>Issue_No</th>\n",
              "      <th>Fiscal_year</th>\n",
              "      <th>Department_code</th>\n",
              "      <th>Department</th>\n",
              "      <th>Core_budget_code</th>\n",
              "      <th>Expenditure_category</th>\n",
              "      <th>Item_name</th>\n",
              "      <th>Approved_buget</th>\n",
              "    </tr>\n",
              "  </thead>\n",
              "  <tbody>\n",
              "    <tr>\n",
              "      <th>57</th>\n",
              "      <td>งบประจำปี</td>\n",
              "      <td>0</td>\n",
              "      <td>62</td>\n",
              "      <td>50170000</td>\n",
              "      <td>สำนักงานเขตคลองสาน</td>\n",
              "      <td>-</td>\n",
              "      <td>งบลงทุน</td>\n",
              "      <td>ขุดลอกคูน้ำสารภี 1</td>\n",
              "      <td>513000</td>\n",
              "    </tr>\n",
              "    <tr>\n",
              "      <th>58</th>\n",
              "      <td>งบประจำปี</td>\n",
              "      <td>0</td>\n",
              "      <td>62</td>\n",
              "      <td>50170000</td>\n",
              "      <td>สำนักงานเขตคลองสาน</td>\n",
              "      <td>-</td>\n",
              "      <td>งบลงทุน</td>\n",
              "      <td>ขุดลอกคลองวัดทองเพลง\\n</td>\n",
              "      <td>2218000</td>\n",
              "    </tr>\n",
              "    <tr>\n",
              "      <th>59</th>\n",
              "      <td>งบประจำปี</td>\n",
              "      <td>0</td>\n",
              "      <td>62</td>\n",
              "      <td>50170000</td>\n",
              "      <td>สำนักงานเขตคลองสาน</td>\n",
              "      <td>-</td>\n",
              "      <td>งบลงทุน</td>\n",
              "      <td>ขุดลอกลำกระโดงชุมชนสองร้อยห้อง\\nจากบริเวณบ้านเ...</td>\n",
              "      <td>89000</td>\n",
              "    </tr>\n",
              "    <tr>\n",
              "      <th>122</th>\n",
              "      <td>งบประจำปี</td>\n",
              "      <td>0</td>\n",
              "      <td>63</td>\n",
              "      <td>50170000</td>\n",
              "      <td>สำนักงานเขตคลองสาน</td>\n",
              "      <td>-</td>\n",
              "      <td>งบลงทุน</td>\n",
              "      <td>ขุดลอกคลองวัดทองธรรมชาติและคลองแยกคลองวัดทองธร...</td>\n",
              "      <td>500000</td>\n",
              "    </tr>\n",
              "    <tr>\n",
              "      <th>123</th>\n",
              "      <td>งบประจำปี</td>\n",
              "      <td>0</td>\n",
              "      <td>63</td>\n",
              "      <td>50170000</td>\n",
              "      <td>สำนักงานเขตคลองสาน</td>\n",
              "      <td>-</td>\n",
              "      <td>งบลงทุน</td>\n",
              "      <td>ขุดลอกคลองโรงปลา</td>\n",
              "      <td>90000</td>\n",
              "    </tr>\n",
              "    <tr>\n",
              "      <th>212</th>\n",
              "      <td>งบประจำปี</td>\n",
              "      <td>0</td>\n",
              "      <td>64</td>\n",
              "      <td>50170000</td>\n",
              "      <td>สำนักงานเขตคลองสาน</td>\n",
              "      <td>-</td>\n",
              "      <td>งบลงทุน</td>\n",
              "      <td>ขุดลอกลำกระโดงซอยอิสรภาพ 3</td>\n",
              "      <td>162000</td>\n",
              "    </tr>\n",
              "    <tr>\n",
              "      <th>213</th>\n",
              "      <td>งบประจำปี</td>\n",
              "      <td>0</td>\n",
              "      <td>64</td>\n",
              "      <td>50170000</td>\n",
              "      <td>สำนักงานเขตคลองสาน</td>\n",
              "      <td>-</td>\n",
              "      <td>งบลงทุน</td>\n",
              "      <td>ขุดลอกคลองหลังวัดพิชัยญาติและคลองวัดน้อยเก่า</td>\n",
              "      <td>209000</td>\n",
              "    </tr>\n",
              "    <tr>\n",
              "      <th>214</th>\n",
              "      <td>งบประจำปี</td>\n",
              "      <td>0</td>\n",
              "      <td>64</td>\n",
              "      <td>50170000</td>\n",
              "      <td>สำนักงานเขตคลองสาน</td>\n",
              "      <td>-</td>\n",
              "      <td>งบลงทุน</td>\n",
              "      <td>ขุดลอกคลองพระยาเกษม</td>\n",
              "      <td>487000</td>\n",
              "    </tr>\n",
              "    <tr>\n",
              "      <th>215</th>\n",
              "      <td>งบประจำปี</td>\n",
              "      <td>0</td>\n",
              "      <td>64</td>\n",
              "      <td>50170000</td>\n",
              "      <td>สำนักงานเขตคลองสาน</td>\n",
              "      <td>-</td>\n",
              "      <td>งบลงทุน</td>\n",
              "      <td>ขุดลอกคลองข้างโรงเรียนปทุมวิทยา</td>\n",
              "      <td>80000</td>\n",
              "    </tr>\n",
              "    <tr>\n",
              "      <th>252</th>\n",
              "      <td>งบประจำปี</td>\n",
              "      <td>0</td>\n",
              "      <td>64</td>\n",
              "      <td>50460000</td>\n",
              "      <td>สำนักงานเขตคลองสามวา</td>\n",
              "      <td>-</td>\n",
              "      <td>งบลงทุน</td>\n",
              "      <td>ขุดลอกคลองสามตะวันตก จากคลองสามวา ถึงคลองพระยา...</td>\n",
              "      <td>6236000</td>\n",
              "    </tr>\n",
              "    <tr>\n",
              "      <th>253</th>\n",
              "      <td>งบประจำปี</td>\n",
              "      <td>0</td>\n",
              "      <td>64</td>\n",
              "      <td>50460000</td>\n",
              "      <td>สำนักงานเขตคลองสามวา</td>\n",
              "      <td>-</td>\n",
              "      <td>งบลงทุน</td>\n",
              "      <td>ขุดลอกคลองสี่ตะวันตก จากคลองสามวา ถึงคลองพระยา...</td>\n",
              "      <td>5815000</td>\n",
              "    </tr>\n",
              "    <tr>\n",
              "      <th>271</th>\n",
              "      <td>งบประจำปี</td>\n",
              "      <td>0</td>\n",
              "      <td>65</td>\n",
              "      <td>50170000</td>\n",
              "      <td>สำนักงานเขตคลองสาน</td>\n",
              "      <td>-</td>\n",
              "      <td>งบลงทุน</td>\n",
              "      <td>ขุดลอกคลองวัดน้อยใหม่จากแยกบ้านแขกถึงคลองสมเด็...</td>\n",
              "      <td>659000</td>\n",
              "    </tr>\n",
              "    <tr>\n",
              "      <th>400</th>\n",
              "      <td>งบเพิ่มเติม</td>\n",
              "      <td>1</td>\n",
              "      <td>65</td>\n",
              "      <td>50460000</td>\n",
              "      <td>สำนักงานเขตคลองสามวา</td>\n",
              "      <td>-</td>\n",
              "      <td>งบลงทุน</td>\n",
              "      <td>ขุดลอกลำรางวัดแป้นทอง จากคลองสี่ตะวันตก ถึงคลอ...</td>\n",
              "      <td>1246200</td>\n",
              "    </tr>\n",
              "    <tr>\n",
              "      <th>401</th>\n",
              "      <td>งบเพิ่มเติม</td>\n",
              "      <td>1</td>\n",
              "      <td>65</td>\n",
              "      <td>50460000</td>\n",
              "      <td>สำนักงานเขตคลองสามวา</td>\n",
              "      <td>-</td>\n",
              "      <td>งบลงทุน</td>\n",
              "      <td>ขุดลอกลำรางครูพัว จากคลองสองตะวันตก ถึงคลองหนึ...</td>\n",
              "      <td>542200</td>\n",
              "    </tr>\n",
              "    <tr>\n",
              "      <th>402</th>\n",
              "      <td>งบเพิ่มเติม</td>\n",
              "      <td>1</td>\n",
              "      <td>65</td>\n",
              "      <td>50460000</td>\n",
              "      <td>สำนักงานเขตคลองสามวา</td>\n",
              "      <td>-</td>\n",
              "      <td>งบลงทุน</td>\n",
              "      <td>ขุดลอกลำรางตาชม จากคลองลำควายตาย ถึงคลองบางชัน</td>\n",
              "      <td>452300</td>\n",
              "    </tr>\n",
              "    <tr>\n",
              "      <th>403</th>\n",
              "      <td>งบเพิ่มเติม</td>\n",
              "      <td>1</td>\n",
              "      <td>65</td>\n",
              "      <td>50460000</td>\n",
              "      <td>สำนักงานเขตคลองสามวา</td>\n",
              "      <td>-</td>\n",
              "      <td>งบลงทุน</td>\n",
              "      <td>ขุดลอกคลองเจ๊ก จากคลองหนึ่งตะวันตก ถึงสุดเขตคล...</td>\n",
              "      <td>1204500</td>\n",
              "    </tr>\n",
              "    <tr>\n",
              "      <th>404</th>\n",
              "      <td>งบเพิ่มเติม</td>\n",
              "      <td>1</td>\n",
              "      <td>65</td>\n",
              "      <td>50460000</td>\n",
              "      <td>สำนักงานเขตคลองสามวา</td>\n",
              "      <td>-</td>\n",
              "      <td>งบลงทุน</td>\n",
              "      <td>ขุดลอกคลองซอยเชื่อมคลองลำแบนกับคลองหนองระแหง จ...</td>\n",
              "      <td>453600</td>\n",
              "    </tr>\n",
              "    <tr>\n",
              "      <th>441</th>\n",
              "      <td>งบประจำปี</td>\n",
              "      <td>0</td>\n",
              "      <td>66</td>\n",
              "      <td>50170000</td>\n",
              "      <td>สำนักงานเขตคลองสาน</td>\n",
              "      <td>-</td>\n",
              "      <td>งบลงทุน</td>\n",
              "      <td>ขุดลอกคลองโรงหนัง จากคลองบางไส้ไก่ถึงแม่น้ำเจ้...</td>\n",
              "      <td>1325000</td>\n",
              "    </tr>\n",
              "    <tr>\n",
              "      <th>442</th>\n",
              "      <td>งบประจำปี</td>\n",
              "      <td>0</td>\n",
              "      <td>66</td>\n",
              "      <td>50170000</td>\n",
              "      <td>สำนักงานเขตคลองสาน</td>\n",
              "      <td>-</td>\n",
              "      <td>งบลงทุน</td>\n",
              "      <td>ขุดลอกคลองข้างโรงน้ำแข็ง จากสุดระยะคลองถึงแม่น...</td>\n",
              "      <td>358000</td>\n",
              "    </tr>\n",
              "    <tr>\n",
              "      <th>443</th>\n",
              "      <td>งบประจำปี</td>\n",
              "      <td>0</td>\n",
              "      <td>66</td>\n",
              "      <td>50170000</td>\n",
              "      <td>สำนักงานเขตคลองสาน</td>\n",
              "      <td>-</td>\n",
              "      <td>งบลงทุน</td>\n",
              "      <td>ขุดลอกคลองข้างวัดอนงค์ จากคลองหลัง\\nวัดพิชัยญา...</td>\n",
              "      <td>205000</td>\n",
              "    </tr>\n",
              "    <tr>\n",
              "      <th>681</th>\n",
              "      <td>งบเพิ่มเติม</td>\n",
              "      <td>1</td>\n",
              "      <td>66</td>\n",
              "      <td>50460000</td>\n",
              "      <td>สำนักงานเขตคลองสามวา</td>\n",
              "      <td>-</td>\n",
              "      <td>งบลงทุน</td>\n",
              "      <td>ขุดลอกลำรางตาเชย</td>\n",
              "      <td>3559000</td>\n",
              "    </tr>\n",
              "    <tr>\n",
              "      <th>682</th>\n",
              "      <td>งบเพิ่มเติม</td>\n",
              "      <td>1</td>\n",
              "      <td>66</td>\n",
              "      <td>50460000</td>\n",
              "      <td>สำนักงานเขตคลองสามวา</td>\n",
              "      <td>-</td>\n",
              "      <td>งบลงทุน</td>\n",
              "      <td>ขุดลอกลำรางไทยเอราวัณ</td>\n",
              "      <td>3494000</td>\n",
              "    </tr>\n",
              "    <tr>\n",
              "      <th>683</th>\n",
              "      <td>งบเพิ่มเติม</td>\n",
              "      <td>1</td>\n",
              "      <td>66</td>\n",
              "      <td>50460000</td>\n",
              "      <td>สำนักงานเขตคลองสามวา</td>\n",
              "      <td>-</td>\n",
              "      <td>งบลงทุน</td>\n",
              "      <td>ขุดลอกคลองหนึ่งตะวันตก</td>\n",
              "      <td>4330000</td>\n",
              "    </tr>\n",
              "    <tr>\n",
              "      <th>684</th>\n",
              "      <td>งบเพิ่มเติม</td>\n",
              "      <td>1</td>\n",
              "      <td>66</td>\n",
              "      <td>50460000</td>\n",
              "      <td>สำนักงานเขตคลองสามวา</td>\n",
              "      <td>-</td>\n",
              "      <td>งบลงทุน</td>\n",
              "      <td>ขุดลอกคลองสองตะวันตก</td>\n",
              "      <td>9832000</td>\n",
              "    </tr>\n",
              "    <tr>\n",
              "      <th>685</th>\n",
              "      <td>งบเพิ่มเติม</td>\n",
              "      <td>1</td>\n",
              "      <td>66</td>\n",
              "      <td>50460000</td>\n",
              "      <td>สำนักงานเขตคลองสามวา</td>\n",
              "      <td>-</td>\n",
              "      <td>งบลงทุน</td>\n",
              "      <td>ขุดลอกคลองกีบหมู</td>\n",
              "      <td>2925000</td>\n",
              "    </tr>\n",
              "    <tr>\n",
              "      <th>686</th>\n",
              "      <td>งบเพิ่มเติม</td>\n",
              "      <td>1</td>\n",
              "      <td>66</td>\n",
              "      <td>50460000</td>\n",
              "      <td>สำนักงานเขตคลองสามวา</td>\n",
              "      <td>-</td>\n",
              "      <td>งบลงทุน</td>\n",
              "      <td>ขุดลอกคลองลำกะโหลก</td>\n",
              "      <td>3875000</td>\n",
              "    </tr>\n",
              "    <tr>\n",
              "      <th>687</th>\n",
              "      <td>งบเพิ่มเติม</td>\n",
              "      <td>1</td>\n",
              "      <td>66</td>\n",
              "      <td>50460000</td>\n",
              "      <td>สำนักงานเขตคลองสามวา</td>\n",
              "      <td>-</td>\n",
              "      <td>งบลงทุน</td>\n",
              "      <td>ขุดลอกคลองผักกะเฉด</td>\n",
              "      <td>3686000</td>\n",
              "    </tr>\n",
              "    <tr>\n",
              "      <th>688</th>\n",
              "      <td>งบเพิ่มเติม</td>\n",
              "      <td>1</td>\n",
              "      <td>66</td>\n",
              "      <td>50460000</td>\n",
              "      <td>สำนักงานเขตคลองสามวา</td>\n",
              "      <td>-</td>\n",
              "      <td>งบลงทุน</td>\n",
              "      <td>ขุดลอกคลองบึงทรายกองดิน</td>\n",
              "      <td>2575000</td>\n",
              "    </tr>\n",
              "    <tr>\n",
              "      <th>689</th>\n",
              "      <td>งบเพิ่มเติม</td>\n",
              "      <td>1</td>\n",
              "      <td>66</td>\n",
              "      <td>50460000</td>\n",
              "      <td>สำนักงานเขตคลองสามวา</td>\n",
              "      <td>-</td>\n",
              "      <td>งบลงทุน</td>\n",
              "      <td>ขุดลอกลำรางซาฟารี</td>\n",
              "      <td>689000</td>\n",
              "    </tr>\n",
              "    <tr>\n",
              "      <th>690</th>\n",
              "      <td>งบเพิ่มเติม</td>\n",
              "      <td>1</td>\n",
              "      <td>66</td>\n",
              "      <td>50460000</td>\n",
              "      <td>สำนักงานเขตคลองสามวา</td>\n",
              "      <td>-</td>\n",
              "      <td>งบลงทุน</td>\n",
              "      <td>ขุดลอกลำรางตาจันทร์</td>\n",
              "      <td>464000</td>\n",
              "    </tr>\n",
              "  </tbody>\n",
              "</table>\n",
              "</div>\n",
              "      <button class=\"colab-df-convert\" onclick=\"convertToInteractive('df-8794bb03-8957-4ab2-b5ec-431711ce2191')\"\n",
              "              title=\"Convert this dataframe to an interactive table.\"\n",
              "              style=\"display:none;\">\n",
              "\n",
              "  <svg xmlns=\"http://www.w3.org/2000/svg\" height=\"24px\"viewBox=\"0 0 24 24\"\n",
              "       width=\"24px\">\n",
              "    <path d=\"M0 0h24v24H0V0z\" fill=\"none\"/>\n",
              "    <path d=\"M18.56 5.44l.94 2.06.94-2.06 2.06-.94-2.06-.94-.94-2.06-.94 2.06-2.06.94zm-11 1L8.5 8.5l.94-2.06 2.06-.94-2.06-.94L8.5 2.5l-.94 2.06-2.06.94zm10 10l.94 2.06.94-2.06 2.06-.94-2.06-.94-.94-2.06-.94 2.06-2.06.94z\"/><path d=\"M17.41 7.96l-1.37-1.37c-.4-.4-.92-.59-1.43-.59-.52 0-1.04.2-1.43.59L10.3 9.45l-7.72 7.72c-.78.78-.78 2.05 0 2.83L4 21.41c.39.39.9.59 1.41.59.51 0 1.02-.2 1.41-.59l7.78-7.78 2.81-2.81c.8-.78.8-2.07 0-2.86zM5.41 20L4 18.59l7.72-7.72 1.47 1.35L5.41 20z\"/>\n",
              "  </svg>\n",
              "      </button>\n",
              "\n",
              "\n",
              "\n",
              "    <div id=\"df-c0415fd5-d1a6-4f99-b948-f393454723a4\">\n",
              "      <button class=\"colab-df-quickchart\" onclick=\"quickchart('df-c0415fd5-d1a6-4f99-b948-f393454723a4')\"\n",
              "              title=\"Suggest charts.\"\n",
              "              style=\"display:none;\">\n",
              "\n",
              "<svg xmlns=\"http://www.w3.org/2000/svg\" height=\"24px\"viewBox=\"0 0 24 24\"\n",
              "     width=\"24px\">\n",
              "    <g>\n",
              "        <path d=\"M19 3H5c-1.1 0-2 .9-2 2v14c0 1.1.9 2 2 2h14c1.1 0 2-.9 2-2V5c0-1.1-.9-2-2-2zM9 17H7v-7h2v7zm4 0h-2V7h2v10zm4 0h-2v-4h2v4z\"/>\n",
              "    </g>\n",
              "</svg>\n",
              "      </button>\n",
              "    </div>\n",
              "\n",
              "<style>\n",
              "  .colab-df-quickchart {\n",
              "    background-color: #E8F0FE;\n",
              "    border: none;\n",
              "    border-radius: 50%;\n",
              "    cursor: pointer;\n",
              "    display: none;\n",
              "    fill: #1967D2;\n",
              "    height: 32px;\n",
              "    padding: 0 0 0 0;\n",
              "    width: 32px;\n",
              "  }\n",
              "\n",
              "  .colab-df-quickchart:hover {\n",
              "    background-color: #E2EBFA;\n",
              "    box-shadow: 0px 1px 2px rgba(60, 64, 67, 0.3), 0px 1px 3px 1px rgba(60, 64, 67, 0.15);\n",
              "    fill: #174EA6;\n",
              "  }\n",
              "\n",
              "  [theme=dark] .colab-df-quickchart {\n",
              "    background-color: #3B4455;\n",
              "    fill: #D2E3FC;\n",
              "  }\n",
              "\n",
              "  [theme=dark] .colab-df-quickchart:hover {\n",
              "    background-color: #434B5C;\n",
              "    box-shadow: 0px 1px 3px 1px rgba(0, 0, 0, 0.15);\n",
              "    filter: drop-shadow(0px 1px 2px rgba(0, 0, 0, 0.3));\n",
              "    fill: #FFFFFF;\n",
              "  }\n",
              "</style>\n",
              "\n",
              "    <script>\n",
              "      async function quickchart(key) {\n",
              "        const containerElement = document.querySelector('#' + key);\n",
              "        const charts = await google.colab.kernel.invokeFunction(\n",
              "            'suggestCharts', [key], {});\n",
              "      }\n",
              "    </script>\n",
              "\n",
              "      <script>\n",
              "\n",
              "function displayQuickchartButton(domScope) {\n",
              "  let quickchartButtonEl =\n",
              "    domScope.querySelector('#df-c0415fd5-d1a6-4f99-b948-f393454723a4 button.colab-df-quickchart');\n",
              "  quickchartButtonEl.style.display =\n",
              "    google.colab.kernel.accessAllowed ? 'block' : 'none';\n",
              "}\n",
              "\n",
              "        displayQuickchartButton(document);\n",
              "      </script>\n",
              "      <style>\n",
              "    .colab-df-container {\n",
              "      display:flex;\n",
              "      flex-wrap:wrap;\n",
              "      gap: 12px;\n",
              "    }\n",
              "\n",
              "    .colab-df-convert {\n",
              "      background-color: #E8F0FE;\n",
              "      border: none;\n",
              "      border-radius: 50%;\n",
              "      cursor: pointer;\n",
              "      display: none;\n",
              "      fill: #1967D2;\n",
              "      height: 32px;\n",
              "      padding: 0 0 0 0;\n",
              "      width: 32px;\n",
              "    }\n",
              "\n",
              "    .colab-df-convert:hover {\n",
              "      background-color: #E2EBFA;\n",
              "      box-shadow: 0px 1px 2px rgba(60, 64, 67, 0.3), 0px 1px 3px 1px rgba(60, 64, 67, 0.15);\n",
              "      fill: #174EA6;\n",
              "    }\n",
              "\n",
              "    [theme=dark] .colab-df-convert {\n",
              "      background-color: #3B4455;\n",
              "      fill: #D2E3FC;\n",
              "    }\n",
              "\n",
              "    [theme=dark] .colab-df-convert:hover {\n",
              "      background-color: #434B5C;\n",
              "      box-shadow: 0px 1px 3px 1px rgba(0, 0, 0, 0.15);\n",
              "      filter: drop-shadow(0px 1px 2px rgba(0, 0, 0, 0.3));\n",
              "      fill: #FFFFFF;\n",
              "    }\n",
              "  </style>\n",
              "\n",
              "      <script>\n",
              "        const buttonEl =\n",
              "          document.querySelector('#df-8794bb03-8957-4ab2-b5ec-431711ce2191 button.colab-df-convert');\n",
              "        buttonEl.style.display =\n",
              "          google.colab.kernel.accessAllowed ? 'block' : 'none';\n",
              "\n",
              "        async function convertToInteractive(key) {\n",
              "          const element = document.querySelector('#df-8794bb03-8957-4ab2-b5ec-431711ce2191');\n",
              "          const dataTable =\n",
              "            await google.colab.kernel.invokeFunction('convertToInteractive',\n",
              "                                                     [key], {});\n",
              "          if (!dataTable) return;\n",
              "\n",
              "          const docLinkHtml = 'Like what you see? Visit the ' +\n",
              "            '<a target=\"_blank\" href=https://colab.research.google.com/notebooks/data_table.ipynb>data table notebook</a>'\n",
              "            + ' to learn more about interactive tables.';\n",
              "          element.innerHTML = '';\n",
              "          dataTable['output_type'] = 'display_data';\n",
              "          await google.colab.output.renderOutput(dataTable, element);\n",
              "          const docLink = document.createElement('div');\n",
              "          docLink.innerHTML = docLinkHtml;\n",
              "          element.appendChild(docLink);\n",
              "        }\n",
              "      </script>\n",
              "    </div>\n",
              "  </div>\n"
            ]
          },
          "metadata": {},
          "execution_count": 138
        }
      ]
    },
    {
      "cell_type": "code",
      "source": [
        "data1[(data1['Department'] == 'สำนักงานเขตคลองสาน') | (data1['Department'] == 'สำนักงานเขตคลองสามวา')].shape"
      ],
      "metadata": {
        "id": "wT51TNkWE3kR",
        "outputId": "f8b9217f-4eca-4d1f-c2d8-0000f7f1995a",
        "colab": {
          "base_uri": "https://localhost:8080/"
        }
      },
      "execution_count": 139,
      "outputs": [
        {
          "output_type": "execute_result",
          "data": {
            "text/plain": [
              "(30, 9)"
            ]
          },
          "metadata": {},
          "execution_count": 139
        }
      ]
    },
    {
      "cell_type": "markdown",
      "source": [
        "#ข้อ3"
      ],
      "metadata": {
        "id": "qTbSQtnZEQ-Q"
      }
    },
    {
      "cell_type": "code",
      "source": [
        "filtered_data = data1[(data1['Department'] == 'สำนักงานเขตคลองสาน') | (data1['Department'] == 'สำนักงานเขตคลองสามวา')]"
      ],
      "metadata": {
        "id": "aHemqrHFHIPU",
        "outputId": "3fbdf6a4-7c1f-4a1c-9384-14c1a8566307",
        "colab": {
          "base_uri": "https://localhost:8080/"
        }
      },
      "execution_count": 159,
      "outputs": [
        {
          "output_type": "stream",
          "name": "stdout",
          "text": [
            "The department with the highest approved budget is 'สำนักงานเขตคลองสามวา' with a maximum value of 9832000.00.\n"
          ]
        }
      ]
    },
    {
      "cell_type": "code",
      "source": [
        "max_approved_budget = filtered_data.groupby('Department')['Approved_buget'].max()"
      ],
      "metadata": {
        "id": "4dA2ytzhHQPV"
      },
      "execution_count": null,
      "outputs": []
    },
    {
      "cell_type": "code",
      "source": [
        "max_department = max_approved_budget.idxmax()\n",
        "max_value = max_approved_budget.max()"
      ],
      "metadata": {
        "id": "JOdKy-fqHTnb"
      },
      "execution_count": null,
      "outputs": []
    },
    {
      "cell_type": "code",
      "source": [
        "print(f\"เขตที่ใช้งบประมาณเยอะกว่าคือ '{max_department}' ด้วยงบประมาณ {max_value:.2f}.\")"
      ],
      "metadata": {
        "id": "H9WNqgSiHbYJ",
        "outputId": "1a97d4be-a519-4f55-9404-e8bf938045ad",
        "colab": {
          "base_uri": "https://localhost:8080/"
        }
      },
      "execution_count": 161,
      "outputs": [
        {
          "output_type": "stream",
          "name": "stdout",
          "text": [
            "เขตที่ใช้งบประมาณเยอะกว่าคือ 'สำนักงานเขตคลองสามวา' ด้วยงบประมาณ 9832000.00.\n"
          ]
        }
      ]
    },
    {
      "cell_type": "markdown",
      "source": [
        "#ข้อ 4"
      ],
      "metadata": {
        "id": "EqCB_zokl93i"
      }
    },
    {
      "cell_type": "code",
      "source": [
        "cb_data1 = data1.dropna()\n",
        "core_budget_data1 = cb_data1[cb_data1['Core_budget_code'] != '-']"
      ],
      "metadata": {
        "id": "gTIl1KI7moSo"
      },
      "execution_count": null,
      "outputs": []
    },
    {
      "cell_type": "code",
      "source": [
        "cb_data1_12 = cb_data1[cb_data1['Core_budget_code'] == '12-เงินสำรองจ่ายทั่วไป กรณีค่าใช้จ่ายต่างๆ เกี่ยวกับน้ำท่วม']\n",
        "cb_data1_17 = cb_data1[cb_data1['Core_budget_code'] == '17-เงินสำรองจ่ายทั่วไป กรณีค่าใช้จ่ายเพื่อการพัฒนากรุงเทพมหานคร']\n",
        "cb_data1_28 = cb_data1[cb_data1['Core_budget_code'] == '28-เงินสำรองค่าใช้จ่าย ในการพัฒนาเขต']\n"
      ],
      "metadata": {
        "id": "DzziJMSSngVh"
      },
      "execution_count": null,
      "outputs": []
    },
    {
      "cell_type": "code",
      "source": [
        "cb12 = set(cb_data1_12['Core_budget_code'])\n",
        "cb17 = set(cb_data1_17['Core_budget_code'])\n",
        "cb28 = set(cb_data1_28['Core_budget_code'])"
      ],
      "metadata": {
        "id": "icL-nk9Iniqg"
      },
      "execution_count": null,
      "outputs": []
    },
    {
      "cell_type": "code",
      "source": [
        "cb12_mean = cb_data1_12['Approved_buget'].mean()\n",
        "cb17_mean = cb_data1_17['Approved_buget'].mean()\n",
        "cb28_mean = cb_data1_28['Approved_buget'].mean()"
      ],
      "metadata": {
        "id": "2P_32ze0nlA9"
      },
      "execution_count": null,
      "outputs": []
    },
    {
      "cell_type": "code",
      "source": [
        "\n",
        "if (cb12_mean > cb17_mean ) & (cb12_mean > cb28_mean ):\n",
        "  print(f'รายการนี้ {cb12} มีค่าเฉลี่ยงบประมาณที่ถูกอนุมัติสูงที่สุด {cb12_mean}')\n",
        "elif (cb17_mean > cb12_mean ) & (hascore_data1_17_MEAN > cb28_mean ):\n",
        "  print(f'รายการนี้ {cb17} มีค่าเฉลี่ยงบประมาณที่ถูกอนุมัติสูงที่สุด {cb17_mean}')\n",
        "elif (cb28_mean > cb12_mean ) & (cb28_mean > cb17_mean ):\n",
        "  print(f'รายการนี้ {cb28} มีค่าเฉลี่ยงบประมาณที่ถูกอนุมัติสูงที่สุด {cb28_mean}')"
      ],
      "metadata": {
        "id": "p5_V5bHmnnWN",
        "outputId": "b2411474-8bcf-4e73-d935-89a14f4447d1",
        "colab": {
          "base_uri": "https://localhost:8080/"
        }
      },
      "execution_count": null,
      "outputs": [
        {
          "output_type": "stream",
          "name": "stdout",
          "text": [
            "รายการนี้ {'17-เงินสำรองจ่ายทั่วไป กรณีค่าใช้จ่ายเพื่อการพัฒนากรุงเทพมหานคร'} มีค่าเฉลี่ยงบประมาณที่ถูกอนุมัติสูงที่สุด 1837500.0\n"
          ]
        }
      ]
    },
    {
      "cell_type": "markdown",
      "source": [
        "#ข้อ 4(วิธีที่2)"
      ],
      "metadata": {
        "id": "KJbMBftwrCF-"
      }
    },
    {
      "cell_type": "code",
      "source": [
        "cb_data1 = data1.dropna()\n",
        "core_budget_data1 = cb_data1[cb_data1['Core_budget_code'] != '-']"
      ],
      "metadata": {
        "id": "tMqz09xeIOgo"
      },
      "execution_count": 175,
      "outputs": []
    },
    {
      "cell_type": "code",
      "source": [
        "cb_data1_12 = cb_data1[cb_data1['Core_budget_code'] == '12-เงินสำรองจ่ายทั่วไป กรณีค่าใช้จ่ายต่างๆ เกี่ยวกับน้ำท่วม']\n",
        "cb_data1_17 = cb_data1[cb_data1['Core_budget_code'] == '17-เงินสำรองจ่ายทั่วไป กรณีค่าใช้จ่ายเพื่อการพัฒนากรุงเทพมหานคร']\n",
        "cb_data1_28 = cb_data1[cb_data1['Core_budget_code'] == '28-เงินสำรองค่าใช้จ่าย ในการพัฒนาเขต']"
      ],
      "metadata": {
        "id": "xtIQuGUaHyQf"
      },
      "execution_count": 177,
      "outputs": []
    },
    {
      "cell_type": "code",
      "source": [
        "data12 = cb_data1_12['Approved_buget'].values\n",
        "data17 = cb_data1_17['Approved_buget'].values\n",
        "data28 = cb_data1_28['Approved_buget'].values"
      ],
      "metadata": {
        "id": "sgBX6lGrHzrM"
      },
      "execution_count": 178,
      "outputs": []
    },
    {
      "cell_type": "code",
      "source": [
        "cb_data1 = pd.DataFrame({\n",
        "    'Core_budget_code': ['12-เงินสำรองจ่ายทั่วไป กรณีค่าใช้จ่ายต่างๆ เกี่ยวกับน้ำท่วม'] * len(data12) +\n",
        "                        ['17-เงินสำรองจ่ายทั่วไป กรณีค่าใช้จ่ายเพื่อการพัฒนากรุงเทพมหานคร'] * len(data17) +\n",
        "                        ['28-เงินสำรองค่าใช้จ่าย ในการพัฒนาเขต'] * len(data28),\n",
        "    'Approved_buget': np.concatenate([data12, data17, data28])\n",
        "})"
      ],
      "metadata": {
        "id": "ajDSpd49H2l0"
      },
      "execution_count": 179,
      "outputs": []
    },
    {
      "cell_type": "code",
      "source": [
        "means = cb_data1.groupby('Core_budget_code')['Approved_buget'].mean()"
      ],
      "metadata": {
        "id": "E0aoAQq5H7AS"
      },
      "execution_count": 180,
      "outputs": []
    },
    {
      "cell_type": "code",
      "source": [
        "max_mean_code = means.idxmax()\n",
        "max_mean_value = means[max_mean_code]"
      ],
      "metadata": {
        "id": "QSItL0Q0IAgQ"
      },
      "execution_count": 181,
      "outputs": []
    },
    {
      "cell_type": "code",
      "source": [
        "print(f\"ค่าเฉลี่ยงบประมาณที่ถูกอนุมัติสูงที่สุด คือ'{max_mean_code}' with a mean value of {max_mean_value:.2f}.\")\n"
      ],
      "metadata": {
        "id": "AO12KkqqIEBP",
        "outputId": "d125d2a7-0fef-4e0c-fd30-d6bbd98c9589",
        "colab": {
          "base_uri": "https://localhost:8080/"
        }
      },
      "execution_count": 182,
      "outputs": [
        {
          "output_type": "stream",
          "name": "stdout",
          "text": [
            "ค่าเฉลี่ยงบประมาณที่ถูกอนุมัติสูงที่สุด คือ'17-เงินสำรองจ่ายทั่วไป กรณีค่าใช้จ่ายเพื่อการพัฒนากรุงเทพมหานคร' with a mean value of 1837500.00.\n"
          ]
        }
      ]
    },
    {
      "cell_type": "markdown",
      "source": [
        "# Quiz 4\n",
        "1. ราคาเฉลี่ยของบ้านที่มีราคาระหว่าง 3-5 ร้านบาท\n",
        "2. พื้นที่ และ จำนวนห้องนอนของบ้านที่แพงที่สุด\n",
        "3. จำนวนที่จอดรถและห้องน้ำของบ้านที่ถูกที่สุด\n",
        "4. ชนิดของบ้านที่แพงที่สุด\n",
        "5. บ้านชนิดไหนมีปริมาณมากที่สุด"
      ],
      "metadata": {
        "id": "Hub_AdJqiOAO"
      }
    },
    {
      "cell_type": "code",
      "source": [
        "# 1. ราคาเฉลี่ยของบ้านที่มีราคาระหว่าง 3-5 ร้านบาท\n",
        "data1[(data1['price_min'] >=3000000) & (data1['price_min']<=5000000)].describe()\n",
        "# Ans 3.928111e+06\t = 3.928111  ล้านบาท"
      ],
      "metadata": {
        "id": "njQLgbSyjHUS"
      },
      "execution_count": null,
      "outputs": []
    },
    {
      "cell_type": "code",
      "source": [
        "price_mean = data1[(data1['price_min'] >=3000000) & (data1['price_min']<=5000000)]['price_min'].mean()"
      ],
      "metadata": {
        "id": "Gs_qnLEBfhHp"
      },
      "execution_count": null,
      "outputs": []
    },
    {
      "cell_type": "code",
      "source": [
        "print(f'ราคาเฉลี่ยของบ้านที่มีราคาระหว่าง 3-5 ล้านบาท คือ {int(price_mean):,}')"
      ],
      "metadata": {
        "id": "YI0IJnQVfuQe"
      },
      "execution_count": null,
      "outputs": []
    },
    {
      "cell_type": "code",
      "source": [
        "#2.พื้นที่และจำนวนห้องนอนของบ้านที่แพงที่สุด\n",
        "data1['price_min'].max()"
      ],
      "metadata": {
        "id": "leHcW5KnkLGb"
      },
      "execution_count": null,
      "outputs": []
    },
    {
      "cell_type": "code",
      "source": [
        "data1[data1['price_min']==580000000][['area_usable_min','count_room_bed']]"
      ],
      "metadata": {
        "id": "hgtvSVt1bOQy"
      },
      "execution_count": null,
      "outputs": []
    },
    {
      "cell_type": "code",
      "source": [
        "data1[data1['price_min']==data1['price_min'].max()][['area_usable_min','count_room_bed','price_min']]"
      ],
      "metadata": {
        "id": "ZcCyJtAMgx0r"
      },
      "execution_count": null,
      "outputs": []
    },
    {
      "cell_type": "code",
      "source": [
        "data1[data1['price_min']==data1['price_min'].max()]"
      ],
      "metadata": {
        "id": "xe7bkCjVhCTF"
      },
      "execution_count": null,
      "outputs": []
    },
    {
      "cell_type": "code",
      "source": [
        "#3.จำนวนที่จอดรถและห้องน้ำที่ถูกที่สุด\n",
        "data1['price_min'].min()"
      ],
      "metadata": {
        "id": "9LBy2jtkl-CS"
      },
      "execution_count": null,
      "outputs": []
    },
    {
      "cell_type": "code",
      "source": [
        "data1[data1['price_min']==100000][['count_parking','count_room_bath']]"
      ],
      "metadata": {
        "id": "qPEw_eRmnyzx"
      },
      "execution_count": null,
      "outputs": []
    },
    {
      "cell_type": "code",
      "source": [
        "data1[data1['price_min']==data1['price_min'].min()][['propertytype_name_en','count_parking','count_room_bath','price_min']]"
      ],
      "metadata": {
        "id": "OIumzGQ_hh2i"
      },
      "execution_count": null,
      "outputs": []
    },
    {
      "cell_type": "code",
      "source": [
        "# 4. ชนิดของบ้านที่แพงที่สุด\n",
        "data1.describe()\n",
        "data1[data1['price_min'] == 580000000]\n",
        "# Ans Condo"
      ],
      "metadata": {
        "id": "Xc5DbZbjoDB5"
      },
      "execution_count": null,
      "outputs": []
    },
    {
      "cell_type": "code",
      "source": [
        "# 4. ชนิดของบ้านที่แพงที่สุด\n",
        "data1['propertytype_name_en'][data1['price_min'] == 580000000]"
      ],
      "metadata": {
        "id": "eiEo-9QLsTtQ"
      },
      "execution_count": null,
      "outputs": []
    },
    {
      "cell_type": "code",
      "source": [
        "data1[data1['price_min']==data1['price_min'].max()][['propertytype_name_en','price_min']]"
      ],
      "metadata": {
        "id": "JpVQ3BZUh9aq"
      },
      "execution_count": null,
      "outputs": []
    },
    {
      "cell_type": "code",
      "source": [
        "#5. บ้านชนิดไหนมีปริมาณมากที่สุด\n",
        "data1['propertytype_name_en'].describe()"
      ],
      "metadata": {
        "id": "rczL22K4r99n"
      },
      "execution_count": null,
      "outputs": []
    },
    {
      "cell_type": "code",
      "source": [],
      "metadata": {
        "id": "BuYu_3MCiSuU"
      },
      "execution_count": null,
      "outputs": []
    },
    {
      "cell_type": "code",
      "source": [],
      "metadata": {
        "id": "jc18tzVap6PX"
      },
      "execution_count": null,
      "outputs": []
    },
    {
      "cell_type": "code",
      "source": [
        "import os"
      ],
      "metadata": {
        "id": "P1yKlhjQOTxx"
      },
      "execution_count": null,
      "outputs": []
    },
    {
      "cell_type": "code",
      "metadata": {
        "id": "8aVuLimaokIK"
      },
      "source": [
        "path = '/content/drive/My Drive/dataviz_2021_data'"
      ],
      "execution_count": null,
      "outputs": []
    },
    {
      "cell_type": "code",
      "metadata": {
        "id": "bJMZpuMsrLG1"
      },
      "source": [
        "covid_file_path = os.path.join(path,'pm-20-jan-2021.csv')\n",
        "print(covid_file_path)"
      ],
      "execution_count": null,
      "outputs": []
    },
    {
      "cell_type": "code",
      "metadata": {
        "id": "k1NDGhW8rjb6"
      },
      "source": [
        "a = path + '/pm-18-jan-2021.csv'\n",
        "print(a)"
      ],
      "execution_count": null,
      "outputs": []
    },
    {
      "cell_type": "markdown",
      "metadata": {
        "id": "l3oehUans3Vr"
      },
      "source": [
        "## load data to memory"
      ]
    },
    {
      "cell_type": "code",
      "metadata": {
        "id": "lxKqSaR3sScc"
      },
      "source": [
        "data_covid = pd.read_csv(covid_file_path)\n",
        "data_covid"
      ],
      "execution_count": null,
      "outputs": []
    },
    {
      "cell_type": "code",
      "metadata": {
        "id": "sHTOPUJttJJ8"
      },
      "source": [
        "data_covid.head()"
      ],
      "execution_count": null,
      "outputs": []
    },
    {
      "cell_type": "markdown",
      "source": [
        "NaN = Not a Number"
      ],
      "metadata": {
        "id": "rlAYwIleTDBT"
      }
    },
    {
      "cell_type": "code",
      "source": [
        "data_covid.head(20)"
      ],
      "metadata": {
        "id": "Slh1ACWSSGLW"
      },
      "execution_count": null,
      "outputs": []
    },
    {
      "cell_type": "code",
      "source": [
        "data_covid.tail()"
      ],
      "metadata": {
        "id": "bmXcnfi-Stf6"
      },
      "execution_count": null,
      "outputs": []
    },
    {
      "cell_type": "code",
      "metadata": {
        "id": "zj5UmHPtySZ4"
      },
      "source": [
        "data_covid.shape"
      ],
      "execution_count": null,
      "outputs": []
    },
    {
      "cell_type": "markdown",
      "metadata": {
        "id": "CRYEuv0dzLtW"
      },
      "source": [
        "## ชี้ค่าในตาราง"
      ]
    },
    {
      "cell_type": "markdown",
      "metadata": {
        "id": "KFqGDG0c0AYI"
      },
      "source": [
        "#### basic"
      ]
    },
    {
      "cell_type": "code",
      "metadata": {
        "id": "vQ8Fvpgkyp4E"
      },
      "source": [
        "data_covid['province_of_onset']"
      ],
      "execution_count": null,
      "outputs": []
    },
    {
      "cell_type": "code",
      "metadata": {
        "id": "tHxuEWK6zjSH"
      },
      "source": [
        "data_covid['risk'][12649]"
      ],
      "execution_count": null,
      "outputs": []
    },
    {
      "cell_type": "markdown",
      "metadata": {
        "id": "dZ3UfzfV0DIy"
      },
      "source": [
        "#### .iloc"
      ]
    },
    {
      "cell_type": "code",
      "metadata": {
        "id": "oTb8mQj6z6DN"
      },
      "source": [
        "data_covid.iloc[4,7]"
      ],
      "execution_count": null,
      "outputs": []
    },
    {
      "cell_type": "markdown",
      "source": [
        "# เรียนถึงนี่ 12 Jan 2022"
      ],
      "metadata": {
        "id": "9Y9kGLs5TXZa"
      }
    },
    {
      "cell_type": "markdown",
      "metadata": {
        "id": "shzgCJfy0x2z"
      },
      "source": [
        "## Table slicing"
      ]
    },
    {
      "cell_type": "markdown",
      "metadata": {
        "id": "NWxhCozt0757"
      },
      "source": [
        "#### ตัดมาเฉพาะ column ที่ต้องการ"
      ]
    },
    {
      "cell_type": "code",
      "metadata": {
        "id": "x7I7LHQY0gLe"
      },
      "source": [
        "smaller_table = data_covid[['province_of_onset','announce_date','risk']]\n",
        "smaller_table"
      ],
      "execution_count": null,
      "outputs": []
    },
    {
      "cell_type": "markdown",
      "metadata": {
        "id": "nrVTN03F2GpV"
      },
      "source": [
        "#### ตัดเฉพาะ rows ที่ต้องการ"
      ]
    },
    {
      "cell_type": "markdown",
      "metadata": {
        "id": "58aOjVTl2SK0"
      },
      "source": [
        "##### แบบง่าย แต่ใช้การอะไรไม่ค่อยจะได้ (มองเป็น array แล้วตัดแบบ array)"
      ]
    },
    {
      "cell_type": "code",
      "metadata": {
        "id": "NYFm0KkM1vqR"
      },
      "source": [
        "data_covid.iloc[1:5,:]"
      ],
      "execution_count": null,
      "outputs": []
    },
    {
      "cell_type": "markdown",
      "metadata": {
        "id": "yR2j59YD2y65"
      },
      "source": [
        "แบบ advanced แต่ใช้ประโยชน์ได้เยอะกว่า (ตัดแบบใช้ logic query)"
      ]
    },
    {
      "cell_type": "markdown",
      "source": [
        "```pddf```[list_of_logical_values] คือการเลือก row ที่ logical values เป็น True"
      ],
      "metadata": {
        "id": "CHJVF0-bW8vD"
      }
    },
    {
      "cell_type": "code",
      "source": [
        "data_covid['province_of_onset']"
      ],
      "metadata": {
        "id": "6I1Mfj_VXjbt"
      },
      "execution_count": null,
      "outputs": []
    },
    {
      "cell_type": "code",
      "source": [
        "data_covid['province_of_onset']=='ขอนแก่น'"
      ],
      "metadata": {
        "id": "tfwtOaG1W55V"
      },
      "execution_count": null,
      "outputs": []
    },
    {
      "cell_type": "code",
      "metadata": {
        "id": "7l8BC42x2qSm"
      },
      "source": [
        "data_covid[data_covid['province_of_onset']=='ขอนแก่น']"
      ],
      "execution_count": null,
      "outputs": []
    },
    {
      "cell_type": "code",
      "source": [
        "data_covid[data_covid['age']>=70]"
      ],
      "metadata": {
        "id": "ZHpDomPuYT3n"
      },
      "execution_count": null,
      "outputs": []
    },
    {
      "cell_type": "markdown",
      "metadata": {
        "id": "z9IC5md533qS"
      },
      "source": [
        "การชี้ค่าในตารางด้วย data_covid[***x***] ค่า ***x*** สามารถมีค่าที่ใส่เข้าไปได้ 2 แบบ\n",
        "\n",
        "\n",
        "1.   ชื่อ column\n",
        "2.   ใส่ rows ที่ต้องการ (ใส่ list ที่มี***ขนาดเท่ากับจำนวนแถว*** แล้วบอกว่าเอา แถวไหนบ้างโดยใช้ logical expression (```True```/```False```))\n",
        "\n"
      ]
    },
    {
      "cell_type": "code",
      "metadata": {
        "id": "jQu4sr_53Ytk"
      },
      "source": [
        "eight_rows_covid = data_covid.iloc[:8,3:] # ตารางตัวอย่าง\n",
        "eight_rows_covid"
      ],
      "execution_count": null,
      "outputs": []
    },
    {
      "cell_type": "code",
      "metadata": {
        "id": "3NeywU6J48Vv"
      },
      "source": [
        "eight_rows_covid[[True,False,True,True,False,True,False,False]]   #2.   ใส่ list ที่ มีค่า logic ของ แต่ละ row โดยที่ ค่า True คือ เลือก ค่า False คือไม่เลืิอก"
      ],
      "execution_count": null,
      "outputs": []
    },
    {
      "cell_type": "code",
      "metadata": {
        "id": "VaD8Uq625Xsk"
      },
      "source": [
        "eight_rows_covid['province_of_onset'] == 'กรุงเทพมหานคร'  #สร้าง list ของ logical expression"
      ],
      "execution_count": null,
      "outputs": []
    },
    {
      "cell_type": "code",
      "metadata": {
        "id": "Ch14sJ-c6MFP"
      },
      "source": [
        "eight_rows_covid[eight_rows_covid['province_of_onset'] == 'กรุงเทพมหานคร']  #เราเอา 2 บรรทัดบนมาบวกกัน"
      ],
      "execution_count": null,
      "outputs": []
    },
    {
      "cell_type": "code",
      "source": [
        "eight_rows_covid['district_of_onset'] == 'เมือง'"
      ],
      "metadata": {
        "id": "omeJ7wj4a0rN"
      },
      "execution_count": null,
      "outputs": []
    },
    {
      "cell_type": "code",
      "source": [
        "import numpy as np"
      ],
      "metadata": {
        "id": "rtXDtcyScGO-"
      },
      "execution_count": null,
      "outputs": []
    },
    {
      "cell_type": "markdown",
      "source": [
        "$.isnull()$ ใช้ตรวจสอบว่าเป็น NaN หรือไม่"
      ],
      "metadata": {
        "id": "WLHyHltKcwRH"
      }
    },
    {
      "cell_type": "code",
      "source": [
        "eight_rows_covid['district_of_onset'].isnull()"
      ],
      "metadata": {
        "id": "DTEFmdAmbQYu"
      },
      "execution_count": null,
      "outputs": []
    },
    {
      "cell_type": "code",
      "source": [
        "sum(eight_rows_covid['district_of_onset'].isnull())"
      ],
      "metadata": {
        "id": "lNLVa-vFi2Sn"
      },
      "execution_count": null,
      "outputs": []
    },
    {
      "cell_type": "markdown",
      "metadata": {
        "id": "HTZIBf0a7wTM"
      },
      "source": [
        "Quiz (ให้ใช้เฉพาะที่อาจารย์สอนไปแล้วในวิชานี้)\n",
        "\n",
        "1.   คำนวณ อายุเฉลี่ย ของ**ผู้ชาย** ในข้อมูลทั้งหมด\n",
        "2.   คำนวณ อายุเฉลี่ย ของ**ผู้ชาย** ในจังหวัดขอนแก่น\n",
        "3.   หาจำนวนผู้ป่วยที่เป็นคน **ที่ไม่ใช่คนไทย**"
      ]
    },
    {
      "cell_type": "code",
      "metadata": {
        "id": "hxkhDHOK6hoc"
      },
      "source": [
        "this_data = data_covid[['sex','age','province_of_onset']]"
      ],
      "execution_count": null,
      "outputs": []
    },
    {
      "cell_type": "code",
      "metadata": {
        "id": "KZvCLjtIYfV9"
      },
      "source": [
        "this_data"
      ],
      "execution_count": null,
      "outputs": []
    },
    {
      "cell_type": "code",
      "metadata": {
        "id": "O-364VUjYgxw"
      },
      "source": [
        "female = this_data[this_data['sex']=='หญิง']\n",
        "female"
      ],
      "execution_count": null,
      "outputs": []
    },
    {
      "cell_type": "code",
      "source": [
        "female['age']"
      ],
      "metadata": {
        "id": "ydY1eWvAutHQ"
      },
      "execution_count": null,
      "outputs": []
    },
    {
      "cell_type": "code",
      "metadata": {
        "id": "jdDlyCZiY_U3"
      },
      "source": [
        "sum = 0\n",
        "N = 0\n",
        "for a in female['age']:\n",
        "\n",
        "    if a > 0:\n",
        "        sum += a # sum = sum + a\n",
        "        N += 1\n",
        "\n",
        "print(f'อายุเฉลี่ย ของ ผู้ป่วยหญิง {sum/N}')"
      ],
      "execution_count": null,
      "outputs": []
    },
    {
      "cell_type": "code",
      "metadata": {
        "id": "LpQi57Z8ZhIF"
      },
      "source": [
        "female_KK = female[female['province_of_onset']=='ขอนแก่น']\n",
        "\n",
        "sum = 0\n",
        "N = 0\n",
        "for a in female_KK['age']:\n",
        "\n",
        "    if a > 0:\n",
        "        sum += a # sum = sum + a\n",
        "        N += 1\n",
        "\n",
        "print(f'อายุเฉลี่ย ของ ผู้ป่วยหญิง ในจังหวัดขอนแก่น {sum/N}')"
      ],
      "execution_count": null,
      "outputs": []
    },
    {
      "cell_type": "code",
      "source": [
        "female[(female['province_of_onset']=='ขอนแก่น') | (female['province_of_onset']=='หนองคาย')]"
      ],
      "metadata": {
        "id": "6uofVICgwPw8"
      },
      "execution_count": null,
      "outputs": []
    },
    {
      "cell_type": "markdown",
      "source": [
        "#### หาจำนวนคนป่วยที่ไม่ใช่คนไทย"
      ],
      "metadata": {
        "id": "3Enfi22gXjJQ"
      }
    },
    {
      "cell_type": "code",
      "source": [
        "import numpy as np"
      ],
      "metadata": {
        "id": "WSiCLw5vYGQv"
      },
      "execution_count": null,
      "outputs": []
    },
    {
      "cell_type": "code",
      "source": [
        "np.sum(data_covid['nationality'].dropna() != 'Thailand')"
      ],
      "metadata": {
        "id": "9kXcQaq7Xij5"
      },
      "execution_count": null,
      "outputs": []
    },
    {
      "cell_type": "markdown",
      "metadata": {
        "id": "Jol0oyUYb2-9"
      },
      "source": [
        "การจัดการ Missing Value\n",
        "\n",
        "- ลบ record ที่เป็น missing\n",
        "- แทนที่ ค่า missing ด้วยค่าที่เหมาะสม mean, default, category-unknown\n",
        "- ใช้ ค่าจาก columns อื่นๆ ช่วยประมาณค่า ค่าใน column ที่หายไป (regression, deep learning, etc.)"
      ]
    },
    {
      "cell_type": "markdown",
      "metadata": {
        "id": "wedBfQPMePi6"
      },
      "source": [
        "### ลบ record (dropna)\n",
        "\n",
        "missing = ```None``` ```NA```(not autorized) ```NaN``` (not a number)"
      ]
    },
    {
      "cell_type": "code",
      "source": [
        "this_data"
      ],
      "metadata": {
        "id": "DagWgMmSC47b"
      },
      "execution_count": null,
      "outputs": []
    },
    {
      "cell_type": "code",
      "metadata": {
        "id": "x_f9i5-UePB-"
      },
      "source": [
        "this_data.shape #(12423, 3)"
      ],
      "execution_count": null,
      "outputs": []
    },
    {
      "cell_type": "code",
      "source": [
        "this_data.dropna()"
      ],
      "metadata": {
        "id": "1jUEAe7nDDxa"
      },
      "execution_count": null,
      "outputs": []
    },
    {
      "cell_type": "code",
      "metadata": {
        "id": "XHrGf2AUfSko"
      },
      "source": [
        "print(data_covid.shape)\n",
        "print(data_covid.dropna().shape)"
      ],
      "execution_count": null,
      "outputs": []
    },
    {
      "cell_type": "code",
      "source": [
        "this_data.dropna(subset=['age','sex'])"
      ],
      "metadata": {
        "id": "y2kDzWaPDkcH"
      },
      "execution_count": null,
      "outputs": []
    },
    {
      "cell_type": "code",
      "source": [
        "print(this_data.dropna().shape)\n",
        "print(this_data.dropna(subset=['sex','age']).shape)"
      ],
      "metadata": {
        "id": "TzVFFCWBDkQ4"
      },
      "execution_count": null,
      "outputs": []
    },
    {
      "cell_type": "markdown",
      "source": [
        "# ตรวจสอบ Missing (```isnull()```)"
      ],
      "metadata": {
        "id": "HT8aUn3kEzRI"
      }
    },
    {
      "cell_type": "code",
      "source": [
        "this_data.isnull()"
      ],
      "metadata": {
        "id": "jm0kpFrRDkOM"
      },
      "execution_count": null,
      "outputs": []
    },
    {
      "cell_type": "code",
      "source": [
        "this_data.isnull().any() # .any() เอาค่าความจริงใน column มา OR กัน"
      ],
      "metadata": {
        "id": "Xedt7QXqDkJ6"
      },
      "execution_count": null,
      "outputs": []
    },
    {
      "cell_type": "code",
      "source": [
        "this_data.isnull().all() # .all() เอาค่าความจริงใน column มา AND กัน"
      ],
      "metadata": {
        "id": "D2OrckdlE5Ot"
      },
      "execution_count": null,
      "outputs": []
    },
    {
      "cell_type": "code",
      "source": [
        "this_data.isnull().any().any()"
      ],
      "metadata": {
        "id": "jTfgKcyiE5Dg"
      },
      "execution_count": null,
      "outputs": []
    },
    {
      "cell_type": "code",
      "source": [
        "this_data.dropna(subset=['sex','age']).isnull().any()"
      ],
      "metadata": {
        "id": "WAkQ3SPPE42d"
      },
      "execution_count": null,
      "outputs": []
    },
    {
      "cell_type": "code",
      "source": [
        "this_data.dropna(subset=['sex','age'])"
      ],
      "metadata": {
        "id": "jzKzRmS0HvKS"
      },
      "execution_count": null,
      "outputs": []
    },
    {
      "cell_type": "markdown",
      "source": [
        "### 1. เพื่อให้ได้ผลลัพธ์การจัดการ ```dropna()``` ต้องเอาตัวแปรมารับ"
      ],
      "metadata": {
        "id": "Zk1jlJifH4dr"
      }
    },
    {
      "cell_type": "code",
      "source": [
        "this_data_nonull = this_data.dropna(subset=['sex','age'])"
      ],
      "metadata": {
        "id": "Eel9ffG3IGVR"
      },
      "execution_count": null,
      "outputs": []
    },
    {
      "cell_type": "code",
      "source": [
        "this_data_nonull.isnull().any()"
      ],
      "metadata": {
        "id": "vuKKQdJGE4pr"
      },
      "execution_count": null,
      "outputs": []
    },
    {
      "cell_type": "markdown",
      "source": [
        "### 2. update ตารางด้วยตัวแปร ```inplace```"
      ],
      "metadata": {
        "id": "0t2Z-fDwITjk"
      }
    },
    {
      "cell_type": "code",
      "source": [
        "this_data.dropna(subset=['sex','age'],inplace=True)"
      ],
      "metadata": {
        "id": "J9xXSTGPIerx"
      },
      "execution_count": null,
      "outputs": []
    },
    {
      "cell_type": "code",
      "source": [
        "this_data.isnull().any()"
      ],
      "metadata": {
        "id": "xmXVdVexIebF"
      },
      "execution_count": null,
      "outputs": []
    },
    {
      "cell_type": "code",
      "source": [
        "aa = this_data.dropna(subset=['sex','age'],inplace=True)"
      ],
      "metadata": {
        "id": "JnDdRvgkJKIt"
      },
      "execution_count": null,
      "outputs": []
    },
    {
      "cell_type": "code",
      "source": [
        "aa"
      ],
      "metadata": {
        "id": "BKZ2ZQD9JQJd"
      },
      "execution_count": null,
      "outputs": []
    },
    {
      "cell_type": "markdown",
      "metadata": {
        "id": "m5hChDmpjkyN"
      },
      "source": [
        "### แทน missing ด้วยค่าที่เหมาะสม (```fillna()```)"
      ]
    },
    {
      "cell_type": "code",
      "metadata": {
        "id": "KvRsTv4umSnR"
      },
      "source": [
        "this_data = data_covid[['sex','age','province_of_onset']]"
      ],
      "execution_count": null,
      "outputs": []
    },
    {
      "cell_type": "code",
      "metadata": {
        "id": "8n1Qyl0ibKrL"
      },
      "source": [
        "this_data"
      ],
      "execution_count": null,
      "outputs": []
    },
    {
      "cell_type": "code",
      "metadata": {
        "id": "wnlhDEjpkgUr"
      },
      "source": [
        "print(f'จำนวน record ก่อน drop missing ใน province {this_data.shape[0]}')\n",
        "print(f'จำนวน record หลัง drop missing ใน province {this_data.dropna(subset=[\"province_of_onset\"]).shape[0]}')"
      ],
      "execution_count": null,
      "outputs": []
    },
    {
      "cell_type": "markdown",
      "source": [
        "### 1. แทนด้วย class ใหม่"
      ],
      "metadata": {
        "id": "VafsBJyuLzul"
      }
    },
    {
      "cell_type": "code",
      "metadata": {
        "id": "rFrzt9d7mZx4"
      },
      "source": [
        "this_data_updated = this_data.fillna(value={'sex':'ไม่รู้', 'age':-99, 'province_of_onset':'ไม่รู้'})\n",
        "this_data_updated.head()"
      ],
      "execution_count": null,
      "outputs": []
    },
    {
      "cell_type": "code",
      "source": [
        "this_data_updated.tail(15)"
      ],
      "metadata": {
        "id": "K-i3Ni62MCD_"
      },
      "execution_count": null,
      "outputs": []
    },
    {
      "cell_type": "code",
      "source": [
        "this_data_updated.isnull().any()"
      ],
      "metadata": {
        "id": "keFV6MJCLqAJ"
      },
      "execution_count": null,
      "outputs": []
    },
    {
      "cell_type": "markdown",
      "source": [
        "### 2. แทนด้วยค่าที่เหมาะสม\n",
        "\n",
        "\n",
        "*   ตามใจคนทำ\n",
        "*   ค่ากลาง\n",
        "\n"
      ],
      "metadata": {
        "id": "VqyI1LblMUx-"
      }
    },
    {
      "cell_type": "markdown",
      "source": [
        "#### ตามใจคนทำ"
      ],
      "metadata": {
        "id": "wHh1S-4KN_RZ"
      }
    },
    {
      "cell_type": "code",
      "source": [
        "data_covid.head()"
      ],
      "metadata": {
        "id": "F7UXHr-IMpyR"
      },
      "execution_count": null,
      "outputs": []
    },
    {
      "cell_type": "code",
      "source": [
        "data_covid_fillasiwant = data_covid.fillna(value={'sex':'หญิง'})  #เรามีข้อมูลว่า เพศหญิงมีเยอะกว่าเพศชาย"
      ],
      "metadata": {
        "id": "ExtImcdMMgTY"
      },
      "execution_count": null,
      "outputs": []
    },
    {
      "cell_type": "code",
      "source": [
        "data_covid_fillasiwant.isnull().any()"
      ],
      "metadata": {
        "id": "6GqvCJQSNUBd"
      },
      "execution_count": null,
      "outputs": []
    },
    {
      "cell_type": "markdown",
      "source": [
        "#### แทนด้วยค่ากลาง"
      ],
      "metadata": {
        "id": "01ChEOM6OCUs"
      }
    },
    {
      "cell_type": "code",
      "source": [
        "data_covid['age']"
      ],
      "metadata": {
        "id": "GODZ_S29OMi_"
      },
      "execution_count": null,
      "outputs": []
    },
    {
      "cell_type": "code",
      "source": [
        "data_covid['age'].mean()"
      ],
      "metadata": {
        "id": "CNX3z3EqOSLj"
      },
      "execution_count": null,
      "outputs": []
    },
    {
      "cell_type": "code",
      "source": [
        "data_covid_fillwithmean = data_covid.fillna(value={'age':data_covid['age'].mean()})"
      ],
      "metadata": {
        "id": "dm3aeX6zMf-o"
      },
      "execution_count": null,
      "outputs": []
    },
    {
      "cell_type": "code",
      "source": [
        "data_covid_fillwithmean.isnull().any()"
      ],
      "metadata": {
        "id": "Ixiwxl1tOmac"
      },
      "execution_count": null,
      "outputs": []
    },
    {
      "cell_type": "markdown",
      "metadata": {
        "id": "ZbzScMVdb6U7"
      },
      "source": [
        "### การวนลูป record ในตาราง  (```.iterrows```)"
      ]
    },
    {
      "cell_type": "code",
      "metadata": {
        "id": "HuvNCoCRq1YQ"
      },
      "source": [
        "this_data = data_covid[['sex','age','province_of_onset']]\n",
        "this_data"
      ],
      "execution_count": null,
      "outputs": []
    },
    {
      "cell_type": "code",
      "metadata": {
        "id": "WekNYPgMtwxX"
      },
      "source": [
        "for each_row in this_data.iterrows():\n",
        "    # print(each_row)\n",
        "    # print(each_row[1])\n",
        "    # print(each_row[1]['sex'])\n",
        "    if (each_row[1]['age'] <= 20) and (each_row[1]['province_of_onset'] == 'ขอนแก่น'):\n",
        "        print(each_row)"
      ],
      "execution_count": null,
      "outputs": []
    },
    {
      "cell_type": "markdown",
      "metadata": {
        "id": "Rt9Sm-nGr8um"
      },
      "source": [
        "### การวนลูป แบบมองตารางแพนด้าส์(pandas dataframe) เป็น numpy array  (```.iloc```)"
      ]
    },
    {
      "cell_type": "code",
      "metadata": {
        "id": "-gT66JgMuBN0"
      },
      "source": [
        "for each_row in range(this_data.shape[0]):\n",
        "    if (this_data.iloc[each_row,1] <= 20) and (this_data.iloc[each_row,2] == 'ขอนแก่น'):  #each_row คือ ตัวเลข\n",
        "        print(each_row)\n",
        "        print(this_data.iloc[each_row,:])"
      ],
      "execution_count": null,
      "outputs": []
    },
    {
      "cell_type": "markdown",
      "metadata": {
        "id": "VlgREHOC0eXu"
      },
      "source": [
        "## Quiz ตัดตารางออกมาเฉพาะปี 2021 ```announce_date``` ในปี 2021\n",
        "\n",
        "**Hint**\n",
        "*   วนลูปหา index ของปี 2021\n",
        "*   ตัดตารางมาเฉพาะ ปี 2021\n",
        "\n"
      ]
    },
    {
      "cell_type": "code",
      "metadata": {
        "id": "E3C7RQIz8wtu"
      },
      "source": [
        "TF=list()\n",
        "for each_row in data_covid.iterrows():\n",
        "    if each_row[1]['announce_date'].split('/')[2] == '2021':\n",
        "        TF.append(True)\n",
        "    else:\n",
        "        TF.append(False)\n",
        "\n",
        "data_covid[TF].head()"
      ],
      "execution_count": null,
      "outputs": []
    },
    {
      "cell_type": "code",
      "source": [
        "TF"
      ],
      "metadata": {
        "id": "6-bZiKrFc_Yn"
      },
      "execution_count": null,
      "outputs": []
    },
    {
      "cell_type": "code",
      "source": [],
      "metadata": {
        "id": "sQSXrHg9dCYR"
      },
      "execution_count": null,
      "outputs": []
    },
    {
      "cell_type": "markdown",
      "source": [
        "### HW กลุ่ม 2 || เลือกข้อมูลมาเฉพาะวัน announce_date เป็นวันที่ 1-20  "
      ],
      "metadata": {
        "id": "nC3foO7jTFb9"
      }
    },
    {
      "cell_type": "markdown",
      "metadata": {
        "id": "gXOzi1O6BAFO"
      },
      "source": [
        "# Function ตัวช่วยใน pandas"
      ]
    },
    {
      "cell_type": "markdown",
      "metadata": {
        "id": "TvToU8hCCJL-"
      },
      "source": [
        "### ```.describe()``` คำนวณค่าทางสถิติของข้อมูลที่เป็นตัวเลข"
      ]
    },
    {
      "cell_type": "code",
      "metadata": {
        "id": "XM8qJ0o7A7ip"
      },
      "source": [
        "data_covid.describe()"
      ],
      "execution_count": null,
      "outputs": []
    },
    {
      "cell_type": "markdown",
      "metadata": {
        "id": "zXToQo4-CaPF"
      },
      "source": [
        "### ```.mean()``` คำนวณค่าเฉลี่ยของข้อมูลโดยไม่สนใจ missing"
      ]
    },
    {
      "cell_type": "code",
      "metadata": {
        "id": "TBwXJCRLBomc"
      },
      "source": [
        "data_covid[data_covid['sex']=='ชาย']['age'].mean()"
      ],
      "execution_count": null,
      "outputs": []
    },
    {
      "cell_type": "markdown",
      "metadata": {
        "id": "NuwVtwnjCpb5"
      },
      "source": [
        "### ```.isnull()```"
      ]
    },
    {
      "cell_type": "code",
      "metadata": {
        "id": "GNHkaDLMCo5t"
      },
      "source": [
        "data_covid.isnull()"
      ],
      "execution_count": null,
      "outputs": []
    },
    {
      "cell_type": "markdown",
      "metadata": {
        "id": "mkAeKL1D5HLi"
      },
      "source": [
        "# next\n",
        "\n",
        "*   ต่อตารางแกน X แกน y\n",
        "*   .groupby\n",
        "*   save table"
      ]
    },
    {
      "cell_type": "code",
      "metadata": {
        "id": "hqgXy4NYxy1W"
      },
      "source": [],
      "execution_count": null,
      "outputs": []
    }
  ]
}